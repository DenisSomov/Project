{
 "cells": [
  {
   "cell_type": "markdown",
   "metadata": {},
   "source": [
    "# Описание проекта"
   ]
  },
  {
   "cell_type": "markdown",
   "metadata": {},
   "source": [
    "С целью увеличения выручки интернет магазина был определен ряд гипотиз, в ходе проекта необходимо проанализировать гипотезы, расставить из по приоритету, провести А/В-тестирование и проанализировать полученные результаты."
   ]
  },
  {
   "cell_type": "markdown",
   "metadata": {},
   "source": [
    "## Цели и задачи проекта\n"
   ]
  },
  {
   "cell_type": "markdown",
   "metadata": {},
   "source": [
    "Цель проекта - приоритизировать гипотезы, проанализировать результаты А/В-теста, сдалать вывод.\n",
    "\n",
    "Задачи проекта:\n",
    "1. Изучение и предобработка (при необходимости) имеющихся данных.\n",
    "2. Приоритизация гипотез.\n",
    "3. Анализ результатов А/В-теста.\n",
    "4. Формулирвоание вывода по результатам А/В-теста."
   ]
  },
  {
   "cell_type": "markdown",
   "metadata": {},
   "source": [
    "## Изучение и предобработка данных"
   ]
  },
  {
   "cell_type": "markdown",
   "metadata": {},
   "source": [
    "Загрузим необходимые библиотеки для изучения данных, анализа и проведения А/В-тестирования."
   ]
  },
  {
   "cell_type": "code",
   "execution_count": 1,
   "metadata": {},
   "outputs": [],
   "source": [
    "import pandas as pd\n",
    "import matplotlib.pyplot as plt\n",
    "from scipy import stats as st\n",
    "import numpy as np\n",
    "import math as mth\n",
    "import datetime as dt\n",
    "import scipy.stats as stats\n",
    "pd.options.display.max_colwidth = 1 #отображение полного содержания столбца"
   ]
  },
  {
   "cell_type": "markdown",
   "metadata": {},
   "source": [
    "Прочтем данные из csv файлов."
   ]
  },
  {
   "cell_type": "code",
   "execution_count": 2,
   "metadata": {},
   "outputs": [],
   "source": [
    "hypothesis = pd.read_csv('hypothesis.csv')\n",
    "orders = pd.read_csv('orders.csv')\n",
    "visitors = pd.read_csv('visitors.csv')"
   ]
  },
  {
   "cell_type": "markdown",
   "metadata": {},
   "source": [
    "Изучим данные таблицы hypothesis."
   ]
  },
  {
   "cell_type": "code",
   "execution_count": 3,
   "metadata": {},
   "outputs": [
    {
     "name": "stdout",
     "output_type": "stream",
     "text": [
      "<class 'pandas.core.frame.DataFrame'>\n",
      "RangeIndex: 9 entries, 0 to 8\n",
      "Data columns (total 5 columns):\n",
      " #   Column      Non-Null Count  Dtype \n",
      "---  ------      --------------  ----- \n",
      " 0   Hypothesis  9 non-null      object\n",
      " 1   Reach       9 non-null      int64 \n",
      " 2   Impact      9 non-null      int64 \n",
      " 3   Confidence  9 non-null      int64 \n",
      " 4   Efforts     9 non-null      int64 \n",
      "dtypes: int64(4), object(1)\n",
      "memory usage: 488.0+ bytes\n",
      "                                                                                                     Hypothesis  \\\n",
      "0  Добавить два новых канала привлечения трафика, что позволит привлекать на 30% больше пользователей             \n",
      "1  Запустить собственную службу доставки, что сократит срок доставки заказов                                      \n",
      "2  Добавить блоки рекомендаций товаров на сайт интернет магазина, чтобы повысить конверсию и средний чек заказа   \n",
      "3  Изменить структура категорий, что увеличит конверсию, т.к. пользователи быстрее найдут нужный товар            \n",
      "4  Изменить цвет фона главной страницы, чтобы увеличить вовлеченность пользователей                               \n",
      "5  Добавить страницу отзывов клиентов о магазине, что позволит увеличить количество заказов                       \n",
      "6  Показать на главной странице баннеры с актуальными акциями и распродажами, чтобы увеличить конверсию           \n",
      "7  Добавить форму подписки на все основные страницы, чтобы собрать базу клиентов для email-рассылок               \n",
      "8  Запустить акцию, дающую скидку на товар в день рождения                                                        \n",
      "\n",
      "   Reach  Impact  Confidence  Efforts  \n",
      "0  3      10      8           6        \n",
      "1  2      5       4           10       \n",
      "2  8      3       7           3        \n",
      "3  8      3       3           8        \n",
      "4  3      1       1           1        \n",
      "5  3      2       2           3        \n",
      "6  5      3       8           3        \n",
      "7  10     7       8           5        \n",
      "8  1      9       9           5        \n"
     ]
    }
   ],
   "source": [
    "hypothesis.info()\n",
    "print(hypothesis)"
   ]
  },
  {
   "cell_type": "markdown",
   "metadata": {},
   "source": [
    "Данные имеют корректный тип, пропуски отсутствуют, наименование столбоцов корректны, дальнейшая предобработка данных таблицы hypothesis не требуется."
   ]
  },
  {
   "cell_type": "markdown",
   "metadata": {},
   "source": [
    "Изучим данные таблицы orders."
   ]
  },
  {
   "cell_type": "code",
   "execution_count": 4,
   "metadata": {},
   "outputs": [
    {
     "name": "stdout",
     "output_type": "stream",
     "text": [
      "<class 'pandas.core.frame.DataFrame'>\n",
      "RangeIndex: 1197 entries, 0 to 1196\n",
      "Data columns (total 5 columns):\n",
      " #   Column         Non-Null Count  Dtype \n",
      "---  ------         --------------  ----- \n",
      " 0   transactionId  1197 non-null   int64 \n",
      " 1   visitorId      1197 non-null   int64 \n",
      " 2   date           1197 non-null   object\n",
      " 3   revenue        1197 non-null   int64 \n",
      " 4   group          1197 non-null   object\n",
      "dtypes: int64(3), object(2)\n",
      "memory usage: 46.9+ KB\n",
      "   transactionId   visitorId        date  revenue group\n",
      "0  3667963787     3312258926  2019-08-15  1650     B   \n",
      "1  2804400009     3642806036  2019-08-15  730      B   \n",
      "2  2961555356     4069496402  2019-08-15  400      A   \n",
      "3  3797467345     1196621759  2019-08-15  9759     B   \n",
      "4  2282983706     2322279887  2019-08-15  2308     B   \n"
     ]
    }
   ],
   "source": [
    "orders.info()\n",
    "print(orders.head())"
   ]
  },
  {
   "cell_type": "markdown",
   "metadata": {},
   "source": [
    "Переименуем столбец transactionId в transaction_id и столбец visitorId в visitor_id, изменим тип данных в столбце date на datetime64[ns]."
   ]
  },
  {
   "cell_type": "code",
   "execution_count": 5,
   "metadata": {},
   "outputs": [
    {
     "name": "stdout",
     "output_type": "stream",
     "text": [
      "<class 'pandas.core.frame.DataFrame'>\n",
      "RangeIndex: 1197 entries, 0 to 1196\n",
      "Data columns (total 5 columns):\n",
      " #   Column          Non-Null Count  Dtype         \n",
      "---  ------          --------------  -----         \n",
      " 0   transaction_id  1197 non-null   int64         \n",
      " 1   visitor_id      1197 non-null   int64         \n",
      " 2   date            1197 non-null   datetime64[ns]\n",
      " 3   revenue         1197 non-null   int64         \n",
      " 4   group           1197 non-null   object        \n",
      "dtypes: datetime64[ns](1), int64(3), object(1)\n",
      "memory usage: 46.9+ KB\n",
      "   transaction_id  visitor_id       date  revenue group\n",
      "0  3667963787      3312258926 2019-08-15  1650     B   \n",
      "1  2804400009      3642806036 2019-08-15  730      B   \n",
      "2  2961555356      4069496402 2019-08-15  400      A   \n",
      "3  3797467345      1196621759 2019-08-15  9759     B   \n",
      "4  2282983706      2322279887 2019-08-15  2308     B   \n"
     ]
    }
   ],
   "source": [
    "orders.rename(columns = {'transactionId' : 'transaction_id', 'visitorId' : 'visitor_id'}, inplace = True)\n",
    "orders['date'] = orders['date'].map(\n",
    "    lambda x: dt.datetime.strptime(x, '%Y-%m-%d')\n",
    ")\n",
    "orders.info()\n",
    "print(orders.head())"
   ]
  },
  {
   "cell_type": "markdown",
   "metadata": {},
   "source": [
    "Данные приведены к корректному типу, столбцы переименованы, пропуски отсутствуют, предобработка данных в таблице orders завершена."
   ]
  },
  {
   "cell_type": "markdown",
   "metadata": {},
   "source": [
    "Изучим данные таблицы visitors."
   ]
  },
  {
   "cell_type": "code",
   "execution_count": 6,
   "metadata": {},
   "outputs": [
    {
     "name": "stdout",
     "output_type": "stream",
     "text": [
      "<class 'pandas.core.frame.DataFrame'>\n",
      "RangeIndex: 62 entries, 0 to 61\n",
      "Data columns (total 3 columns):\n",
      " #   Column    Non-Null Count  Dtype \n",
      "---  ------    --------------  ----- \n",
      " 0   date      62 non-null     object\n",
      " 1   group     62 non-null     object\n",
      " 2   visitors  62 non-null     int64 \n",
      "dtypes: int64(1), object(2)\n",
      "memory usage: 1.6+ KB\n",
      "         date group  visitors\n",
      "0  2019-08-01  A     719     \n",
      "1  2019-08-02  A     619     \n",
      "2  2019-08-03  A     507     \n",
      "3  2019-08-04  A     717     \n",
      "4  2019-08-05  A     756     \n"
     ]
    }
   ],
   "source": [
    "visitors.info()\n",
    "print(visitors.head())"
   ]
  },
  {
   "cell_type": "markdown",
   "metadata": {},
   "source": [
    "Изменим тип данных в столбце date на datetime64[ns]."
   ]
  },
  {
   "cell_type": "code",
   "execution_count": 7,
   "metadata": {},
   "outputs": [
    {
     "name": "stdout",
     "output_type": "stream",
     "text": [
      "<class 'pandas.core.frame.DataFrame'>\n",
      "RangeIndex: 62 entries, 0 to 61\n",
      "Data columns (total 3 columns):\n",
      " #   Column    Non-Null Count  Dtype         \n",
      "---  ------    --------------  -----         \n",
      " 0   date      62 non-null     datetime64[ns]\n",
      " 1   group     62 non-null     object        \n",
      " 2   visitors  62 non-null     int64         \n",
      "dtypes: datetime64[ns](1), int64(1), object(1)\n",
      "memory usage: 1.6+ KB\n",
      "        date group  visitors\n",
      "0 2019-08-01  A     719     \n",
      "1 2019-08-02  A     619     \n",
      "2 2019-08-03  A     507     \n",
      "3 2019-08-04  A     717     \n",
      "4 2019-08-05  A     756     \n"
     ]
    }
   ],
   "source": [
    "visitors['date'] = visitors['date'].map(\n",
    "    lambda x: dt.datetime.strptime(x, '%Y-%m-%d')\n",
    ")\n",
    "visitors.info()\n",
    "print(visitors.head())"
   ]
  },
  {
   "cell_type": "markdown",
   "metadata": {},
   "source": [
    "Данные приведены к корректному типу, пропуски отсутствуют, наименование столбоцов корректны, предобработка данных таблицы visitirs завершена."
   ]
  },
  {
   "cell_type": "markdown",
   "metadata": {},
   "source": [
    "Уточним уникальные значения в столбце group таблиц orders и visitors."
   ]
  },
  {
   "cell_type": "code",
   "execution_count": 8,
   "metadata": {},
   "outputs": [
    {
     "name": "stdout",
     "output_type": "stream",
     "text": [
      "['B' 'A']\n",
      "['A' 'B']\n"
     ]
    }
   ],
   "source": [
    "print(orders['group'].unique())\n",
    "print(visitors['group'].unique())"
   ]
  },
  {
   "cell_type": "markdown",
   "metadata": {},
   "source": [
    "В таблицах orders и visitors представлены результаты только А и В групп, лишних данных в этой части нет."
   ]
  },
  {
   "cell_type": "markdown",
   "metadata": {},
   "source": [
    "Определим даты начала и окончания А/В-теста, данные о датах представлены в таблицах orders и visitors."
   ]
  },
  {
   "cell_type": "code",
   "execution_count": 9,
   "metadata": {},
   "outputs": [
    {
     "name": "stdout",
     "output_type": "stream",
     "text": [
      "Дата первого заказа: 2019-08-01 00:00:00 \n",
      "Дата первого визита: 2019-08-01 00:00:00 \n",
      "Дата последнего заказа: 2019-08-31 00:00:00 \n",
      "Дата последнего визита: 2019-08-31 00:00:00 \n",
      "\n"
     ]
    }
   ],
   "source": [
    "print('Дата первого заказа:', orders['date'].min(), '\\n'\n",
    "     'Дата первого визита:', visitors['date'].min(), '\\n'\n",
    "     'Дата последнего заказа:', orders['date'].max(), '\\n'\n",
    "     'Дата последнего визита:', visitors['date'].max(), '\\n')"
   ]
  },
  {
   "cell_type": "markdown",
   "metadata": {},
   "source": [
    "Дата начала А/В-теста - 1 августа 2019 года, дата окончания А/В-теста - 31 августа 2019 года."
   ]
  },
  {
   "cell_type": "markdown",
   "metadata": {},
   "source": [
    "Рассмортим id клиентов в таблицах orders и visits, определим, нет ли клиентов с одинаковыми id среди групп А и В. Также выведем общее число участников."
   ]
  },
  {
   "cell_type": "code",
   "execution_count": 10,
   "metadata": {},
   "outputs": [
    {
     "name": "stdout",
     "output_type": "stream",
     "text": [
      "58\n",
      "1031\n"
     ]
    }
   ],
   "source": [
    "id=orders.groupby('visitor_id').agg({'group':'nunique'}).reset_index()\n",
    "id=id[id['group']==2]['visitor_id']\n",
    "print(id.count())\n",
    "print(orders['visitor_id'].nunique())"
   ]
  },
  {
   "cell_type": "markdown",
   "metadata": {},
   "source": [
    "Среди всех пользователей (1031), которые принимали участие в А/В-тестировании, зарегистрированы 58, id которых фигурирует как в результатах группы А, так и в результатах группы В. Определим долю этих пользователей среди всех участников."
   ]
  },
  {
   "cell_type": "code",
   "execution_count": 11,
   "metadata": {},
   "outputs": [
    {
     "data": {
      "text/plain": [
       "5.63"
      ]
     },
     "execution_count": 11,
     "metadata": {},
     "output_type": "execute_result"
    }
   ],
   "source": [
    "round(100*id.count()/orders['visitor_id'].nunique(),2)"
   ]
  },
  {
   "cell_type": "markdown",
   "metadata": {},
   "source": [
    "С учетом доли пользователей, принимавших участие в А и В группах, в 5,63% от общего количества участников, а также в связи с некоректными результатами этих пользователей (невозможно оценить влияние изменений, проверяемых в А/В-тестировании, на действия таких участников: полученная от них прибыль, количество совершенных заказов и т.д.) предлагается исключить данных участников из таблицы orders."
   ]
  },
  {
   "cell_type": "code",
   "execution_count": 12,
   "metadata": {},
   "outputs": [
    {
     "name": "stdout",
     "output_type": "stream",
     "text": [
      "973\n"
     ]
    }
   ],
   "source": [
    "orders = orders.loc[~orders['visitor_id'].isin(id.unique())]\n",
    "print(orders['visitor_id'].nunique())"
   ]
  },
  {
   "cell_type": "markdown",
   "metadata": {},
   "source": [
    "Пользователи с некорректными результатами исключены, общее число участников уменьшилось на количество удаленных пользователей."
   ]
  },
  {
   "cell_type": "markdown",
   "metadata": {},
   "source": [
    "Оценим количество пользователей в группе А и группе В."
   ]
  },
  {
   "cell_type": "code",
   "execution_count": 13,
   "metadata": {},
   "outputs": [
    {
     "name": "stdout",
     "output_type": "stream",
     "text": [
      "445\n",
      "528\n",
      "973\n",
      "Доля участников группы А: 45.73\n",
      "Доля участников группы В: 54.27\n"
     ]
    }
   ],
   "source": [
    "print(orders[orders['group']=='A']['visitor_id'].nunique())\n",
    "print(orders[orders['group']=='B']['visitor_id'].nunique())\n",
    "print(orders['visitor_id'].nunique())\n",
    "print('Доля участников группы А:', round(100*orders[orders['group']=='A']['visitor_id'].nunique()/orders['visitor_id'].nunique(),2))\n",
    "print('Доля участников группы В:', round(100*orders[orders['group']=='B']['visitor_id'].nunique()/orders['visitor_id'].nunique(),2))"
   ]
  },
  {
   "cell_type": "markdown",
   "metadata": {},
   "source": [
    "Доля участников групп А и В 46% и 54% соответственно, доля участников в каждой из групп оптимальна для проведения А/В-тестирования."
   ]
  },
  {
   "cell_type": "markdown",
   "metadata": {},
   "source": [
    "### Вывод по результатам предобрабокти данных"
   ]
  },
  {
   "cell_type": "markdown",
   "metadata": {},
   "source": [
    "В рамках предобработки данных проведена следующая работа:\n",
    "1. В таблицах orders и visitors данные в столбце date приведены к типу datetime64[ns].\n",
    "2. Уточнены названия столбцов таблицы orders.\n",
    "3. Определены дата начала А/В-теста - 1.08.2019, и дата окончания - 31.08.2019.\n",
    "4. Из таблицы orders исключены пользователи, результаты деятельности которых щарегистрированы как в группе А, так и в группе В, их доля не более 5,6%.\n",
    "\n",
    "В таблицах orders, visitors и hypothesis проведена предобработка данных, данные кррректны и могут быть использованы для решения задач проекта."
   ]
  },
  {
   "cell_type": "markdown",
   "metadata": {},
   "source": [
    "## Приоритизация гипотез"
   ]
  },
  {
   "cell_type": "markdown",
   "metadata": {},
   "source": [
    "Проведем приоритизацию гипотез, указанных в таблице hypothesis, с помощью метода ICE."
   ]
  },
  {
   "cell_type": "code",
   "execution_count": 14,
   "metadata": {},
   "outputs": [
    {
     "name": "stdout",
     "output_type": "stream",
     "text": [
      "                                                                                                     Hypothesis  \\\n",
      "8                                                       Запустить акцию, дающую скидку на товар в день рождения   \n",
      "0            Добавить два новых канала привлечения трафика, что позволит привлекать на 30% больше пользователей   \n",
      "7              Добавить форму подписки на все основные страницы, чтобы собрать базу клиентов для email-рассылок   \n",
      "6          Показать на главной странице баннеры с актуальными акциями и распродажами, чтобы увеличить конверсию   \n",
      "2  Добавить блоки рекомендаций товаров на сайт интернет магазина, чтобы повысить конверсию и средний чек заказа   \n",
      "1                                     Запустить собственную службу доставки, что сократит срок доставки заказов   \n",
      "5                      Добавить страницу отзывов клиентов о магазине, что позволит увеличить количество заказов   \n",
      "3           Изменить структура категорий, что увеличит конверсию, т.к. пользователи быстрее найдут нужный товар   \n",
      "4                              Изменить цвет фона главной страницы, чтобы увеличить вовлеченность пользователей   \n",
      "\n",
      "     ICE  \n",
      "8  16.20  \n",
      "0  13.33  \n",
      "7  11.20  \n",
      "6   8.00  \n",
      "2   7.00  \n",
      "1   2.00  \n",
      "5   1.33  \n",
      "3   1.12  \n",
      "4   1.00  \n"
     ]
    }
   ],
   "source": [
    "pd.options.display.max_colwidth = 210 #отображение полного названия гипотез\n",
    "hypothesis['ICE'] = round((hypothesis['Impact']*hypothesis['Confidence'])/hypothesis['Efforts'], 2) #округление показателей ICE до 2 знаков после запятой\n",
    "print(hypothesis[['Hypothesis', 'ICE']].sort_values(by='ICE', ascending=False))"
   ]
  },
  {
   "cell_type": "markdown",
   "metadata": {},
   "source": [
    "Проведем приоритизацию гипотез, указанных в таблице hypothesis, с помощью метода RICE."
   ]
  },
  {
   "cell_type": "code",
   "execution_count": 15,
   "metadata": {},
   "outputs": [
    {
     "name": "stdout",
     "output_type": "stream",
     "text": [
      "                                                                                                     Hypothesis  \\\n",
      "7              Добавить форму подписки на все основные страницы, чтобы собрать базу клиентов для email-рассылок   \n",
      "2  Добавить блоки рекомендаций товаров на сайт интернет магазина, чтобы повысить конверсию и средний чек заказа   \n",
      "0            Добавить два новых канала привлечения трафика, что позволит привлекать на 30% больше пользователей   \n",
      "6          Показать на главной странице баннеры с актуальными акциями и распродажами, чтобы увеличить конверсию   \n",
      "8                                                       Запустить акцию, дающую скидку на товар в день рождения   \n",
      "3           Изменить структура категорий, что увеличит конверсию, т.к. пользователи быстрее найдут нужный товар   \n",
      "1                                     Запустить собственную службу доставки, что сократит срок доставки заказов   \n",
      "5                      Добавить страницу отзывов клиентов о магазине, что позволит увеличить количество заказов   \n",
      "4                              Изменить цвет фона главной страницы, чтобы увеличить вовлеченность пользователей   \n",
      "\n",
      "    RICE  \n",
      "7  112.0  \n",
      "2   56.0  \n",
      "0   40.0  \n",
      "6   40.0  \n",
      "8   16.2  \n",
      "3    9.0  \n",
      "1    4.0  \n",
      "5    4.0  \n",
      "4    3.0  \n"
     ]
    }
   ],
   "source": [
    "hypothesis['RICE'] = (hypothesis['Reach']*hypothesis['Impact']*hypothesis['Confidence'])/hypothesis['Efforts']\n",
    "print(hypothesis[['Hypothesis', 'RICE']].sort_values(by='RICE', ascending=False))"
   ]
  },
  {
   "cell_type": "markdown",
   "metadata": {},
   "source": [
    "Выведем все имеющиеся гипотезы с расчетом приоритезации методами ICE и RICE и столбцом Reach."
   ]
  },
  {
   "cell_type": "code",
   "execution_count": 16,
   "metadata": {},
   "outputs": [
    {
     "name": "stdout",
     "output_type": "stream",
     "text": [
      "                                                                                                     Hypothesis  \\\n",
      "7              Добавить форму подписки на все основные страницы, чтобы собрать базу клиентов для email-рассылок   \n",
      "2  Добавить блоки рекомендаций товаров на сайт интернет магазина, чтобы повысить конверсию и средний чек заказа   \n",
      "0            Добавить два новых канала привлечения трафика, что позволит привлекать на 30% больше пользователей   \n",
      "6          Показать на главной странице баннеры с актуальными акциями и распродажами, чтобы увеличить конверсию   \n",
      "8                                                       Запустить акцию, дающую скидку на товар в день рождения   \n",
      "3           Изменить структура категорий, что увеличит конверсию, т.к. пользователи быстрее найдут нужный товар   \n",
      "1                                     Запустить собственную службу доставки, что сократит срок доставки заказов   \n",
      "5                      Добавить страницу отзывов клиентов о магазине, что позволит увеличить количество заказов   \n",
      "4                              Изменить цвет фона главной страницы, чтобы увеличить вовлеченность пользователей   \n",
      "\n",
      "   Reach    ICE   RICE  \n",
      "7     10  11.20  112.0  \n",
      "2      8   7.00   56.0  \n",
      "0      3  13.33   40.0  \n",
      "6      5   8.00   40.0  \n",
      "8      1  16.20   16.2  \n",
      "3      8   1.12    9.0  \n",
      "1      2   2.00    4.0  \n",
      "5      3   1.33    4.0  \n",
      "4      3   1.00    3.0  \n"
     ]
    }
   ],
   "source": [
    "print(hypothesis[['Hypothesis', 'Reach', 'ICE', 'RICE']].sort_values(by='RICE', ascending=False))"
   ]
  },
  {
   "cell_type": "markdown",
   "metadata": {},
   "source": [
    "### Вывод по результатам приоритизации гипотез"
   ]
  },
  {
   "cell_type": "markdown",
   "metadata": {},
   "source": [
    "В результате приоритизации гипотез получены следующие результаты:\n",
    "- приоритизация методом ICE: лидируют гипотезы под номерами 8, 0 и 7;\n",
    "- приоритизация методом RICE: лидируют гипотезы под номерами 7, 2 и 0.\n",
    "\n",
    "Различия в результатах обуславливаются наличием при расчетах по методу RICE дополнительного параметра Reach (охват пользователей, которых затронут предлагаемые изменения). Для гипотезы под номером 7 значение Reach равно 10, с учетом формулы расчета значение RICE для гипотезы 7 в 10 раз больше значения ICE (полученные значения RICE=112 и ICE=11,2).\n",
    "\n",
    "Таким образом наиболее приоритетной гипотезой выберем гипотезу под номером 7."
   ]
  },
  {
   "cell_type": "markdown",
   "metadata": {},
   "source": [
    "## Анализ А/В-теста"
   ]
  },
  {
   "cell_type": "markdown",
   "metadata": {},
   "source": [
    "### Кумулятивная выручка по группам"
   ]
  },
  {
   "cell_type": "markdown",
   "metadata": {},
   "source": [
    "Определим кумулятивную выручку по дням для каждой группы А и В."
   ]
  },
  {
   "cell_type": "code",
   "execution_count": 17,
   "metadata": {
    "scrolled": false
   },
   "outputs": [
    {
     "name": "stdout",
     "output_type": "stream",
     "text": [
      "group       date  revenue_A  revenue_B  revenue_A_cum  revenue_B_cum\n",
      "0     2019-08-01     142779      59758         142779          59758\n",
      "1     2019-08-02      91602     162043         234381         221801\n",
      "2     2019-08-03     112473      67049         346854         288850\n",
      "3     2019-08-04      41176      96890         388030         385740\n",
      "4     2019-08-05      86383      89908         474413         475648\n"
     ]
    }
   ],
   "source": [
    "revenue_cumulative = orders.pivot_table(index='date', columns='group', values='revenue', aggfunc='sum').reset_index()\n",
    "revenue_cumulative = revenue_cumulative.rename(columns={'A':'revenue_A', 'B':'revenue_B',})\n",
    "revenue_cumulative['revenue_A_cum'] = revenue_cumulative['revenue_A'].cumsum(axis=0)\n",
    "revenue_cumulative['revenue_B_cum'] = revenue_cumulative['revenue_B'].cumsum(axis=0)\n",
    "print(revenue_cumulative.head())"
   ]
  },
  {
   "cell_type": "markdown",
   "metadata": {},
   "source": [
    "Построим графики кумулятивной выручки по группам."
   ]
  },
  {
   "cell_type": "code",
   "execution_count": 18,
   "metadata": {},
   "outputs": [
    {
     "data": {
      "image/png": "[encoded data removed]",
      "text/plain": [
       "<Figure size 2000x1000 with 1 Axes>"
      ]
     },
     "metadata": {},
     "output_type": "display_data"
    }
   ],
   "source": [
    "plt.figure(figsize=(20, 10))\n",
    "plt.plot(revenue_cumulative['date'], revenue_cumulative['revenue_A_cum'], label='группа A')\n",
    "plt.plot(revenue_cumulative['date'], revenue_cumulative['revenue_B_cum'], label='группа B')\n",
    "plt.xticks(revenue_cumulative['date'], rotation = 90)\n",
    "plt.legend()\n",
    "plt.title('График кумулятивной выручки по группам', fontsize=15) #добавлено название графика\n",
    "plt.xlabel('Дата', fontsize=15) #подписана ось х\n",
    "plt.ylabel('Выручка', fontsize=15) #подписана ось у\n",
    "plt.grid()\n",
    "plt.show()"
   ]
  },
  {
   "cell_type": "markdown",
   "metadata": {},
   "source": [
    "#### Вывод по анализу кумулятивной выручки по группам"
   ]
  },
  {
   "cell_type": "markdown",
   "metadata": {},
   "source": [
    "По данным графика кумулятивной выручки для групп А и В можно сделать следующие выводы:\n",
    "- кумулятивная выручка в обеих группах вцелом увеличивается равномерно;\n",
    "- кумулятивная выручка в группе В выше, чем в группе А;\n",
    "- наблюдается резкий рост выручки в группе В в промежутке с 18 по 19 августа."
   ]
  },
  {
   "cell_type": "markdown",
   "metadata": {},
   "source": [
    "### Кумулятивный средний чек по группам"
   ]
  },
  {
   "cell_type": "markdown",
   "metadata": {},
   "source": [
    "Определим кумулятивный средний чек по дням для каждой группы А и В."
   ]
  },
  {
   "cell_type": "code",
   "execution_count": 19,
   "metadata": {},
   "outputs": [
    {
     "name": "stdout",
     "output_type": "stream",
     "text": [
      "group       date  revenue_A  revenue_B  revenue_A_cum  revenue_B_cum  \\\n",
      "0     2019-08-01     142779      59758         142779          59758   \n",
      "1     2019-08-02      91602     162043         234381         221801   \n",
      "2     2019-08-03     112473      67049         346854         288850   \n",
      "3     2019-08-04      41176      96890         388030         385740   \n",
      "4     2019-08-05      86383      89908         474413         475648   \n",
      "\n",
      "group  count_order_A  count_order_B  cum_order_A  cum_order_B  avg_check_A  \\\n",
      "0                 23             17           23           17  6207.782609   \n",
      "1                 19             23           42           40  5580.500000   \n",
      "2                 24             14           66           54  5255.363636   \n",
      "3                 11             14           77           68  5039.350649   \n",
      "4                 22             21           99           89  4792.050505   \n",
      "\n",
      "group  avg_check_B  \n",
      "0      3515.176471  \n",
      "1      5545.025000  \n",
      "2      5349.074074  \n",
      "3      5672.647059  \n",
      "4      5344.359551  \n"
     ]
    }
   ],
   "source": [
    "count_cumulative = orders.pivot_table(index='date', columns='group', values='transaction_id', aggfunc='count').reset_index()\n",
    "count_cumulative = count_cumulative.rename(columns={'A':'count_order_A', 'B':'count_order_B',})\n",
    "count_cumulative['cum_order_A'] = count_cumulative['count_order_A'].cumsum(axis=0)\n",
    "count_cumulative['cum_order_B'] = count_cumulative['count_order_B'].cumsum(axis=0)\n",
    "cumulative = revenue_cumulative.merge(count_cumulative, on='date', how='inner')\n",
    "cumulative['avg_check_A'] = cumulative['revenue_A_cum']/cumulative['cum_order_A']\n",
    "cumulative['avg_check_B'] = cumulative['revenue_B_cum']/cumulative['cum_order_B']\n",
    "print(cumulative.head())"
   ]
  },
  {
   "cell_type": "markdown",
   "metadata": {},
   "source": [
    "Построим графики кумулятивных средних чеков по группам."
   ]
  },
  {
   "cell_type": "code",
   "execution_count": 20,
   "metadata": {},
   "outputs": [
    {
     "data": {
      "image/png": "[encoded data removed]",
      "text/plain": [
       "<Figure size 2000x1000 with 1 Axes>"
      ]
     },
     "metadata": {},
     "output_type": "display_data"
    }
   ],
   "source": [
    "plt.figure(figsize=(20, 10))\n",
    "plt.plot(cumulative['date'], cumulative['avg_check_A'], label='группа A')\n",
    "plt.plot(cumulative['date'], cumulative['avg_check_B'], label='группа B')\n",
    "plt.xticks(cumulative['date'], rotation = 90)\n",
    "plt.title('График кумулятивной средних чеков по группам', fontsize=15)\n",
    "plt.xlabel('Дата', fontsize=15)\n",
    "plt.ylabel('Средний чек', fontsize=15)\n",
    "plt.legend()\n",
    "plt.grid()\n",
    "plt.show()"
   ]
  },
  {
   "cell_type": "markdown",
   "metadata": {},
   "source": [
    "#### Вывод по анализу кумулятивного среднего чека по группам"
   ]
  },
  {
   "cell_type": "markdown",
   "metadata": {},
   "source": [
    "По данным графика кумулятивного среднего чека для групп А и В можно сделать следующие выводы:\n",
    "- вцелом кумулятивный средний чек больше в группе В, наблюдается небольшое превышение стоимости среднего чека группы А в период с 12 по 18 августа;\n",
    "- наблюдается резкое возрастание кумулятивного значения среднего чека в группе В с 18 по 19 августа, возрастание скорее связано с большим значением выручки, полученной 18 августа, по данным таблицы cumulative количество заказов в группе В выше чем в группе А, что также сказывается на среднем чеке заказов;\n",
    "- с 19 августа до окончания проведения А/В теста наблюдается снижение кумулятивного среднего чека группы В."
   ]
  },
  {
   "cell_type": "markdown",
   "metadata": {},
   "source": [
    "### Анализ относительного изменения кумулятивных сердних чеков групп А и В"
   ]
  },
  {
   "cell_type": "markdown",
   "metadata": {},
   "source": [
    "Определим относительное изменение кумулятивного среднего чека по дням между группами А и В."
   ]
  },
  {
   "cell_type": "code",
   "execution_count": 21,
   "metadata": {},
   "outputs": [
    {
     "name": "stdout",
     "output_type": "stream",
     "text": [
      "0   -0.433747\n",
      "1   -0.006357\n",
      "2    0.017831\n",
      "3    0.125670\n",
      "4    0.115255\n",
      "Name: relative, dtype: float64\n"
     ]
    }
   ],
   "source": [
    "cumulative['relative'] = (cumulative['avg_check_B']/cumulative['avg_check_A'])-1\n",
    "print(cumulative['relative'].head())"
   ]
  },
  {
   "cell_type": "markdown",
   "metadata": {},
   "source": [
    "Построим график относительного изменения кумулятивного среднего чека."
   ]
  },
  {
   "cell_type": "code",
   "execution_count": 22,
   "metadata": {},
   "outputs": [
    {
     "data": {
      "image/png": "[encoded data removed]",
      "text/plain": [
       "<Figure size 2000x1000 with 1 Axes>"
      ]
     },
     "metadata": {},
     "output_type": "display_data"
    }
   ],
   "source": [
    "plt.figure(figsize=(20, 10))\n",
    "plt.plot(cumulative['date'], cumulative['relative'], label='relative')\n",
    "plt.axhline(y=0, color='black', linestyle='--') \n",
    "plt.xticks(cumulative['date'], rotation = 90)\n",
    "plt.title('График относительного изменения кумулятивного среднего чека', fontsize=15)\n",
    "plt.xlabel('Дата', fontsize=15)\n",
    "plt.ylabel('Доля', fontsize=15)\n",
    "plt.legend()\n",
    "plt.grid()\n",
    "plt.show()"
   ]
  },
  {
   "cell_type": "markdown",
   "metadata": {},
   "source": [
    "#### Вывод по анализу относительного изменения кумулятивных средних чеков групп А и В"
   ]
  },
  {
   "cell_type": "markdown",
   "metadata": {},
   "source": [
    "По данным графика можно сделать вывод что средний чек группы В больше среднего чека группы А, возможно наличие статистичеких выбросов в периоды с 3 по 9 и с 18 по 19 августа - наличие крупных заказов в группе В в указанные периоды, наличие крупной выручки может свидетельствовать о наличии либо небольших но крупных заказов, либо о большом количестве заказов средней стоимости в группе В."
   ]
  },
  {
   "cell_type": "markdown",
   "metadata": {},
   "source": [
    "###  Кумулятивная конверсия по группам"
   ]
  },
  {
   "cell_type": "markdown",
   "metadata": {},
   "source": [
    "Определим кумулятивные конверсии для групп А и В. Создадим таблицу с кумулятивным количеством визитов пользователей в интернет-магазин по дням."
   ]
  },
  {
   "cell_type": "code",
   "execution_count": 23,
   "metadata": {},
   "outputs": [
    {
     "name": "stdout",
     "output_type": "stream",
     "text": [
      "group       date  visit_count_A  visit_count_B  visit_cum_A  visit_cum_B\n",
      "0     2019-08-01            719            713          719          713\n",
      "1     2019-08-02            619            581         1338         1294\n",
      "2     2019-08-03            507            509         1845         1803\n",
      "3     2019-08-04            717            770         2562         2573\n",
      "4     2019-08-05            756            707         3318         3280\n"
     ]
    }
   ],
   "source": [
    "visit_count = visitors.pivot_table(index='date', columns='group', values='visitors', aggfunc='sum').reset_index()\n",
    "visit_count = visit_count.rename(columns={'A':'visit_count_A', 'B':'visit_count_B',})\n",
    "visit_count['visit_cum_A'] = visit_count['visit_count_A'].cumsum(axis=0)\n",
    "visit_count['visit_cum_B'] = visit_count['visit_count_B'].cumsum(axis=0)\n",
    "print(visit_count.head())"
   ]
  },
  {
   "cell_type": "markdown",
   "metadata": {},
   "source": [
    "Соединим таблицу с кумулятивными визитами visit_count с таблицей кумулятивных значений cumulative. Также создадим и присоединим по датам таблицу покупателей - уникальных (по id) пользователей, совершавших заказы в определенный день."
   ]
  },
  {
   "cell_type": "code",
   "execution_count": 24,
   "metadata": {
    "scrolled": false
   },
   "outputs": [],
   "source": [
    "bayer = orders.pivot_table(index='date', columns='group', values='visitor_id', aggfunc='nunique').reset_index()\n",
    "bayer = bayer.rename(columns={'A':'bayer_A', 'B':'bayer_B',})\n",
    "bayer['bayer_cum_A'] = bayer['bayer_A'].cumsum(axis=0)\n",
    "bayer['bayer_cum_B'] = bayer['bayer_B'].cumsum(axis=0)\n",
    "cumulative = cumulative.merge(visit_count, on='date', how='inner')\n",
    "cumulative = cumulative.merge(bayer, on='date', how='inner')"
   ]
  },
  {
   "cell_type": "markdown",
   "metadata": {},
   "source": [
    "Рассчитаем кумулятивную конверсию для каждой группы, разделим количество покупателей на визитеров для каждого дня."
   ]
  },
  {
   "cell_type": "code",
   "execution_count": 25,
   "metadata": {},
   "outputs": [
    {
     "name": "stdout",
     "output_type": "stream",
     "text": [
      "group    conv_A    conv_B\n",
      "0      0.026426  0.023843\n",
      "1      0.027653  0.030139\n",
      "2      0.033062  0.029395\n",
      "3      0.028103  0.025651\n",
      "4      0.028330  0.026524\n"
     ]
    }
   ],
   "source": [
    "cumulative['conv_A'] = cumulative['bayer_cum_A']/cumulative['visit_cum_A']\n",
    "cumulative['conv_B'] = cumulative['bayer_cum_B']/cumulative['visit_cum_B']\n",
    "print(cumulative[['conv_A', 'conv_B']].head())"
   ]
  },
  {
   "cell_type": "markdown",
   "metadata": {},
   "source": [
    "Построим графики кумулятивной конверсии для групп А и В."
   ]
  },
  {
   "cell_type": "code",
   "execution_count": 26,
   "metadata": {},
   "outputs": [
    {
     "data": {
      "image/png": "[encoded data removed]",
      "text/plain": [
       "<Figure size 2000x1000 with 1 Axes>"
      ]
     },
     "metadata": {},
     "output_type": "display_data"
    }
   ],
   "source": [
    "plt.figure(figsize=(20, 10))\n",
    "plt.plot(cumulative['date'], cumulative['conv_A'], label='группа A')\n",
    "plt.plot(cumulative['date'], cumulative['conv_B'], label='группа B')\n",
    "plt.xticks(cumulative['date'], rotation = 90)\n",
    "plt.title('График кумулятивной конверсии', fontsize=15)\n",
    "plt.xlabel('Дата', fontsize=15)\n",
    "plt.ylabel('Доля', fontsize=15)\n",
    "plt.legend()\n",
    "plt.grid()\n",
    "plt.show()"
   ]
  },
  {
   "cell_type": "markdown",
   "metadata": {},
   "source": [
    "#### Вывод по анализу кумулятивной конверсии по группам."
   ]
  },
  {
   "cell_type": "markdown",
   "metadata": {},
   "source": [
    "По данным графиков кумулятивной конверсии можно сделать следующие выводы:\n",
    "- у кумулятивной конверсии группы А наблюдается резкий спад в период с 3 по 9 августа;\n",
    "- кумулятивная конверсия группы В резко возрастает в период с 4 по 10 августа;\n",
    "- в период с 11 августа и до окнчания проведения А/В теста конверсии в группах А и В стабилизировались, значительные выбросы отсутствуют."
   ]
  },
  {
   "cell_type": "markdown",
   "metadata": {},
   "source": [
    "### Анализ относительного изменения кумулятивных конверсий групп А и В"
   ]
  },
  {
   "cell_type": "markdown",
   "metadata": {},
   "source": [
    "Определим относительное изменение кумулятивных конверсий между группами А и В."
   ]
  },
  {
   "cell_type": "code",
   "execution_count": 27,
   "metadata": {},
   "outputs": [
    {
     "name": "stdout",
     "output_type": "stream",
     "text": [
      "0   -0.097734\n",
      "1    0.089895\n",
      "2   -0.110908\n",
      "3   -0.087252\n",
      "4   -0.063745\n",
      "Name: relative_conv, dtype: float64\n"
     ]
    }
   ],
   "source": [
    "cumulative['relative_conv'] = (cumulative['conv_B']/cumulative['conv_A'])-1\n",
    "print(cumulative['relative_conv'].head())"
   ]
  },
  {
   "cell_type": "markdown",
   "metadata": {},
   "source": [
    "Построим график относительного изменения кумулятивных конверсий между группами А и В."
   ]
  },
  {
   "cell_type": "code",
   "execution_count": 28,
   "metadata": {},
   "outputs": [
    {
     "data": {
      "image/png": "[encoded data removed]",
      "text/plain": [
       "<Figure size 2000x1000 with 1 Axes>"
      ]
     },
     "metadata": {},
     "output_type": "display_data"
    }
   ],
   "source": [
    "plt.figure(figsize=(20, 10))\n",
    "plt.plot(cumulative['date'], cumulative['relative_conv'], label='relative_conv')\n",
    "plt.axhline(y=0, color='black', linestyle='--') \n",
    "plt.xticks(cumulative['date'], rotation = 90)\n",
    "plt.title('График относительного изменения кумулятивных конверсии по группам', fontsize=15)\n",
    "plt.xlabel('Дата', fontsize=15)\n",
    "plt.ylabel('Доля', fontsize=15)\n",
    "plt.legend()\n",
    "plt.grid()\n",
    "plt.show()"
   ]
  },
  {
   "cell_type": "markdown",
   "metadata": {},
   "source": [
    "#### Вывод по анализу относительного изменения кумулятивных конверсий между группами А и В"
   ]
  },
  {
   "cell_type": "markdown",
   "metadata": {},
   "source": [
    "По данным графика относительного изменения кумулятивной конверсии можно сделать следующие выводы:\n",
    "- в основном кумулятивная конверсия группы В опережает конверсию группы А\n",
    "- наблюдается резкий рост превышения кумулятивной конверсии группы В на конверсией группы А в период с 5 по 10 августа;\n",
    "- в период с 22 по 31 августа (окончание А/В-теста) относительное изменение кумулятивных конверсий стабилизировалось, значительные выбросы отсутствуют."
   ]
  },
  {
   "cell_type": "markdown",
   "metadata": {},
   "source": [
    "### График количества заказов по пользователям"
   ]
  },
  {
   "cell_type": "markdown",
   "metadata": {},
   "source": [
    "Опеределм количество совершенных заказов каждым пользователем."
   ]
  },
  {
   "cell_type": "code",
   "execution_count": 29,
   "metadata": {},
   "outputs": [
    {
     "name": "stdout",
     "output_type": "stream",
     "text": [
      "   visitor_id group  transaction_id\n",
      "0     5114589     B               1\n",
      "1     6958315     B               1\n",
      "2    11685486     A               1\n",
      "3    39475350     B               1\n",
      "4    47206413     B               1\n"
     ]
    }
   ],
   "source": [
    "order_count = orders.pivot_table(index=['visitor_id', 'group'], values='transaction_id', aggfunc='count').reset_index()\n",
    "print(order_count.head())"
   ]
  },
  {
   "cell_type": "markdown",
   "metadata": {},
   "source": [
    "Построим точечный график количества заказов по пользователям."
   ]
  },
  {
   "cell_type": "code",
   "execution_count": 30,
   "metadata": {},
   "outputs": [
    {
     "data": {
      "image/png": "[encoded data removed]",
      "text/plain": [
       "<Figure size 640x480 with 1 Axes>"
      ]
     },
     "metadata": {},
     "output_type": "display_data"
    }
   ],
   "source": [
    "x_values = pd.Series(range(0,len(order_count)))\n",
    "plt.scatter(x_values, order_count['transaction_id'])\n",
    "plt.title('Точечный график количества заказов по пользователям', fontsize=15)\n",
    "plt.xlabel('Порядковый номер пользователя', fontsize=15)\n",
    "plt.ylabel('Количество заказов', fontsize=15)\n",
    "plt.grid()"
   ]
  },
  {
   "cell_type": "markdown",
   "metadata": {},
   "source": [
    "#### Вывод по результатам анализа графика количества заказов по пользователям"
   ]
  },
  {
   "cell_type": "markdown",
   "metadata": {},
   "source": [
    "В основном пользователи за период проведения А/В тестов делали по 1 заказу, реже - по 2 заказа. Зафиксировано всего 7 пользователей, сделавших 3 заказа."
   ]
  },
  {
   "cell_type": "markdown",
   "metadata": {},
   "source": [
    "### Выбор границы для определения аномальных значений количества заказов"
   ]
  },
  {
   "cell_type": "markdown",
   "metadata": {},
   "source": [
    "Определим выборочные перцентили количества заказов на одного пользователя. Определим 90, 95 и 99 перцентили количества заказов для каждого пользователя."
   ]
  },
  {
   "cell_type": "code",
   "execution_count": 31,
   "metadata": {},
   "outputs": [
    {
     "name": "stdout",
     "output_type": "stream",
     "text": [
      "[1. 1. 2.]\n"
     ]
    }
   ],
   "source": [
    "print(np.percentile(order_count['transaction_id'], [90, 95, 99])) "
   ]
  },
  {
   "cell_type": "markdown",
   "metadata": {},
   "source": [
    "#### Вывод по границам аномальных значений количества заказов"
   ]
  },
  {
   "cell_type": "markdown",
   "metadata": {},
   "source": [
    "По данным расчетов 90, 95 и 99 перцентилей можно сделать вывод о том, что менее 1% пользователей оформляли 2 и более заказов. Определим верхнюю границу количества заказов на пользователя как 2 и более заказа, т.е. \"очищенными\" от выбросов будут считаться данные по пользователям, оформивших максимум 1 заказ, пользователи, оформившие 2 и более заказов будут считаться аномальными."
   ]
  },
  {
   "cell_type": "markdown",
   "metadata": {},
   "source": [
    "### График стоимостей заказов"
   ]
  },
  {
   "cell_type": "markdown",
   "metadata": {},
   "source": [
    "Построим точечный график стоимостей заказов."
   ]
  },
  {
   "cell_type": "code",
   "execution_count": 32,
   "metadata": {},
   "outputs": [
    {
     "data": {
      "image/png": "[encoded data removed]",
      "text/plain": [
       "<Figure size 2000x1000 with 1 Axes>"
      ]
     },
     "metadata": {},
     "output_type": "display_data"
    }
   ],
   "source": [
    "plt.figure(figsize=(20, 10))\n",
    "x_values = pd.Series(range(0,len(orders)))\n",
    "plt.scatter(x_values, orders['revenue'])\n",
    "plt.title('Точечный график стоимостей заказов', fontsize=15)\n",
    "plt.xlabel('Порядковый номер заказа', fontsize=15)\n",
    "plt.ylabel('Стоимость заказа', fontsize=15)\n",
    "plt.grid()"
   ]
  },
  {
   "cell_type": "markdown",
   "metadata": {},
   "source": [
    "#### Вывод по результатам анализа графика стоимостей заказов"
   ]
  },
  {
   "cell_type": "markdown",
   "metadata": {},
   "source": [
    "По данным точечного графика заказов определно, что больше всего сделано заказов со стоимостью не более 100 000, зафиксировано два значения, превышающих это значение - заказ со стоимостью 200 000 и заказ со стоимостью более 1 200 000. Вероятнее всего данные заказы совершены крупными организациями и являются статистическими выбросами."
   ]
  },
  {
   "cell_type": "markdown",
   "metadata": {},
   "source": [
    "### Выбор границы для определения аномальных значений стоимостей заказов"
   ]
  },
  {
   "cell_type": "markdown",
   "metadata": {},
   "source": [
    "Определим выборочные перцентили стоимости заказов. Определим 90, 95 и 99 перцентили."
   ]
  },
  {
   "cell_type": "code",
   "execution_count": 33,
   "metadata": {},
   "outputs": [
    {
     "name": "stdout",
     "output_type": "stream",
     "text": [
      "[17990. 26785. 53904.]\n"
     ]
    }
   ],
   "source": [
    "print(np.percentile(orders['revenue'], [90, 95, 99])) "
   ]
  },
  {
   "cell_type": "markdown",
   "metadata": {},
   "source": [
    "#### Вывод по границам аномальных значений стоимостей заказов"
   ]
  },
  {
   "cell_type": "markdown",
   "metadata": {},
   "source": [
    "По данным расчетов 90, 95 и 99 перцентилей можно сделать вывод о том, что менее 5% заказов имеют стоимость более 26 785, менее 1% заказов имеют стоимость более 53 904. Определим верхнюю границу стоимости заказа 26 785, т.е. \"очищенными\" от выбросов будут считаться заказы со стоимостью 26 785 и менее, заказы со стоимостью более 26 785 будут считаться аномальными."
   ]
  },
  {
   "cell_type": "markdown",
   "metadata": {},
   "source": [
    "### Расчет статистической значимости различий в среднем количестве заказов между группами по \"сырым\" данным"
   ]
  },
  {
   "cell_type": "markdown",
   "metadata": {},
   "source": [
    "Определим количество заказов в каждой группе для каждого уникального покупателя. Создадим таблицу, где для каждого уникального пользователя найдем количество заказов за все время проведения А/В-теста по \"сырым\" данным."
   ]
  },
  {
   "cell_type": "code",
   "execution_count": 34,
   "metadata": {},
   "outputs": [],
   "source": [
    "countA = order_count[order_count['group']=='A']\n",
    "countB = order_count[order_count['group']=='B']\n",
    "sampleA = pd.concat([countA['visitor_id'],pd.Series(0, index=np.arange(visitors[visitors['group']=='A']['visitors'].sum() - len(countA['visitor_id'])), name='orders')],axis=0)\n",
    "sampleB = pd.concat([countB['visitor_id'],pd.Series(0, index=np.arange(visitors[visitors['group']=='B']['visitors'].sum() - len(countB['visitor_id'])), name='orders')],axis=0)"
   ]
  },
  {
   "cell_type": "markdown",
   "metadata": {},
   "source": [
    "Посчитаем статистическую значимость различий в среднем количестве заказов. Определим нулевую гипотезу - различий в среднем количестве заказов между группами нет. Альтернативная гипотеза - различия в среднем количестве заказов между группами есть. Критический уровень статистической значимости примем равным 0,05. Также определим относительное различие среднего количества заказов группы В к группе А."
   ]
  },
  {
   "cell_type": "code",
   "execution_count": 35,
   "metadata": {},
   "outputs": [
    {
     "name": "stdout",
     "output_type": "stream",
     "text": [
      "p-значение:  0.011161739074157016\n",
      "Отвергаем нулевую гипотезу: разница статистически значима\n",
      "Относительное различие среднего количества заказов:0.157\n"
     ]
    }
   ],
   "source": [
    "results = stats.mannwhitneyu(sampleA, sampleB)[1]\n",
    "print('p-значение: ', results)\n",
    "alpha = 0.05\n",
    "if results < alpha:\n",
    "    print('Отвергаем нулевую гипотезу: разница статистически значима')\n",
    "else:\n",
    "    print(\n",
    "        'Не получилось отвергнуть нулевую гипотезу'\n",
    "    ) \n",
    "print('Относительное различие среднего количества заказов:' \"{0:.3f}\".format(sampleB.mean() / sampleA.mean() - 1))"
   ]
  },
  {
   "cell_type": "markdown",
   "metadata": {},
   "source": [
    "#### Вывод по результатам расчета статистической значимости различий количества заказов по \"сырым\" данным"
   ]
  },
  {
   "cell_type": "markdown",
   "metadata": {},
   "source": [
    "По результатам теста определено наличие различий в количестве заказов между группами А и В, относительное различие среднего кличества заказов в группе В превышает тот же параметр для группы А на 15,7%."
   ]
  },
  {
   "cell_type": "markdown",
   "metadata": {},
   "source": [
    "### Расчет статистической значимости различий в среднем чеке заказов между группами по \"сырым\" данным"
   ]
  },
  {
   "cell_type": "markdown",
   "metadata": {},
   "source": [
    "Посчитаем статистическую значимость различий в среднем чеке заказов. Определим нулевую гипотезу - различий в среднем чеке между группами нет. Альтернативная гипотеза - различия в среднем чеке между группами есть. Критический уровень статистической значимости примем равным 0,05. Также определим относительное различие чека группы В к чеку группы А."
   ]
  },
  {
   "cell_type": "code",
   "execution_count": 36,
   "metadata": {},
   "outputs": [
    {
     "name": "stdout",
     "output_type": "stream",
     "text": [
      "p-значение:  0.8294908998149533\n",
      "Не получилось отвергнуть нулевую гипотезу\n",
      "Относительное различие среднего чека: 0.287\n"
     ]
    }
   ],
   "source": [
    "results = stats.mannwhitneyu(orders[orders['group']=='A']['revenue'], orders[orders['group']=='B']['revenue'])[1]\n",
    "print('p-значение: ', results)\n",
    "alpha = 0.05\n",
    "if results < alpha:\n",
    "    print('Отвергаем нулевую гипотезу: разница статистически значима')\n",
    "else:\n",
    "    print(\n",
    "        'Не получилось отвергнуть нулевую гипотезу'\n",
    "    ) \n",
    "print('Относительное различие среднего чека:', '{0:.3f}'.format(orders[orders['group']=='B']['revenue'].mean()/orders[orders['group']=='A']['revenue'].mean()-1))"
   ]
  },
  {
   "cell_type": "markdown",
   "metadata": {},
   "source": [
    "#### Вывод по результатам расчета статистической значимости различий средних чеков по \"сырым\" данным"
   ]
  },
  {
   "cell_type": "markdown",
   "metadata": {},
   "source": [
    "По результатам теста определено, что различий в среднем чеке между группами нет, относительное различие среднего чека в группе В превышает тоже значение для группы А на 28%."
   ]
  },
  {
   "cell_type": "markdown",
   "metadata": {},
   "source": [
    "### Расчет статистической значимости различий в среднем количестве заказов между группами по \"очищенным\" данным"
   ]
  },
  {
   "cell_type": "markdown",
   "metadata": {},
   "source": [
    "Подготовим данные для расчета статистической значимости различий в среднем количестве заказов между группами. Создадим таблицы countA_cl и countB_cl где будут представлены идентификаторы пользователей и количество их заказов за все время проведения А/В-теста в группах А и В соответственно. В таблицы попадут только пользователи, которые оформили максимум 1 заказ."
   ]
  },
  {
   "cell_type": "code",
   "execution_count": 37,
   "metadata": {},
   "outputs": [],
   "source": [
    "countA_cl = countA[countA['transaction_id']<2]\n",
    "countB_cl = countB[countB['transaction_id']<2]\n",
    "sampleA_cl = pd.concat([countA_cl['visitor_id'],pd.Series(0, index=np.arange(visitors[visitors['group']=='A']['visitors'].sum() - len(countA_cl['visitor_id'])), name='orders')],axis=0)\n",
    "sampleB_cl = pd.concat([countB_cl['visitor_id'],pd.Series(0, index=np.arange(visitors[visitors['group']=='B']['visitors'].sum() - len(countB_cl['visitor_id'])), name='orders')],axis=0)"
   ]
  },
  {
   "cell_type": "markdown",
   "metadata": {},
   "source": [
    "Посчитаем статистическую значимость различий в среднем количестве заказов по \"очищенным\" данным. Определим нулевую гипотезу - различий в среднем количестве заказов между группами нет. Альтернативная гипотеза - различия в среднем количестве заказов между группами есть. Критический уровень статистической значимости примем равным 0,05. Также определим относительное различие среднего количества заказов группы В к группе А."
   ]
  },
  {
   "cell_type": "code",
   "execution_count": 38,
   "metadata": {},
   "outputs": [
    {
     "name": "stdout",
     "output_type": "stream",
     "text": [
      "p-значение:  0.009584215683864472\n",
      "Отвергаем нулевую гипотезу: разница статистически значима\n",
      "Относительное различие среднего количества заказов:0.163\n"
     ]
    }
   ],
   "source": [
    "results = stats.mannwhitneyu(sampleA_cl, sampleB_cl)[1]\n",
    "print('p-значение: ', results)\n",
    "alpha = 0.05\n",
    "if results < alpha:\n",
    "    print('Отвергаем нулевую гипотезу: разница статистически значима')\n",
    "else:\n",
    "    print(\n",
    "        'Не получилось отвергнуть нулевую гипотезу'\n",
    "    ) \n",
    "print('Относительное различие среднего количества заказов:' \"{0:.3f}\".format(sampleB_cl.mean() / sampleA_cl.mean() - 1))"
   ]
  },
  {
   "cell_type": "markdown",
   "metadata": {},
   "source": [
    "#### Вывод по результатам расчета статистической значимости различий количества заказов по \"очищенным\" данным"
   ]
  },
  {
   "cell_type": "markdown",
   "metadata": {},
   "source": [
    "По результатам теста определено наличие различий в количестве заказов между группами А и В по \"очищенным\" от аномалий данным, относительное различие среднего кличества заказов в группе В превышает тот же параметр для группы А на 16,3%."
   ]
  },
  {
   "cell_type": "markdown",
   "metadata": {},
   "source": [
    "### Расчет статистической значимости различий в среднем чеке заказов между группами по \"очищенным\" данным"
   ]
  },
  {
   "cell_type": "markdown",
   "metadata": {},
   "source": [
    "Подготовим данные для расчета статистической значимости различий в среднем чеке между группами. Создадим таблицы revA_cl и revB_cl где будут представлены стоимости заказов за все время проведения А/В-теста в группах А и В соответственно по \"очищенным\" от аномалий данным. В таблицы попадут только те заказы, стоимость которых не превышает 26 785."
   ]
  },
  {
   "cell_type": "code",
   "execution_count": 39,
   "metadata": {},
   "outputs": [
    {
     "name": "stdout",
     "output_type": "stream",
     "text": [
      "    transaction_id  visitor_id       date  revenue group\n",
      "7       2626614568    78758296 2019-08-15     1044     A\n",
      "8       1576988021   295230930 2019-08-15    13710     A\n",
      "10      3649131742   879864040 2019-08-15     4008     A\n",
      "12      2809384911  3213223594 2019-08-15     7370     A\n",
      "14      3859315276  1565034404 2019-08-15    10980     A\n",
      "   transaction_id  visitor_id       date  revenue group\n",
      "0      3667963787  3312258926 2019-08-15     1650     B\n",
      "1      2804400009  3642806036 2019-08-15      730     B\n",
      "3      3797467345  1196621759 2019-08-15     9759     B\n",
      "4      2282983706  2322279887 2019-08-15     2308     B\n",
      "5       182168103   935554773 2019-08-15     2210     B\n"
     ]
    }
   ],
   "source": [
    "max_revenue =  int(np.percentile(orders['revenue'], [95]))\n",
    "revA_cl = orders[(orders['revenue']<=max_revenue) & (orders['group']=='A')]\n",
    "revB_cl = orders[(orders['revenue']<=max_revenue) & (orders['group']=='B')]\n",
    "print(revA_cl.head())\n",
    "print(revB_cl.head())"
   ]
  },
  {
   "cell_type": "markdown",
   "metadata": {},
   "source": [
    "Посчитаем статистическую значимость различий в среднем чеке по \"очищенным\" данным. Определим нулевую гипотезу - различий в среднем чеке между группами нет. Альтернативная гипотеза - различия в среднем чеке между группами есть. Критический уровень статистической значимости примем равным 0,05. Также определим относительное различие среднего чека группы В к группе А."
   ]
  },
  {
   "cell_type": "code",
   "execution_count": 40,
   "metadata": {},
   "outputs": [
    {
     "name": "stdout",
     "output_type": "stream",
     "text": [
      "p-значение:  0.6986767755765741\n",
      "Не получилось отвергнуть нулевую гипотезу\n",
      "Относительное различие среднего чека: -0.059\n"
     ]
    }
   ],
   "source": [
    "results = stats.mannwhitneyu(revA_cl['revenue'], revB_cl['revenue'])[1]\n",
    "print('p-значение: ', results)\n",
    "alpha = 0.05\n",
    "if results < alpha:\n",
    "    print('Отвергаем нулевую гипотезу: разница статистически значима')\n",
    "else:\n",
    "    print(\n",
    "        'Не получилось отвергнуть нулевую гипотезу'\n",
    "    ) \n",
    "print('Относительное различие среднего чека:', '{0:.3f}'.format(revB_cl['revenue'].mean()/revA_cl['revenue'].mean()-1))"
   ]
  },
  {
   "cell_type": "markdown",
   "metadata": {},
   "source": [
    "#### Вывод по результатам расчета статистической значимости различий стоимости заказов по \"очищенным\" данным"
   ]
  },
  {
   "cell_type": "markdown",
   "metadata": {},
   "source": [
    "По результатам теста определено, что различий в среднем чеке по \"очищенным\" от аномалий данным между группами нет, относительное различие среднего чека, рассчитанное по \"очищенным\" от аномалий данным, в группе А превышает тоже значение для группы В на 5.9%."
   ]
  },
  {
   "cell_type": "markdown",
   "metadata": {},
   "source": [
    "### Вывод по результатам А/В-теста"
   ]
  },
  {
   "cell_type": "markdown",
   "metadata": {},
   "source": [
    "Результаты А/В-теста:\n",
    "- существует статистически значимое различие по среднему количеству заказов между группами А и В как по \"сырым\", так и по \"очищенным\" данным;\n",
    "- статистически значимого различия по среднему чеку между группами А и В ни по \"сырым\", ни по \"очищенным\" данным нет;\n",
    "- относительное изменение количества заказов между группами отличается после удаления аномалий - после \"очистки\" данных относительное изменение количества заказов группы В к группе А  составило 16,3%;\n",
    "- относительное изменение среднего чека между группами отличается полсе удаления аномалий - после \"очистки\" данных относительное изменение среднего чека группы А к группе В составило 5,9%."
   ]
  },
  {
   "cell_type": "markdown",
   "metadata": {},
   "source": [
    "По результатам А/В-тестирования можно сделать вывод, что существует статистически значимое различие по среднму количеству заказов между группами А и В по \"очищенным\" от аномальных значений данным, относительное изменение среднего количества заказов группы В над группой А больше на 16,3%. Статистически значимых различий между средними чеками групп А и В нет, отноительное изменние среднего чека группы А над группой Б больше на 5,9%. Также с учетом того, что графики кумулятивной конверсии в конце проведения теста устойчивы, а преобладание кумулятивных параметров в группе В над параметрами группы А вероятнее всего происходит по причине аномальных значений стоимости заказа и количества заказов (оценка проводилась по \"сырым\" данным), то можно сделать вывод что А/В-тестирование можно остановить, группа В лидирует по среднему количеству заказов по результатам анализа \"очищенных\" данных."
   ]
  },
  {
   "cell_type": "markdown",
   "metadata": {},
   "source": [
    "## Общий вывод по проекту"
   ]
  },
  {
   "cell_type": "markdown",
   "metadata": {},
   "source": [
    "В ходе проекта проведена следующая работа:\n",
    "1. Проведена предобработка данных.\n",
    "2. Проведена приоритизация гипотез - наиболее приоритетной выбрана гипотеза под номером 7.\n",
    "3. Проведен анализ результатов А/В-тестирования, получены результаты как по \"сырым\" так и по \"очищенным\" от аномальных значений данным.\n",
    "4. По результатам А/В-тестирования сделан вывод о прекращении теста, лидирует группа В по преобладанию среднего количества заказов."
   ]
  }
 ],
 "metadata": {
  "ExecuteTimeLog": [
   {
    "duration": 759,
    "start_time": "2022-10-30T17:57:04.930Z"
   },
   {
    "duration": 398,
    "start_time": "2022-10-30T18:07:44.260Z"
   },
   {
    "duration": 73,
    "start_time": "2022-10-30T18:08:34.784Z"
   },
   {
    "duration": 170,
    "start_time": "2022-10-30T18:10:02.402Z"
   },
   {
    "duration": 14,
    "start_time": "2022-10-30T18:10:51.492Z"
   },
   {
    "duration": 13,
    "start_time": "2022-10-30T18:11:31.257Z"
   },
   {
    "duration": 11,
    "start_time": "2022-10-30T18:17:03.794Z"
   },
   {
    "duration": 379,
    "start_time": "2022-10-30T18:43:47.277Z"
   },
   {
    "duration": 3,
    "start_time": "2022-10-30T18:44:07.634Z"
   },
   {
    "duration": 3,
    "start_time": "2022-10-30T18:44:10.885Z"
   },
   {
    "duration": 3,
    "start_time": "2022-10-30T18:44:14.020Z"
   },
   {
    "duration": 12,
    "start_time": "2022-10-30T18:44:17.696Z"
   },
   {
    "duration": 20,
    "start_time": "2022-10-30T18:44:19.337Z"
   },
   {
    "duration": 307,
    "start_time": "2022-10-30T18:49:32.272Z"
   },
   {
    "duration": 996,
    "start_time": "2022-10-30T18:49:53.353Z"
   },
   {
    "duration": 77,
    "start_time": "2022-10-30T18:49:54.350Z"
   },
   {
    "duration": 16,
    "start_time": "2022-10-30T18:49:54.429Z"
   },
   {
    "duration": 19,
    "start_time": "2022-10-30T18:49:54.447Z"
   },
   {
    "duration": 26,
    "start_time": "2022-10-30T18:49:54.468Z"
   },
   {
    "duration": 78,
    "start_time": "2022-10-30T18:52:31.932Z"
   },
   {
    "duration": 11,
    "start_time": "2022-10-30T18:52:54.958Z"
   },
   {
    "duration": 10,
    "start_time": "2022-10-30T18:53:34.420Z"
   },
   {
    "duration": 14,
    "start_time": "2022-10-30T18:53:47.358Z"
   },
   {
    "duration": 1269,
    "start_time": "2022-11-30T06:50:58.455Z"
   },
   {
    "duration": 232,
    "start_time": "2022-11-30T06:50:59.727Z"
   },
   {
    "duration": 17,
    "start_time": "2022-11-30T06:50:59.960Z"
   },
   {
    "duration": 13,
    "start_time": "2022-11-30T06:50:59.979Z"
   },
   {
    "duration": 32,
    "start_time": "2022-11-30T06:50:59.994Z"
   },
   {
    "duration": 19,
    "start_time": "2022-11-30T06:51:00.027Z"
   },
   {
    "duration": 36,
    "start_time": "2022-11-30T06:51:00.048Z"
   },
   {
    "duration": 1276,
    "start_time": "2022-11-30T06:52:38.182Z"
   },
   {
    "duration": 11,
    "start_time": "2022-11-30T06:53:19.227Z"
   },
   {
    "duration": 16,
    "start_time": "2022-11-30T07:06:19.146Z"
   },
   {
    "duration": 7,
    "start_time": "2022-11-30T07:07:12.551Z"
   },
   {
    "duration": 9,
    "start_time": "2022-11-30T07:08:04.487Z"
   },
   {
    "duration": 8,
    "start_time": "2022-11-30T07:08:09.458Z"
   },
   {
    "duration": 6,
    "start_time": "2022-11-30T07:08:29.962Z"
   },
   {
    "duration": 8,
    "start_time": "2022-11-30T07:08:59.239Z"
   },
   {
    "duration": 5,
    "start_time": "2022-11-30T07:09:03.638Z"
   },
   {
    "duration": 6,
    "start_time": "2022-11-30T07:25:36.986Z"
   },
   {
    "duration": 6,
    "start_time": "2022-11-30T07:25:40.600Z"
   },
   {
    "duration": 7,
    "start_time": "2022-11-30T07:28:24.102Z"
   },
   {
    "duration": 5,
    "start_time": "2022-11-30T07:28:28.731Z"
   },
   {
    "duration": 6,
    "start_time": "2022-11-30T07:28:35.161Z"
   },
   {
    "duration": 5,
    "start_time": "2022-11-30T07:28:45.612Z"
   },
   {
    "duration": 15,
    "start_time": "2022-11-30T07:29:05.683Z"
   },
   {
    "duration": 3,
    "start_time": "2022-11-30T07:33:16.234Z"
   },
   {
    "duration": 1031,
    "start_time": "2022-11-30T07:33:46.130Z"
   },
   {
    "duration": 81,
    "start_time": "2022-11-30T07:33:47.163Z"
   },
   {
    "duration": 16,
    "start_time": "2022-11-30T07:33:47.246Z"
   },
   {
    "duration": 16,
    "start_time": "2022-11-30T07:33:47.264Z"
   },
   {
    "duration": 34,
    "start_time": "2022-11-30T07:33:47.282Z"
   },
   {
    "duration": 11,
    "start_time": "2022-11-30T07:33:47.318Z"
   },
   {
    "duration": 16,
    "start_time": "2022-11-30T07:33:47.330Z"
   },
   {
    "duration": 9,
    "start_time": "2022-11-30T07:33:47.347Z"
   },
   {
    "duration": 26,
    "start_time": "2022-11-30T07:33:47.358Z"
   },
   {
    "duration": 92,
    "start_time": "2022-11-30T07:38:48.360Z"
   },
   {
    "duration": 9,
    "start_time": "2022-11-30T07:38:52.642Z"
   },
   {
    "duration": 7,
    "start_time": "2022-11-30T07:39:09.696Z"
   },
   {
    "duration": 7,
    "start_time": "2022-11-30T07:39:19.696Z"
   },
   {
    "duration": 8,
    "start_time": "2022-11-30T07:40:06.803Z"
   },
   {
    "duration": 4,
    "start_time": "2022-11-30T07:55:35.847Z"
   },
   {
    "duration": 44,
    "start_time": "2022-11-30T13:09:56.038Z"
   },
   {
    "duration": 1250,
    "start_time": "2022-11-30T13:10:00.908Z"
   },
   {
    "duration": 232,
    "start_time": "2022-11-30T13:10:02.160Z"
   },
   {
    "duration": 14,
    "start_time": "2022-11-30T13:10:02.394Z"
   },
   {
    "duration": 39,
    "start_time": "2022-11-30T13:10:02.410Z"
   },
   {
    "duration": 25,
    "start_time": "2022-11-30T13:10:02.451Z"
   },
   {
    "duration": 21,
    "start_time": "2022-11-30T13:10:02.478Z"
   },
   {
    "duration": 23,
    "start_time": "2022-11-30T13:10:02.500Z"
   },
   {
    "duration": 16,
    "start_time": "2022-11-30T13:10:02.524Z"
   },
   {
    "duration": 15,
    "start_time": "2022-11-30T13:10:02.541Z"
   },
   {
    "duration": 14,
    "start_time": "2022-11-30T13:10:02.558Z"
   },
   {
    "duration": 12,
    "start_time": "2022-11-30T13:10:02.573Z"
   },
   {
    "duration": 7,
    "start_time": "2022-11-30T13:10:19.403Z"
   },
   {
    "duration": 7,
    "start_time": "2022-11-30T13:14:07.095Z"
   },
   {
    "duration": 10,
    "start_time": "2022-11-30T14:32:44.076Z"
   },
   {
    "duration": 13,
    "start_time": "2022-11-30T14:33:55.362Z"
   },
   {
    "duration": 15,
    "start_time": "2022-11-30T15:31:41.280Z"
   },
   {
    "duration": 1052,
    "start_time": "2022-11-30T15:31:51.367Z"
   },
   {
    "duration": 76,
    "start_time": "2022-11-30T15:31:52.420Z"
   },
   {
    "duration": 15,
    "start_time": "2022-11-30T15:31:52.498Z"
   },
   {
    "duration": 11,
    "start_time": "2022-11-30T15:31:52.515Z"
   },
   {
    "duration": 23,
    "start_time": "2022-11-30T15:31:52.528Z"
   },
   {
    "duration": 13,
    "start_time": "2022-11-30T15:31:52.553Z"
   },
   {
    "duration": 39,
    "start_time": "2022-11-30T15:31:52.568Z"
   },
   {
    "duration": 10,
    "start_time": "2022-11-30T15:31:52.609Z"
   },
   {
    "duration": 8,
    "start_time": "2022-11-30T15:31:52.620Z"
   },
   {
    "duration": 10,
    "start_time": "2022-11-30T15:31:52.630Z"
   },
   {
    "duration": 13,
    "start_time": "2022-11-30T15:31:52.641Z"
   },
   {
    "duration": 44,
    "start_time": "2022-11-30T15:31:52.655Z"
   },
   {
    "duration": 14,
    "start_time": "2022-11-30T15:44:13.870Z"
   },
   {
    "duration": 15,
    "start_time": "2022-11-30T15:44:16.810Z"
   },
   {
    "duration": 15,
    "start_time": "2022-11-30T15:46:13.738Z"
   },
   {
    "duration": 18,
    "start_time": "2022-11-30T15:46:14.678Z"
   },
   {
    "duration": 16,
    "start_time": "2022-11-30T15:46:15.030Z"
   },
   {
    "duration": 15,
    "start_time": "2022-11-30T15:46:15.190Z"
   },
   {
    "duration": 15,
    "start_time": "2022-11-30T15:46:15.387Z"
   },
   {
    "duration": 15,
    "start_time": "2022-11-30T15:46:53.849Z"
   },
   {
    "duration": 21,
    "start_time": "2022-11-30T15:46:54.751Z"
   },
   {
    "duration": 15,
    "start_time": "2022-11-30T15:46:54.910Z"
   },
   {
    "duration": 16,
    "start_time": "2022-11-30T15:46:55.088Z"
   },
   {
    "duration": 15,
    "start_time": "2022-11-30T15:47:44.554Z"
   },
   {
    "duration": 1070,
    "start_time": "2022-11-30T15:47:50.576Z"
   },
   {
    "duration": 72,
    "start_time": "2022-11-30T15:47:51.648Z"
   },
   {
    "duration": 15,
    "start_time": "2022-11-30T15:47:51.721Z"
   },
   {
    "duration": 11,
    "start_time": "2022-11-30T15:47:51.738Z"
   },
   {
    "duration": 21,
    "start_time": "2022-11-30T15:47:51.751Z"
   },
   {
    "duration": 11,
    "start_time": "2022-11-30T15:47:51.773Z"
   },
   {
    "duration": 17,
    "start_time": "2022-11-30T15:47:51.785Z"
   },
   {
    "duration": 7,
    "start_time": "2022-11-30T15:47:51.803Z"
   },
   {
    "duration": 6,
    "start_time": "2022-11-30T15:47:51.812Z"
   },
   {
    "duration": 8,
    "start_time": "2022-11-30T15:47:51.820Z"
   },
   {
    "duration": 9,
    "start_time": "2022-11-30T15:47:51.830Z"
   },
   {
    "duration": 13,
    "start_time": "2022-11-30T15:47:51.841Z"
   },
   {
    "duration": 107,
    "start_time": "2022-11-30T15:48:20.222Z"
   },
   {
    "duration": 19,
    "start_time": "2022-11-30T15:48:26.612Z"
   },
   {
    "duration": 20,
    "start_time": "2022-11-30T15:48:29.749Z"
   },
   {
    "duration": 20,
    "start_time": "2022-11-30T15:48:35.628Z"
   },
   {
    "duration": 19,
    "start_time": "2022-11-30T16:08:23.991Z"
   },
   {
    "duration": 16,
    "start_time": "2022-11-30T16:10:40.061Z"
   },
   {
    "duration": 17,
    "start_time": "2022-11-30T16:10:56.517Z"
   },
   {
    "duration": 16,
    "start_time": "2022-11-30T16:11:22.295Z"
   },
   {
    "duration": 15,
    "start_time": "2022-11-30T16:11:23.588Z"
   },
   {
    "duration": 14,
    "start_time": "2022-11-30T16:11:32.714Z"
   },
   {
    "duration": 13,
    "start_time": "2022-11-30T16:12:56.846Z"
   },
   {
    "duration": 12,
    "start_time": "2022-11-30T16:13:04.385Z"
   },
   {
    "duration": 8,
    "start_time": "2022-11-30T16:13:41.297Z"
   },
   {
    "duration": 8,
    "start_time": "2022-11-30T16:13:49.810Z"
   },
   {
    "duration": 50,
    "start_time": "2022-11-30T16:13:59.801Z"
   },
   {
    "duration": 4,
    "start_time": "2022-11-30T16:14:02.739Z"
   },
   {
    "duration": 4,
    "start_time": "2022-11-30T16:14:13.170Z"
   },
   {
    "duration": 10,
    "start_time": "2022-11-30T16:14:30.963Z"
   },
   {
    "duration": 14,
    "start_time": "2022-11-30T16:14:46.183Z"
   },
   {
    "duration": 14,
    "start_time": "2022-11-30T16:14:48.826Z"
   },
   {
    "duration": 18,
    "start_time": "2022-11-30T16:15:04.270Z"
   },
   {
    "duration": 21,
    "start_time": "2022-11-30T16:15:52.931Z"
   },
   {
    "duration": 15,
    "start_time": "2022-11-30T16:16:01.595Z"
   },
   {
    "duration": 14,
    "start_time": "2022-11-30T16:21:20.178Z"
   },
   {
    "duration": 15,
    "start_time": "2022-11-30T16:23:05.313Z"
   },
   {
    "duration": 15,
    "start_time": "2022-11-30T16:23:12.658Z"
   },
   {
    "duration": 22,
    "start_time": "2022-11-30T16:25:12.595Z"
   },
   {
    "duration": 992,
    "start_time": "2022-11-30T16:25:16.742Z"
   },
   {
    "duration": 74,
    "start_time": "2022-11-30T16:25:17.736Z"
   },
   {
    "duration": 14,
    "start_time": "2022-11-30T16:25:17.811Z"
   },
   {
    "duration": 13,
    "start_time": "2022-11-30T16:25:17.827Z"
   },
   {
    "duration": 20,
    "start_time": "2022-11-30T16:25:17.842Z"
   },
   {
    "duration": 17,
    "start_time": "2022-11-30T16:25:17.864Z"
   },
   {
    "duration": 19,
    "start_time": "2022-11-30T16:25:17.882Z"
   },
   {
    "duration": 8,
    "start_time": "2022-11-30T16:25:17.902Z"
   },
   {
    "duration": 8,
    "start_time": "2022-11-30T16:25:17.912Z"
   },
   {
    "duration": 8,
    "start_time": "2022-11-30T16:25:17.922Z"
   },
   {
    "duration": 15,
    "start_time": "2022-11-30T16:25:17.931Z"
   },
   {
    "duration": 134,
    "start_time": "2022-11-30T16:25:17.948Z"
   },
   {
    "duration": 16,
    "start_time": "2022-11-30T16:25:28.936Z"
   },
   {
    "duration": 1134,
    "start_time": "2022-11-30T16:27:54.631Z"
   },
   {
    "duration": 82,
    "start_time": "2022-11-30T16:27:55.767Z"
   },
   {
    "duration": 18,
    "start_time": "2022-11-30T16:27:55.850Z"
   },
   {
    "duration": 18,
    "start_time": "2022-11-30T16:27:55.870Z"
   },
   {
    "duration": 33,
    "start_time": "2022-11-30T16:27:55.889Z"
   },
   {
    "duration": 12,
    "start_time": "2022-11-30T16:27:55.924Z"
   },
   {
    "duration": 24,
    "start_time": "2022-11-30T16:27:55.937Z"
   },
   {
    "duration": 16,
    "start_time": "2022-11-30T16:27:55.963Z"
   },
   {
    "duration": 20,
    "start_time": "2022-11-30T16:27:55.981Z"
   },
   {
    "duration": 13,
    "start_time": "2022-11-30T16:27:56.007Z"
   },
   {
    "duration": 12,
    "start_time": "2022-11-30T16:27:56.022Z"
   },
   {
    "duration": 134,
    "start_time": "2022-11-30T16:27:56.036Z"
   },
   {
    "duration": 18,
    "start_time": "2022-11-30T16:28:08.693Z"
   },
   {
    "duration": 19,
    "start_time": "2022-11-30T16:28:50.983Z"
   },
   {
    "duration": 20,
    "start_time": "2022-11-30T16:29:08.735Z"
   },
   {
    "duration": 18,
    "start_time": "2022-11-30T16:29:25.097Z"
   },
   {
    "duration": 17,
    "start_time": "2022-11-30T16:29:33.218Z"
   },
   {
    "duration": 1131,
    "start_time": "2022-11-30T16:30:40.021Z"
   },
   {
    "duration": 75,
    "start_time": "2022-11-30T16:30:41.153Z"
   },
   {
    "duration": 18,
    "start_time": "2022-11-30T16:30:41.229Z"
   },
   {
    "duration": 18,
    "start_time": "2022-11-30T16:30:41.249Z"
   },
   {
    "duration": 24,
    "start_time": "2022-11-30T16:30:41.269Z"
   },
   {
    "duration": 14,
    "start_time": "2022-11-30T16:30:41.295Z"
   },
   {
    "duration": 13,
    "start_time": "2022-11-30T16:30:41.310Z"
   },
   {
    "duration": 14,
    "start_time": "2022-11-30T16:30:41.325Z"
   },
   {
    "duration": 8,
    "start_time": "2022-11-30T16:30:41.341Z"
   },
   {
    "duration": 17,
    "start_time": "2022-11-30T16:30:41.352Z"
   },
   {
    "duration": 32,
    "start_time": "2022-11-30T16:30:41.371Z"
   },
   {
    "duration": 21,
    "start_time": "2022-11-30T16:30:41.405Z"
   },
   {
    "duration": 135,
    "start_time": "2022-11-30T16:34:00.262Z"
   },
   {
    "duration": 22,
    "start_time": "2022-11-30T16:34:08.494Z"
   },
   {
    "duration": 20,
    "start_time": "2022-11-30T16:34:23.931Z"
   },
   {
    "duration": 23,
    "start_time": "2022-11-30T16:34:32.187Z"
   },
   {
    "duration": 17,
    "start_time": "2022-11-30T16:34:52.916Z"
   },
   {
    "duration": 23,
    "start_time": "2022-11-30T16:38:48.193Z"
   },
   {
    "duration": 35,
    "start_time": "2022-11-30T16:39:12.023Z"
   },
   {
    "duration": 15,
    "start_time": "2022-11-30T16:39:17.278Z"
   },
   {
    "duration": 17,
    "start_time": "2022-11-30T16:39:47.727Z"
   },
   {
    "duration": 1064,
    "start_time": "2022-11-30T16:40:26.673Z"
   },
   {
    "duration": 73,
    "start_time": "2022-11-30T16:40:27.739Z"
   },
   {
    "duration": 18,
    "start_time": "2022-11-30T16:40:27.814Z"
   },
   {
    "duration": 14,
    "start_time": "2022-11-30T16:40:27.835Z"
   },
   {
    "duration": 21,
    "start_time": "2022-11-30T16:40:27.850Z"
   },
   {
    "duration": 10,
    "start_time": "2022-11-30T16:40:27.872Z"
   },
   {
    "duration": 14,
    "start_time": "2022-11-30T16:40:27.897Z"
   },
   {
    "duration": 11,
    "start_time": "2022-11-30T16:40:27.913Z"
   },
   {
    "duration": 9,
    "start_time": "2022-11-30T16:40:27.926Z"
   },
   {
    "duration": 29,
    "start_time": "2022-11-30T16:40:27.938Z"
   },
   {
    "duration": 34,
    "start_time": "2022-11-30T16:40:27.968Z"
   },
   {
    "duration": 17,
    "start_time": "2022-11-30T16:41:02.893Z"
   },
   {
    "duration": 18,
    "start_time": "2022-11-30T16:41:33.178Z"
   },
   {
    "duration": 851,
    "start_time": "2022-11-30T16:44:05.785Z"
   },
   {
    "duration": 16,
    "start_time": "2022-11-30T16:44:23.089Z"
   },
   {
    "duration": 228,
    "start_time": "2022-11-30T16:44:26.382Z"
   },
   {
    "duration": 147,
    "start_time": "2022-11-30T16:44:35.756Z"
   },
   {
    "duration": 151,
    "start_time": "2022-11-30T16:45:40.399Z"
   },
   {
    "duration": 138,
    "start_time": "2022-11-30T16:45:47.325Z"
   },
   {
    "duration": 152,
    "start_time": "2022-11-30T16:49:53.747Z"
   },
   {
    "duration": 160,
    "start_time": "2022-11-30T16:50:22.486Z"
   },
   {
    "duration": 184,
    "start_time": "2022-11-30T16:51:14.863Z"
   },
   {
    "duration": 165,
    "start_time": "2022-11-30T16:58:17.223Z"
   },
   {
    "duration": 194,
    "start_time": "2022-11-30T16:58:29.137Z"
   },
   {
    "duration": 243,
    "start_time": "2022-11-30T16:59:20.146Z"
   },
   {
    "duration": 159,
    "start_time": "2022-11-30T16:59:26.433Z"
   },
   {
    "duration": 176,
    "start_time": "2022-11-30T16:59:32.352Z"
   },
   {
    "duration": 151,
    "start_time": "2022-11-30T16:59:36.023Z"
   },
   {
    "duration": 168,
    "start_time": "2022-11-30T16:59:50.370Z"
   },
   {
    "duration": 159,
    "start_time": "2022-11-30T17:49:03.672Z"
   },
   {
    "duration": 160,
    "start_time": "2022-11-30T17:49:38.314Z"
   },
   {
    "duration": 160,
    "start_time": "2022-11-30T17:49:51.097Z"
   },
   {
    "duration": 171,
    "start_time": "2022-11-30T17:50:11.993Z"
   },
   {
    "duration": 11,
    "start_time": "2022-11-30T18:02:19.256Z"
   },
   {
    "duration": 18,
    "start_time": "2022-11-30T18:05:39.553Z"
   },
   {
    "duration": 21,
    "start_time": "2022-11-30T18:06:00.556Z"
   },
   {
    "duration": 941,
    "start_time": "2022-11-30T18:06:04.164Z"
   },
   {
    "duration": 22,
    "start_time": "2022-11-30T18:06:34.586Z"
   },
   {
    "duration": 162,
    "start_time": "2022-11-30T18:06:37.490Z"
   },
   {
    "duration": 15,
    "start_time": "2022-11-30T18:09:13.128Z"
   },
   {
    "duration": 15,
    "start_time": "2022-11-30T18:09:25.862Z"
   },
   {
    "duration": 22,
    "start_time": "2022-11-30T18:09:53.741Z"
   },
   {
    "duration": 18,
    "start_time": "2022-11-30T18:13:49.354Z"
   },
   {
    "duration": 17,
    "start_time": "2022-11-30T18:14:26.074Z"
   },
   {
    "duration": 817,
    "start_time": "2022-11-30T18:17:18.913Z"
   },
   {
    "duration": 680,
    "start_time": "2022-11-30T18:17:22.507Z"
   },
   {
    "duration": 18,
    "start_time": "2022-11-30T18:17:37.093Z"
   },
   {
    "duration": 22,
    "start_time": "2022-11-30T18:18:03.019Z"
   },
   {
    "duration": 22,
    "start_time": "2022-11-30T18:19:29.232Z"
   },
   {
    "duration": 22,
    "start_time": "2022-11-30T18:19:48.657Z"
   },
   {
    "duration": 164,
    "start_time": "2022-11-30T18:21:11.411Z"
   },
   {
    "duration": 1398,
    "start_time": "2022-12-01T08:12:35.537Z"
   },
   {
    "duration": 370,
    "start_time": "2022-12-01T08:12:36.938Z"
   },
   {
    "duration": 21,
    "start_time": "2022-12-01T08:12:37.310Z"
   },
   {
    "duration": 16,
    "start_time": "2022-12-01T08:12:37.333Z"
   },
   {
    "duration": 27,
    "start_time": "2022-12-01T08:12:37.350Z"
   },
   {
    "duration": 37,
    "start_time": "2022-12-01T08:12:37.379Z"
   },
   {
    "duration": 14,
    "start_time": "2022-12-01T08:12:37.418Z"
   },
   {
    "duration": 9,
    "start_time": "2022-12-01T08:12:37.434Z"
   },
   {
    "duration": 8,
    "start_time": "2022-12-01T08:12:37.445Z"
   },
   {
    "duration": 9,
    "start_time": "2022-12-01T08:12:37.455Z"
   },
   {
    "duration": 60,
    "start_time": "2022-12-01T08:12:37.466Z"
   },
   {
    "duration": 264,
    "start_time": "2022-12-01T08:12:37.528Z"
   },
   {
    "duration": 31,
    "start_time": "2022-12-01T08:12:37.794Z"
   },
   {
    "duration": 206,
    "start_time": "2022-12-01T08:12:37.827Z"
   },
   {
    "duration": 180,
    "start_time": "2022-12-01T08:14:09.267Z"
   },
   {
    "duration": 187,
    "start_time": "2022-12-01T08:14:13.481Z"
   },
   {
    "duration": 209,
    "start_time": "2022-12-01T08:14:28.964Z"
   },
   {
    "duration": 208,
    "start_time": "2022-12-01T08:14:32.927Z"
   },
   {
    "duration": 241,
    "start_time": "2022-12-01T08:16:43.292Z"
   },
   {
    "duration": 144,
    "start_time": "2022-12-01T08:16:49.460Z"
   },
   {
    "duration": 216,
    "start_time": "2022-12-01T08:17:00.165Z"
   },
   {
    "duration": 343,
    "start_time": "2022-12-01T08:18:52.357Z"
   },
   {
    "duration": 919,
    "start_time": "2022-12-01T08:19:01.570Z"
   },
   {
    "duration": 178,
    "start_time": "2022-12-01T08:19:11.130Z"
   },
   {
    "duration": 182,
    "start_time": "2022-12-01T08:19:19.612Z"
   },
   {
    "duration": 918,
    "start_time": "2022-12-01T08:19:26.779Z"
   },
   {
    "duration": 421,
    "start_time": "2022-12-01T08:19:41.630Z"
   },
   {
    "duration": 70,
    "start_time": "2022-12-01T08:22:17.968Z"
   },
   {
    "duration": 360,
    "start_time": "2022-12-01T08:22:22.347Z"
   },
   {
    "duration": 176,
    "start_time": "2022-12-01T08:22:32.701Z"
   },
   {
    "duration": 323,
    "start_time": "2022-12-01T08:24:30.118Z"
   },
   {
    "duration": 195,
    "start_time": "2022-12-01T08:24:42.965Z"
   },
   {
    "duration": 265,
    "start_time": "2022-12-01T08:24:45.987Z"
   },
   {
    "duration": 316,
    "start_time": "2022-12-01T08:24:51.011Z"
   },
   {
    "duration": 255,
    "start_time": "2022-12-01T08:25:22.812Z"
   },
   {
    "duration": 87,
    "start_time": "2022-12-01T08:26:33.511Z"
   },
   {
    "duration": 376,
    "start_time": "2022-12-01T08:26:37.980Z"
   },
   {
    "duration": 343,
    "start_time": "2022-12-01T08:27:15.608Z"
   },
   {
    "duration": 24,
    "start_time": "2022-12-01T08:37:08.736Z"
   },
   {
    "duration": 6,
    "start_time": "2022-12-01T08:42:21.432Z"
   },
   {
    "duration": 325,
    "start_time": "2022-12-01T08:43:56.497Z"
   },
   {
    "duration": 493,
    "start_time": "2022-12-01T08:44:44.831Z"
   },
   {
    "duration": 330,
    "start_time": "2022-12-01T09:18:05.765Z"
   },
   {
    "duration": 6,
    "start_time": "2022-12-01T09:29:47.340Z"
   },
   {
    "duration": 472,
    "start_time": "2022-12-01T09:31:04.729Z"
   },
   {
    "duration": 13,
    "start_time": "2022-12-01T09:45:50.564Z"
   },
   {
    "duration": 10,
    "start_time": "2022-12-01T09:47:04.166Z"
   },
   {
    "duration": 10,
    "start_time": "2022-12-01T09:47:12.808Z"
   },
   {
    "duration": 14,
    "start_time": "2022-12-01T09:47:28.696Z"
   },
   {
    "duration": 12,
    "start_time": "2022-12-01T09:47:37.226Z"
   },
   {
    "duration": 13,
    "start_time": "2022-12-01T09:47:43.533Z"
   },
   {
    "duration": 111,
    "start_time": "2022-12-01T09:49:32.308Z"
   },
   {
    "duration": 9,
    "start_time": "2022-12-01T09:49:48.002Z"
   },
   {
    "duration": 105,
    "start_time": "2022-12-01T09:49:51.765Z"
   },
   {
    "duration": 11,
    "start_time": "2022-12-01T09:50:42.744Z"
   },
   {
    "duration": 121,
    "start_time": "2022-12-01T09:50:44.549Z"
   },
   {
    "duration": 225,
    "start_time": "2022-12-01T09:51:04.613Z"
   },
   {
    "duration": 4,
    "start_time": "2022-12-01T09:59:17.576Z"
   },
   {
    "duration": 120,
    "start_time": "2022-12-01T10:17:13.637Z"
   },
   {
    "duration": 176,
    "start_time": "2022-12-01T10:17:44.707Z"
   },
   {
    "duration": 4,
    "start_time": "2022-12-01T10:22:01.695Z"
   },
   {
    "duration": 58,
    "start_time": "2022-12-01T18:11:54.089Z"
   },
   {
    "duration": 1418,
    "start_time": "2022-12-01T18:11:58.284Z"
   },
   {
    "duration": 255,
    "start_time": "2022-12-01T18:11:59.704Z"
   },
   {
    "duration": 18,
    "start_time": "2022-12-01T18:11:59.960Z"
   },
   {
    "duration": 14,
    "start_time": "2022-12-01T18:11:59.980Z"
   },
   {
    "duration": 49,
    "start_time": "2022-12-01T18:11:59.995Z"
   },
   {
    "duration": 16,
    "start_time": "2022-12-01T18:12:00.045Z"
   },
   {
    "duration": 30,
    "start_time": "2022-12-01T18:12:00.063Z"
   },
   {
    "duration": 28,
    "start_time": "2022-12-01T18:12:00.095Z"
   },
   {
    "duration": 18,
    "start_time": "2022-12-01T18:12:00.125Z"
   },
   {
    "duration": 47,
    "start_time": "2022-12-01T18:12:00.146Z"
   },
   {
    "duration": 35,
    "start_time": "2022-12-01T18:12:00.195Z"
   },
   {
    "duration": 458,
    "start_time": "2022-12-01T18:12:00.232Z"
   },
   {
    "duration": 44,
    "start_time": "2022-12-01T18:12:00.692Z"
   },
   {
    "duration": 388,
    "start_time": "2022-12-01T18:12:00.737Z"
   },
   {
    "duration": 7,
    "start_time": "2022-12-01T18:12:01.127Z"
   },
   {
    "duration": 567,
    "start_time": "2022-12-01T18:12:01.135Z"
   },
   {
    "duration": 21,
    "start_time": "2022-12-01T18:12:01.704Z"
   },
   {
    "duration": 360,
    "start_time": "2022-12-01T18:12:01.727Z"
   },
   {
    "duration": 15,
    "start_time": "2022-12-01T18:12:02.089Z"
   },
   {
    "duration": 469,
    "start_time": "2022-12-01T18:12:02.106Z"
   },
   {
    "duration": 13,
    "start_time": "2022-12-01T18:12:02.576Z"
   },
   {
    "duration": 130,
    "start_time": "2022-12-01T18:12:02.591Z"
   },
   {
    "duration": 4,
    "start_time": "2022-12-01T18:12:02.723Z"
   },
   {
    "duration": 213,
    "start_time": "2022-12-01T18:12:02.729Z"
   },
   {
    "duration": 5,
    "start_time": "2022-12-01T18:12:02.943Z"
   },
   {
    "duration": 6,
    "start_time": "2022-12-01T18:12:59.327Z"
   },
   {
    "duration": 1066,
    "start_time": "2022-12-01T18:13:04.325Z"
   },
   {
    "duration": 74,
    "start_time": "2022-12-01T18:13:05.393Z"
   },
   {
    "duration": 14,
    "start_time": "2022-12-01T18:13:05.469Z"
   },
   {
    "duration": 33,
    "start_time": "2022-12-01T18:13:05.485Z"
   },
   {
    "duration": 43,
    "start_time": "2022-12-01T18:13:05.520Z"
   },
   {
    "duration": 20,
    "start_time": "2022-12-01T18:13:05.566Z"
   },
   {
    "duration": 31,
    "start_time": "2022-12-01T18:13:05.588Z"
   },
   {
    "duration": 20,
    "start_time": "2022-12-01T18:13:05.621Z"
   },
   {
    "duration": 21,
    "start_time": "2022-12-01T18:13:05.642Z"
   },
   {
    "duration": 38,
    "start_time": "2022-12-01T18:13:05.667Z"
   },
   {
    "duration": 64,
    "start_time": "2022-12-01T18:13:05.707Z"
   },
   {
    "duration": 482,
    "start_time": "2022-12-01T18:13:05.774Z"
   },
   {
    "duration": 23,
    "start_time": "2022-12-01T18:13:06.257Z"
   },
   {
    "duration": 394,
    "start_time": "2022-12-01T18:13:06.281Z"
   },
   {
    "duration": 6,
    "start_time": "2022-12-01T18:13:06.676Z"
   },
   {
    "duration": 535,
    "start_time": "2022-12-01T18:13:06.683Z"
   },
   {
    "duration": 106,
    "start_time": "2022-12-01T18:13:07.220Z"
   },
   {
    "duration": 0,
    "start_time": "2022-12-01T18:13:07.329Z"
   },
   {
    "duration": 0,
    "start_time": "2022-12-01T18:13:07.331Z"
   },
   {
    "duration": 0,
    "start_time": "2022-12-01T18:13:07.332Z"
   },
   {
    "duration": 0,
    "start_time": "2022-12-01T18:13:07.334Z"
   },
   {
    "duration": 0,
    "start_time": "2022-12-01T18:13:07.335Z"
   },
   {
    "duration": 0,
    "start_time": "2022-12-01T18:13:07.336Z"
   },
   {
    "duration": 0,
    "start_time": "2022-12-01T18:13:07.338Z"
   },
   {
    "duration": 0,
    "start_time": "2022-12-01T18:13:07.339Z"
   },
   {
    "duration": 7,
    "start_time": "2022-12-01T18:13:24.321Z"
   },
   {
    "duration": 17,
    "start_time": "2022-12-01T18:14:51.744Z"
   },
   {
    "duration": 18,
    "start_time": "2022-12-01T18:16:40.784Z"
   },
   {
    "duration": 12,
    "start_time": "2022-12-01T18:20:22.228Z"
   },
   {
    "duration": 12,
    "start_time": "2022-12-01T18:23:11.883Z"
   },
   {
    "duration": 5,
    "start_time": "2022-12-01T18:23:22.623Z"
   },
   {
    "duration": 27,
    "start_time": "2022-12-01T18:24:14.211Z"
   },
   {
    "duration": 29,
    "start_time": "2022-12-01T18:25:57.965Z"
   },
   {
    "duration": 28,
    "start_time": "2022-12-01T18:30:03.038Z"
   },
   {
    "duration": 1081,
    "start_time": "2022-12-01T18:30:16.866Z"
   },
   {
    "duration": 71,
    "start_time": "2022-12-01T18:30:17.948Z"
   },
   {
    "duration": 14,
    "start_time": "2022-12-01T18:30:18.021Z"
   },
   {
    "duration": 61,
    "start_time": "2022-12-01T18:30:18.037Z"
   },
   {
    "duration": 75,
    "start_time": "2022-12-01T18:30:18.100Z"
   },
   {
    "duration": 51,
    "start_time": "2022-12-01T18:30:18.177Z"
   },
   {
    "duration": 26,
    "start_time": "2022-12-01T18:30:18.229Z"
   },
   {
    "duration": 52,
    "start_time": "2022-12-01T18:30:18.257Z"
   },
   {
    "duration": 37,
    "start_time": "2022-12-01T18:30:18.311Z"
   },
   {
    "duration": 39,
    "start_time": "2022-12-01T18:30:18.351Z"
   },
   {
    "duration": 63,
    "start_time": "2022-12-01T18:30:18.391Z"
   },
   {
    "duration": 494,
    "start_time": "2022-12-01T18:30:18.456Z"
   },
   {
    "duration": 24,
    "start_time": "2022-12-01T18:30:18.951Z"
   },
   {
    "duration": 402,
    "start_time": "2022-12-01T18:30:18.976Z"
   },
   {
    "duration": 5,
    "start_time": "2022-12-01T18:30:19.380Z"
   },
   {
    "duration": 469,
    "start_time": "2022-12-01T18:30:19.386Z"
   },
   {
    "duration": 17,
    "start_time": "2022-12-01T18:30:19.857Z"
   },
   {
    "duration": 47,
    "start_time": "2022-12-01T18:30:19.876Z"
   },
   {
    "duration": 8,
    "start_time": "2022-12-01T18:30:19.925Z"
   },
   {
    "duration": 361,
    "start_time": "2022-12-01T18:30:19.934Z"
   },
   {
    "duration": 8,
    "start_time": "2022-12-01T18:30:20.297Z"
   },
   {
    "duration": 454,
    "start_time": "2022-12-01T18:30:20.307Z"
   },
   {
    "duration": 10,
    "start_time": "2022-12-01T18:30:20.762Z"
   },
   {
    "duration": 121,
    "start_time": "2022-12-01T18:30:20.773Z"
   },
   {
    "duration": 3,
    "start_time": "2022-12-01T18:30:20.904Z"
   },
   {
    "duration": 182,
    "start_time": "2022-12-01T18:30:20.909Z"
   },
   {
    "duration": 4,
    "start_time": "2022-12-01T18:30:21.093Z"
   },
   {
    "duration": 345,
    "start_time": "2022-12-01T18:30:50.254Z"
   },
   {
    "duration": 9,
    "start_time": "2022-12-01T18:31:39.060Z"
   },
   {
    "duration": 428,
    "start_time": "2022-12-01T18:32:02.006Z"
   },
   {
    "duration": 360,
    "start_time": "2022-12-01T18:32:08.814Z"
   },
   {
    "duration": 349,
    "start_time": "2022-12-01T18:32:19.459Z"
   },
   {
    "duration": 24,
    "start_time": "2022-12-01T18:44:11.246Z"
   },
   {
    "duration": 7,
    "start_time": "2022-12-01T19:04:02.157Z"
   },
   {
    "duration": 455,
    "start_time": "2022-12-01T19:04:10.201Z"
   },
   {
    "duration": 24,
    "start_time": "2022-12-01T19:53:05.601Z"
   },
   {
    "duration": 17,
    "start_time": "2022-12-01T19:54:01.088Z"
   },
   {
    "duration": 5,
    "start_time": "2022-12-01T19:54:08.541Z"
   },
   {
    "duration": 31,
    "start_time": "2022-12-01T19:54:24.098Z"
   },
   {
    "duration": 1099,
    "start_time": "2022-12-01T19:54:31.658Z"
   },
   {
    "duration": 74,
    "start_time": "2022-12-01T19:54:32.759Z"
   },
   {
    "duration": 15,
    "start_time": "2022-12-01T19:54:32.835Z"
   },
   {
    "duration": 38,
    "start_time": "2022-12-01T19:54:32.852Z"
   },
   {
    "duration": 52,
    "start_time": "2022-12-01T19:54:32.892Z"
   },
   {
    "duration": 37,
    "start_time": "2022-12-01T19:54:32.945Z"
   },
   {
    "duration": 45,
    "start_time": "2022-12-01T19:54:32.984Z"
   },
   {
    "duration": 26,
    "start_time": "2022-12-01T19:54:33.031Z"
   },
   {
    "duration": 31,
    "start_time": "2022-12-01T19:54:33.059Z"
   },
   {
    "duration": 52,
    "start_time": "2022-12-01T19:54:33.091Z"
   },
   {
    "duration": 36,
    "start_time": "2022-12-01T19:54:33.144Z"
   },
   {
    "duration": 459,
    "start_time": "2022-12-01T19:54:33.183Z"
   },
   {
    "duration": 23,
    "start_time": "2022-12-01T19:54:33.643Z"
   },
   {
    "duration": 375,
    "start_time": "2022-12-01T19:54:33.669Z"
   },
   {
    "duration": 7,
    "start_time": "2022-12-01T19:54:34.046Z"
   },
   {
    "duration": 537,
    "start_time": "2022-12-01T19:54:34.055Z"
   },
   {
    "duration": 25,
    "start_time": "2022-12-01T19:54:34.594Z"
   },
   {
    "duration": 28,
    "start_time": "2022-12-01T19:54:34.621Z"
   },
   {
    "duration": 9,
    "start_time": "2022-12-01T19:54:34.651Z"
   },
   {
    "duration": 395,
    "start_time": "2022-12-01T19:54:34.662Z"
   },
   {
    "duration": 7,
    "start_time": "2022-12-01T19:54:35.058Z"
   },
   {
    "duration": 531,
    "start_time": "2022-12-01T19:54:35.066Z"
   },
   {
    "duration": 20,
    "start_time": "2022-12-01T19:54:35.599Z"
   },
   {
    "duration": 131,
    "start_time": "2022-12-01T19:54:35.621Z"
   },
   {
    "duration": 4,
    "start_time": "2022-12-01T19:54:35.754Z"
   },
   {
    "duration": 200,
    "start_time": "2022-12-01T19:54:35.760Z"
   },
   {
    "duration": 5,
    "start_time": "2022-12-01T19:54:35.961Z"
   },
   {
    "duration": 81,
    "start_time": "2022-12-01T19:54:35.967Z"
   },
   {
    "duration": 23,
    "start_time": "2022-12-01T19:56:35.379Z"
   },
   {
    "duration": 11,
    "start_time": "2022-12-01T20:05:36.019Z"
   },
   {
    "duration": 99,
    "start_time": "2022-12-01T20:08:12.881Z"
   },
   {
    "duration": 21,
    "start_time": "2022-12-01T20:08:18.251Z"
   },
   {
    "duration": 15,
    "start_time": "2022-12-01T20:08:44.638Z"
   },
   {
    "duration": 101,
    "start_time": "2022-12-01T20:09:10.254Z"
   },
   {
    "duration": 24,
    "start_time": "2022-12-01T20:11:07.393Z"
   },
   {
    "duration": 21,
    "start_time": "2022-12-01T20:11:15.909Z"
   },
   {
    "duration": 16,
    "start_time": "2022-12-01T20:12:15.236Z"
   },
   {
    "duration": 18,
    "start_time": "2022-12-01T20:12:56.245Z"
   },
   {
    "duration": 19,
    "start_time": "2022-12-01T20:13:01.073Z"
   },
   {
    "duration": 15,
    "start_time": "2022-12-01T20:13:53.597Z"
   },
   {
    "duration": 15,
    "start_time": "2022-12-01T20:14:08.102Z"
   },
   {
    "duration": 11,
    "start_time": "2022-12-01T20:14:12.901Z"
   },
   {
    "duration": 15,
    "start_time": "2022-12-01T20:16:43.758Z"
   },
   {
    "duration": 9,
    "start_time": "2022-12-01T20:17:11.529Z"
   },
   {
    "duration": 3,
    "start_time": "2022-12-01T20:17:37.543Z"
   },
   {
    "duration": 6,
    "start_time": "2022-12-01T20:17:41.811Z"
   },
   {
    "duration": 7,
    "start_time": "2022-12-01T20:48:17.550Z"
   },
   {
    "duration": 12,
    "start_time": "2022-12-01T20:51:49.522Z"
   },
   {
    "duration": 13,
    "start_time": "2022-12-01T20:52:20.486Z"
   },
   {
    "duration": 11,
    "start_time": "2022-12-01T20:52:28.956Z"
   },
   {
    "duration": 8,
    "start_time": "2022-12-01T20:52:34.300Z"
   },
   {
    "duration": 14,
    "start_time": "2022-12-01T20:53:00.495Z"
   },
   {
    "duration": 8,
    "start_time": "2022-12-01T20:53:13.137Z"
   },
   {
    "duration": 8,
    "start_time": "2022-12-01T20:53:47.582Z"
   },
   {
    "duration": 1336,
    "start_time": "2022-12-02T10:35:43.341Z"
   },
   {
    "duration": 215,
    "start_time": "2022-12-02T10:35:44.679Z"
   },
   {
    "duration": 16,
    "start_time": "2022-12-02T10:35:44.896Z"
   },
   {
    "duration": 16,
    "start_time": "2022-12-02T10:35:44.914Z"
   },
   {
    "duration": 27,
    "start_time": "2022-12-02T10:35:44.931Z"
   },
   {
    "duration": 13,
    "start_time": "2022-12-02T10:35:44.959Z"
   },
   {
    "duration": 16,
    "start_time": "2022-12-02T10:35:44.974Z"
   },
   {
    "duration": 30,
    "start_time": "2022-12-02T10:35:44.991Z"
   },
   {
    "duration": 21,
    "start_time": "2022-12-02T10:35:45.022Z"
   },
   {
    "duration": 16,
    "start_time": "2022-12-02T10:35:45.045Z"
   },
   {
    "duration": 24,
    "start_time": "2022-12-02T10:35:45.063Z"
   },
   {
    "duration": 448,
    "start_time": "2022-12-02T10:35:45.089Z"
   },
   {
    "duration": 34,
    "start_time": "2022-12-02T10:35:45.538Z"
   },
   {
    "duration": 362,
    "start_time": "2022-12-02T10:35:45.574Z"
   },
   {
    "duration": 6,
    "start_time": "2022-12-02T10:35:45.938Z"
   },
   {
    "duration": 536,
    "start_time": "2022-12-02T10:35:45.955Z"
   },
   {
    "duration": 20,
    "start_time": "2022-12-02T10:35:46.492Z"
   },
   {
    "duration": 23,
    "start_time": "2022-12-02T10:35:46.514Z"
   },
   {
    "duration": 9,
    "start_time": "2022-12-02T10:35:46.555Z"
   },
   {
    "duration": 448,
    "start_time": "2022-12-02T10:35:46.566Z"
   },
   {
    "duration": 6,
    "start_time": "2022-12-02T10:35:47.016Z"
   },
   {
    "duration": 501,
    "start_time": "2022-12-02T10:35:47.024Z"
   },
   {
    "duration": 12,
    "start_time": "2022-12-02T10:35:47.527Z"
   },
   {
    "duration": 120,
    "start_time": "2022-12-02T10:35:47.541Z"
   },
   {
    "duration": 4,
    "start_time": "2022-12-02T10:35:47.663Z"
   },
   {
    "duration": 200,
    "start_time": "2022-12-02T10:35:47.668Z"
   },
   {
    "duration": 4,
    "start_time": "2022-12-02T10:35:47.870Z"
   },
   {
    "duration": 19,
    "start_time": "2022-12-02T10:35:47.877Z"
   },
   {
    "duration": 8,
    "start_time": "2022-12-02T10:35:47.898Z"
   },
   {
    "duration": 12,
    "start_time": "2022-12-02T10:36:17.335Z"
   },
   {
    "duration": 12,
    "start_time": "2022-12-02T10:45:13.008Z"
   },
   {
    "duration": 12,
    "start_time": "2022-12-02T10:47:18.904Z"
   },
   {
    "duration": 7,
    "start_time": "2022-12-02T10:47:40.570Z"
   },
   {
    "duration": 12,
    "start_time": "2022-12-02T10:47:49.636Z"
   },
   {
    "duration": 16,
    "start_time": "2022-12-02T10:56:58.349Z"
   },
   {
    "duration": 20,
    "start_time": "2022-12-02T10:57:10.173Z"
   },
   {
    "duration": 22,
    "start_time": "2022-12-02T10:57:19.425Z"
   },
   {
    "duration": 147,
    "start_time": "2022-12-02T10:57:33.610Z"
   },
   {
    "duration": 200,
    "start_time": "2022-12-02T10:57:42.296Z"
   },
   {
    "duration": 1202,
    "start_time": "2022-12-02T10:57:48.047Z"
   },
   {
    "duration": 87,
    "start_time": "2022-12-02T10:57:49.251Z"
   },
   {
    "duration": 17,
    "start_time": "2022-12-02T10:57:49.340Z"
   },
   {
    "duration": 15,
    "start_time": "2022-12-02T10:57:49.359Z"
   },
   {
    "duration": 24,
    "start_time": "2022-12-02T10:57:49.376Z"
   },
   {
    "duration": 13,
    "start_time": "2022-12-02T10:57:49.402Z"
   },
   {
    "duration": 42,
    "start_time": "2022-12-02T10:57:49.417Z"
   },
   {
    "duration": 10,
    "start_time": "2022-12-02T10:57:49.461Z"
   },
   {
    "duration": 9,
    "start_time": "2022-12-02T10:57:49.473Z"
   },
   {
    "duration": 8,
    "start_time": "2022-12-02T10:57:49.484Z"
   },
   {
    "duration": 21,
    "start_time": "2022-12-02T10:57:49.494Z"
   },
   {
    "duration": 513,
    "start_time": "2022-12-02T10:57:49.518Z"
   },
   {
    "duration": 31,
    "start_time": "2022-12-02T10:57:50.033Z"
   },
   {
    "duration": 393,
    "start_time": "2022-12-02T10:57:50.066Z"
   },
   {
    "duration": 7,
    "start_time": "2022-12-02T10:57:50.460Z"
   },
   {
    "duration": 493,
    "start_time": "2022-12-02T10:57:50.468Z"
   },
   {
    "duration": 21,
    "start_time": "2022-12-02T10:57:50.963Z"
   },
   {
    "duration": 24,
    "start_time": "2022-12-02T10:57:50.986Z"
   },
   {
    "duration": 10,
    "start_time": "2022-12-02T10:57:51.012Z"
   },
   {
    "duration": 451,
    "start_time": "2022-12-02T10:57:51.023Z"
   },
   {
    "duration": 6,
    "start_time": "2022-12-02T10:57:51.476Z"
   },
   {
    "duration": 461,
    "start_time": "2022-12-02T10:57:51.484Z"
   },
   {
    "duration": 27,
    "start_time": "2022-12-02T10:57:51.947Z"
   },
   {
    "duration": 132,
    "start_time": "2022-12-02T10:57:51.975Z"
   },
   {
    "duration": 4,
    "start_time": "2022-12-02T10:57:52.108Z"
   },
   {
    "duration": 192,
    "start_time": "2022-12-02T10:57:52.113Z"
   },
   {
    "duration": 4,
    "start_time": "2022-12-02T10:57:52.307Z"
   },
   {
    "duration": 19,
    "start_time": "2022-12-02T10:57:52.313Z"
   },
   {
    "duration": 21,
    "start_time": "2022-12-02T10:57:52.334Z"
   },
   {
    "duration": 12,
    "start_time": "2022-12-02T10:57:52.356Z"
   },
   {
    "duration": 11,
    "start_time": "2022-12-02T10:59:05.678Z"
   },
   {
    "duration": 128,
    "start_time": "2022-12-02T10:59:07.950Z"
   },
   {
    "duration": 15,
    "start_time": "2022-12-02T10:59:30.997Z"
   },
   {
    "duration": 202,
    "start_time": "2022-12-02T10:59:33.270Z"
   },
   {
    "duration": 12,
    "start_time": "2022-12-02T11:00:10.886Z"
   },
   {
    "duration": 15,
    "start_time": "2022-12-02T11:00:18.394Z"
   },
   {
    "duration": 10,
    "start_time": "2022-12-02T11:02:07.263Z"
   },
   {
    "duration": 120,
    "start_time": "2022-12-02T11:02:09.302Z"
   },
   {
    "duration": 94,
    "start_time": "2022-12-02T11:07:29.298Z"
   },
   {
    "duration": 14,
    "start_time": "2022-12-02T11:07:39.276Z"
   },
   {
    "duration": 14,
    "start_time": "2022-12-02T11:07:53.679Z"
   },
   {
    "duration": 15,
    "start_time": "2022-12-02T11:08:02.032Z"
   },
   {
    "duration": 14,
    "start_time": "2022-12-02T11:10:33.273Z"
   },
   {
    "duration": 15,
    "start_time": "2022-12-02T11:10:48.759Z"
   },
   {
    "duration": 128,
    "start_time": "2022-12-02T11:10:56.080Z"
   },
   {
    "duration": 5,
    "start_time": "2022-12-02T11:11:43.399Z"
   },
   {
    "duration": 6,
    "start_time": "2022-12-02T11:11:45.046Z"
   },
   {
    "duration": 11,
    "start_time": "2022-12-02T11:15:08.843Z"
   },
   {
    "duration": 9,
    "start_time": "2022-12-02T11:15:49.455Z"
   },
   {
    "duration": 10,
    "start_time": "2022-12-02T11:22:27.637Z"
   },
   {
    "duration": 12,
    "start_time": "2022-12-02T11:23:48.916Z"
   },
   {
    "duration": 7,
    "start_time": "2022-12-02T11:25:03.305Z"
   },
   {
    "duration": 10,
    "start_time": "2022-12-02T11:25:16.676Z"
   },
   {
    "duration": 10,
    "start_time": "2022-12-02T11:47:50.662Z"
   },
   {
    "duration": 12,
    "start_time": "2022-12-02T11:48:15.419Z"
   },
   {
    "duration": 11,
    "start_time": "2022-12-02T11:48:20.789Z"
   },
   {
    "duration": 15,
    "start_time": "2022-12-02T11:48:29.216Z"
   },
   {
    "duration": 10,
    "start_time": "2022-12-02T11:50:25.280Z"
   },
   {
    "duration": 1322,
    "start_time": "2022-12-02T17:36:04.484Z"
   },
   {
    "duration": 229,
    "start_time": "2022-12-02T17:36:05.809Z"
   },
   {
    "duration": 21,
    "start_time": "2022-12-02T17:36:06.040Z"
   },
   {
    "duration": 50,
    "start_time": "2022-12-02T17:36:06.064Z"
   },
   {
    "duration": 72,
    "start_time": "2022-12-02T17:36:06.116Z"
   },
   {
    "duration": 12,
    "start_time": "2022-12-02T17:36:06.190Z"
   },
   {
    "duration": 31,
    "start_time": "2022-12-02T17:36:06.204Z"
   },
   {
    "duration": 19,
    "start_time": "2022-12-02T17:36:06.237Z"
   },
   {
    "duration": 14,
    "start_time": "2022-12-02T17:36:06.258Z"
   },
   {
    "duration": 11,
    "start_time": "2022-12-02T17:36:06.275Z"
   },
   {
    "duration": 23,
    "start_time": "2022-12-02T17:36:06.288Z"
   },
   {
    "duration": 512,
    "start_time": "2022-12-02T17:36:06.313Z"
   },
   {
    "duration": 35,
    "start_time": "2022-12-02T17:36:06.826Z"
   },
   {
    "duration": 444,
    "start_time": "2022-12-02T17:36:06.863Z"
   },
   {
    "duration": 6,
    "start_time": "2022-12-02T17:36:07.309Z"
   },
   {
    "duration": 561,
    "start_time": "2022-12-02T17:36:07.317Z"
   },
   {
    "duration": 19,
    "start_time": "2022-12-02T17:36:07.880Z"
   },
   {
    "duration": 67,
    "start_time": "2022-12-02T17:36:07.901Z"
   },
   {
    "duration": 44,
    "start_time": "2022-12-02T17:36:07.970Z"
   },
   {
    "duration": 426,
    "start_time": "2022-12-02T17:36:08.015Z"
   },
   {
    "duration": 7,
    "start_time": "2022-12-02T17:36:08.443Z"
   },
   {
    "duration": 520,
    "start_time": "2022-12-02T17:36:08.452Z"
   },
   {
    "duration": 19,
    "start_time": "2022-12-02T17:36:08.974Z"
   },
   {
    "duration": 161,
    "start_time": "2022-12-02T17:36:08.995Z"
   },
   {
    "duration": 5,
    "start_time": "2022-12-02T17:36:09.160Z"
   },
   {
    "duration": 211,
    "start_time": "2022-12-02T17:36:09.167Z"
   },
   {
    "duration": 5,
    "start_time": "2022-12-02T17:36:09.380Z"
   },
   {
    "duration": 118,
    "start_time": "2022-12-02T17:36:09.390Z"
   },
   {
    "duration": 0,
    "start_time": "2022-12-02T17:36:09.510Z"
   },
   {
    "duration": 0,
    "start_time": "2022-12-02T17:36:09.511Z"
   },
   {
    "duration": 0,
    "start_time": "2022-12-02T17:36:09.513Z"
   },
   {
    "duration": 0,
    "start_time": "2022-12-02T17:36:09.514Z"
   },
   {
    "duration": 0,
    "start_time": "2022-12-02T17:36:09.516Z"
   },
   {
    "duration": 0,
    "start_time": "2022-12-02T17:36:09.517Z"
   },
   {
    "duration": 67,
    "start_time": "2022-12-02T17:41:17.795Z"
   },
   {
    "duration": 14,
    "start_time": "2022-12-02T17:41:22.462Z"
   },
   {
    "duration": 62,
    "start_time": "2022-12-03T11:14:09.268Z"
   },
   {
    "duration": 1400,
    "start_time": "2022-12-03T11:14:13.355Z"
   },
   {
    "duration": 224,
    "start_time": "2022-12-03T11:14:14.757Z"
   },
   {
    "duration": 22,
    "start_time": "2022-12-03T11:14:14.982Z"
   },
   {
    "duration": 22,
    "start_time": "2022-12-03T11:14:15.006Z"
   },
   {
    "duration": 34,
    "start_time": "2022-12-03T11:14:15.030Z"
   },
   {
    "duration": 14,
    "start_time": "2022-12-03T11:14:15.066Z"
   },
   {
    "duration": 25,
    "start_time": "2022-12-03T11:14:15.082Z"
   },
   {
    "duration": 41,
    "start_time": "2022-12-03T11:14:15.109Z"
   },
   {
    "duration": 16,
    "start_time": "2022-12-03T11:14:15.152Z"
   },
   {
    "duration": 17,
    "start_time": "2022-12-03T11:14:15.171Z"
   },
   {
    "duration": 23,
    "start_time": "2022-12-03T11:14:15.189Z"
   },
   {
    "duration": 464,
    "start_time": "2022-12-03T11:14:15.214Z"
   },
   {
    "duration": 27,
    "start_time": "2022-12-03T11:14:15.680Z"
   },
   {
    "duration": 419,
    "start_time": "2022-12-03T11:14:15.709Z"
   },
   {
    "duration": 6,
    "start_time": "2022-12-03T11:14:16.137Z"
   },
   {
    "duration": 540,
    "start_time": "2022-12-03T11:14:16.145Z"
   },
   {
    "duration": 21,
    "start_time": "2022-12-03T11:14:16.688Z"
   },
   {
    "duration": 37,
    "start_time": "2022-12-03T11:14:16.711Z"
   },
   {
    "duration": 8,
    "start_time": "2022-12-03T11:14:16.750Z"
   },
   {
    "duration": 446,
    "start_time": "2022-12-03T11:14:16.760Z"
   },
   {
    "duration": 6,
    "start_time": "2022-12-03T11:14:17.209Z"
   },
   {
    "duration": 487,
    "start_time": "2022-12-03T11:14:17.217Z"
   },
   {
    "duration": 15,
    "start_time": "2022-12-03T11:14:17.705Z"
   },
   {
    "duration": 146,
    "start_time": "2022-12-03T11:14:17.722Z"
   },
   {
    "duration": 4,
    "start_time": "2022-12-03T11:14:17.871Z"
   },
   {
    "duration": 228,
    "start_time": "2022-12-03T11:14:17.877Z"
   },
   {
    "duration": 5,
    "start_time": "2022-12-03T11:14:18.107Z"
   },
   {
    "duration": 116,
    "start_time": "2022-12-03T11:14:18.115Z"
   },
   {
    "duration": 0,
    "start_time": "2022-12-03T11:14:18.233Z"
   },
   {
    "duration": 0,
    "start_time": "2022-12-03T11:14:18.237Z"
   },
   {
    "duration": 0,
    "start_time": "2022-12-03T11:14:18.238Z"
   },
   {
    "duration": 0,
    "start_time": "2022-12-03T11:14:18.240Z"
   },
   {
    "duration": 0,
    "start_time": "2022-12-03T11:14:18.241Z"
   },
   {
    "duration": 0,
    "start_time": "2022-12-03T11:14:18.242Z"
   },
   {
    "duration": 9,
    "start_time": "2022-12-03T11:14:57.237Z"
   },
   {
    "duration": 10,
    "start_time": "2022-12-03T11:18:47.500Z"
   },
   {
    "duration": 9,
    "start_time": "2022-12-03T11:19:11.055Z"
   },
   {
    "duration": 5,
    "start_time": "2022-12-03T11:24:01.784Z"
   },
   {
    "duration": 5,
    "start_time": "2022-12-03T11:24:08.523Z"
   },
   {
    "duration": 6,
    "start_time": "2022-12-03T11:24:13.412Z"
   },
   {
    "duration": 5,
    "start_time": "2022-12-03T11:24:27.760Z"
   },
   {
    "duration": 4,
    "start_time": "2022-12-03T11:24:40.395Z"
   },
   {
    "duration": 4,
    "start_time": "2022-12-03T11:27:16.397Z"
   },
   {
    "duration": 81,
    "start_time": "2022-12-03T11:27:49.328Z"
   },
   {
    "duration": 5,
    "start_time": "2022-12-03T11:27:56.495Z"
   },
   {
    "duration": 5,
    "start_time": "2022-12-03T11:28:03.077Z"
   },
   {
    "duration": 10,
    "start_time": "2022-12-03T11:29:13.502Z"
   },
   {
    "duration": 73,
    "start_time": "2022-12-03T11:29:28.698Z"
   },
   {
    "duration": 5,
    "start_time": "2022-12-03T11:29:40.033Z"
   },
   {
    "duration": 6,
    "start_time": "2022-12-03T11:29:45.830Z"
   },
   {
    "duration": 70,
    "start_time": "2022-12-03T11:29:49.353Z"
   },
   {
    "duration": 71,
    "start_time": "2022-12-03T11:29:54.115Z"
   },
   {
    "duration": 5,
    "start_time": "2022-12-03T11:29:58.421Z"
   },
   {
    "duration": 67,
    "start_time": "2022-12-03T11:30:22.470Z"
   },
   {
    "duration": 5,
    "start_time": "2022-12-03T11:30:34.394Z"
   },
   {
    "duration": 4,
    "start_time": "2022-12-03T11:30:46.490Z"
   },
   {
    "duration": 6,
    "start_time": "2022-12-03T11:31:28.487Z"
   },
   {
    "duration": 1335,
    "start_time": "2022-12-03T12:59:37.365Z"
   },
   {
    "duration": 1118,
    "start_time": "2022-12-03T12:59:56.031Z"
   },
   {
    "duration": 5,
    "start_time": "2022-12-03T13:00:14.684Z"
   },
   {
    "duration": 7,
    "start_time": "2022-12-03T13:02:54.502Z"
   },
   {
    "duration": 13,
    "start_time": "2022-12-03T13:04:25.389Z"
   },
   {
    "duration": 14,
    "start_time": "2022-12-03T13:04:33.857Z"
   },
   {
    "duration": 12,
    "start_time": "2022-12-03T13:04:39.389Z"
   },
   {
    "duration": 1230,
    "start_time": "2022-12-03T13:04:52.792Z"
   },
   {
    "duration": 1145,
    "start_time": "2022-12-03T14:16:28.534Z"
   },
   {
    "duration": 110,
    "start_time": "2022-12-03T14:17:53.551Z"
   },
   {
    "duration": 109,
    "start_time": "2022-12-03T14:18:27.992Z"
   },
   {
    "duration": 99,
    "start_time": "2022-12-03T14:18:54.726Z"
   },
   {
    "duration": 118,
    "start_time": "2022-12-03T14:48:36.433Z"
   },
   {
    "duration": 100,
    "start_time": "2022-12-03T14:48:56.050Z"
   },
   {
    "duration": 99,
    "start_time": "2022-12-03T20:33:39.718Z"
   },
   {
    "duration": 1442,
    "start_time": "2022-12-03T20:35:26.364Z"
   },
   {
    "duration": 111,
    "start_time": "2022-12-03T20:38:05.764Z"
   },
   {
    "duration": 103,
    "start_time": "2022-12-03T20:38:23.579Z"
   },
   {
    "duration": 119,
    "start_time": "2022-12-03T20:38:58.738Z"
   },
   {
    "duration": 128,
    "start_time": "2022-12-03T20:39:19.015Z"
   },
   {
    "duration": 111,
    "start_time": "2022-12-03T20:39:27.948Z"
   },
   {
    "duration": 92,
    "start_time": "2022-12-03T20:39:34.319Z"
   },
   {
    "duration": 108,
    "start_time": "2022-12-03T20:39:42.232Z"
   },
   {
    "duration": 127,
    "start_time": "2022-12-03T20:40:05.062Z"
   },
   {
    "duration": 102,
    "start_time": "2022-12-03T20:40:19.910Z"
   },
   {
    "duration": 100,
    "start_time": "2022-12-03T20:46:22.025Z"
   },
   {
    "duration": 12,
    "start_time": "2022-12-03T20:46:30.573Z"
   },
   {
    "duration": 7,
    "start_time": "2022-12-03T20:46:52.983Z"
   },
   {
    "duration": 6,
    "start_time": "2022-12-03T20:47:32.059Z"
   },
   {
    "duration": 5,
    "start_time": "2022-12-03T20:48:11.834Z"
   },
   {
    "duration": 6,
    "start_time": "2022-12-03T20:48:22.616Z"
   },
   {
    "duration": 94,
    "start_time": "2022-12-03T20:49:30.784Z"
   },
   {
    "duration": 1170,
    "start_time": "2022-12-03T20:55:59.676Z"
   },
   {
    "duration": 13,
    "start_time": "2022-12-03T20:56:07.336Z"
   },
   {
    "duration": 12,
    "start_time": "2022-12-03T20:56:09.518Z"
   },
   {
    "duration": 3,
    "start_time": "2022-12-03T21:15:03.923Z"
   },
   {
    "duration": 14,
    "start_time": "2022-12-03T21:15:07.422Z"
   },
   {
    "duration": 5,
    "start_time": "2022-12-03T21:24:04.827Z"
   },
   {
    "duration": 6,
    "start_time": "2022-12-03T21:24:21.482Z"
   },
   {
    "duration": 94,
    "start_time": "2022-12-03T21:24:37.877Z"
   },
   {
    "duration": 1216,
    "start_time": "2022-12-03T21:24:45.621Z"
   },
   {
    "duration": 76,
    "start_time": "2022-12-03T21:24:46.839Z"
   },
   {
    "duration": 15,
    "start_time": "2022-12-03T21:24:46.917Z"
   },
   {
    "duration": 14,
    "start_time": "2022-12-03T21:24:46.934Z"
   },
   {
    "duration": 27,
    "start_time": "2022-12-03T21:24:46.950Z"
   },
   {
    "duration": 18,
    "start_time": "2022-12-03T21:24:46.979Z"
   },
   {
    "duration": 40,
    "start_time": "2022-12-03T21:24:46.999Z"
   },
   {
    "duration": 10,
    "start_time": "2022-12-03T21:24:47.041Z"
   },
   {
    "duration": 8,
    "start_time": "2022-12-03T21:24:47.054Z"
   },
   {
    "duration": 142,
    "start_time": "2022-12-03T21:24:47.066Z"
   },
   {
    "duration": 7,
    "start_time": "2022-12-03T21:24:47.210Z"
   },
   {
    "duration": 21,
    "start_time": "2022-12-03T21:24:47.219Z"
   },
   {
    "duration": 14,
    "start_time": "2022-12-03T21:24:47.243Z"
   },
   {
    "duration": 10,
    "start_time": "2022-12-03T21:24:47.259Z"
   },
   {
    "duration": 10,
    "start_time": "2022-12-03T21:24:47.271Z"
   },
   {
    "duration": 23,
    "start_time": "2022-12-03T21:24:47.282Z"
   },
   {
    "duration": 514,
    "start_time": "2022-12-03T21:24:47.307Z"
   },
   {
    "duration": 38,
    "start_time": "2022-12-03T21:24:47.823Z"
   },
   {
    "duration": 403,
    "start_time": "2022-12-03T21:24:47.863Z"
   },
   {
    "duration": 6,
    "start_time": "2022-12-03T21:24:48.268Z"
   },
   {
    "duration": 494,
    "start_time": "2022-12-03T21:24:48.276Z"
   },
   {
    "duration": 21,
    "start_time": "2022-12-03T21:24:48.772Z"
   },
   {
    "duration": 52,
    "start_time": "2022-12-03T21:24:48.795Z"
   },
   {
    "duration": 15,
    "start_time": "2022-12-03T21:24:48.850Z"
   },
   {
    "duration": 487,
    "start_time": "2022-12-03T21:24:48.867Z"
   },
   {
    "duration": 7,
    "start_time": "2022-12-03T21:24:49.356Z"
   },
   {
    "duration": 479,
    "start_time": "2022-12-03T21:24:49.365Z"
   },
   {
    "duration": 19,
    "start_time": "2022-12-03T21:24:49.848Z"
   },
   {
    "duration": 170,
    "start_time": "2022-12-03T21:24:49.869Z"
   },
   {
    "duration": 5,
    "start_time": "2022-12-03T21:24:50.042Z"
   },
   {
    "duration": 213,
    "start_time": "2022-12-03T21:24:50.049Z"
   },
   {
    "duration": 6,
    "start_time": "2022-12-03T21:24:50.264Z"
   },
   {
    "duration": 142,
    "start_time": "2022-12-03T21:24:50.272Z"
   },
   {
    "duration": 0,
    "start_time": "2022-12-03T21:24:50.415Z"
   },
   {
    "duration": 0,
    "start_time": "2022-12-03T21:24:50.416Z"
   },
   {
    "duration": 0,
    "start_time": "2022-12-03T21:24:50.417Z"
   },
   {
    "duration": 0,
    "start_time": "2022-12-03T21:24:50.419Z"
   },
   {
    "duration": 0,
    "start_time": "2022-12-03T21:24:50.420Z"
   },
   {
    "duration": 0,
    "start_time": "2022-12-03T21:24:50.421Z"
   },
   {
    "duration": 393,
    "start_time": "2022-12-03T21:30:27.696Z"
   },
   {
    "duration": 15,
    "start_time": "2022-12-03T21:30:52.687Z"
   },
   {
    "duration": 460,
    "start_time": "2022-12-03T21:31:01.201Z"
   },
   {
    "duration": 386,
    "start_time": "2022-12-03T21:32:05.813Z"
   },
   {
    "duration": 385,
    "start_time": "2022-12-03T21:32:23.599Z"
   },
   {
    "duration": 391,
    "start_time": "2022-12-03T21:32:47.506Z"
   },
   {
    "duration": 428,
    "start_time": "2022-12-03T21:33:16.454Z"
   },
   {
    "duration": 416,
    "start_time": "2022-12-03T21:34:49.651Z"
   },
   {
    "duration": 451,
    "start_time": "2022-12-03T21:34:58.456Z"
   },
   {
    "duration": 408,
    "start_time": "2022-12-03T21:35:22.581Z"
   },
   {
    "duration": 440,
    "start_time": "2022-12-03T21:35:27.531Z"
   },
   {
    "duration": 462,
    "start_time": "2022-12-03T21:35:38.502Z"
   },
   {
    "duration": 70,
    "start_time": "2022-12-03T21:36:03.416Z"
   },
   {
    "duration": 70,
    "start_time": "2022-12-03T21:36:05.378Z"
   },
   {
    "duration": 406,
    "start_time": "2022-12-03T21:36:49.611Z"
   },
   {
    "duration": 527,
    "start_time": "2022-12-03T21:37:34.112Z"
   },
   {
    "duration": 507,
    "start_time": "2022-12-03T21:38:20.572Z"
   },
   {
    "duration": 498,
    "start_time": "2022-12-03T21:38:33.470Z"
   },
   {
    "duration": 402,
    "start_time": "2022-12-03T21:39:25.310Z"
   },
   {
    "duration": 415,
    "start_time": "2022-12-03T21:39:53.865Z"
   },
   {
    "duration": 580,
    "start_time": "2022-12-03T21:40:27.761Z"
   },
   {
    "duration": 164,
    "start_time": "2022-12-03T21:41:52.333Z"
   },
   {
    "duration": 246,
    "start_time": "2022-12-03T21:42:57.511Z"
   },
   {
    "duration": 18,
    "start_time": "2022-12-03T21:44:18.293Z"
   },
   {
    "duration": 13,
    "start_time": "2022-12-03T21:44:54.864Z"
   },
   {
    "duration": 9,
    "start_time": "2022-12-03T21:45:04.712Z"
   },
   {
    "duration": 16,
    "start_time": "2022-12-03T21:45:27.439Z"
   },
   {
    "duration": 228,
    "start_time": "2022-12-03T21:45:42.089Z"
   },
   {
    "duration": 154,
    "start_time": "2022-12-03T21:45:45.071Z"
   },
   {
    "duration": 538,
    "start_time": "2022-12-03T21:45:47.463Z"
   },
   {
    "duration": 519,
    "start_time": "2022-12-03T21:45:51.073Z"
   },
   {
    "duration": 1219,
    "start_time": "2022-12-03T21:45:57.448Z"
   },
   {
    "duration": 85,
    "start_time": "2022-12-03T21:45:58.669Z"
   },
   {
    "duration": 15,
    "start_time": "2022-12-03T21:45:58.756Z"
   },
   {
    "duration": 16,
    "start_time": "2022-12-03T21:45:58.773Z"
   },
   {
    "duration": 36,
    "start_time": "2022-12-03T21:45:58.791Z"
   },
   {
    "duration": 41,
    "start_time": "2022-12-03T21:45:58.829Z"
   },
   {
    "duration": 24,
    "start_time": "2022-12-03T21:45:58.872Z"
   },
   {
    "duration": 12,
    "start_time": "2022-12-03T21:45:58.898Z"
   },
   {
    "duration": 12,
    "start_time": "2022-12-03T21:45:58.912Z"
   },
   {
    "duration": 179,
    "start_time": "2022-12-03T21:45:58.926Z"
   },
   {
    "duration": 9,
    "start_time": "2022-12-03T21:45:59.108Z"
   },
   {
    "duration": 37,
    "start_time": "2022-12-03T21:45:59.119Z"
   },
   {
    "duration": 18,
    "start_time": "2022-12-03T21:45:59.163Z"
   },
   {
    "duration": 10,
    "start_time": "2022-12-03T21:45:59.184Z"
   },
   {
    "duration": 17,
    "start_time": "2022-12-03T21:45:59.196Z"
   },
   {
    "duration": 33,
    "start_time": "2022-12-03T21:45:59.215Z"
   },
   {
    "duration": 539,
    "start_time": "2022-12-03T21:45:59.250Z"
   },
   {
    "duration": 29,
    "start_time": "2022-12-03T21:45:59.791Z"
   },
   {
    "duration": 456,
    "start_time": "2022-12-03T21:45:59.842Z"
   },
   {
    "duration": 7,
    "start_time": "2022-12-03T21:46:00.300Z"
   },
   {
    "duration": 580,
    "start_time": "2022-12-03T21:46:00.309Z"
   },
   {
    "duration": 20,
    "start_time": "2022-12-03T21:46:00.891Z"
   },
   {
    "duration": 44,
    "start_time": "2022-12-03T21:46:00.913Z"
   },
   {
    "duration": 9,
    "start_time": "2022-12-03T21:46:00.959Z"
   },
   {
    "duration": 434,
    "start_time": "2022-12-03T21:46:00.970Z"
   },
   {
    "duration": 6,
    "start_time": "2022-12-03T21:46:01.406Z"
   },
   {
    "duration": 580,
    "start_time": "2022-12-03T21:46:01.414Z"
   },
   {
    "duration": 16,
    "start_time": "2022-12-03T21:46:01.996Z"
   },
   {
    "duration": 186,
    "start_time": "2022-12-03T21:46:02.014Z"
   },
   {
    "duration": 5,
    "start_time": "2022-12-03T21:46:02.202Z"
   },
   {
    "duration": 247,
    "start_time": "2022-12-03T21:46:02.209Z"
   },
   {
    "duration": 4,
    "start_time": "2022-12-03T21:46:02.458Z"
   },
   {
    "duration": 15,
    "start_time": "2022-12-03T21:46:02.464Z"
   },
   {
    "duration": 12,
    "start_time": "2022-12-03T21:46:02.481Z"
   },
   {
    "duration": 14,
    "start_time": "2022-12-03T21:46:02.495Z"
   },
   {
    "duration": 36,
    "start_time": "2022-12-03T21:46:02.511Z"
   },
   {
    "duration": 13,
    "start_time": "2022-12-03T21:46:02.551Z"
   },
   {
    "duration": 15,
    "start_time": "2022-12-03T21:46:02.566Z"
   },
   {
    "duration": 11,
    "start_time": "2022-12-03T21:46:02.583Z"
   },
   {
    "duration": 20,
    "start_time": "2022-12-03T21:49:12.006Z"
   },
   {
    "duration": 26,
    "start_time": "2022-12-03T21:49:19.779Z"
   },
   {
    "duration": 6,
    "start_time": "2022-12-03T21:49:28.307Z"
   },
   {
    "duration": 19,
    "start_time": "2022-12-03T21:49:37.055Z"
   },
   {
    "duration": 1303,
    "start_time": "2022-12-03T21:49:43.065Z"
   },
   {
    "duration": 1295,
    "start_time": "2022-12-03T21:49:49.075Z"
   },
   {
    "duration": 1182,
    "start_time": "2022-12-03T21:50:15.911Z"
   },
   {
    "duration": 82,
    "start_time": "2022-12-03T21:50:17.095Z"
   },
   {
    "duration": 15,
    "start_time": "2022-12-03T21:50:17.179Z"
   },
   {
    "duration": 24,
    "start_time": "2022-12-03T21:50:17.196Z"
   },
   {
    "duration": 42,
    "start_time": "2022-12-03T21:50:17.222Z"
   },
   {
    "duration": 18,
    "start_time": "2022-12-03T21:50:17.265Z"
   },
   {
    "duration": 22,
    "start_time": "2022-12-03T21:50:17.284Z"
   },
   {
    "duration": 9,
    "start_time": "2022-12-03T21:50:17.308Z"
   },
   {
    "duration": 13,
    "start_time": "2022-12-03T21:50:17.319Z"
   },
   {
    "duration": 126,
    "start_time": "2022-12-03T21:50:17.337Z"
   },
   {
    "duration": 7,
    "start_time": "2022-12-03T21:50:17.464Z"
   },
   {
    "duration": 9,
    "start_time": "2022-12-03T21:50:17.473Z"
   },
   {
    "duration": 11,
    "start_time": "2022-12-03T21:50:17.483Z"
   },
   {
    "duration": 9,
    "start_time": "2022-12-03T21:50:17.497Z"
   },
   {
    "duration": 44,
    "start_time": "2022-12-03T21:50:17.507Z"
   },
   {
    "duration": 17,
    "start_time": "2022-12-03T21:50:17.553Z"
   },
   {
    "duration": 514,
    "start_time": "2022-12-03T21:50:17.571Z"
   },
   {
    "duration": 25,
    "start_time": "2022-12-03T21:50:18.086Z"
   },
   {
    "duration": 454,
    "start_time": "2022-12-03T21:50:18.112Z"
   },
   {
    "duration": 6,
    "start_time": "2022-12-03T21:50:18.568Z"
   },
   {
    "duration": 578,
    "start_time": "2022-12-03T21:50:18.575Z"
   },
   {
    "duration": 26,
    "start_time": "2022-12-03T21:50:19.155Z"
   },
   {
    "duration": 24,
    "start_time": "2022-12-03T21:50:19.183Z"
   },
   {
    "duration": 40,
    "start_time": "2022-12-03T21:50:19.209Z"
   },
   {
    "duration": 410,
    "start_time": "2022-12-03T21:50:19.253Z"
   },
   {
    "duration": 5,
    "start_time": "2022-12-03T21:50:19.665Z"
   },
   {
    "duration": 518,
    "start_time": "2022-12-03T21:50:19.672Z"
   },
   {
    "duration": 16,
    "start_time": "2022-12-03T21:50:20.192Z"
   },
   {
    "duration": 174,
    "start_time": "2022-12-03T21:50:20.210Z"
   },
   {
    "duration": 4,
    "start_time": "2022-12-03T21:50:20.386Z"
   },
   {
    "duration": 228,
    "start_time": "2022-12-03T21:50:20.392Z"
   },
   {
    "duration": 4,
    "start_time": "2022-12-03T21:50:20.622Z"
   },
   {
    "duration": 38,
    "start_time": "2022-12-03T21:50:20.628Z"
   },
   {
    "duration": 8,
    "start_time": "2022-12-03T21:50:20.668Z"
   },
   {
    "duration": 13,
    "start_time": "2022-12-03T21:50:20.678Z"
   },
   {
    "duration": 27,
    "start_time": "2022-12-03T21:50:20.693Z"
   },
   {
    "duration": 34,
    "start_time": "2022-12-03T21:50:20.722Z"
   },
   {
    "duration": 38,
    "start_time": "2022-12-03T21:50:20.758Z"
   },
   {
    "duration": 20,
    "start_time": "2022-12-03T21:50:20.798Z"
   },
   {
    "duration": 13,
    "start_time": "2022-12-03T21:51:13.652Z"
   },
   {
    "duration": 11,
    "start_time": "2022-12-03T21:51:29.751Z"
   },
   {
    "duration": 12,
    "start_time": "2022-12-03T21:52:01.862Z"
   },
   {
    "duration": 9,
    "start_time": "2022-12-03T21:52:22.717Z"
   },
   {
    "duration": 9,
    "start_time": "2022-12-03T21:56:11.233Z"
   },
   {
    "duration": 6,
    "start_time": "2022-12-03T21:56:22.297Z"
   },
   {
    "duration": 6,
    "start_time": "2022-12-03T21:56:44.618Z"
   },
   {
    "duration": 6,
    "start_time": "2022-12-03T21:56:47.206Z"
   },
   {
    "duration": 8,
    "start_time": "2022-12-03T21:57:17.193Z"
   },
   {
    "duration": 47,
    "start_time": "2022-12-04T06:37:16.536Z"
   },
   {
    "duration": 1338,
    "start_time": "2022-12-04T06:37:20.680Z"
   },
   {
    "duration": 238,
    "start_time": "2022-12-04T06:37:22.021Z"
   },
   {
    "duration": 16,
    "start_time": "2022-12-04T06:37:22.261Z"
   },
   {
    "duration": 23,
    "start_time": "2022-12-04T06:37:22.279Z"
   },
   {
    "duration": 39,
    "start_time": "2022-12-04T06:37:22.303Z"
   },
   {
    "duration": 15,
    "start_time": "2022-12-04T06:37:22.344Z"
   },
   {
    "duration": 15,
    "start_time": "2022-12-04T06:37:22.361Z"
   },
   {
    "duration": 6,
    "start_time": "2022-12-04T06:37:22.378Z"
   },
   {
    "duration": 27,
    "start_time": "2022-12-04T06:37:22.386Z"
   },
   {
    "duration": 120,
    "start_time": "2022-12-04T06:37:22.416Z"
   },
   {
    "duration": 6,
    "start_time": "2022-12-04T06:37:22.538Z"
   },
   {
    "duration": 10,
    "start_time": "2022-12-04T06:37:22.546Z"
   },
   {
    "duration": 12,
    "start_time": "2022-12-04T06:37:22.557Z"
   },
   {
    "duration": 12,
    "start_time": "2022-12-04T06:37:22.571Z"
   },
   {
    "duration": 29,
    "start_time": "2022-12-04T06:37:22.585Z"
   },
   {
    "duration": 10,
    "start_time": "2022-12-04T06:37:22.616Z"
   },
   {
    "duration": 22,
    "start_time": "2022-12-04T06:37:22.629Z"
   },
   {
    "duration": 492,
    "start_time": "2022-12-04T06:37:22.652Z"
   },
   {
    "duration": 24,
    "start_time": "2022-12-04T06:37:23.146Z"
   },
   {
    "duration": 444,
    "start_time": "2022-12-04T06:37:23.172Z"
   },
   {
    "duration": 6,
    "start_time": "2022-12-04T06:37:23.617Z"
   },
   {
    "duration": 549,
    "start_time": "2022-12-04T06:37:23.625Z"
   },
   {
    "duration": 20,
    "start_time": "2022-12-04T06:37:24.176Z"
   },
   {
    "duration": 33,
    "start_time": "2022-12-04T06:37:24.197Z"
   },
   {
    "duration": 9,
    "start_time": "2022-12-04T06:37:24.231Z"
   },
   {
    "duration": 402,
    "start_time": "2022-12-04T06:37:24.242Z"
   },
   {
    "duration": 6,
    "start_time": "2022-12-04T06:37:24.645Z"
   },
   {
    "duration": 499,
    "start_time": "2022-12-04T06:37:24.653Z"
   },
   {
    "duration": 13,
    "start_time": "2022-12-04T06:37:25.154Z"
   },
   {
    "duration": 156,
    "start_time": "2022-12-04T06:37:25.169Z"
   },
   {
    "duration": 4,
    "start_time": "2022-12-04T06:37:25.327Z"
   },
   {
    "duration": 214,
    "start_time": "2022-12-04T06:37:25.333Z"
   },
   {
    "duration": 5,
    "start_time": "2022-12-04T06:37:25.549Z"
   },
   {
    "duration": 9,
    "start_time": "2022-12-04T06:37:25.556Z"
   },
   {
    "duration": 8,
    "start_time": "2022-12-04T06:37:25.567Z"
   },
   {
    "duration": 42,
    "start_time": "2022-12-04T06:37:25.577Z"
   },
   {
    "duration": 10,
    "start_time": "2022-12-04T06:37:25.621Z"
   },
   {
    "duration": 12,
    "start_time": "2022-12-04T06:37:25.633Z"
   },
   {
    "duration": 13,
    "start_time": "2022-12-04T06:37:25.647Z"
   },
   {
    "duration": 9,
    "start_time": "2022-12-04T06:37:25.662Z"
   },
   {
    "duration": 43,
    "start_time": "2022-12-04T06:37:44.510Z"
   },
   {
    "duration": 9,
    "start_time": "2022-12-04T06:38:04.839Z"
   },
   {
    "duration": 16,
    "start_time": "2022-12-04T06:38:36.289Z"
   },
   {
    "duration": 16,
    "start_time": "2022-12-04T06:39:47.269Z"
   },
   {
    "duration": 13,
    "start_time": "2022-12-04T06:40:02.049Z"
   },
   {
    "duration": 11,
    "start_time": "2022-12-04T06:40:37.322Z"
   },
   {
    "duration": 8,
    "start_time": "2022-12-04T06:40:49.928Z"
   },
   {
    "duration": 7,
    "start_time": "2022-12-04T06:41:05.460Z"
   },
   {
    "duration": 8,
    "start_time": "2022-12-04T06:41:31.630Z"
   },
   {
    "duration": 14,
    "start_time": "2022-12-04T06:42:17.517Z"
   },
   {
    "duration": 10,
    "start_time": "2022-12-04T06:42:45.165Z"
   },
   {
    "duration": 5,
    "start_time": "2022-12-04T06:43:15.768Z"
   },
   {
    "duration": 5,
    "start_time": "2022-12-04T06:43:25.224Z"
   },
   {
    "duration": 11,
    "start_time": "2022-12-04T06:43:32.243Z"
   },
   {
    "duration": 10,
    "start_time": "2022-12-04T06:43:51.155Z"
   },
   {
    "duration": 13,
    "start_time": "2022-12-04T06:44:02.098Z"
   },
   {
    "duration": 1113,
    "start_time": "2022-12-04T06:44:19.848Z"
   },
   {
    "duration": 77,
    "start_time": "2022-12-04T06:44:20.964Z"
   },
   {
    "duration": 20,
    "start_time": "2022-12-04T06:44:21.042Z"
   },
   {
    "duration": 14,
    "start_time": "2022-12-04T06:44:21.065Z"
   },
   {
    "duration": 32,
    "start_time": "2022-12-04T06:44:21.081Z"
   },
   {
    "duration": 15,
    "start_time": "2022-12-04T06:44:21.115Z"
   },
   {
    "duration": 17,
    "start_time": "2022-12-04T06:44:21.132Z"
   },
   {
    "duration": 4,
    "start_time": "2022-12-04T06:44:21.151Z"
   },
   {
    "duration": 7,
    "start_time": "2022-12-04T06:44:21.156Z"
   },
   {
    "duration": 133,
    "start_time": "2022-12-04T06:44:21.166Z"
   },
   {
    "duration": 13,
    "start_time": "2022-12-04T06:44:21.300Z"
   },
   {
    "duration": 9,
    "start_time": "2022-12-04T06:44:21.315Z"
   },
   {
    "duration": 17,
    "start_time": "2022-12-04T06:44:21.325Z"
   },
   {
    "duration": 10,
    "start_time": "2022-12-04T06:44:21.343Z"
   },
   {
    "duration": 8,
    "start_time": "2022-12-04T06:44:21.355Z"
   },
   {
    "duration": 11,
    "start_time": "2022-12-04T06:44:21.364Z"
   },
   {
    "duration": 50,
    "start_time": "2022-12-04T06:44:21.376Z"
   },
   {
    "duration": 452,
    "start_time": "2022-12-04T06:44:21.427Z"
   },
   {
    "duration": 33,
    "start_time": "2022-12-04T06:44:21.881Z"
   },
   {
    "duration": 432,
    "start_time": "2022-12-04T06:44:21.915Z"
   },
   {
    "duration": 5,
    "start_time": "2022-12-04T06:44:22.350Z"
   },
   {
    "duration": 481,
    "start_time": "2022-12-04T06:44:22.357Z"
   },
   {
    "duration": 20,
    "start_time": "2022-12-04T06:44:22.839Z"
   },
   {
    "duration": 25,
    "start_time": "2022-12-04T06:44:22.860Z"
   },
   {
    "duration": 28,
    "start_time": "2022-12-04T06:44:22.887Z"
   },
   {
    "duration": 415,
    "start_time": "2022-12-04T06:44:22.917Z"
   },
   {
    "duration": 5,
    "start_time": "2022-12-04T06:44:23.334Z"
   },
   {
    "duration": 495,
    "start_time": "2022-12-04T06:44:23.342Z"
   },
   {
    "duration": 13,
    "start_time": "2022-12-04T06:44:23.839Z"
   },
   {
    "duration": 175,
    "start_time": "2022-12-04T06:44:23.854Z"
   },
   {
    "duration": 4,
    "start_time": "2022-12-04T06:44:24.031Z"
   },
   {
    "duration": 234,
    "start_time": "2022-12-04T06:44:24.037Z"
   },
   {
    "duration": 4,
    "start_time": "2022-12-04T06:44:24.273Z"
   },
   {
    "duration": 10,
    "start_time": "2022-12-04T06:44:24.279Z"
   },
   {
    "duration": 25,
    "start_time": "2022-12-04T06:44:24.291Z"
   },
   {
    "duration": 12,
    "start_time": "2022-12-04T06:44:24.317Z"
   },
   {
    "duration": 9,
    "start_time": "2022-12-04T06:44:24.331Z"
   },
   {
    "duration": 9,
    "start_time": "2022-12-04T06:44:24.342Z"
   },
   {
    "duration": 12,
    "start_time": "2022-12-04T06:44:24.353Z"
   },
   {
    "duration": 47,
    "start_time": "2022-12-04T06:44:24.366Z"
   },
   {
    "duration": 111,
    "start_time": "2022-12-04T06:45:34.979Z"
   },
   {
    "duration": 997,
    "start_time": "2022-12-04T06:46:32.484Z"
   },
   {
    "duration": 5,
    "start_time": "2022-12-04T06:46:41.344Z"
   },
   {
    "duration": 8,
    "start_time": "2022-12-04T06:46:48.799Z"
   },
   {
    "duration": 6,
    "start_time": "2022-12-04T06:48:18.523Z"
   },
   {
    "duration": 7,
    "start_time": "2022-12-04T06:49:03.831Z"
   },
   {
    "duration": 15,
    "start_time": "2022-12-04T06:49:40.323Z"
   },
   {
    "duration": 15,
    "start_time": "2022-12-04T06:50:28.204Z"
   },
   {
    "duration": 8,
    "start_time": "2022-12-04T06:50:38.787Z"
   },
   {
    "duration": 14,
    "start_time": "2022-12-04T06:50:45.028Z"
   },
   {
    "duration": 12,
    "start_time": "2022-12-04T06:50:51.603Z"
   },
   {
    "duration": 13,
    "start_time": "2022-12-04T06:50:57.350Z"
   },
   {
    "duration": 12,
    "start_time": "2022-12-04T06:51:03.739Z"
   },
   {
    "duration": 12,
    "start_time": "2022-12-04T06:51:14.419Z"
   },
   {
    "duration": 7,
    "start_time": "2022-12-04T06:52:02.616Z"
   },
   {
    "duration": 7,
    "start_time": "2022-12-04T06:52:50.996Z"
   },
   {
    "duration": 7,
    "start_time": "2022-12-04T06:52:55.666Z"
   },
   {
    "duration": 7,
    "start_time": "2022-12-04T06:53:09.128Z"
   },
   {
    "duration": 6,
    "start_time": "2022-12-04T06:53:27.314Z"
   },
   {
    "duration": 12,
    "start_time": "2022-12-04T06:53:49.653Z"
   },
   {
    "duration": 15,
    "start_time": "2022-12-04T06:54:19.087Z"
   },
   {
    "duration": 17,
    "start_time": "2022-12-04T06:54:31.450Z"
   },
   {
    "duration": 8,
    "start_time": "2022-12-04T06:54:36.233Z"
   },
   {
    "duration": 8,
    "start_time": "2022-12-04T06:54:50.776Z"
   },
   {
    "duration": 11,
    "start_time": "2022-12-04T06:55:35.492Z"
   },
   {
    "duration": 13,
    "start_time": "2022-12-04T06:55:54.502Z"
   },
   {
    "duration": 7,
    "start_time": "2022-12-04T06:56:23.537Z"
   },
   {
    "duration": 11,
    "start_time": "2022-12-04T06:56:34.640Z"
   },
   {
    "duration": 1130,
    "start_time": "2022-12-04T06:56:39.363Z"
   },
   {
    "duration": 78,
    "start_time": "2022-12-04T06:56:40.495Z"
   },
   {
    "duration": 20,
    "start_time": "2022-12-04T06:56:40.575Z"
   },
   {
    "duration": 16,
    "start_time": "2022-12-04T06:56:40.599Z"
   },
   {
    "duration": 42,
    "start_time": "2022-12-04T06:56:40.618Z"
   },
   {
    "duration": 15,
    "start_time": "2022-12-04T06:56:40.663Z"
   },
   {
    "duration": 40,
    "start_time": "2022-12-04T06:56:40.680Z"
   },
   {
    "duration": 6,
    "start_time": "2022-12-04T06:56:40.722Z"
   },
   {
    "duration": 8,
    "start_time": "2022-12-04T06:56:40.731Z"
   },
   {
    "duration": 144,
    "start_time": "2022-12-04T06:56:40.744Z"
   },
   {
    "duration": 28,
    "start_time": "2022-12-04T06:56:40.891Z"
   },
   {
    "duration": 13,
    "start_time": "2022-12-04T06:56:40.922Z"
   },
   {
    "duration": 10,
    "start_time": "2022-12-04T06:56:40.937Z"
   },
   {
    "duration": 16,
    "start_time": "2022-12-04T06:56:40.950Z"
   },
   {
    "duration": 53,
    "start_time": "2022-12-04T06:56:40.968Z"
   },
   {
    "duration": 14,
    "start_time": "2022-12-04T06:56:41.023Z"
   },
   {
    "duration": 26,
    "start_time": "2022-12-04T06:56:41.039Z"
   },
   {
    "duration": 544,
    "start_time": "2022-12-04T06:56:41.067Z"
   },
   {
    "duration": 36,
    "start_time": "2022-12-04T06:56:41.614Z"
   },
   {
    "duration": 485,
    "start_time": "2022-12-04T06:56:41.651Z"
   },
   {
    "duration": 6,
    "start_time": "2022-12-04T06:56:42.138Z"
   },
   {
    "duration": 534,
    "start_time": "2022-12-04T06:56:42.147Z"
   },
   {
    "duration": 32,
    "start_time": "2022-12-04T06:56:42.683Z"
   },
   {
    "duration": 40,
    "start_time": "2022-12-04T06:56:42.718Z"
   },
   {
    "duration": 13,
    "start_time": "2022-12-04T06:56:42.761Z"
   },
   {
    "duration": 456,
    "start_time": "2022-12-04T06:56:42.776Z"
   },
   {
    "duration": 7,
    "start_time": "2022-12-04T06:56:43.235Z"
   },
   {
    "duration": 527,
    "start_time": "2022-12-04T06:56:43.247Z"
   },
   {
    "duration": 17,
    "start_time": "2022-12-04T06:56:43.776Z"
   },
   {
    "duration": 201,
    "start_time": "2022-12-04T06:56:43.796Z"
   },
   {
    "duration": 6,
    "start_time": "2022-12-04T06:56:43.999Z"
   },
   {
    "duration": 251,
    "start_time": "2022-12-04T06:56:44.013Z"
   },
   {
    "duration": 7,
    "start_time": "2022-12-04T06:56:44.266Z"
   },
   {
    "duration": 14,
    "start_time": "2022-12-04T06:56:44.275Z"
   },
   {
    "duration": 28,
    "start_time": "2022-12-04T06:56:44.292Z"
   },
   {
    "duration": 16,
    "start_time": "2022-12-04T06:56:44.322Z"
   },
   {
    "duration": 10,
    "start_time": "2022-12-04T06:56:44.340Z"
   },
   {
    "duration": 14,
    "start_time": "2022-12-04T06:56:44.352Z"
   },
   {
    "duration": 51,
    "start_time": "2022-12-04T06:56:44.368Z"
   },
   {
    "duration": 25,
    "start_time": "2022-12-04T06:56:44.421Z"
   },
   {
    "duration": 1158,
    "start_time": "2022-12-04T06:58:11.721Z"
   },
   {
    "duration": 81,
    "start_time": "2022-12-04T06:58:12.882Z"
   },
   {
    "duration": 17,
    "start_time": "2022-12-04T06:58:12.967Z"
   },
   {
    "duration": 16,
    "start_time": "2022-12-04T06:58:12.986Z"
   },
   {
    "duration": 26,
    "start_time": "2022-12-04T06:58:13.004Z"
   },
   {
    "duration": 16,
    "start_time": "2022-12-04T06:58:13.032Z"
   },
   {
    "duration": 18,
    "start_time": "2022-12-04T06:58:13.051Z"
   },
   {
    "duration": 7,
    "start_time": "2022-12-04T06:58:13.072Z"
   },
   {
    "duration": 9,
    "start_time": "2022-12-04T06:58:13.082Z"
   },
   {
    "duration": 125,
    "start_time": "2022-12-04T06:58:13.113Z"
   },
   {
    "duration": 7,
    "start_time": "2022-12-04T06:58:13.239Z"
   },
   {
    "duration": 9,
    "start_time": "2022-12-04T06:58:13.248Z"
   },
   {
    "duration": 7,
    "start_time": "2022-12-04T06:58:13.258Z"
   },
   {
    "duration": 49,
    "start_time": "2022-12-04T06:58:13.266Z"
   },
   {
    "duration": 9,
    "start_time": "2022-12-04T06:58:13.317Z"
   },
   {
    "duration": 9,
    "start_time": "2022-12-04T06:58:13.328Z"
   },
   {
    "duration": 20,
    "start_time": "2022-12-04T06:58:13.339Z"
   },
   {
    "duration": 530,
    "start_time": "2022-12-04T06:58:13.360Z"
   },
   {
    "duration": 30,
    "start_time": "2022-12-04T06:58:13.892Z"
   },
   {
    "duration": 551,
    "start_time": "2022-12-04T06:58:13.924Z"
   },
   {
    "duration": 7,
    "start_time": "2022-12-04T06:58:14.477Z"
   },
   {
    "duration": 563,
    "start_time": "2022-12-04T06:58:14.486Z"
   },
   {
    "duration": 21,
    "start_time": "2022-12-04T06:58:15.051Z"
   },
   {
    "duration": 52,
    "start_time": "2022-12-04T06:58:15.074Z"
   },
   {
    "duration": 12,
    "start_time": "2022-12-04T06:58:15.128Z"
   },
   {
    "duration": 433,
    "start_time": "2022-12-04T06:58:15.142Z"
   },
   {
    "duration": 8,
    "start_time": "2022-12-04T06:58:15.581Z"
   },
   {
    "duration": 547,
    "start_time": "2022-12-04T06:58:15.591Z"
   },
   {
    "duration": 14,
    "start_time": "2022-12-04T06:58:16.139Z"
   },
   {
    "duration": 193,
    "start_time": "2022-12-04T06:58:16.155Z"
   },
   {
    "duration": 6,
    "start_time": "2022-12-04T06:58:16.350Z"
   },
   {
    "duration": 269,
    "start_time": "2022-12-04T06:58:16.358Z"
   },
   {
    "duration": 5,
    "start_time": "2022-12-04T06:58:16.630Z"
   },
   {
    "duration": 10,
    "start_time": "2022-12-04T06:58:16.637Z"
   },
   {
    "duration": 9,
    "start_time": "2022-12-04T06:58:16.648Z"
   },
   {
    "duration": 20,
    "start_time": "2022-12-04T06:58:16.659Z"
   },
   {
    "duration": 38,
    "start_time": "2022-12-04T06:58:16.681Z"
   },
   {
    "duration": 9,
    "start_time": "2022-12-04T06:58:16.721Z"
   },
   {
    "duration": 15,
    "start_time": "2022-12-04T06:58:16.732Z"
   },
   {
    "duration": 11,
    "start_time": "2022-12-04T06:58:16.749Z"
   },
   {
    "duration": 1146,
    "start_time": "2022-12-04T06:59:49.847Z"
   },
   {
    "duration": 80,
    "start_time": "2022-12-04T06:59:50.995Z"
   },
   {
    "duration": 19,
    "start_time": "2022-12-04T06:59:51.076Z"
   },
   {
    "duration": 15,
    "start_time": "2022-12-04T06:59:51.097Z"
   },
   {
    "duration": 28,
    "start_time": "2022-12-04T06:59:51.114Z"
   },
   {
    "duration": 15,
    "start_time": "2022-12-04T06:59:51.144Z"
   },
   {
    "duration": 22,
    "start_time": "2022-12-04T06:59:51.161Z"
   },
   {
    "duration": 33,
    "start_time": "2022-12-04T06:59:51.184Z"
   },
   {
    "duration": 9,
    "start_time": "2022-12-04T06:59:51.219Z"
   },
   {
    "duration": 136,
    "start_time": "2022-12-04T06:59:51.231Z"
   },
   {
    "duration": 8,
    "start_time": "2022-12-04T06:59:51.369Z"
   },
   {
    "duration": 11,
    "start_time": "2022-12-04T06:59:51.379Z"
   },
   {
    "duration": 12,
    "start_time": "2022-12-04T06:59:51.412Z"
   },
   {
    "duration": 13,
    "start_time": "2022-12-04T06:59:51.427Z"
   },
   {
    "duration": 10,
    "start_time": "2022-12-04T06:59:51.443Z"
   },
   {
    "duration": 13,
    "start_time": "2022-12-04T06:59:51.454Z"
   },
   {
    "duration": 47,
    "start_time": "2022-12-04T06:59:51.469Z"
   },
   {
    "duration": 503,
    "start_time": "2022-12-04T06:59:51.518Z"
   },
   {
    "duration": 26,
    "start_time": "2022-12-04T06:59:52.023Z"
   },
   {
    "duration": 477,
    "start_time": "2022-12-04T06:59:52.051Z"
   },
   {
    "duration": 6,
    "start_time": "2022-12-04T06:59:52.531Z"
   },
   {
    "duration": 530,
    "start_time": "2022-12-04T06:59:52.539Z"
   },
   {
    "duration": 22,
    "start_time": "2022-12-04T06:59:53.071Z"
   },
   {
    "duration": 42,
    "start_time": "2022-12-04T06:59:53.096Z"
   },
   {
    "duration": 10,
    "start_time": "2022-12-04T06:59:53.140Z"
   },
   {
    "duration": 457,
    "start_time": "2022-12-04T06:59:53.152Z"
   },
   {
    "duration": 10,
    "start_time": "2022-12-04T06:59:53.612Z"
   },
   {
    "duration": 583,
    "start_time": "2022-12-04T06:59:53.626Z"
   },
   {
    "duration": 16,
    "start_time": "2022-12-04T06:59:54.222Z"
   },
   {
    "duration": 219,
    "start_time": "2022-12-04T06:59:54.240Z"
   },
   {
    "duration": 6,
    "start_time": "2022-12-04T06:59:54.460Z"
   },
   {
    "duration": 267,
    "start_time": "2022-12-04T06:59:54.468Z"
   },
   {
    "duration": 5,
    "start_time": "2022-12-04T06:59:54.737Z"
   },
   {
    "duration": 11,
    "start_time": "2022-12-04T06:59:54.744Z"
   },
   {
    "duration": 9,
    "start_time": "2022-12-04T06:59:54.756Z"
   },
   {
    "duration": 15,
    "start_time": "2022-12-04T06:59:54.766Z"
   },
   {
    "duration": 48,
    "start_time": "2022-12-04T06:59:54.782Z"
   },
   {
    "duration": 10,
    "start_time": "2022-12-04T06:59:54.832Z"
   },
   {
    "duration": 11,
    "start_time": "2022-12-04T06:59:54.844Z"
   },
   {
    "duration": 17,
    "start_time": "2022-12-04T06:59:54.857Z"
   },
   {
    "duration": 112,
    "start_time": "2022-12-04T07:02:36.013Z"
   },
   {
    "duration": 8,
    "start_time": "2022-12-04T07:02:48.175Z"
   },
   {
    "duration": 1162,
    "start_time": "2022-12-04T07:02:56.857Z"
   },
   {
    "duration": 82,
    "start_time": "2022-12-04T07:02:58.021Z"
   },
   {
    "duration": 20,
    "start_time": "2022-12-04T07:02:58.105Z"
   },
   {
    "duration": 16,
    "start_time": "2022-12-04T07:02:58.128Z"
   },
   {
    "duration": 38,
    "start_time": "2022-12-04T07:02:58.146Z"
   },
   {
    "duration": 36,
    "start_time": "2022-12-04T07:02:58.187Z"
   },
   {
    "duration": 16,
    "start_time": "2022-12-04T07:02:58.225Z"
   },
   {
    "duration": 11,
    "start_time": "2022-12-04T07:02:58.243Z"
   },
   {
    "duration": 7,
    "start_time": "2022-12-04T07:02:58.256Z"
   },
   {
    "duration": 162,
    "start_time": "2022-12-04T07:02:58.267Z"
   },
   {
    "duration": 8,
    "start_time": "2022-12-04T07:02:58.431Z"
   },
   {
    "duration": 20,
    "start_time": "2022-12-04T07:02:58.441Z"
   },
   {
    "duration": 26,
    "start_time": "2022-12-04T07:02:58.463Z"
   },
   {
    "duration": 21,
    "start_time": "2022-12-04T07:02:58.491Z"
   },
   {
    "duration": 20,
    "start_time": "2022-12-04T07:02:58.513Z"
   },
   {
    "duration": 19,
    "start_time": "2022-12-04T07:02:58.536Z"
   },
   {
    "duration": 36,
    "start_time": "2022-12-04T07:02:58.557Z"
   },
   {
    "duration": 505,
    "start_time": "2022-12-04T07:02:58.595Z"
   },
   {
    "duration": 35,
    "start_time": "2022-12-04T07:02:59.102Z"
   },
   {
    "duration": 485,
    "start_time": "2022-12-04T07:02:59.139Z"
   },
   {
    "duration": 7,
    "start_time": "2022-12-04T07:02:59.627Z"
   },
   {
    "duration": 521,
    "start_time": "2022-12-04T07:02:59.636Z"
   },
   {
    "duration": 20,
    "start_time": "2022-12-04T07:03:00.160Z"
   },
   {
    "duration": 49,
    "start_time": "2022-12-04T07:03:00.181Z"
   },
   {
    "duration": 13,
    "start_time": "2022-12-04T07:03:00.232Z"
   },
   {
    "duration": 442,
    "start_time": "2022-12-04T07:03:00.247Z"
   },
   {
    "duration": 6,
    "start_time": "2022-12-04T07:03:00.691Z"
   },
   {
    "duration": 550,
    "start_time": "2022-12-04T07:03:00.711Z"
   },
   {
    "duration": 15,
    "start_time": "2022-12-04T07:03:01.262Z"
   },
   {
    "duration": 187,
    "start_time": "2022-12-04T07:03:01.278Z"
   },
   {
    "duration": 6,
    "start_time": "2022-12-04T07:03:01.469Z"
   },
   {
    "duration": 257,
    "start_time": "2022-12-04T07:03:01.477Z"
   },
   {
    "duration": 6,
    "start_time": "2022-12-04T07:03:01.736Z"
   },
   {
    "duration": 22,
    "start_time": "2022-12-04T07:03:01.743Z"
   },
   {
    "duration": 10,
    "start_time": "2022-12-04T07:03:01.767Z"
   },
   {
    "duration": 34,
    "start_time": "2022-12-04T07:03:01.780Z"
   },
   {
    "duration": 10,
    "start_time": "2022-12-04T07:03:01.816Z"
   },
   {
    "duration": 38,
    "start_time": "2022-12-04T07:03:01.828Z"
   },
   {
    "duration": 17,
    "start_time": "2022-12-04T07:03:01.868Z"
   },
   {
    "duration": 8,
    "start_time": "2022-12-04T07:03:01.888Z"
   },
   {
    "duration": 9,
    "start_time": "2022-12-04T07:03:14.595Z"
   },
   {
    "duration": 18,
    "start_time": "2022-12-04T07:06:03.699Z"
   },
   {
    "duration": 278,
    "start_time": "2022-12-04T07:06:58.879Z"
   },
   {
    "duration": 132,
    "start_time": "2022-12-04T07:07:25.470Z"
   },
   {
    "duration": 142,
    "start_time": "2022-12-04T07:07:48.966Z"
   },
   {
    "duration": 113,
    "start_time": "2022-12-04T07:08:44.630Z"
   },
   {
    "duration": 124,
    "start_time": "2022-12-04T07:08:55.370Z"
   },
   {
    "duration": 115,
    "start_time": "2022-12-04T07:09:06.956Z"
   },
   {
    "duration": 1051,
    "start_time": "2022-12-04T07:10:05.690Z"
   },
   {
    "duration": 108,
    "start_time": "2022-12-04T07:21:12.892Z"
   },
   {
    "duration": 10,
    "start_time": "2022-12-04T07:22:37.248Z"
   },
   {
    "duration": 1165,
    "start_time": "2022-12-04T07:22:48.331Z"
   },
   {
    "duration": 78,
    "start_time": "2022-12-04T07:22:49.498Z"
   },
   {
    "duration": 17,
    "start_time": "2022-12-04T07:22:49.578Z"
   },
   {
    "duration": 13,
    "start_time": "2022-12-04T07:22:49.597Z"
   },
   {
    "duration": 26,
    "start_time": "2022-12-04T07:22:49.611Z"
   },
   {
    "duration": 15,
    "start_time": "2022-12-04T07:22:49.638Z"
   },
   {
    "duration": 23,
    "start_time": "2022-12-04T07:22:49.654Z"
   },
   {
    "duration": 5,
    "start_time": "2022-12-04T07:22:49.679Z"
   },
   {
    "duration": 29,
    "start_time": "2022-12-04T07:22:49.686Z"
   },
   {
    "duration": 12,
    "start_time": "2022-12-04T07:22:49.718Z"
   },
   {
    "duration": 7,
    "start_time": "2022-12-04T07:22:49.731Z"
   },
   {
    "duration": 9,
    "start_time": "2022-12-04T07:22:49.740Z"
   },
   {
    "duration": 128,
    "start_time": "2022-12-04T07:22:49.750Z"
   },
   {
    "duration": 9,
    "start_time": "2022-12-04T07:22:49.880Z"
   },
   {
    "duration": 32,
    "start_time": "2022-12-04T07:22:49.891Z"
   },
   {
    "duration": 12,
    "start_time": "2022-12-04T07:22:49.926Z"
   },
   {
    "duration": 29,
    "start_time": "2022-12-04T07:22:49.940Z"
   },
   {
    "duration": 516,
    "start_time": "2022-12-04T07:22:49.971Z"
   },
   {
    "duration": 32,
    "start_time": "2022-12-04T07:22:50.489Z"
   },
   {
    "duration": 457,
    "start_time": "2022-12-04T07:22:50.523Z"
   },
   {
    "duration": 6,
    "start_time": "2022-12-04T07:22:50.982Z"
   },
   {
    "duration": 519,
    "start_time": "2022-12-04T07:22:50.990Z"
   },
   {
    "duration": 20,
    "start_time": "2022-12-04T07:22:51.512Z"
   },
   {
    "duration": 22,
    "start_time": "2022-12-04T07:22:51.534Z"
   },
   {
    "duration": 10,
    "start_time": "2022-12-04T07:22:51.558Z"
   },
   {
    "duration": 403,
    "start_time": "2022-12-04T07:22:51.570Z"
   },
   {
    "duration": 7,
    "start_time": "2022-12-04T07:22:51.975Z"
   },
   {
    "duration": 523,
    "start_time": "2022-12-04T07:22:51.985Z"
   },
   {
    "duration": 13,
    "start_time": "2022-12-04T07:22:52.511Z"
   },
   {
    "duration": 171,
    "start_time": "2022-12-04T07:22:52.526Z"
   },
   {
    "duration": 12,
    "start_time": "2022-12-04T07:22:52.699Z"
   },
   {
    "duration": 215,
    "start_time": "2022-12-04T07:22:52.713Z"
   },
   {
    "duration": 5,
    "start_time": "2022-12-04T07:22:52.929Z"
   },
   {
    "duration": 10,
    "start_time": "2022-12-04T07:22:52.936Z"
   },
   {
    "duration": 10,
    "start_time": "2022-12-04T07:22:52.948Z"
   },
   {
    "duration": 12,
    "start_time": "2022-12-04T07:22:52.960Z"
   },
   {
    "duration": 42,
    "start_time": "2022-12-04T07:22:52.974Z"
   },
   {
    "duration": 9,
    "start_time": "2022-12-04T07:22:53.018Z"
   },
   {
    "duration": 15,
    "start_time": "2022-12-04T07:22:53.029Z"
   },
   {
    "duration": 9,
    "start_time": "2022-12-04T07:22:53.046Z"
   },
   {
    "duration": 626,
    "start_time": "2022-12-04T07:23:22.017Z"
   },
   {
    "duration": 12,
    "start_time": "2022-12-04T07:23:49.248Z"
   },
   {
    "duration": 1160,
    "start_time": "2022-12-04T07:23:54.202Z"
   },
   {
    "duration": 77,
    "start_time": "2022-12-04T07:23:55.364Z"
   },
   {
    "duration": 16,
    "start_time": "2022-12-04T07:23:55.443Z"
   },
   {
    "duration": 18,
    "start_time": "2022-12-04T07:23:55.462Z"
   },
   {
    "duration": 36,
    "start_time": "2022-12-04T07:23:55.481Z"
   },
   {
    "duration": 16,
    "start_time": "2022-12-04T07:23:55.519Z"
   },
   {
    "duration": 17,
    "start_time": "2022-12-04T07:23:55.537Z"
   },
   {
    "duration": 5,
    "start_time": "2022-12-04T07:23:55.555Z"
   },
   {
    "duration": 17,
    "start_time": "2022-12-04T07:23:55.562Z"
   },
   {
    "duration": 29,
    "start_time": "2022-12-04T07:23:55.583Z"
   },
   {
    "duration": 14,
    "start_time": "2022-12-04T07:23:55.614Z"
   },
   {
    "duration": 118,
    "start_time": "2022-12-04T07:23:55.630Z"
   },
   {
    "duration": 0,
    "start_time": "2022-12-04T07:23:55.751Z"
   },
   {
    "duration": 0,
    "start_time": "2022-12-04T07:23:55.752Z"
   },
   {
    "duration": 0,
    "start_time": "2022-12-04T07:23:55.753Z"
   },
   {
    "duration": 0,
    "start_time": "2022-12-04T07:23:55.755Z"
   },
   {
    "duration": 0,
    "start_time": "2022-12-04T07:23:55.756Z"
   },
   {
    "duration": 0,
    "start_time": "2022-12-04T07:23:55.757Z"
   },
   {
    "duration": 0,
    "start_time": "2022-12-04T07:23:55.758Z"
   },
   {
    "duration": 0,
    "start_time": "2022-12-04T07:23:55.760Z"
   },
   {
    "duration": 0,
    "start_time": "2022-12-04T07:23:55.762Z"
   },
   {
    "duration": 0,
    "start_time": "2022-12-04T07:23:55.764Z"
   },
   {
    "duration": 0,
    "start_time": "2022-12-04T07:23:55.765Z"
   },
   {
    "duration": 0,
    "start_time": "2022-12-04T07:23:55.766Z"
   },
   {
    "duration": 0,
    "start_time": "2022-12-04T07:23:55.768Z"
   },
   {
    "duration": 0,
    "start_time": "2022-12-04T07:23:55.769Z"
   },
   {
    "duration": 0,
    "start_time": "2022-12-04T07:23:55.770Z"
   },
   {
    "duration": 0,
    "start_time": "2022-12-04T07:23:55.771Z"
   },
   {
    "duration": 0,
    "start_time": "2022-12-04T07:23:55.772Z"
   },
   {
    "duration": 0,
    "start_time": "2022-12-04T07:23:55.773Z"
   },
   {
    "duration": 0,
    "start_time": "2022-12-04T07:23:55.812Z"
   },
   {
    "duration": 0,
    "start_time": "2022-12-04T07:23:55.814Z"
   },
   {
    "duration": 0,
    "start_time": "2022-12-04T07:23:55.815Z"
   },
   {
    "duration": 0,
    "start_time": "2022-12-04T07:23:55.816Z"
   },
   {
    "duration": 0,
    "start_time": "2022-12-04T07:23:55.817Z"
   },
   {
    "duration": 0,
    "start_time": "2022-12-04T07:23:55.818Z"
   },
   {
    "duration": 0,
    "start_time": "2022-12-04T07:23:55.819Z"
   },
   {
    "duration": 0,
    "start_time": "2022-12-04T07:23:55.820Z"
   },
   {
    "duration": 0,
    "start_time": "2022-12-04T07:23:55.821Z"
   },
   {
    "duration": 0,
    "start_time": "2022-12-04T07:23:55.822Z"
   },
   {
    "duration": 5,
    "start_time": "2022-12-04T07:24:33.583Z"
   },
   {
    "duration": 14,
    "start_time": "2022-12-04T07:24:40.894Z"
   },
   {
    "duration": 14,
    "start_time": "2022-12-04T07:24:49.644Z"
   },
   {
    "duration": 10,
    "start_time": "2022-12-04T07:25:20.376Z"
   },
   {
    "duration": 11,
    "start_time": "2022-12-04T07:25:35.007Z"
   },
   {
    "duration": 9,
    "start_time": "2022-12-04T07:26:47.173Z"
   },
   {
    "duration": 12,
    "start_time": "2022-12-04T07:27:16.492Z"
   },
   {
    "duration": 5,
    "start_time": "2022-12-04T07:27:30.232Z"
   },
   {
    "duration": 7,
    "start_time": "2022-12-04T07:27:40.892Z"
   },
   {
    "duration": 139,
    "start_time": "2022-12-04T07:27:56.513Z"
   },
   {
    "duration": 11,
    "start_time": "2022-12-04T07:28:26.470Z"
   },
   {
    "duration": 10,
    "start_time": "2022-12-04T07:29:53.570Z"
   },
   {
    "duration": 10,
    "start_time": "2022-12-04T07:30:03.618Z"
   },
   {
    "duration": 11,
    "start_time": "2022-12-04T07:30:11.357Z"
   },
   {
    "duration": 12,
    "start_time": "2022-12-04T07:30:35.784Z"
   },
   {
    "duration": 1156,
    "start_time": "2022-12-04T07:32:27.532Z"
   },
   {
    "duration": 81,
    "start_time": "2022-12-04T07:32:28.690Z"
   },
   {
    "duration": 24,
    "start_time": "2022-12-04T07:32:28.773Z"
   },
   {
    "duration": 19,
    "start_time": "2022-12-04T07:32:28.800Z"
   },
   {
    "duration": 28,
    "start_time": "2022-12-04T07:32:28.820Z"
   },
   {
    "duration": 19,
    "start_time": "2022-12-04T07:32:28.850Z"
   },
   {
    "duration": 18,
    "start_time": "2022-12-04T07:32:28.872Z"
   },
   {
    "duration": 25,
    "start_time": "2022-12-04T07:32:28.892Z"
   },
   {
    "duration": 9,
    "start_time": "2022-12-04T07:32:28.920Z"
   },
   {
    "duration": 12,
    "start_time": "2022-12-04T07:32:28.933Z"
   },
   {
    "duration": 8,
    "start_time": "2022-12-04T07:32:28.946Z"
   },
   {
    "duration": 8,
    "start_time": "2022-12-04T07:32:28.956Z"
   },
   {
    "duration": 51,
    "start_time": "2022-12-04T07:32:28.966Z"
   },
   {
    "duration": 12,
    "start_time": "2022-12-04T07:32:29.019Z"
   },
   {
    "duration": 11,
    "start_time": "2022-12-04T07:32:29.033Z"
   },
   {
    "duration": 10,
    "start_time": "2022-12-04T07:32:29.047Z"
   },
   {
    "duration": 22,
    "start_time": "2022-12-04T07:32:29.059Z"
   },
   {
    "duration": 526,
    "start_time": "2022-12-04T07:32:29.113Z"
   },
   {
    "duration": 28,
    "start_time": "2022-12-04T07:32:29.640Z"
   },
   {
    "duration": 530,
    "start_time": "2022-12-04T07:32:29.670Z"
   },
   {
    "duration": 6,
    "start_time": "2022-12-04T07:32:30.202Z"
   },
   {
    "duration": 523,
    "start_time": "2022-12-04T07:32:30.210Z"
   },
   {
    "duration": 21,
    "start_time": "2022-12-04T07:32:30.736Z"
   },
   {
    "duration": 38,
    "start_time": "2022-12-04T07:32:30.759Z"
   },
   {
    "duration": 30,
    "start_time": "2022-12-04T07:32:30.800Z"
   },
   {
    "duration": 409,
    "start_time": "2022-12-04T07:32:30.832Z"
   },
   {
    "duration": 7,
    "start_time": "2022-12-04T07:32:31.243Z"
   },
   {
    "duration": 515,
    "start_time": "2022-12-04T07:32:31.254Z"
   },
   {
    "duration": 16,
    "start_time": "2022-12-04T07:32:31.771Z"
   },
   {
    "duration": 199,
    "start_time": "2022-12-04T07:32:31.789Z"
   },
   {
    "duration": 6,
    "start_time": "2022-12-04T07:32:31.990Z"
   },
   {
    "duration": 233,
    "start_time": "2022-12-04T07:32:31.997Z"
   },
   {
    "duration": 5,
    "start_time": "2022-12-04T07:32:32.232Z"
   },
   {
    "duration": 16,
    "start_time": "2022-12-04T07:32:32.238Z"
   },
   {
    "duration": 8,
    "start_time": "2022-12-04T07:32:32.256Z"
   },
   {
    "duration": 11,
    "start_time": "2022-12-04T07:32:32.266Z"
   },
   {
    "duration": 9,
    "start_time": "2022-12-04T07:32:32.312Z"
   },
   {
    "duration": 8,
    "start_time": "2022-12-04T07:32:32.323Z"
   },
   {
    "duration": 16,
    "start_time": "2022-12-04T07:32:32.334Z"
   },
   {
    "duration": 10,
    "start_time": "2022-12-04T07:32:32.352Z"
   },
   {
    "duration": 10,
    "start_time": "2022-12-04T07:41:52.016Z"
   },
   {
    "duration": 9,
    "start_time": "2022-12-04T07:41:55.037Z"
   },
   {
    "duration": 11,
    "start_time": "2022-12-04T07:42:38.679Z"
   },
   {
    "duration": 8,
    "start_time": "2022-12-04T07:42:48.421Z"
   },
   {
    "duration": 1154,
    "start_time": "2022-12-04T07:46:32.738Z"
   },
   {
    "duration": 79,
    "start_time": "2022-12-04T07:46:33.893Z"
   },
   {
    "duration": 17,
    "start_time": "2022-12-04T07:46:33.974Z"
   },
   {
    "duration": 23,
    "start_time": "2022-12-04T07:46:33.994Z"
   },
   {
    "duration": 33,
    "start_time": "2022-12-04T07:46:34.019Z"
   },
   {
    "duration": 31,
    "start_time": "2022-12-04T07:46:34.054Z"
   },
   {
    "duration": 24,
    "start_time": "2022-12-04T07:46:34.087Z"
   },
   {
    "duration": 13,
    "start_time": "2022-12-04T07:46:34.113Z"
   },
   {
    "duration": 16,
    "start_time": "2022-12-04T07:46:34.128Z"
   },
   {
    "duration": 16,
    "start_time": "2022-12-04T07:46:34.147Z"
   },
   {
    "duration": 7,
    "start_time": "2022-12-04T07:46:34.165Z"
   },
   {
    "duration": 11,
    "start_time": "2022-12-04T07:46:34.173Z"
   },
   {
    "duration": 16,
    "start_time": "2022-12-04T07:46:34.186Z"
   },
   {
    "duration": 36,
    "start_time": "2022-12-04T07:46:34.204Z"
   },
   {
    "duration": 26,
    "start_time": "2022-12-04T07:46:34.241Z"
   },
   {
    "duration": 16,
    "start_time": "2022-12-04T07:46:34.269Z"
   },
   {
    "duration": 31,
    "start_time": "2022-12-04T07:46:34.287Z"
   },
   {
    "duration": 513,
    "start_time": "2022-12-04T07:46:34.319Z"
   },
   {
    "duration": 29,
    "start_time": "2022-12-04T07:46:34.834Z"
   },
   {
    "duration": 450,
    "start_time": "2022-12-04T07:46:34.865Z"
   },
   {
    "duration": 6,
    "start_time": "2022-12-04T07:46:35.317Z"
   },
   {
    "duration": 503,
    "start_time": "2022-12-04T07:46:35.324Z"
   },
   {
    "duration": 21,
    "start_time": "2022-12-04T07:46:35.829Z"
   },
   {
    "duration": 30,
    "start_time": "2022-12-04T07:46:35.852Z"
   },
   {
    "duration": 11,
    "start_time": "2022-12-04T07:46:35.884Z"
   },
   {
    "duration": 417,
    "start_time": "2022-12-04T07:46:35.911Z"
   },
   {
    "duration": 7,
    "start_time": "2022-12-04T07:46:36.329Z"
   },
   {
    "duration": 561,
    "start_time": "2022-12-04T07:46:36.340Z"
   },
   {
    "duration": 18,
    "start_time": "2022-12-04T07:46:36.903Z"
   },
   {
    "duration": 184,
    "start_time": "2022-12-04T07:46:36.922Z"
   },
   {
    "duration": 4,
    "start_time": "2022-12-04T07:46:37.108Z"
   },
   {
    "duration": 245,
    "start_time": "2022-12-04T07:46:37.114Z"
   },
   {
    "duration": 5,
    "start_time": "2022-12-04T07:46:37.360Z"
   },
   {
    "duration": 34,
    "start_time": "2022-12-04T07:46:37.367Z"
   },
   {
    "duration": 29,
    "start_time": "2022-12-04T07:46:37.402Z"
   },
   {
    "duration": 45,
    "start_time": "2022-12-04T07:46:37.433Z"
   },
   {
    "duration": 32,
    "start_time": "2022-12-04T07:46:37.479Z"
   },
   {
    "duration": 27,
    "start_time": "2022-12-04T07:46:37.513Z"
   },
   {
    "duration": 29,
    "start_time": "2022-12-04T07:46:37.542Z"
   },
   {
    "duration": 17,
    "start_time": "2022-12-04T07:46:37.573Z"
   },
   {
    "duration": 1381,
    "start_time": "2022-12-04T09:43:58.008Z"
   },
   {
    "duration": 246,
    "start_time": "2022-12-04T09:43:59.391Z"
   },
   {
    "duration": 18,
    "start_time": "2022-12-04T09:43:59.639Z"
   },
   {
    "duration": 18,
    "start_time": "2022-12-04T09:43:59.660Z"
   },
   {
    "duration": 28,
    "start_time": "2022-12-04T09:43:59.680Z"
   },
   {
    "duration": 24,
    "start_time": "2022-12-04T09:43:59.710Z"
   },
   {
    "duration": 19,
    "start_time": "2022-12-04T09:43:59.736Z"
   },
   {
    "duration": 6,
    "start_time": "2022-12-04T09:43:59.757Z"
   },
   {
    "duration": 12,
    "start_time": "2022-12-04T09:43:59.765Z"
   },
   {
    "duration": 13,
    "start_time": "2022-12-04T09:43:59.781Z"
   },
   {
    "duration": 31,
    "start_time": "2022-12-04T09:43:59.796Z"
   },
   {
    "duration": 9,
    "start_time": "2022-12-04T09:43:59.829Z"
   },
   {
    "duration": 13,
    "start_time": "2022-12-04T09:43:59.840Z"
   },
   {
    "duration": 13,
    "start_time": "2022-12-04T09:43:59.855Z"
   },
   {
    "duration": 13,
    "start_time": "2022-12-04T09:43:59.870Z"
   },
   {
    "duration": 46,
    "start_time": "2022-12-04T09:43:59.885Z"
   },
   {
    "duration": 27,
    "start_time": "2022-12-04T09:43:59.933Z"
   },
   {
    "duration": 483,
    "start_time": "2022-12-04T09:43:59.962Z"
   },
   {
    "duration": 27,
    "start_time": "2022-12-04T09:44:00.447Z"
   },
   {
    "duration": 459,
    "start_time": "2022-12-04T09:44:00.476Z"
   },
   {
    "duration": 6,
    "start_time": "2022-12-04T09:44:00.937Z"
   },
   {
    "duration": 533,
    "start_time": "2022-12-04T09:44:00.944Z"
   },
   {
    "duration": 23,
    "start_time": "2022-12-04T09:44:01.479Z"
   },
   {
    "duration": 35,
    "start_time": "2022-12-04T09:44:01.504Z"
   },
   {
    "duration": 8,
    "start_time": "2022-12-04T09:44:01.540Z"
   },
   {
    "duration": 407,
    "start_time": "2022-12-04T09:44:01.550Z"
   },
   {
    "duration": 6,
    "start_time": "2022-12-04T09:44:01.958Z"
   },
   {
    "duration": 504,
    "start_time": "2022-12-04T09:44:01.968Z"
   },
   {
    "duration": 12,
    "start_time": "2022-12-04T09:44:02.474Z"
   },
   {
    "duration": 163,
    "start_time": "2022-12-04T09:44:02.488Z"
   },
   {
    "duration": 5,
    "start_time": "2022-12-04T09:44:02.652Z"
   },
   {
    "duration": 220,
    "start_time": "2022-12-04T09:44:02.658Z"
   },
   {
    "duration": 4,
    "start_time": "2022-12-04T09:44:02.880Z"
   },
   {
    "duration": 14,
    "start_time": "2022-12-04T09:44:02.886Z"
   },
   {
    "duration": 21,
    "start_time": "2022-12-04T09:44:02.902Z"
   },
   {
    "duration": 18,
    "start_time": "2022-12-04T09:44:02.924Z"
   },
   {
    "duration": 20,
    "start_time": "2022-12-04T09:44:02.944Z"
   },
   {
    "duration": 31,
    "start_time": "2022-12-04T09:44:02.966Z"
   },
   {
    "duration": 22,
    "start_time": "2022-12-04T09:44:02.999Z"
   },
   {
    "duration": 27,
    "start_time": "2022-12-04T09:44:03.022Z"
   },
   {
    "duration": 1081,
    "start_time": "2022-12-04T10:34:38.287Z"
   },
   {
    "duration": 79,
    "start_time": "2022-12-04T10:34:39.370Z"
   },
   {
    "duration": 15,
    "start_time": "2022-12-04T10:34:39.451Z"
   },
   {
    "duration": 11,
    "start_time": "2022-12-04T10:34:39.468Z"
   },
   {
    "duration": 23,
    "start_time": "2022-12-04T10:34:39.481Z"
   },
   {
    "duration": 14,
    "start_time": "2022-12-04T10:34:39.506Z"
   },
   {
    "duration": 13,
    "start_time": "2022-12-04T10:34:39.522Z"
   },
   {
    "duration": 3,
    "start_time": "2022-12-04T10:34:39.536Z"
   },
   {
    "duration": 7,
    "start_time": "2022-12-04T10:34:39.541Z"
   },
   {
    "duration": 9,
    "start_time": "2022-12-04T10:34:39.552Z"
   },
   {
    "duration": 7,
    "start_time": "2022-12-04T10:34:39.563Z"
   },
   {
    "duration": 9,
    "start_time": "2022-12-04T10:34:39.571Z"
   },
   {
    "duration": 43,
    "start_time": "2022-12-04T10:34:39.581Z"
   },
   {
    "duration": 8,
    "start_time": "2022-12-04T10:34:39.626Z"
   },
   {
    "duration": 11,
    "start_time": "2022-12-04T10:34:39.635Z"
   },
   {
    "duration": 11,
    "start_time": "2022-12-04T10:34:39.648Z"
   },
   {
    "duration": 21,
    "start_time": "2022-12-04T10:34:39.661Z"
   },
   {
    "duration": 462,
    "start_time": "2022-12-04T10:34:39.683Z"
   },
   {
    "duration": 23,
    "start_time": "2022-12-04T10:34:40.147Z"
   },
   {
    "duration": 375,
    "start_time": "2022-12-04T10:34:40.172Z"
   },
   {
    "duration": 5,
    "start_time": "2022-12-04T10:34:40.549Z"
   },
   {
    "duration": 494,
    "start_time": "2022-12-04T10:34:40.556Z"
   },
   {
    "duration": 20,
    "start_time": "2022-12-04T10:34:41.052Z"
   },
   {
    "duration": 21,
    "start_time": "2022-12-04T10:34:41.073Z"
   },
   {
    "duration": 28,
    "start_time": "2022-12-04T10:34:41.095Z"
   },
   {
    "duration": 382,
    "start_time": "2022-12-04T10:34:41.124Z"
   },
   {
    "duration": 5,
    "start_time": "2022-12-04T10:34:41.508Z"
   },
   {
    "duration": 515,
    "start_time": "2022-12-04T10:34:41.523Z"
   },
   {
    "duration": 12,
    "start_time": "2022-12-04T10:34:42.040Z"
   },
   {
    "duration": 170,
    "start_time": "2022-12-04T10:34:42.054Z"
   },
   {
    "duration": 4,
    "start_time": "2022-12-04T10:34:42.225Z"
   },
   {
    "duration": 210,
    "start_time": "2022-12-04T10:34:42.231Z"
   },
   {
    "duration": 5,
    "start_time": "2022-12-04T10:34:42.442Z"
   },
   {
    "duration": 11,
    "start_time": "2022-12-04T10:34:42.448Z"
   },
   {
    "duration": 7,
    "start_time": "2022-12-04T10:34:42.460Z"
   },
   {
    "duration": 11,
    "start_time": "2022-12-04T10:34:42.469Z"
   },
   {
    "duration": 44,
    "start_time": "2022-12-04T10:34:42.481Z"
   },
   {
    "duration": 8,
    "start_time": "2022-12-04T10:34:42.527Z"
   },
   {
    "duration": 11,
    "start_time": "2022-12-04T10:34:42.536Z"
   },
   {
    "duration": 7,
    "start_time": "2022-12-04T10:34:42.548Z"
   },
   {
    "duration": 5,
    "start_time": "2022-12-04T10:39:34.537Z"
   },
   {
    "duration": 6,
    "start_time": "2022-12-04T10:40:01.552Z"
   },
   {
    "duration": 6,
    "start_time": "2022-12-04T10:40:09.714Z"
   },
   {
    "duration": 7,
    "start_time": "2022-12-04T10:40:39.759Z"
   },
   {
    "duration": 60,
    "start_time": "2022-12-04T13:10:44.246Z"
   },
   {
    "duration": 1296,
    "start_time": "2022-12-04T13:10:50.538Z"
   },
   {
    "duration": 271,
    "start_time": "2022-12-04T13:10:51.836Z"
   },
   {
    "duration": 17,
    "start_time": "2022-12-04T13:10:52.113Z"
   },
   {
    "duration": 19,
    "start_time": "2022-12-04T13:10:52.133Z"
   },
   {
    "duration": 29,
    "start_time": "2022-12-04T13:10:52.154Z"
   },
   {
    "duration": 40,
    "start_time": "2022-12-04T13:10:52.186Z"
   },
   {
    "duration": 19,
    "start_time": "2022-12-04T13:10:52.229Z"
   },
   {
    "duration": 13,
    "start_time": "2022-12-04T13:10:52.250Z"
   },
   {
    "duration": 8,
    "start_time": "2022-12-04T13:10:52.264Z"
   },
   {
    "duration": 30,
    "start_time": "2022-12-04T13:10:52.275Z"
   },
   {
    "duration": 9,
    "start_time": "2022-12-04T13:10:52.307Z"
   },
   {
    "duration": 9,
    "start_time": "2022-12-04T13:10:52.318Z"
   },
   {
    "duration": 19,
    "start_time": "2022-12-04T13:10:52.329Z"
   },
   {
    "duration": 13,
    "start_time": "2022-12-04T13:10:52.351Z"
   },
   {
    "duration": 14,
    "start_time": "2022-12-04T13:10:52.366Z"
   },
   {
    "duration": 20,
    "start_time": "2022-12-04T13:10:52.388Z"
   },
   {
    "duration": 18,
    "start_time": "2022-12-04T13:10:52.410Z"
   },
   {
    "duration": 491,
    "start_time": "2022-12-04T13:10:52.430Z"
   },
   {
    "duration": 29,
    "start_time": "2022-12-04T13:10:52.923Z"
   },
   {
    "duration": 478,
    "start_time": "2022-12-04T13:10:52.955Z"
   },
   {
    "duration": 6,
    "start_time": "2022-12-04T13:10:53.435Z"
   },
   {
    "duration": 585,
    "start_time": "2022-12-04T13:10:53.442Z"
   },
   {
    "duration": 22,
    "start_time": "2022-12-04T13:10:54.029Z"
   },
   {
    "duration": 41,
    "start_time": "2022-12-04T13:10:54.055Z"
   },
   {
    "duration": 10,
    "start_time": "2022-12-04T13:10:54.103Z"
   },
   {
    "duration": 428,
    "start_time": "2022-12-04T13:10:54.116Z"
   },
   {
    "duration": 5,
    "start_time": "2022-12-04T13:10:54.545Z"
   },
   {
    "duration": 581,
    "start_time": "2022-12-04T13:10:54.553Z"
   },
   {
    "duration": 12,
    "start_time": "2022-12-04T13:10:55.136Z"
   },
   {
    "duration": 172,
    "start_time": "2022-12-04T13:10:55.150Z"
   },
   {
    "duration": 5,
    "start_time": "2022-12-04T13:10:55.324Z"
   },
   {
    "duration": 228,
    "start_time": "2022-12-04T13:10:55.331Z"
   },
   {
    "duration": 4,
    "start_time": "2022-12-04T13:10:55.561Z"
   },
   {
    "duration": 54,
    "start_time": "2022-12-04T13:10:55.567Z"
   },
   {
    "duration": 8,
    "start_time": "2022-12-04T13:10:55.623Z"
   },
   {
    "duration": 14,
    "start_time": "2022-12-04T13:10:55.633Z"
   },
   {
    "duration": 9,
    "start_time": "2022-12-04T13:10:55.649Z"
   },
   {
    "duration": 9,
    "start_time": "2022-12-04T13:10:55.660Z"
   },
   {
    "duration": 19,
    "start_time": "2022-12-04T13:10:55.670Z"
   },
   {
    "duration": 11,
    "start_time": "2022-12-04T13:10:55.694Z"
   },
   {
    "duration": 16,
    "start_time": "2022-12-04T13:11:24.110Z"
   },
   {
    "duration": 107,
    "start_time": "2022-12-04T13:12:20.854Z"
   },
   {
    "duration": 10,
    "start_time": "2022-12-04T13:13:42.426Z"
   },
   {
    "duration": 24,
    "start_time": "2022-12-04T13:14:32.494Z"
   },
   {
    "duration": 36,
    "start_time": "2022-12-04T13:14:51.647Z"
   },
   {
    "duration": 8,
    "start_time": "2022-12-04T13:44:55.922Z"
   },
   {
    "duration": 9,
    "start_time": "2022-12-04T13:51:23.319Z"
   },
   {
    "duration": 23,
    "start_time": "2022-12-04T13:52:02.263Z"
   },
   {
    "duration": 1166,
    "start_time": "2022-12-04T14:01:45.373Z"
   },
   {
    "duration": 14,
    "start_time": "2022-12-04T14:02:07.022Z"
   },
   {
    "duration": 8,
    "start_time": "2022-12-04T14:02:20.190Z"
   },
   {
    "duration": 1112,
    "start_time": "2022-12-04T14:28:12.037Z"
   },
   {
    "duration": 72,
    "start_time": "2022-12-04T14:28:13.151Z"
   },
   {
    "duration": 14,
    "start_time": "2022-12-04T14:28:13.225Z"
   },
   {
    "duration": 14,
    "start_time": "2022-12-04T14:28:13.241Z"
   },
   {
    "duration": 23,
    "start_time": "2022-12-04T14:28:13.256Z"
   },
   {
    "duration": 13,
    "start_time": "2022-12-04T14:28:13.281Z"
   },
   {
    "duration": 13,
    "start_time": "2022-12-04T14:28:13.295Z"
   },
   {
    "duration": 7,
    "start_time": "2022-12-04T14:28:13.309Z"
   },
   {
    "duration": 6,
    "start_time": "2022-12-04T14:28:13.318Z"
   },
   {
    "duration": 11,
    "start_time": "2022-12-04T14:28:13.328Z"
   },
   {
    "duration": 7,
    "start_time": "2022-12-04T14:28:13.340Z"
   },
   {
    "duration": 7,
    "start_time": "2022-12-04T14:28:13.377Z"
   },
   {
    "duration": 15,
    "start_time": "2022-12-04T14:28:13.385Z"
   },
   {
    "duration": 9,
    "start_time": "2022-12-04T14:28:13.401Z"
   },
   {
    "duration": 10,
    "start_time": "2022-12-04T14:28:13.411Z"
   },
   {
    "duration": 8,
    "start_time": "2022-12-04T14:28:13.423Z"
   },
   {
    "duration": 46,
    "start_time": "2022-12-04T14:28:13.432Z"
   },
   {
    "duration": 437,
    "start_time": "2022-12-04T14:28:13.480Z"
   },
   {
    "duration": 23,
    "start_time": "2022-12-04T14:28:13.919Z"
   },
   {
    "duration": 506,
    "start_time": "2022-12-04T14:28:13.944Z"
   },
   {
    "duration": 6,
    "start_time": "2022-12-04T14:28:14.452Z"
   },
   {
    "duration": 499,
    "start_time": "2022-12-04T14:28:14.460Z"
   },
   {
    "duration": 24,
    "start_time": "2022-12-04T14:28:14.960Z"
   },
   {
    "duration": 23,
    "start_time": "2022-12-04T14:28:14.986Z"
   },
   {
    "duration": 9,
    "start_time": "2022-12-04T14:28:15.011Z"
   },
   {
    "duration": 380,
    "start_time": "2022-12-04T14:28:15.022Z"
   },
   {
    "duration": 6,
    "start_time": "2022-12-04T14:28:15.404Z"
   },
   {
    "duration": 466,
    "start_time": "2022-12-04T14:28:15.413Z"
   },
   {
    "duration": 13,
    "start_time": "2022-12-04T14:28:15.880Z"
   },
   {
    "duration": 166,
    "start_time": "2022-12-04T14:28:15.895Z"
   },
   {
    "duration": 5,
    "start_time": "2022-12-04T14:28:16.063Z"
   },
   {
    "duration": 199,
    "start_time": "2022-12-04T14:28:16.069Z"
   },
   {
    "duration": 9,
    "start_time": "2022-12-04T14:28:16.270Z"
   },
   {
    "duration": 11,
    "start_time": "2022-12-04T14:28:16.281Z"
   },
   {
    "duration": 24,
    "start_time": "2022-12-04T14:28:16.293Z"
   },
   {
    "duration": 12,
    "start_time": "2022-12-04T14:28:16.318Z"
   },
   {
    "duration": 9,
    "start_time": "2022-12-04T14:28:16.331Z"
   },
   {
    "duration": 53,
    "start_time": "2022-12-04T14:28:16.341Z"
   },
   {
    "duration": 11,
    "start_time": "2022-12-04T14:28:16.395Z"
   },
   {
    "duration": 10,
    "start_time": "2022-12-04T14:28:16.407Z"
   },
   {
    "duration": 1355,
    "start_time": "2022-12-05T13:15:47.873Z"
   },
   {
    "duration": 221,
    "start_time": "2022-12-05T13:15:49.231Z"
   },
   {
    "duration": 17,
    "start_time": "2022-12-05T13:15:49.454Z"
   },
   {
    "duration": 18,
    "start_time": "2022-12-05T13:15:49.473Z"
   },
   {
    "duration": 33,
    "start_time": "2022-12-05T13:15:49.492Z"
   },
   {
    "duration": 22,
    "start_time": "2022-12-05T13:15:49.527Z"
   },
   {
    "duration": 22,
    "start_time": "2022-12-05T13:15:49.551Z"
   },
   {
    "duration": 7,
    "start_time": "2022-12-05T13:15:49.575Z"
   },
   {
    "duration": 10,
    "start_time": "2022-12-05T13:15:49.584Z"
   },
   {
    "duration": 26,
    "start_time": "2022-12-05T13:15:49.598Z"
   },
   {
    "duration": 7,
    "start_time": "2022-12-05T13:15:49.626Z"
   },
   {
    "duration": 11,
    "start_time": "2022-12-05T13:15:49.635Z"
   },
   {
    "duration": 15,
    "start_time": "2022-12-05T13:15:49.648Z"
   },
   {
    "duration": 9,
    "start_time": "2022-12-05T13:15:49.665Z"
   },
   {
    "duration": 11,
    "start_time": "2022-12-05T13:15:49.675Z"
   },
   {
    "duration": 10,
    "start_time": "2022-12-05T13:15:49.711Z"
   },
   {
    "duration": 28,
    "start_time": "2022-12-05T13:15:49.723Z"
   },
   {
    "duration": 515,
    "start_time": "2022-12-05T13:15:49.753Z"
   },
   {
    "duration": 26,
    "start_time": "2022-12-05T13:15:50.270Z"
   },
   {
    "duration": 461,
    "start_time": "2022-12-05T13:15:50.298Z"
   },
   {
    "duration": 7,
    "start_time": "2022-12-05T13:15:50.761Z"
   },
   {
    "duration": 587,
    "start_time": "2022-12-05T13:15:50.770Z"
   },
   {
    "duration": 20,
    "start_time": "2022-12-05T13:15:51.359Z"
   },
   {
    "duration": 42,
    "start_time": "2022-12-05T13:15:51.381Z"
   },
   {
    "duration": 10,
    "start_time": "2022-12-05T13:15:51.424Z"
   },
   {
    "duration": 406,
    "start_time": "2022-12-05T13:15:51.435Z"
   },
   {
    "duration": 6,
    "start_time": "2022-12-05T13:15:51.843Z"
   },
   {
    "duration": 507,
    "start_time": "2022-12-05T13:15:51.853Z"
   },
   {
    "duration": 14,
    "start_time": "2022-12-05T13:15:52.362Z"
   },
   {
    "duration": 202,
    "start_time": "2022-12-05T13:15:52.377Z"
   },
   {
    "duration": 4,
    "start_time": "2022-12-05T13:15:52.581Z"
   },
   {
    "duration": 239,
    "start_time": "2022-12-05T13:15:52.587Z"
   },
   {
    "duration": 5,
    "start_time": "2022-12-05T13:15:52.827Z"
   },
   {
    "duration": 17,
    "start_time": "2022-12-05T13:15:52.834Z"
   },
   {
    "duration": 53,
    "start_time": "2022-12-05T13:15:52.853Z"
   },
   {
    "duration": 20,
    "start_time": "2022-12-05T13:15:52.908Z"
   },
   {
    "duration": 32,
    "start_time": "2022-12-05T13:15:52.930Z"
   },
   {
    "duration": 24,
    "start_time": "2022-12-05T13:15:52.964Z"
   },
   {
    "duration": 14,
    "start_time": "2022-12-05T13:15:52.990Z"
   },
   {
    "duration": 11,
    "start_time": "2022-12-05T13:15:53.006Z"
   }
  ],
  "kernelspec": {
   "display_name": "Python 3 (ipykernel)",
   "language": "python",
   "name": "python3"
  },
  "language_info": {
   "codemirror_mode": {
    "name": "ipython",
    "version": 3
   },
   "file_extension": ".py",
   "mimetype": "text/x-python",
   "name": "python",
   "nbconvert_exporter": "python",
   "pygments_lexer": "ipython3",
   "version": "3.9.13"
  },
  "toc": {
   "base_numbering": 1,
   "nav_menu": {
    "height": "692px",
    "width": "531px"
   },
   "number_sections": true,
   "sideBar": true,
   "skip_h1_title": true,
   "title_cell": "Table of Contents",
   "title_sidebar": "Contents",
   "toc_cell": false,
   "toc_position": {},
   "toc_section_display": true,
   "toc_window_display": true
  }
 },
 "nbformat": 4,
 "nbformat_minor": 2
}
