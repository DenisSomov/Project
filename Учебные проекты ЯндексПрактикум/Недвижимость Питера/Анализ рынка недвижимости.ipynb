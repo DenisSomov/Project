{
 "cells": [
  {
   "cell_type": "markdown",
   "metadata": {},
   "source": [
    "**Денис, привет!**\n",
    "\n",
    "Меня зовут Артемьева Саша, я буду проверять твой проект. Приятно познакомиться, хоть и заочно:)\n",
    "    \n",
    "Предлагаю общаться на «ты» :) Но если это не удобно - дай знать, и мы перейдем на \"вы\". \n",
    "\n",
    "Моя основная цель — не указать на совершенные тобою ошибки, а поделиться своим опытом и помочь тебе стать аналитиком данных. Ты уже проделал большую работу над проектом, но давай сделаем его еще лучше. Ниже ты найдешь мои комментарии - пожалуйста, не перемещай, не изменяй и не удаляй их. Я буду использовать цветовую разметку:\n",
    "\n",
    "<div class=\"alert alert-danger\">\n",
    "<b>❌ Комментарий ревьюера:</b> Так выделены самые важные замечания. Без их отработки проект не будет принят. </div>\n",
    "\n",
    "<div class=\"alert alert-warning\">\n",
    "<b>⚠️ Комментарий ревьюера:</b> Так выделены небольшие замечания. Одно-два таких замечания в проекте допустимы, но если их будет больше - тебе будет необходимо внести исправления. Это как тестовое задание при приеме на работу: очень много мелких ошибок могут стать причиной отказа кандидату. \n",
    "\n",
    "</div>\n",
    "\n",
    "<div class=\"alert alert-success\">\n",
    "<b>✔️ Комментарий ревьюера:</b> Так я выделяю все остальные комментарии.</div>\n",
    "\n",
    "Давай работать над проектом в диалоге: если ты что-то меняешь в проекте или отвечаешь на мои комменатри — пиши об этом. Мне будет легче отследить изменения, если ты выделишь свои комментарии:\n",
    "<div class=\"alert alert-info\"> <b>Комментарий студента:</b> Например, вот так.</div>\n",
    "\n",
    "Всё это поможет выполнить повторную проверку твоего проекта оперативнее. \n"
   ]
  },
  {
   "cell_type": "markdown",
   "metadata": {
    "toc": true
   },
   "source": [
    "<h1>Содержание<span class=\"tocSkip\"></span></h1>\n",
    "<div class=\"toc\"><ul class=\"toc-item\"><li><span><a href=\"#Изучение-данных-из-файла\" data-toc-modified-id=\"Изучение-данных-из-файла-1\"><span class=\"toc-item-num\">1&nbsp;&nbsp;</span>Изучение данных из файла</a></span><ul class=\"toc-item\"><li><span><a href=\"#Вывод\" data-toc-modified-id=\"Вывод-1.1\"><span class=\"toc-item-num\">1.1&nbsp;&nbsp;</span>Вывод</a></span></li></ul></li><li><span><a href=\"#Предобработка-данных\" data-toc-modified-id=\"Предобработка-данных-2\"><span class=\"toc-item-num\">2&nbsp;&nbsp;</span>Предобработка данных</a></span><ul class=\"toc-item\"><li><span><a href=\"#Заполнение-пропусков\" data-toc-modified-id=\"Заполнение-пропусков-2.1\"><span class=\"toc-item-num\">2.1&nbsp;&nbsp;</span>Заполнение пропусков</a></span></li><li><span><a href=\"#Изменение-типов-данных\" data-toc-modified-id=\"Изменение-типов-данных-2.2\"><span class=\"toc-item-num\">2.2&nbsp;&nbsp;</span>Изменение типов данных</a></span></li><li><span><a href=\"#Вывод\" data-toc-modified-id=\"Вывод-2.3\"><span class=\"toc-item-num\">2.3&nbsp;&nbsp;</span>Вывод</a></span></li></ul></li><li><span><a href=\"#Расчёты-и-добавление-результатов-в-таблицу\" data-toc-modified-id=\"Расчёты-и-добавление-результатов-в-таблицу-3\"><span class=\"toc-item-num\">3&nbsp;&nbsp;</span>Расчёты и добавление результатов в таблицу</a></span><ul class=\"toc-item\"><li><span><a href=\"#Вывод\" data-toc-modified-id=\"Вывод-3.1\"><span class=\"toc-item-num\">3.1&nbsp;&nbsp;</span>Вывод</a></span></li></ul></li><li><span><a href=\"#Исследовательский-анализ-данных\" data-toc-modified-id=\"Исследовательский-анализ-данных-4\"><span class=\"toc-item-num\">4&nbsp;&nbsp;</span>Исследовательский анализ данных</a></span><ul class=\"toc-item\"><li><span><a href=\"#Изучение-параметров-квартир\" data-toc-modified-id=\"Изучение-параметров-квартир-4.1\"><span class=\"toc-item-num\">4.1&nbsp;&nbsp;</span>Изучение параметров квартир</a></span><ul class=\"toc-item\"><li><span><a href=\"#Общая-площадь-квартир\" data-toc-modified-id=\"Общая-площадь-квартир-4.1.1\"><span class=\"toc-item-num\">4.1.1&nbsp;&nbsp;</span>Общая площадь квартир</a></span><ul class=\"toc-item\"><li><span><a href=\"#Результаты-анализа-данных-об-общей-площади-квартир\" data-toc-modified-id=\"Результаты-анализа-данных-об-общей-площади-квартир-4.1.1.1\"><span class=\"toc-item-num\">4.1.1.1&nbsp;&nbsp;</span>Результаты анализа данных об общей площади квартир</a></span></li><li><span><a href=\"#Выводы:\" data-toc-modified-id=\"Выводы:-4.1.1.2\"><span class=\"toc-item-num\">4.1.1.2&nbsp;&nbsp;</span>Выводы:</a></span></li></ul></li><li><span><a href=\"#Стоимость-квартир\" data-toc-modified-id=\"Стоимость-квартир-4.1.2\"><span class=\"toc-item-num\">4.1.2&nbsp;&nbsp;</span>Стоимость квартир</a></span><ul class=\"toc-item\"><li><span><a href=\"#Результаты-анализа-данных-о-стоимости-квартир\" data-toc-modified-id=\"Результаты-анализа-данных-о-стоимости-квартир-4.1.2.1\"><span class=\"toc-item-num\">4.1.2.1&nbsp;&nbsp;</span>Результаты анализа данных о стоимости квартир</a></span></li><li><span><a href=\"#Выводы:\" data-toc-modified-id=\"Выводы:-4.1.2.2\"><span class=\"toc-item-num\">4.1.2.2&nbsp;&nbsp;</span>Выводы:</a></span></li></ul></li><li><span><a href=\"#Число-комнат-в-квартирах\" data-toc-modified-id=\"Число-комнат-в-квартирах-4.1.3\"><span class=\"toc-item-num\">4.1.3&nbsp;&nbsp;</span>Число комнат в квартирах</a></span><ul class=\"toc-item\"><li><span><a href=\"#Результаты-анализа-данных-о-количестве-комнат\" data-toc-modified-id=\"Результаты-анализа-данных-о-количестве-комнат-4.1.3.1\"><span class=\"toc-item-num\">4.1.3.1&nbsp;&nbsp;</span>Результаты анализа данных о количестве комнат</a></span></li><li><span><a href=\"#Выводы:\" data-toc-modified-id=\"Выводы:-4.1.3.2\"><span class=\"toc-item-num\">4.1.3.2&nbsp;&nbsp;</span>Выводы:</a></span></li></ul></li><li><span><a href=\"#Высота-потолков-в-квартирах\" data-toc-modified-id=\"Высота-потолков-в-квартирах-4.1.4\"><span class=\"toc-item-num\">4.1.4&nbsp;&nbsp;</span>Высота потолков в квартирах</a></span><ul class=\"toc-item\"><li><span><a href=\"#Результаты-анализа-высоты-потолков-квартир\" data-toc-modified-id=\"Результаты-анализа-высоты-потолков-квартир-4.1.4.1\"><span class=\"toc-item-num\">4.1.4.1&nbsp;&nbsp;</span>Результаты анализа высоты потолков квартир</a></span></li><li><span><a href=\"#Выводы:\" data-toc-modified-id=\"Выводы:-4.1.4.2\"><span class=\"toc-item-num\">4.1.4.2&nbsp;&nbsp;</span>Выводы:</a></span></li></ul></li></ul></li><li><span><a href=\"#Изучение-времени-продажи-квартир\" data-toc-modified-id=\"Изучение-времени-продажи-квартир-4.2\"><span class=\"toc-item-num\">4.2&nbsp;&nbsp;</span>Изучение времени продажи квартир</a></span><ul class=\"toc-item\"><li><span><a href=\"#Результаты-анализа-времени-продажи-квартир\" data-toc-modified-id=\"Результаты-анализа-времени-продажи-квартир-4.2.1\"><span class=\"toc-item-num\">4.2.1&nbsp;&nbsp;</span>Результаты анализа времени продажи квартир</a></span></li><li><span><a href=\"#Выводы:\" data-toc-modified-id=\"Выводы:-4.2.2\"><span class=\"toc-item-num\">4.2.2&nbsp;&nbsp;</span>Выводы:</a></span></li></ul></li><li><span><a href=\"#Удаление-выбросов\" data-toc-modified-id=\"Удаление-выбросов-4.3\"><span class=\"toc-item-num\">4.3&nbsp;&nbsp;</span>Удаление выбросов</a></span><ul class=\"toc-item\"><li><span><a href=\"#Вывод:\" data-toc-modified-id=\"Вывод:-4.3.1\"><span class=\"toc-item-num\">4.3.1&nbsp;&nbsp;</span>Вывод:</a></span></li></ul></li><li><span><a href=\"#Оценка-стоимости-квартиры-от-факторов\" data-toc-modified-id=\"Оценка-стоимости-квартиры-от-факторов-4.4\"><span class=\"toc-item-num\">4.4&nbsp;&nbsp;</span>Оценка стоимости квартиры от факторов</a></span><ul class=\"toc-item\"><li><span><a href=\"#Выводы\" data-toc-modified-id=\"Выводы-4.4.1\"><span class=\"toc-item-num\">4.4.1&nbsp;&nbsp;</span>Выводы</a></span></li></ul></li><li><span><a href=\"#Оценка-средней-цены-квадратного-метра-в-населенных-пунктах\" data-toc-modified-id=\"Оценка-средней-цены-квадратного-метра-в-населенных-пунктах-4.5\"><span class=\"toc-item-num\">4.5&nbsp;&nbsp;</span>Оценка средней цены квадратного метра в населенных пунктах</a></span><ul class=\"toc-item\"><li><span><a href=\"#Выводы\" data-toc-modified-id=\"Выводы-4.5.1\"><span class=\"toc-item-num\">4.5.1&nbsp;&nbsp;</span>Выводы</a></span></li></ul></li><li><span><a href=\"#Анализ-параметров-квартир,-расположенных-в-центре-Санкт-Петербурга\" data-toc-modified-id=\"Анализ-параметров-квартир,-расположенных-в-центре-Санкт-Петербурга-4.6\"><span class=\"toc-item-num\">4.6&nbsp;&nbsp;</span>Анализ параметров квартир, расположенных в центре Санкт-Петербурга</a></span><ul class=\"toc-item\"><li><span><a href=\"#Выводы\" data-toc-modified-id=\"Выводы-4.6.1\"><span class=\"toc-item-num\">4.6.1&nbsp;&nbsp;</span>Выводы</a></span></li></ul></li><li><span><a href=\"#Анализ-параметров-квартир,-расположенных-в-центре-Санкт-Петербурга-и-поиск-зависимости-стоимости-от-различных-факторов.\" data-toc-modified-id=\"Анализ-параметров-квартир,-расположенных-в-центре-Санкт-Петербурга-и-поиск-зависимости-стоимости-от-различных-факторов.-4.7\"><span class=\"toc-item-num\">4.7&nbsp;&nbsp;</span>Анализ параметров квартир, расположенных в центре Санкт-Петербурга и поиск зависимости стоимости от различных факторов.</a></span><ul class=\"toc-item\"><li><span><a href=\"#Анализ-параметров-квартир\" data-toc-modified-id=\"Анализ-параметров-квартир-4.7.1\"><span class=\"toc-item-num\">4.7.1&nbsp;&nbsp;</span>Анализ параметров квартир</a></span><ul class=\"toc-item\"><li><span><a href=\"#Выводы\" data-toc-modified-id=\"Выводы-4.7.1.1\"><span class=\"toc-item-num\">4.7.1.1&nbsp;&nbsp;</span>Выводы</a></span></li></ul></li><li><span><a href=\"#Анализ-зависимости-стоимости-квартир-центрального-района-от-различных-факторов.\" data-toc-modified-id=\"Анализ-зависимости-стоимости-квартир-центрального-района-от-различных-факторов.-4.7.2\"><span class=\"toc-item-num\">4.7.2&nbsp;&nbsp;</span>Анализ зависимости стоимости квартир центрального района от различных факторов.</a></span><ul class=\"toc-item\"><li><span><a href=\"#Выводы\" data-toc-modified-id=\"Выводы-4.7.2.1\"><span class=\"toc-item-num\">4.7.2.1&nbsp;&nbsp;</span>Выводы</a></span></li></ul></li><li><span><a href=\"#Вывод-по-анализу-кваритр-в-центре-города\" data-toc-modified-id=\"Вывод-по-анализу-кваритр-в-центре-города-4.7.3\"><span class=\"toc-item-num\">4.7.3&nbsp;&nbsp;</span>Вывод по анализу кваритр в центре города</a></span></li></ul></li></ul></li><li><span><a href=\"#Общий-вывод\" data-toc-modified-id=\"Общий-вывод-5\"><span class=\"toc-item-num\">5&nbsp;&nbsp;</span>Общий вывод</a></span></li><li><span><a href=\"#Чек-лист-готовности-проекта\" data-toc-modified-id=\"Чек-лист-готовности-проекта-6\"><span class=\"toc-item-num\">6&nbsp;&nbsp;</span>Чек-лист готовности проекта</a></span></li></ul></div>"
   ]
  },
  {
   "cell_type": "markdown",
   "metadata": {},
   "source": [
    "# Исследование объявлений о продаже квартир\n",
    "\n",
    "В вашем распоряжении данные сервиса Яндекc Недвижимость — архив объявлений о продаже квартир в Санкт-Петербурге и соседних населённых пунктах за несколько лет. Нужно научиться определять рыночную стоимость объектов недвижимости. Ваша задача — установить параметры. Это позволит построить автоматизированную систему: она отследит аномалии и мошенническую деятельность. \n",
    "\n",
    "По каждой квартире на продажу доступны два вида данных. Первые вписаны пользователем, вторые получены автоматически на основе картографических данных. Например, расстояние до центра, аэропорта, ближайшего парка и водоёма. "
   ]
  },
  {
   "cell_type": "markdown",
   "metadata": {},
   "source": [
    "<div class=\"alert alert-warning\">\n",
    "<b>⚠️ Комментарий ревьюера:</b> Молодец, что задал шапку профиля! Еще в ней стоит написать шаги исследования и цели, которые мы должны достигнуть в финале работы"
   ]
  },
  {
   "cell_type": "markdown",
   "metadata": {},
   "source": [
    "## Изучение данных из файла"
   ]
  },
  {
   "cell_type": "markdown",
   "metadata": {},
   "source": [
    "Для изучения данных по объявлениям откроем файл данных и изучим общую информацию о столбцах, пропусках и типах данных."
   ]
  },
  {
   "cell_type": "code",
   "execution_count": 1,
   "metadata": {},
   "outputs": [
    {
     "name": "stdout",
     "output_type": "stream",
     "text": [
      "<class 'pandas.core.frame.DataFrame'>\n",
      "RangeIndex: 23699 entries, 0 to 23698\n",
      "Data columns (total 22 columns):\n",
      " #   Column                Non-Null Count  Dtype  \n",
      "---  ------                --------------  -----  \n",
      " 0   total_images          23699 non-null  int64  \n",
      " 1   last_price            23699 non-null  float64\n",
      " 2   total_area            23699 non-null  float64\n",
      " 3   first_day_exposition  23699 non-null  object \n",
      " 4   rooms                 23699 non-null  int64  \n",
      " 5   ceiling_height        14504 non-null  float64\n",
      " 6   floors_total          23613 non-null  float64\n",
      " 7   living_area           21796 non-null  float64\n",
      " 8   floor                 23699 non-null  int64  \n",
      " 9   is_apartment          2775 non-null   object \n",
      " 10  studio                23699 non-null  bool   \n",
      " 11  open_plan             23699 non-null  bool   \n",
      " 12  kitchen_area          21421 non-null  float64\n",
      " 13  balcony               12180 non-null  float64\n",
      " 14  locality_name         23650 non-null  object \n",
      " 15  airports_nearest      18157 non-null  float64\n",
      " 16  cityCenters_nearest   18180 non-null  float64\n",
      " 17  parks_around3000      18181 non-null  float64\n",
      " 18  parks_nearest         8079 non-null   float64\n",
      " 19  ponds_around3000      18181 non-null  float64\n",
      " 20  ponds_nearest         9110 non-null   float64\n",
      " 21  days_exposition       20518 non-null  float64\n",
      "dtypes: bool(2), float64(14), int64(3), object(3)\n",
      "memory usage: 3.7+ MB\n"
     ]
    }
   ],
   "source": [
    "import pandas as pd\n",
    "import matplotlib.pyplot as plt\n",
    "data = pd.read_csv('/datasets/real_estate_data.csv', sep='\\t', decimal='.')\n",
    "data.info()"
   ]
  },
  {
   "cell_type": "markdown",
   "metadata": {},
   "source": [
    "### Вывод\n",
    "Пропуски содержатся в следующих столбцах:ceiling_height, living_area, is_apartment, kitchen_area, balcony, locality_name, airports_nearest, cityCenters_nearest, parks_around3000, parks_nearest, ponds_around3000, ponds_nearest, days_exposition"
   ]
  },
  {
   "cell_type": "markdown",
   "metadata": {},
   "source": [
    "Заполнение пропусков разделим на несколько этапов:\n",
    "1. Оценка и заполнение пропусков в столбцах, характеризующих размеры и параметры квартиры: ceiling_height, living_area, kitchen_area, balcony\n",
    "2. Оценка и заполнение пропусков в столбцах, связанных с расположением квартиры: locality_name, airports_nearest, cityCenters_nearest, parks_around3000, parks_nearest, ponds_around3000, ponds_nearest.\n",
    "3. Оценка и заполнение пропусков в остальных столбцах."
   ]
  },
  {
   "cell_type": "markdown",
   "metadata": {},
   "source": [
    "<div class=\"alert alert-success\">\n",
    "<b>✔️ Комментарий ревьюера:</b> Увидели, с чем предстоит иметь дело"
   ]
  },
  {
   "cell_type": "markdown",
   "metadata": {},
   "source": [
    "## Предобработка данных\n",
    "\n",
    "### Заполнение пропусков\n",
    "1. Оценку пропусков в столбцах параметров, определяющих размеры квартиры логично осуществлять относительно количества комнат в квартире (столбец 'rooms'). Создадим сводную таблицу, отражающую медианные значения жилой площади, площади кухни, общей площади относительно количества комнат."
   ]
  },
  {
   "cell_type": "code",
   "execution_count": 2,
   "metadata": {},
   "outputs": [
    {
     "data": {
      "text/html": [
       "<div>\n",
       "<style scoped>\n",
       "    .dataframe tbody tr th:only-of-type {\n",
       "        vertical-align: middle;\n",
       "    }\n",
       "\n",
       "    .dataframe tbody tr th {\n",
       "        vertical-align: top;\n",
       "    }\n",
       "\n",
       "    .dataframe thead th {\n",
       "        text-align: right;\n",
       "    }\n",
       "</style>\n",
       "<table border=\"1\" class=\"dataframe\">\n",
       "  <thead>\n",
       "    <tr style=\"text-align: right;\">\n",
       "      <th></th>\n",
       "      <th>ceiling_height</th>\n",
       "      <th>kitchen_area</th>\n",
       "      <th>living_area</th>\n",
       "      <th>total_area</th>\n",
       "    </tr>\n",
       "    <tr>\n",
       "      <th>rooms</th>\n",
       "      <th></th>\n",
       "      <th></th>\n",
       "      <th></th>\n",
       "      <th></th>\n",
       "    </tr>\n",
       "  </thead>\n",
       "  <tbody>\n",
       "    <tr>\n",
       "      <th>0</th>\n",
       "      <td>2.750</td>\n",
       "      <td>NaN</td>\n",
       "      <td>18.000</td>\n",
       "      <td>26.05</td>\n",
       "    </tr>\n",
       "    <tr>\n",
       "      <th>1</th>\n",
       "      <td>2.640</td>\n",
       "      <td>9.04</td>\n",
       "      <td>17.600</td>\n",
       "      <td>36.56</td>\n",
       "    </tr>\n",
       "    <tr>\n",
       "      <th>2</th>\n",
       "      <td>2.600</td>\n",
       "      <td>8.80</td>\n",
       "      <td>30.500</td>\n",
       "      <td>53.00</td>\n",
       "    </tr>\n",
       "    <tr>\n",
       "      <th>3</th>\n",
       "      <td>2.650</td>\n",
       "      <td>9.50</td>\n",
       "      <td>45.000</td>\n",
       "      <td>73.00</td>\n",
       "    </tr>\n",
       "    <tr>\n",
       "      <th>4</th>\n",
       "      <td>2.800</td>\n",
       "      <td>11.10</td>\n",
       "      <td>63.600</td>\n",
       "      <td>99.30</td>\n",
       "    </tr>\n",
       "    <tr>\n",
       "      <th>5</th>\n",
       "      <td>3.100</td>\n",
       "      <td>15.10</td>\n",
       "      <td>91.785</td>\n",
       "      <td>146.45</td>\n",
       "    </tr>\n",
       "    <tr>\n",
       "      <th>6</th>\n",
       "      <td>3.200</td>\n",
       "      <td>19.50</td>\n",
       "      <td>123.900</td>\n",
       "      <td>184.30</td>\n",
       "    </tr>\n",
       "    <tr>\n",
       "      <th>7</th>\n",
       "      <td>3.380</td>\n",
       "      <td>20.00</td>\n",
       "      <td>145.000</td>\n",
       "      <td>214.00</td>\n",
       "    </tr>\n",
       "    <tr>\n",
       "      <th>8</th>\n",
       "      <td>3.420</td>\n",
       "      <td>25.00</td>\n",
       "      <td>161.000</td>\n",
       "      <td>235.70</td>\n",
       "    </tr>\n",
       "    <tr>\n",
       "      <th>9</th>\n",
       "      <td>3.200</td>\n",
       "      <td>14.30</td>\n",
       "      <td>179.200</td>\n",
       "      <td>300.95</td>\n",
       "    </tr>\n",
       "    <tr>\n",
       "      <th>10</th>\n",
       "      <td>3.150</td>\n",
       "      <td>19.80</td>\n",
       "      <td>161.400</td>\n",
       "      <td>272.60</td>\n",
       "    </tr>\n",
       "    <tr>\n",
       "      <th>11</th>\n",
       "      <td>3.415</td>\n",
       "      <td>12.60</td>\n",
       "      <td>133.900</td>\n",
       "      <td>188.90</td>\n",
       "    </tr>\n",
       "    <tr>\n",
       "      <th>12</th>\n",
       "      <td>2.800</td>\n",
       "      <td>112.00</td>\n",
       "      <td>409.700</td>\n",
       "      <td>900.00</td>\n",
       "    </tr>\n",
       "    <tr>\n",
       "      <th>14</th>\n",
       "      <td>3.160</td>\n",
       "      <td>21.25</td>\n",
       "      <td>195.150</td>\n",
       "      <td>304.20</td>\n",
       "    </tr>\n",
       "    <tr>\n",
       "      <th>15</th>\n",
       "      <td>3.500</td>\n",
       "      <td>100.00</td>\n",
       "      <td>409.000</td>\n",
       "      <td>590.00</td>\n",
       "    </tr>\n",
       "    <tr>\n",
       "      <th>16</th>\n",
       "      <td>3.000</td>\n",
       "      <td>13.00</td>\n",
       "      <td>180.000</td>\n",
       "      <td>270.00</td>\n",
       "    </tr>\n",
       "    <tr>\n",
       "      <th>19</th>\n",
       "      <td>NaN</td>\n",
       "      <td>27.60</td>\n",
       "      <td>264.500</td>\n",
       "      <td>374.60</td>\n",
       "    </tr>\n",
       "  </tbody>\n",
       "</table>\n",
       "</div>"
      ],
      "text/plain": [
       "       ceiling_height  kitchen_area  living_area  total_area\n",
       "rooms                                                       \n",
       "0               2.750           NaN       18.000       26.05\n",
       "1               2.640          9.04       17.600       36.56\n",
       "2               2.600          8.80       30.500       53.00\n",
       "3               2.650          9.50       45.000       73.00\n",
       "4               2.800         11.10       63.600       99.30\n",
       "5               3.100         15.10       91.785      146.45\n",
       "6               3.200         19.50      123.900      184.30\n",
       "7               3.380         20.00      145.000      214.00\n",
       "8               3.420         25.00      161.000      235.70\n",
       "9               3.200         14.30      179.200      300.95\n",
       "10              3.150         19.80      161.400      272.60\n",
       "11              3.415         12.60      133.900      188.90\n",
       "12              2.800        112.00      409.700      900.00\n",
       "14              3.160         21.25      195.150      304.20\n",
       "15              3.500        100.00      409.000      590.00\n",
       "16              3.000         13.00      180.000      270.00\n",
       "19                NaN         27.60      264.500      374.60"
      ]
     },
     "metadata": {},
     "output_type": "display_data"
    }
   ],
   "source": [
    "display(data.pivot_table(index='rooms', values=['living_area', 'kitchen_area', 'total_area', 'ceiling_height'], aggfunc='median'))"
   ]
  },
  {
   "cell_type": "markdown",
   "metadata": {},
   "source": [
    "Определим общее количество квартир с определенным количеством комнат."
   ]
  },
  {
   "cell_type": "code",
   "execution_count": 3,
   "metadata": {},
   "outputs": [
    {
     "data": {
      "text/plain": [
       "rooms\n",
       "0      197\n",
       "1     8047\n",
       "2     7940\n",
       "3     5814\n",
       "4     1180\n",
       "5      326\n",
       "6      105\n",
       "7       59\n",
       "8       12\n",
       "9        8\n",
       "10       3\n",
       "11       2\n",
       "12       1\n",
       "14       2\n",
       "15       1\n",
       "16       1\n",
       "19       1\n",
       "Name: rooms, dtype: int64"
      ]
     },
     "metadata": {},
     "output_type": "display_data"
    }
   ],
   "source": [
    "display(data.groupby('rooms')['rooms'].count())"
   ]
  },
  {
   "cell_type": "markdown",
   "metadata": {},
   "source": [
    "Сделаем допущение что если квартира-студия, то площадь кухни, если она не указана, равна 0, в связи с этим заполним все отсутствующие значения площади кухни в квартирах-студиях нулями."
   ]
  },
  {
   "cell_type": "code",
   "execution_count": 4,
   "metadata": {},
   "outputs": [
    {
     "name": "stdout",
     "output_type": "stream",
     "text": [
      "<class 'pandas.core.frame.DataFrame'>\n",
      "RangeIndex: 23699 entries, 0 to 23698\n",
      "Data columns (total 22 columns):\n",
      " #   Column                Non-Null Count  Dtype  \n",
      "---  ------                --------------  -----  \n",
      " 0   total_images          23699 non-null  int64  \n",
      " 1   last_price            23699 non-null  float64\n",
      " 2   total_area            23699 non-null  float64\n",
      " 3   first_day_exposition  23699 non-null  object \n",
      " 4   rooms                 23699 non-null  int64  \n",
      " 5   ceiling_height        14504 non-null  float64\n",
      " 6   floors_total          23613 non-null  float64\n",
      " 7   living_area           21796 non-null  float64\n",
      " 8   floor                 23699 non-null  int64  \n",
      " 9   is_apartment          2775 non-null   object \n",
      " 10  studio                23699 non-null  bool   \n",
      " 11  open_plan             23699 non-null  bool   \n",
      " 12  kitchen_area          21570 non-null  float64\n",
      " 13  balcony               12180 non-null  float64\n",
      " 14  locality_name         23650 non-null  object \n",
      " 15  airports_nearest      18157 non-null  float64\n",
      " 16  cityCenters_nearest   18180 non-null  float64\n",
      " 17  parks_around3000      18181 non-null  float64\n",
      " 18  parks_nearest         8079 non-null   float64\n",
      " 19  ponds_around3000      18181 non-null  float64\n",
      " 20  ponds_nearest         9110 non-null   float64\n",
      " 21  days_exposition       20518 non-null  float64\n",
      "dtypes: bool(2), float64(14), int64(3), object(3)\n",
      "memory usage: 3.7+ MB\n"
     ]
    }
   ],
   "source": [
    "#перебираем все квартиры-студии с определенным числом комнат\n",
    "#и пустые значения площадей кухонь заполняем 0\n",
    "for row in data['rooms'].unique():\n",
    "    data.loc[(data['rooms']==row) & (data['studio']==True), 'kitchen_area'] = data[(data['rooms']==row)&(data['studio']==True)]['kitchen_area'].fillna(0)\n",
    "data.info()"
   ]
  },
  {
   "cell_type": "markdown",
   "metadata": {},
   "source": [
    "<div class=\"alert alert-warning\">\n",
    "<b>⚠️ Комментарий ревьюера:</b> Я бы советовала сразу выводить долю пропусков. Так мы увидим, что можно отбросить, а с чем надо работать"
   ]
  },
  {
   "cell_type": "markdown",
   "metadata": {},
   "source": [
    "В сводной таблице медианных значений параметров квартир в зависимости от количества комнат определены пустые позиции (kitchen_area в квартире с 0 комнатами, ceiling_height в квартире с 19 комнатами). Квартир с 0 комнатами всего 197, что является 197/23699=0,8% от всей выборки. Квартир с 19 комнатами 1 шт, что составляет меньше 1 % от всей выборки. Строки с объявлениями о продаже квартиры с 0 комнат или 19 комнат предлагается удалить, это не повлияет на результаты исследования."
   ]
  },
  {
   "cell_type": "code",
   "execution_count": 5,
   "metadata": {},
   "outputs": [
    {
     "data": {
      "text/plain": [
       "rooms\n",
       "1     8047\n",
       "2     7940\n",
       "3     5814\n",
       "4     1180\n",
       "5      326\n",
       "6      105\n",
       "7       59\n",
       "8       12\n",
       "9        8\n",
       "10       3\n",
       "11       2\n",
       "12       1\n",
       "14       2\n",
       "15       1\n",
       "16       1\n",
       "Name: rooms, dtype: int64"
      ]
     },
     "metadata": {},
     "output_type": "display_data"
    }
   ],
   "source": [
    "data = data.loc[(data['rooms']>0)&(data['rooms']<19)]\n",
    "display(data.groupby('rooms')['rooms'].count())"
   ]
  },
  {
   "cell_type": "markdown",
   "metadata": {},
   "source": [
    "Заполним пропуски в столбцах living_area, kitchen_area медианными значениями в зависимости от количества комнат в квартире с условием, что сумма площади кухни и жилой площади меньше общей площади квартиры."
   ]
  },
  {
   "cell_type": "code",
   "execution_count": 6,
   "metadata": {},
   "outputs": [
    {
     "name": "stdout",
     "output_type": "stream",
     "text": [
      "<class 'pandas.core.frame.DataFrame'>\n",
      "Int64Index: 23501 entries, 0 to 23698\n",
      "Data columns (total 22 columns):\n",
      " #   Column                Non-Null Count  Dtype  \n",
      "---  ------                --------------  -----  \n",
      " 0   total_images          23501 non-null  int64  \n",
      " 1   last_price            23501 non-null  float64\n",
      " 2   total_area            23501 non-null  float64\n",
      " 3   first_day_exposition  23501 non-null  object \n",
      " 4   rooms                 23501 non-null  int64  \n",
      " 5   ceiling_height        14422 non-null  float64\n",
      " 6   floors_total          23418 non-null  float64\n",
      " 7   living_area           22042 non-null  float64\n",
      " 8   floor                 23501 non-null  int64  \n",
      " 9   is_apartment          2769 non-null   object \n",
      " 10  studio                23501 non-null  bool   \n",
      " 11  open_plan             23501 non-null  bool   \n",
      " 12  kitchen_area          21927 non-null  float64\n",
      " 13  balcony               12054 non-null  float64\n",
      " 14  locality_name         23452 non-null  object \n",
      " 15  airports_nearest      18038 non-null  float64\n",
      " 16  cityCenters_nearest   18061 non-null  float64\n",
      " 17  parks_around3000      18062 non-null  float64\n",
      " 18  parks_nearest         8050 non-null   float64\n",
      " 19  ponds_around3000      18062 non-null  float64\n",
      " 20  ponds_nearest         9040 non-null   float64\n",
      " 21  days_exposition       20334 non-null  float64\n",
      "dtypes: bool(2), float64(14), int64(3), object(3)\n",
      "memory usage: 3.8+ MB\n"
     ]
    }
   ],
   "source": [
    "for row in data['rooms'].unique():\n",
    "    kitchen_median = data[data['rooms']==row]['kitchen_area'].median()\n",
    "    living_median = data[data['rooms']==row]['living_area'].median()\n",
    "    data.loc[(data['rooms']==row)&(data['living_area']+kitchen_median<data['total_area']), 'kitchen_area'] = data[(data['rooms']==row)&(data['living_area']+kitchen_median<data['total_area'])]['kitchen_area'].fillna(kitchen_median)\n",
    "    data.loc[(data['rooms']==row)&(data['kitchen_area']+living_median<data['total_area']), 'living_area'] = data[(data['rooms']==row)&(data['kitchen_area']+living_median<data['total_area'])]['living_area'].fillna(living_median)\n",
    "data.info()"
   ]
  },
  {
   "cell_type": "markdown",
   "metadata": {},
   "source": [
    "В результате анализа данных и заполнения пропусков в столбцах living_area и kitchen_area остались пропуски. В связи с тем, что заполнение медианными значениями пропусков в этих столбцах будет некорректно, а удаление этих строк может привести к потери большого количества данных по другим параметрам (пустых значений в столбце living_area - более 1000, пустых значений в столбце kitchen_area - более 1000), предлагается данные пропуски не заполнять."
   ]
  },
  {
   "cell_type": "markdown",
   "metadata": {},
   "source": [
    "<div class=\"alert alert-warning\">\n",
    "<b>⚠️ Комментарий ревьюера:</b> После заполнения пропусков важно проверить, не превышает ли сумма площадей кухни и жилой площади общую площадь:\n",
    "    \n",
    "        Должно быть: площадь кухни + жилая площадь < общая площадь"
   ]
  },
  {
   "cell_type": "markdown",
   "metadata": {},
   "source": [
    "Для столбца ceiling_height заполним пропуски медианными значениями в соответствии с количествами комнат в квартире."
   ]
  },
  {
   "cell_type": "code",
   "execution_count": 7,
   "metadata": {},
   "outputs": [
    {
     "name": "stdout",
     "output_type": "stream",
     "text": [
      "<class 'pandas.core.frame.DataFrame'>\n",
      "Int64Index: 23501 entries, 0 to 23698\n",
      "Data columns (total 22 columns):\n",
      " #   Column                Non-Null Count  Dtype  \n",
      "---  ------                --------------  -----  \n",
      " 0   total_images          23501 non-null  int64  \n",
      " 1   last_price            23501 non-null  float64\n",
      " 2   total_area            23501 non-null  float64\n",
      " 3   first_day_exposition  23501 non-null  object \n",
      " 4   rooms                 23501 non-null  int64  \n",
      " 5   ceiling_height        23501 non-null  float64\n",
      " 6   floors_total          23418 non-null  float64\n",
      " 7   living_area           22042 non-null  float64\n",
      " 8   floor                 23501 non-null  int64  \n",
      " 9   is_apartment          2769 non-null   object \n",
      " 10  studio                23501 non-null  bool   \n",
      " 11  open_plan             23501 non-null  bool   \n",
      " 12  kitchen_area          21927 non-null  float64\n",
      " 13  balcony               12054 non-null  float64\n",
      " 14  locality_name         23452 non-null  object \n",
      " 15  airports_nearest      18038 non-null  float64\n",
      " 16  cityCenters_nearest   18061 non-null  float64\n",
      " 17  parks_around3000      18062 non-null  float64\n",
      " 18  parks_nearest         8050 non-null   float64\n",
      " 19  ponds_around3000      18062 non-null  float64\n",
      " 20  ponds_nearest         9040 non-null   float64\n",
      " 21  days_exposition       20334 non-null  float64\n",
      "dtypes: bool(2), float64(14), int64(3), object(3)\n",
      "memory usage: 3.8+ MB\n"
     ]
    }
   ],
   "source": [
    "for row in data['rooms'].unique():\n",
    "    median = data[data['rooms']==row]['ceiling_height'].median()\n",
    "    data.loc[data['rooms']==row, 'ceiling_height'] = data[data['rooms']==row]['ceiling_height'].fillna(median)\n",
    "data.info()"
   ]
  },
  {
   "cell_type": "markdown",
   "metadata": {},
   "source": [
    "В столбце balcony заполним все пустые значения 0. Такой вывод делаем из предположения, что при заполнении объявления пользователь не заполнял строку о наличии балкона в связи с тем, что балкона в квартире нет."
   ]
  },
  {
   "cell_type": "code",
   "execution_count": 8,
   "metadata": {},
   "outputs": [
    {
     "name": "stdout",
     "output_type": "stream",
     "text": [
      "<class 'pandas.core.frame.DataFrame'>\n",
      "Int64Index: 23501 entries, 0 to 23698\n",
      "Data columns (total 22 columns):\n",
      " #   Column                Non-Null Count  Dtype  \n",
      "---  ------                --------------  -----  \n",
      " 0   total_images          23501 non-null  int64  \n",
      " 1   last_price            23501 non-null  float64\n",
      " 2   total_area            23501 non-null  float64\n",
      " 3   first_day_exposition  23501 non-null  object \n",
      " 4   rooms                 23501 non-null  int64  \n",
      " 5   ceiling_height        23501 non-null  float64\n",
      " 6   floors_total          23418 non-null  float64\n",
      " 7   living_area           22042 non-null  float64\n",
      " 8   floor                 23501 non-null  int64  \n",
      " 9   is_apartment          2769 non-null   object \n",
      " 10  studio                23501 non-null  bool   \n",
      " 11  open_plan             23501 non-null  bool   \n",
      " 12  kitchen_area          21927 non-null  float64\n",
      " 13  balcony               23501 non-null  float64\n",
      " 14  locality_name         23452 non-null  object \n",
      " 15  airports_nearest      18038 non-null  float64\n",
      " 16  cityCenters_nearest   18061 non-null  float64\n",
      " 17  parks_around3000      18062 non-null  float64\n",
      " 18  parks_nearest         8050 non-null   float64\n",
      " 19  ponds_around3000      18062 non-null  float64\n",
      " 20  ponds_nearest         9040 non-null   float64\n",
      " 21  days_exposition       20334 non-null  float64\n",
      "dtypes: bool(2), float64(14), int64(3), object(3)\n",
      "memory usage: 3.8+ MB\n"
     ]
    }
   ],
   "source": [
    "data['balcony'] = data['balcony'].fillna(0)\n",
    "data.info()"
   ]
  },
  {
   "cell_type": "markdown",
   "metadata": {},
   "source": [
    "<div class=\"alert alert-success\">\n",
    "<b>✔️ Комментарий ревьюера:</b> Верно"
   ]
  },
  {
   "cell_type": "markdown",
   "metadata": {},
   "source": [
    "2. Оценка и заполнение пропусков в столбцах, связанных с расположением квартиры: locality_name, airports_nearest, cityCenters_nearest, parks_around3000, parks_nearest, ponds_around3000, ponds_nearest.\n",
    "\n",
    "Пропуски в столбце locality_name заполним значением 'unknown'."
   ]
  },
  {
   "cell_type": "code",
   "execution_count": 9,
   "metadata": {
    "scrolled": false
   },
   "outputs": [
    {
     "name": "stdout",
     "output_type": "stream",
     "text": [
      "<class 'pandas.core.frame.DataFrame'>\n",
      "Int64Index: 23501 entries, 0 to 23698\n",
      "Data columns (total 22 columns):\n",
      " #   Column                Non-Null Count  Dtype  \n",
      "---  ------                --------------  -----  \n",
      " 0   total_images          23501 non-null  int64  \n",
      " 1   last_price            23501 non-null  float64\n",
      " 2   total_area            23501 non-null  float64\n",
      " 3   first_day_exposition  23501 non-null  object \n",
      " 4   rooms                 23501 non-null  int64  \n",
      " 5   ceiling_height        23501 non-null  float64\n",
      " 6   floors_total          23418 non-null  float64\n",
      " 7   living_area           22042 non-null  float64\n",
      " 8   floor                 23501 non-null  int64  \n",
      " 9   is_apartment          2769 non-null   object \n",
      " 10  studio                23501 non-null  bool   \n",
      " 11  open_plan             23501 non-null  bool   \n",
      " 12  kitchen_area          21927 non-null  float64\n",
      " 13  balcony               23501 non-null  float64\n",
      " 14  locality_name         23501 non-null  object \n",
      " 15  airports_nearest      18038 non-null  float64\n",
      " 16  cityCenters_nearest   18061 non-null  float64\n",
      " 17  parks_around3000      18062 non-null  float64\n",
      " 18  parks_nearest         8050 non-null   float64\n",
      " 19  ponds_around3000      18062 non-null  float64\n",
      " 20  ponds_nearest         9040 non-null   float64\n",
      " 21  days_exposition       20334 non-null  float64\n",
      "dtypes: bool(2), float64(14), int64(3), object(3)\n",
      "memory usage: 3.8+ MB\n"
     ]
    }
   ],
   "source": [
    "data['locality_name'] = data['locality_name'].fillna('unknown')\n",
    "data.info()"
   ]
  },
  {
   "cell_type": "markdown",
   "metadata": {},
   "source": [
    "Пропуски в столбцах airports_nearest, cityCenters_nearest, parks_around3000, parks_nearest, ponds_around3000, ponds_nearest предлагается не заполнять в связи с отсутвием необходимой информации по расположению квартир."
   ]
  },
  {
   "cell_type": "markdown",
   "metadata": {},
   "source": [
    "3. Оценка и заполнение пропусков в остальных столбцах.\n",
    "\n",
    "Рассмотрим уникальные значения в столбце is_apartment."
   ]
  },
  {
   "cell_type": "code",
   "execution_count": 10,
   "metadata": {},
   "outputs": [
    {
     "data": {
      "text/plain": [
       "array([nan, False, True], dtype=object)"
      ]
     },
     "metadata": {},
     "output_type": "display_data"
    }
   ],
   "source": [
    "display(data['is_apartment'].unique())"
   ]
  },
  {
   "cell_type": "markdown",
   "metadata": {},
   "source": [
    "Заполним пропуски в столбце is_apartment значениями False в связи с допущением, что при заполнении объявления пользователь проигнорировал данную характеристику описания квартиры так как квартира не является апартаментами."
   ]
  },
  {
   "cell_type": "code",
   "execution_count": 11,
   "metadata": {},
   "outputs": [
    {
     "name": "stdout",
     "output_type": "stream",
     "text": [
      "<class 'pandas.core.frame.DataFrame'>\n",
      "Int64Index: 23501 entries, 0 to 23698\n",
      "Data columns (total 22 columns):\n",
      " #   Column                Non-Null Count  Dtype  \n",
      "---  ------                --------------  -----  \n",
      " 0   total_images          23501 non-null  int64  \n",
      " 1   last_price            23501 non-null  float64\n",
      " 2   total_area            23501 non-null  float64\n",
      " 3   first_day_exposition  23501 non-null  object \n",
      " 4   rooms                 23501 non-null  int64  \n",
      " 5   ceiling_height        23501 non-null  float64\n",
      " 6   floors_total          23418 non-null  float64\n",
      " 7   living_area           22042 non-null  float64\n",
      " 8   floor                 23501 non-null  int64  \n",
      " 9   is_apartment          23501 non-null  bool   \n",
      " 10  studio                23501 non-null  bool   \n",
      " 11  open_plan             23501 non-null  bool   \n",
      " 12  kitchen_area          21927 non-null  float64\n",
      " 13  balcony               23501 non-null  float64\n",
      " 14  locality_name         23501 non-null  object \n",
      " 15  airports_nearest      18038 non-null  float64\n",
      " 16  cityCenters_nearest   18061 non-null  float64\n",
      " 17  parks_around3000      18062 non-null  float64\n",
      " 18  parks_nearest         8050 non-null   float64\n",
      " 19  ponds_around3000      18062 non-null  float64\n",
      " 20  ponds_nearest         9040 non-null   float64\n",
      " 21  days_exposition       20334 non-null  float64\n",
      "dtypes: bool(3), float64(14), int64(3), object(2)\n",
      "memory usage: 3.7+ MB\n"
     ]
    }
   ],
   "source": [
    "data['is_apartment'] = data['is_apartment'].fillna(False)\n",
    "data.info()"
   ]
  },
  {
   "cell_type": "markdown",
   "metadata": {},
   "source": [
    "Заполнение пропусков в столбце floors_total с указанием количества квартир в доме не представляется возможным. В связи с тем что строк с пропусками в столбце floors_total меньше 100 (0,3% от всей выборки), предлагается удалить строки с пропусками в столбце floors_total."
   ]
  },
  {
   "cell_type": "code",
   "execution_count": 12,
   "metadata": {},
   "outputs": [
    {
     "name": "stdout",
     "output_type": "stream",
     "text": [
      "<class 'pandas.core.frame.DataFrame'>\n",
      "Int64Index: 23418 entries, 0 to 23698\n",
      "Data columns (total 22 columns):\n",
      " #   Column                Non-Null Count  Dtype  \n",
      "---  ------                --------------  -----  \n",
      " 0   total_images          23418 non-null  int64  \n",
      " 1   last_price            23418 non-null  float64\n",
      " 2   total_area            23418 non-null  float64\n",
      " 3   first_day_exposition  23418 non-null  object \n",
      " 4   rooms                 23418 non-null  int64  \n",
      " 5   ceiling_height        23418 non-null  float64\n",
      " 6   floors_total          23418 non-null  float64\n",
      " 7   living_area           21989 non-null  float64\n",
      " 8   floor                 23418 non-null  int64  \n",
      " 9   is_apartment          23418 non-null  bool   \n",
      " 10  studio                23418 non-null  bool   \n",
      " 11  open_plan             23418 non-null  bool   \n",
      " 12  kitchen_area          21877 non-null  float64\n",
      " 13  balcony               23418 non-null  float64\n",
      " 14  locality_name         23418 non-null  object \n",
      " 15  airports_nearest      17963 non-null  float64\n",
      " 16  cityCenters_nearest   17986 non-null  float64\n",
      " 17  parks_around3000      17987 non-null  float64\n",
      " 18  parks_nearest         8017 non-null   float64\n",
      " 19  ponds_around3000      17987 non-null  float64\n",
      " 20  ponds_nearest         8992 non-null   float64\n",
      " 21  days_exposition       20260 non-null  float64\n",
      "dtypes: bool(3), float64(14), int64(3), object(2)\n",
      "memory usage: 3.6+ MB\n"
     ]
    }
   ],
   "source": [
    "data=data.dropna(subset=['floors_total'])\n",
    "data.info()"
   ]
  },
  {
   "cell_type": "markdown",
   "metadata": {},
   "source": [
    "Обнаруженные пропуски в столбце days_exposition предлагается не заполнять в связи с тем, что в данном столбце представлено количество дней размещения объявления (от размещения до снятия). Отсутствие значений вызвано скорее всего тем, что объявление еще не снято с публикации (действующее), а удаление такого количества строк (около 2000) может существенно сказаться на результатах исследования."
   ]
  },
  {
   "cell_type": "markdown",
   "metadata": {},
   "source": [
    "### Изменение типов данных\n",
    "\n",
    "Изменим тип столбца balcony, преобразуем значения к целочисленному типу, так как количество балконов не может быть дробным."
   ]
  },
  {
   "cell_type": "code",
   "execution_count": 13,
   "metadata": {},
   "outputs": [
    {
     "name": "stdout",
     "output_type": "stream",
     "text": [
      "<class 'pandas.core.frame.DataFrame'>\n",
      "Int64Index: 23418 entries, 0 to 23698\n",
      "Data columns (total 22 columns):\n",
      " #   Column                Non-Null Count  Dtype  \n",
      "---  ------                --------------  -----  \n",
      " 0   total_images          23418 non-null  int64  \n",
      " 1   last_price            23418 non-null  float64\n",
      " 2   total_area            23418 non-null  float64\n",
      " 3   first_day_exposition  23418 non-null  object \n",
      " 4   rooms                 23418 non-null  int64  \n",
      " 5   ceiling_height        23418 non-null  float64\n",
      " 6   floors_total          23418 non-null  float64\n",
      " 7   living_area           21989 non-null  float64\n",
      " 8   floor                 23418 non-null  int64  \n",
      " 9   is_apartment          23418 non-null  bool   \n",
      " 10  studio                23418 non-null  bool   \n",
      " 11  open_plan             23418 non-null  bool   \n",
      " 12  kitchen_area          21877 non-null  float64\n",
      " 13  balcony               23418 non-null  int64  \n",
      " 14  locality_name         23418 non-null  object \n",
      " 15  airports_nearest      17963 non-null  float64\n",
      " 16  cityCenters_nearest   17986 non-null  float64\n",
      " 17  parks_around3000      17987 non-null  float64\n",
      " 18  parks_nearest         8017 non-null   float64\n",
      " 19  ponds_around3000      17987 non-null  float64\n",
      " 20  ponds_nearest         8992 non-null   float64\n",
      " 21  days_exposition       20260 non-null  float64\n",
      "dtypes: bool(3), float64(13), int64(4), object(2)\n",
      "memory usage: 3.6+ MB\n"
     ]
    }
   ],
   "source": [
    "data['balcony'] = data['balcony'].astype('int64')\n",
    "data.info()"
   ]
  },
  {
   "cell_type": "markdown",
   "metadata": {},
   "source": [
    "### Вывод\n",
    "\n",
    "В ходе предобработки данных были заполнены пропуски в отдельных столбцах, изменены типы данных представленных значений. Полученные данные готовы к дальнейшему анализу."
   ]
  },
  {
   "cell_type": "markdown",
   "metadata": {},
   "source": [
    "<div class=\"alert alert-warning\">\n",
    "<b>⚠️ Комментарий ревьюера:</b> Можно еще заменить тип данных с float64 на float32 для экономии памяти"
   ]
  },
  {
   "cell_type": "markdown",
   "metadata": {},
   "source": [
    "## Расчёты и добавление результатов в таблицу"
   ]
  },
  {
   "cell_type": "markdown",
   "metadata": {},
   "source": [
    "Для дальнейшего анализа объявлений о продаже квартир необходимо дополнить данные. В исходную таблицу необходимо добавить следующие параметры:\n",
    "- цену квадратного метра - определяется как отношение стоимости квартиры к общей площади квартиры;\n",
    "- день недели, месяц и год публикации объявления;\n",
    "- этаж квартиры - дополнительная категория, варианты — первый, последний, другой;\n",
    "- отношение жилой площади к общей;\n",
    "- отношение площади кухни к общей."
   ]
  },
  {
   "cell_type": "markdown",
   "metadata": {},
   "source": [
    "Добавим в таблицу столбец price_one_meter, в котором отразим стоимость одного квадрантого метра квартиры, определяется как отношение стоимости квартиры к общей площади квартиры."
   ]
  },
  {
   "cell_type": "code",
   "execution_count": 14,
   "metadata": {},
   "outputs": [
    {
     "data": {
      "text/html": [
       "<div>\n",
       "<style scoped>\n",
       "    .dataframe tbody tr th:only-of-type {\n",
       "        vertical-align: middle;\n",
       "    }\n",
       "\n",
       "    .dataframe tbody tr th {\n",
       "        vertical-align: top;\n",
       "    }\n",
       "\n",
       "    .dataframe thead th {\n",
       "        text-align: right;\n",
       "    }\n",
       "</style>\n",
       "<table border=\"1\" class=\"dataframe\">\n",
       "  <thead>\n",
       "    <tr style=\"text-align: right;\">\n",
       "      <th></th>\n",
       "      <th>total_area</th>\n",
       "      <th>last_price</th>\n",
       "      <th>price_one_meter</th>\n",
       "    </tr>\n",
       "  </thead>\n",
       "  <tbody>\n",
       "    <tr>\n",
       "      <th>0</th>\n",
       "      <td>108.0</td>\n",
       "      <td>13000000.0</td>\n",
       "      <td>120370.370370</td>\n",
       "    </tr>\n",
       "    <tr>\n",
       "      <th>1</th>\n",
       "      <td>40.4</td>\n",
       "      <td>3350000.0</td>\n",
       "      <td>82920.792079</td>\n",
       "    </tr>\n",
       "    <tr>\n",
       "      <th>2</th>\n",
       "      <td>56.0</td>\n",
       "      <td>5196000.0</td>\n",
       "      <td>92785.714286</td>\n",
       "    </tr>\n",
       "    <tr>\n",
       "      <th>3</th>\n",
       "      <td>159.0</td>\n",
       "      <td>64900000.0</td>\n",
       "      <td>408176.100629</td>\n",
       "    </tr>\n",
       "    <tr>\n",
       "      <th>4</th>\n",
       "      <td>100.0</td>\n",
       "      <td>10000000.0</td>\n",
       "      <td>100000.000000</td>\n",
       "    </tr>\n",
       "  </tbody>\n",
       "</table>\n",
       "</div>"
      ],
      "text/plain": [
       "   total_area  last_price  price_one_meter\n",
       "0       108.0  13000000.0    120370.370370\n",
       "1        40.4   3350000.0     82920.792079\n",
       "2        56.0   5196000.0     92785.714286\n",
       "3       159.0  64900000.0    408176.100629\n",
       "4       100.0  10000000.0    100000.000000"
      ]
     },
     "metadata": {},
     "output_type": "display_data"
    },
    {
     "name": "stdout",
     "output_type": "stream",
     "text": [
      "<class 'pandas.core.frame.DataFrame'>\n",
      "Int64Index: 23418 entries, 0 to 23698\n",
      "Data columns (total 23 columns):\n",
      " #   Column                Non-Null Count  Dtype  \n",
      "---  ------                --------------  -----  \n",
      " 0   total_images          23418 non-null  int64  \n",
      " 1   last_price            23418 non-null  float64\n",
      " 2   total_area            23418 non-null  float64\n",
      " 3   first_day_exposition  23418 non-null  object \n",
      " 4   rooms                 23418 non-null  int64  \n",
      " 5   ceiling_height        23418 non-null  float64\n",
      " 6   floors_total          23418 non-null  float64\n",
      " 7   living_area           21989 non-null  float64\n",
      " 8   floor                 23418 non-null  int64  \n",
      " 9   is_apartment          23418 non-null  bool   \n",
      " 10  studio                23418 non-null  bool   \n",
      " 11  open_plan             23418 non-null  bool   \n",
      " 12  kitchen_area          21877 non-null  float64\n",
      " 13  balcony               23418 non-null  int64  \n",
      " 14  locality_name         23418 non-null  object \n",
      " 15  airports_nearest      17963 non-null  float64\n",
      " 16  cityCenters_nearest   17986 non-null  float64\n",
      " 17  parks_around3000      17987 non-null  float64\n",
      " 18  parks_nearest         8017 non-null   float64\n",
      " 19  ponds_around3000      17987 non-null  float64\n",
      " 20  ponds_nearest         8992 non-null   float64\n",
      " 21  days_exposition       20260 non-null  float64\n",
      " 22  price_one_meter       23418 non-null  float64\n",
      "dtypes: bool(3), float64(14), int64(4), object(2)\n",
      "memory usage: 3.8+ MB\n"
     ]
    }
   ],
   "source": [
    "data['price_one_meter'] = data['last_price']/data['total_area']\n",
    "display(data[['total_area', 'last_price','price_one_meter']].head())\n",
    "data.info()"
   ]
  },
  {
   "cell_type": "markdown",
   "metadata": {},
   "source": [
    "Для добавления в таблицу день недели, месяц и год публикации объявления расмотрим формат данных, представленный в столбце first_day_exposition."
   ]
  },
  {
   "cell_type": "code",
   "execution_count": 15,
   "metadata": {},
   "outputs": [
    {
     "data": {
      "text/plain": [
       "0    2019-03-07T00:00:00\n",
       "1    2018-12-04T00:00:00\n",
       "2    2015-08-20T00:00:00\n",
       "3    2015-07-24T00:00:00\n",
       "4    2018-06-19T00:00:00\n",
       "Name: first_day_exposition, dtype: object"
      ]
     },
     "metadata": {},
     "output_type": "display_data"
    }
   ],
   "source": [
    "display(data['first_day_exposition'].head())"
   ]
  },
  {
   "cell_type": "markdown",
   "metadata": {},
   "source": [
    "Выделим год, месяц и день публикации объявления в отдельные столбцы day_exposition, month_exposition и year_exposition соответственно."
   ]
  },
  {
   "cell_type": "code",
   "execution_count": 16,
   "metadata": {},
   "outputs": [
    {
     "data": {
      "text/html": [
       "<div>\n",
       "<style scoped>\n",
       "    .dataframe tbody tr th:only-of-type {\n",
       "        vertical-align: middle;\n",
       "    }\n",
       "\n",
       "    .dataframe tbody tr th {\n",
       "        vertical-align: top;\n",
       "    }\n",
       "\n",
       "    .dataframe thead th {\n",
       "        text-align: right;\n",
       "    }\n",
       "</style>\n",
       "<table border=\"1\" class=\"dataframe\">\n",
       "  <thead>\n",
       "    <tr style=\"text-align: right;\">\n",
       "      <th></th>\n",
       "      <th>first_day_exposition</th>\n",
       "      <th>day_exposition</th>\n",
       "      <th>month_exposition</th>\n",
       "      <th>year_exposition</th>\n",
       "    </tr>\n",
       "  </thead>\n",
       "  <tbody>\n",
       "    <tr>\n",
       "      <th>0</th>\n",
       "      <td>2019-03-07T00:00:00</td>\n",
       "      <td>3</td>\n",
       "      <td>3</td>\n",
       "      <td>2019</td>\n",
       "    </tr>\n",
       "    <tr>\n",
       "      <th>1</th>\n",
       "      <td>2018-12-04T00:00:00</td>\n",
       "      <td>1</td>\n",
       "      <td>12</td>\n",
       "      <td>2018</td>\n",
       "    </tr>\n",
       "    <tr>\n",
       "      <th>2</th>\n",
       "      <td>2015-08-20T00:00:00</td>\n",
       "      <td>3</td>\n",
       "      <td>8</td>\n",
       "      <td>2015</td>\n",
       "    </tr>\n",
       "    <tr>\n",
       "      <th>3</th>\n",
       "      <td>2015-07-24T00:00:00</td>\n",
       "      <td>4</td>\n",
       "      <td>7</td>\n",
       "      <td>2015</td>\n",
       "    </tr>\n",
       "    <tr>\n",
       "      <th>4</th>\n",
       "      <td>2018-06-19T00:00:00</td>\n",
       "      <td>1</td>\n",
       "      <td>6</td>\n",
       "      <td>2018</td>\n",
       "    </tr>\n",
       "    <tr>\n",
       "      <th>5</th>\n",
       "      <td>2018-09-10T00:00:00</td>\n",
       "      <td>0</td>\n",
       "      <td>9</td>\n",
       "      <td>2018</td>\n",
       "    </tr>\n",
       "    <tr>\n",
       "      <th>6</th>\n",
       "      <td>2017-11-02T00:00:00</td>\n",
       "      <td>3</td>\n",
       "      <td>11</td>\n",
       "      <td>2017</td>\n",
       "    </tr>\n",
       "    <tr>\n",
       "      <th>7</th>\n",
       "      <td>2019-04-18T00:00:00</td>\n",
       "      <td>3</td>\n",
       "      <td>4</td>\n",
       "      <td>2019</td>\n",
       "    </tr>\n",
       "    <tr>\n",
       "      <th>8</th>\n",
       "      <td>2018-05-23T00:00:00</td>\n",
       "      <td>2</td>\n",
       "      <td>5</td>\n",
       "      <td>2018</td>\n",
       "    </tr>\n",
       "    <tr>\n",
       "      <th>9</th>\n",
       "      <td>2017-02-26T00:00:00</td>\n",
       "      <td>6</td>\n",
       "      <td>2</td>\n",
       "      <td>2017</td>\n",
       "    </tr>\n",
       "    <tr>\n",
       "      <th>10</th>\n",
       "      <td>2017-11-16T00:00:00</td>\n",
       "      <td>3</td>\n",
       "      <td>11</td>\n",
       "      <td>2017</td>\n",
       "    </tr>\n",
       "    <tr>\n",
       "      <th>11</th>\n",
       "      <td>2018-08-27T00:00:00</td>\n",
       "      <td>0</td>\n",
       "      <td>8</td>\n",
       "      <td>2018</td>\n",
       "    </tr>\n",
       "    <tr>\n",
       "      <th>12</th>\n",
       "      <td>2016-06-30T00:00:00</td>\n",
       "      <td>3</td>\n",
       "      <td>6</td>\n",
       "      <td>2016</td>\n",
       "    </tr>\n",
       "    <tr>\n",
       "      <th>13</th>\n",
       "      <td>2017-07-01T00:00:00</td>\n",
       "      <td>5</td>\n",
       "      <td>7</td>\n",
       "      <td>2017</td>\n",
       "    </tr>\n",
       "    <tr>\n",
       "      <th>14</th>\n",
       "      <td>2016-06-23T00:00:00</td>\n",
       "      <td>3</td>\n",
       "      <td>6</td>\n",
       "      <td>2016</td>\n",
       "    </tr>\n",
       "  </tbody>\n",
       "</table>\n",
       "</div>"
      ],
      "text/plain": [
       "   first_day_exposition  day_exposition  month_exposition  year_exposition\n",
       "0   2019-03-07T00:00:00               3                 3             2019\n",
       "1   2018-12-04T00:00:00               1                12             2018\n",
       "2   2015-08-20T00:00:00               3                 8             2015\n",
       "3   2015-07-24T00:00:00               4                 7             2015\n",
       "4   2018-06-19T00:00:00               1                 6             2018\n",
       "5   2018-09-10T00:00:00               0                 9             2018\n",
       "6   2017-11-02T00:00:00               3                11             2017\n",
       "7   2019-04-18T00:00:00               3                 4             2019\n",
       "8   2018-05-23T00:00:00               2                 5             2018\n",
       "9   2017-02-26T00:00:00               6                 2             2017\n",
       "10  2017-11-16T00:00:00               3                11             2017\n",
       "11  2018-08-27T00:00:00               0                 8             2018\n",
       "12  2016-06-30T00:00:00               3                 6             2016\n",
       "13  2017-07-01T00:00:00               5                 7             2017\n",
       "14  2016-06-23T00:00:00               3                 6             2016"
      ]
     },
     "metadata": {},
     "output_type": "display_data"
    },
    {
     "name": "stdout",
     "output_type": "stream",
     "text": [
      "<class 'pandas.core.frame.DataFrame'>\n",
      "Int64Index: 23418 entries, 0 to 23698\n",
      "Data columns (total 26 columns):\n",
      " #   Column                Non-Null Count  Dtype  \n",
      "---  ------                --------------  -----  \n",
      " 0   total_images          23418 non-null  int64  \n",
      " 1   last_price            23418 non-null  float64\n",
      " 2   total_area            23418 non-null  float64\n",
      " 3   first_day_exposition  23418 non-null  object \n",
      " 4   rooms                 23418 non-null  int64  \n",
      " 5   ceiling_height        23418 non-null  float64\n",
      " 6   floors_total          23418 non-null  float64\n",
      " 7   living_area           21989 non-null  float64\n",
      " 8   floor                 23418 non-null  int64  \n",
      " 9   is_apartment          23418 non-null  bool   \n",
      " 10  studio                23418 non-null  bool   \n",
      " 11  open_plan             23418 non-null  bool   \n",
      " 12  kitchen_area          21877 non-null  float64\n",
      " 13  balcony               23418 non-null  int64  \n",
      " 14  locality_name         23418 non-null  object \n",
      " 15  airports_nearest      17963 non-null  float64\n",
      " 16  cityCenters_nearest   17986 non-null  float64\n",
      " 17  parks_around3000      17987 non-null  float64\n",
      " 18  parks_nearest         8017 non-null   float64\n",
      " 19  ponds_around3000      17987 non-null  float64\n",
      " 20  ponds_nearest         8992 non-null   float64\n",
      " 21  days_exposition       20260 non-null  float64\n",
      " 22  price_one_meter       23418 non-null  float64\n",
      " 23  day_exposition        23418 non-null  int64  \n",
      " 24  month_exposition      23418 non-null  int64  \n",
      " 25  year_exposition       23418 non-null  int64  \n",
      "dtypes: bool(3), float64(14), int64(7), object(2)\n",
      "memory usage: 4.4+ MB\n"
     ]
    }
   ],
   "source": [
    "data['day_exposition'] = pd.DatetimeIndex(data['first_day_exposition']).weekday\n",
    "data['month_exposition'] = pd.DatetimeIndex(data['first_day_exposition']).month\n",
    "data['year_exposition'] = pd.DatetimeIndex(data['first_day_exposition']).year\n",
    "display(data[['first_day_exposition', 'day_exposition', 'month_exposition', 'year_exposition']].head(15))\n",
    "data.info()"
   ]
  },
  {
   "cell_type": "markdown",
   "metadata": {},
   "source": [
    "<div class=\"alert alert-warning\">\n",
    "<b>⚠️ Комментарий ревьюера:</b> Обычно в датафреймах содержатся данные за несколько лет. Важно выбрать корректный метод для вычленения месяца, иначе месяца разных годов могут стать одним месяцем (метод month может привести к ошибке). Обрати внимание на метод astype('datetime64[M]'). Для его использования не нужно обращаться к pd.DatetimeIndex. В данной работе нам не нужно разделять месяца разных годов. Это практичеый совет на будущее:) "
   ]
  },
  {
   "cell_type": "markdown",
   "metadata": {},
   "source": [
    "Добавим в таблицу столбец floor_category со значениями категорий расположения на этажах квартиры - первый, последний или другой. Применим функцию одной строки."
   ]
  },
  {
   "cell_type": "code",
   "execution_count": 17,
   "metadata": {},
   "outputs": [
    {
     "data": {
      "text/plain": [
       "другой       17197\n",
       "последний     3325\n",
       "первый        2896\n",
       "Name: floor_category, dtype: int64"
      ]
     },
     "metadata": {},
     "output_type": "display_data"
    }
   ],
   "source": [
    "def category_floor (row):\n",
    "    floor = row['floor']\n",
    "    total = row['floors_total']\n",
    "    if floor==1:\n",
    "        return 'первый'\n",
    "    if floor==total:\n",
    "        return 'последний'\n",
    "    if (floor!=total) and (floor!=1):\n",
    "        return 'другой'\n",
    "data['floor_category'] = data.apply(category_floor, axis=1)\n",
    "display(data['floor_category'].value_counts())"
   ]
  },
  {
   "cell_type": "markdown",
   "metadata": {},
   "source": [
    "Добавим в таблицу столбец living_total_area, в котором посчитаем отношение жилой площади к общей."
   ]
  },
  {
   "cell_type": "code",
   "execution_count": 18,
   "metadata": {},
   "outputs": [
    {
     "data": {
      "text/plain": [
       "0    0.472222\n",
       "1    0.460396\n",
       "2    0.612500\n",
       "3         NaN\n",
       "4    0.320000\n",
       "Name: living_total_area, dtype: float64"
      ]
     },
     "metadata": {},
     "output_type": "display_data"
    },
    {
     "name": "stdout",
     "output_type": "stream",
     "text": [
      "<class 'pandas.core.frame.DataFrame'>\n",
      "Int64Index: 23418 entries, 0 to 23698\n",
      "Data columns (total 28 columns):\n",
      " #   Column                Non-Null Count  Dtype  \n",
      "---  ------                --------------  -----  \n",
      " 0   total_images          23418 non-null  int64  \n",
      " 1   last_price            23418 non-null  float64\n",
      " 2   total_area            23418 non-null  float64\n",
      " 3   first_day_exposition  23418 non-null  object \n",
      " 4   rooms                 23418 non-null  int64  \n",
      " 5   ceiling_height        23418 non-null  float64\n",
      " 6   floors_total          23418 non-null  float64\n",
      " 7   living_area           21989 non-null  float64\n",
      " 8   floor                 23418 non-null  int64  \n",
      " 9   is_apartment          23418 non-null  bool   \n",
      " 10  studio                23418 non-null  bool   \n",
      " 11  open_plan             23418 non-null  bool   \n",
      " 12  kitchen_area          21877 non-null  float64\n",
      " 13  balcony               23418 non-null  int64  \n",
      " 14  locality_name         23418 non-null  object \n",
      " 15  airports_nearest      17963 non-null  float64\n",
      " 16  cityCenters_nearest   17986 non-null  float64\n",
      " 17  parks_around3000      17987 non-null  float64\n",
      " 18  parks_nearest         8017 non-null   float64\n",
      " 19  ponds_around3000      17987 non-null  float64\n",
      " 20  ponds_nearest         8992 non-null   float64\n",
      " 21  days_exposition       20260 non-null  float64\n",
      " 22  price_one_meter       23418 non-null  float64\n",
      " 23  day_exposition        23418 non-null  int64  \n",
      " 24  month_exposition      23418 non-null  int64  \n",
      " 25  year_exposition       23418 non-null  int64  \n",
      " 26  floor_category        23418 non-null  object \n",
      " 27  living_total_area     21989 non-null  float64\n",
      "dtypes: bool(3), float64(15), int64(7), object(3)\n",
      "memory usage: 4.7+ MB\n"
     ]
    }
   ],
   "source": [
    "data['living_total_area']=data['living_area']/data['total_area']\n",
    "display(data['living_total_area'].head())\n",
    "data.info()"
   ]
  },
  {
   "cell_type": "markdown",
   "metadata": {},
   "source": [
    "Добавим в таблицу столбец kitchen_total_area, в котором посчитаем отношение площади кухни к общей."
   ]
  },
  {
   "cell_type": "code",
   "execution_count": 19,
   "metadata": {},
   "outputs": [
    {
     "data": {
      "text/plain": [
       "0    0.231481\n",
       "1    0.272277\n",
       "2    0.148214\n",
       "3         NaN\n",
       "4    0.410000\n",
       "Name: kitchen_total_area, dtype: float64"
      ]
     },
     "metadata": {},
     "output_type": "display_data"
    },
    {
     "name": "stdout",
     "output_type": "stream",
     "text": [
      "<class 'pandas.core.frame.DataFrame'>\n",
      "Int64Index: 23418 entries, 0 to 23698\n",
      "Data columns (total 29 columns):\n",
      " #   Column                Non-Null Count  Dtype  \n",
      "---  ------                --------------  -----  \n",
      " 0   total_images          23418 non-null  int64  \n",
      " 1   last_price            23418 non-null  float64\n",
      " 2   total_area            23418 non-null  float64\n",
      " 3   first_day_exposition  23418 non-null  object \n",
      " 4   rooms                 23418 non-null  int64  \n",
      " 5   ceiling_height        23418 non-null  float64\n",
      " 6   floors_total          23418 non-null  float64\n",
      " 7   living_area           21989 non-null  float64\n",
      " 8   floor                 23418 non-null  int64  \n",
      " 9   is_apartment          23418 non-null  bool   \n",
      " 10  studio                23418 non-null  bool   \n",
      " 11  open_plan             23418 non-null  bool   \n",
      " 12  kitchen_area          21877 non-null  float64\n",
      " 13  balcony               23418 non-null  int64  \n",
      " 14  locality_name         23418 non-null  object \n",
      " 15  airports_nearest      17963 non-null  float64\n",
      " 16  cityCenters_nearest   17986 non-null  float64\n",
      " 17  parks_around3000      17987 non-null  float64\n",
      " 18  parks_nearest         8017 non-null   float64\n",
      " 19  ponds_around3000      17987 non-null  float64\n",
      " 20  ponds_nearest         8992 non-null   float64\n",
      " 21  days_exposition       20260 non-null  float64\n",
      " 22  price_one_meter       23418 non-null  float64\n",
      " 23  day_exposition        23418 non-null  int64  \n",
      " 24  month_exposition      23418 non-null  int64  \n",
      " 25  year_exposition       23418 non-null  int64  \n",
      " 26  floor_category        23418 non-null  object \n",
      " 27  living_total_area     21989 non-null  float64\n",
      " 28  kitchen_total_area    21877 non-null  float64\n",
      "dtypes: bool(3), float64(16), int64(7), object(3)\n",
      "memory usage: 4.9+ MB\n"
     ]
    }
   ],
   "source": [
    "data['kitchen_total_area']=data['kitchen_area']/data['total_area']\n",
    "display(data['kitchen_total_area'].head())\n",
    "data.info()"
   ]
  },
  {
   "cell_type": "markdown",
   "metadata": {},
   "source": [
    "### Вывод\n",
    "\n",
    "В таблицу добавлены следующие столбцы:\n",
    "1. price_one_meter - стоимость одного квадратного метра квартиры;\n",
    "2. day_exposition - день публикации объявления;\n",
    "3. month_exposition - месяц публикации объявления;\n",
    "4. year_exposition - год публикации объявления;\n",
    "5. floor_category - классификация квартир по этажам;\n",
    "6. living_total_area - отношение жилой площади квартиры к общей;\n",
    "7. kitchen_total_area - отношение площади кухни квартиры к общей."
   ]
  },
  {
   "cell_type": "markdown",
   "metadata": {},
   "source": [
    "## Исследовательский анализ данных"
   ]
  },
  {
   "cell_type": "markdown",
   "metadata": {},
   "source": [
    "### Изучение параметров квартир\n",
    "\n",
    "Проанализируем следующие параметры квартир: площадь, цена, число комнат, высота потолков. Построим гистограммы для каждого параметра."
   ]
  },
  {
   "cell_type": "markdown",
   "metadata": {},
   "source": [
    "#### Общая площадь квартир\n",
    "Исследуем значения общей площади квартир.\n",
    "Найдем числовое описание данных в столбце total_area."
   ]
  },
  {
   "cell_type": "code",
   "execution_count": 20,
   "metadata": {},
   "outputs": [
    {
     "data": {
      "text/plain": [
       "count    23418.000000\n",
       "mean        60.584227\n",
       "std         35.547035\n",
       "min         12.000000\n",
       "25%         40.200000\n",
       "50%         52.000000\n",
       "75%         70.000000\n",
       "max        900.000000\n",
       "Name: total_area, dtype: float64"
      ]
     },
     "execution_count": 20,
     "metadata": {},
     "output_type": "execute_result"
    }
   ],
   "source": [
    "data['total_area'].describe()"
   ]
  },
  {
   "cell_type": "markdown",
   "metadata": {},
   "source": [
    "Построим гистограмму по значениям столбца total_area."
   ]
  },
  {
   "cell_type": "code",
   "execution_count": 21,
   "metadata": {},
   "outputs": [
    {
     "data": {
      "text/plain": [
       "<AxesSubplot:>"
      ]
     },
     "execution_count": 21,
     "metadata": {},
     "output_type": "execute_result"
    },
    {
     "data": {
      "image/png": "[encoded data removed]",
      "text/plain": [
       "<Figure size 432x288 with 1 Axes>"
      ]
     },
     "metadata": {
      "needs_background": "light"
     },
     "output_type": "display_data"
    }
   ],
   "source": [
    "data['total_area'].hist()"
   ]
  },
  {
   "cell_type": "markdown",
   "metadata": {},
   "source": [
    "<div class=\"alert alert-warning\">\n",
    "<b>⚠️ Комментарий ревьюера:</b> Вы еще не проходили подписи графиков (осей), но можно их добавить, чтобы гистограмма стала информативнее. Можно почитать здесь, как добавить подписи: \n",
    "    \n",
    "    \n",
    "    https://mode.com/example-gallery/python_histogram/"
   ]
  },
  {
   "cell_type": "markdown",
   "metadata": {},
   "source": [
    "Построим диаграмму размаха по значениям столбца total_area."
   ]
  },
  {
   "cell_type": "code",
   "execution_count": 22,
   "metadata": {},
   "outputs": [
    {
     "data": {
      "text/plain": [
       "<AxesSubplot:>"
      ]
     },
     "execution_count": 22,
     "metadata": {},
     "output_type": "execute_result"
    },
    {
     "data": {
      "image/png": "[encoded data removed]",
      "text/plain": [
       "<Figure size 432x288 with 1 Axes>"
      ]
     },
     "metadata": {
      "needs_background": "light"
     },
     "output_type": "display_data"
    }
   ],
   "source": [
    "data.boxplot(column='total_area')"
   ]
  },
  {
   "cell_type": "markdown",
   "metadata": {},
   "source": [
    "Напишем функцию, определяющую границу диаграммы размаха - статистически допустимые максимальные и минимальные значения общей площади границы, исключающие выбросы."
   ]
  },
  {
   "cell_type": "code",
   "execution_count": 23,
   "metadata": {},
   "outputs": [
    {
     "data": {
      "text/plain": [
       "(12.0, 114.69999999999999)"
      ]
     },
     "metadata": {},
     "output_type": "display_data"
    }
   ],
   "source": [
    "def quart (data, column):\n",
    "    q1 = data[column].quantile(0.25)\n",
    "    q3 = data[column].quantile(0.75)\n",
    "    iqr = q3-q1\n",
    "    max_q = q3+1.5*iqr\n",
    "    if max_q > data[column].max():\n",
    "        max_q = data[column].max()\n",
    "    min_q = q1-1.5*iqr\n",
    "    if min_q < data[column].min():\n",
    "        min_q = data[column].min()\n",
    "    return min_q, max_q \n",
    "display (quart(data, 'total_area'))"
   ]
  },
  {
   "cell_type": "markdown",
   "metadata": {},
   "source": [
    "<div class=\"alert alert-success\">\n",
    "<b>✔️ Комментарий ревьюера:</b> Отличная функция для определения значений, лежащих за границами!"
   ]
  },
  {
   "cell_type": "markdown",
   "metadata": {},
   "source": [
    "##### Результаты анализа данных об общей площади квартир\n",
    "В ходе анализа общей площади квартир, представленных в объявлениях, получены следующие результаты:\n",
    "1. По анализу числового описания данных установлено большое значение стандартного отклонения - 35,5. Зарегистрировано большое отклонение максимального значения (900,0) от медианного (52,0) и среднего (60,5) значений по сравнению с минимальным (12,0).\n",
    "2. По анализу гистограммы определено, что основная часть значений лежит в пределах от 0 до 200.\n",
    "3. По анализу диаграммы размаха определен единичный выброс при значении в 900, а также порядка пяти выбросов со значением 600, основные значения, большие максимального значения нормального распределения (1,5 межквартильных размахов) находятся ниже значения 150.\n",
    "4. По данным функции определения числовых параметров диаграммы размаха определены границы нормальных значений - от 12 до 114,7. Все значения, не попадающие в указанные диапазон, являются выбросами.\n",
    "##### Выводы:\n",
    "По данным проведенного анализа можно сделать вывод, что в данных столбца total_area существуют выбросы при значениях более 114,7 и менее 12."
   ]
  },
  {
   "cell_type": "markdown",
   "metadata": {},
   "source": [
    "#### Стоимость квартир\n",
    "Исследуем значения стоимости квартир.\n",
    "Найдем числовое описание данных в столбце last_price."
   ]
  },
  {
   "cell_type": "code",
   "execution_count": 24,
   "metadata": {},
   "outputs": [
    {
     "data": {
      "text/plain": [
       "count    2.341800e+04\n",
       "mean     6.565935e+06\n",
       "std      1.093209e+07\n",
       "min      1.219000e+04\n",
       "25%      3.450000e+06\n",
       "50%      4.650000e+06\n",
       "75%      6.800000e+06\n",
       "max      7.630000e+08\n",
       "Name: last_price, dtype: float64"
      ]
     },
     "execution_count": 24,
     "metadata": {},
     "output_type": "execute_result"
    }
   ],
   "source": [
    "data['last_price'].describe()"
   ]
  },
  {
   "cell_type": "markdown",
   "metadata": {},
   "source": [
    "<div class=\"alert alert-warning\">\n",
    "<b>⚠️ Комментарий ревьюера:</b> Простой способ избавить от е-формата чисел при анализе данного столбца - перевести значения в колонке last_price из руб в млн руб. Для этого значения в колонке last_price нужно разделить на 1 000 000."
   ]
  },
  {
   "cell_type": "markdown",
   "metadata": {},
   "source": [
    "Построим гистограмму по значениям столбца last_price."
   ]
  },
  {
   "cell_type": "code",
   "execution_count": 25,
   "metadata": {},
   "outputs": [
    {
     "data": {
      "text/plain": [
       "<AxesSubplot:>"
      ]
     },
     "execution_count": 25,
     "metadata": {},
     "output_type": "execute_result"
    },
    {
     "data": {
      "image/png": "[encoded data removed]",
      "text/plain": [
       "<Figure size 432x288 with 1 Axes>"
      ]
     },
     "metadata": {
      "needs_background": "light"
     },
     "output_type": "display_data"
    }
   ],
   "source": [
    "data['last_price'].hist(range=(0, 4.00e+07))"
   ]
  },
  {
   "cell_type": "markdown",
   "metadata": {},
   "source": [
    "Построим диаграмму размаха по значениям столбца last_price."
   ]
  },
  {
   "cell_type": "code",
   "execution_count": 26,
   "metadata": {},
   "outputs": [
    {
     "data": {
      "text/plain": [
       "<AxesSubplot:>"
      ]
     },
     "execution_count": 26,
     "metadata": {},
     "output_type": "execute_result"
    },
    {
     "data": {
      "image/png": "[encoded data removed]",
      "text/plain": [
       "<Figure size 432x288 with 1 Axes>"
      ]
     },
     "metadata": {
      "needs_background": "light"
     },
     "output_type": "display_data"
    }
   ],
   "source": [
    "data.boxplot(column='last_price')"
   ]
  },
  {
   "cell_type": "markdown",
   "metadata": {},
   "source": [
    "Определим границы нормальных значений с помощью функции границ диаграммы размаха значений столбца last_price."
   ]
  },
  {
   "cell_type": "code",
   "execution_count": 27,
   "metadata": {},
   "outputs": [
    {
     "data": {
      "text/plain": [
       "(12190.0, 11825000.0)"
      ]
     },
     "execution_count": 27,
     "metadata": {},
     "output_type": "execute_result"
    }
   ],
   "source": [
    "quart(data, 'last_price')"
   ]
  },
  {
   "cell_type": "markdown",
   "metadata": {},
   "source": [
    "##### Результаты анализа данных о стоимости квартир\n",
    "В ходе анализа стоимости квартир, представленных в объявлениях, получены следующие результаты:\n",
    "1. По анализу числового описания данных установлено большое значение стандартного отклонения -  1.088701e+07. Зарегистрировано большое отклонение максимального значения (7.630000e+08) на 2 порядка от  медианного (4.650000e+06) и среднего (6.541549e+06) значений по сравнению с минимальным (1.219000e+04 - различие на 4 порядка).\n",
    "2. По анализу гистограммы определено, что основная часть значений лежит в пределах от 0 до 15 000 000.\n",
    "3. По данным функции определения числовых параметров диаграммы размаха определены границы нормальных значений - от 12190.0 до 11825000.0. Все значения, не попадающие в указанные диапазон, являются выбросами.\n",
    "##### Выводы:\n",
    "По данным проведенного анализа можно сделать вывод, что в данных столбца last_price существуют выбросы при значениях более 11825000.0 и менее 12190.0."
   ]
  },
  {
   "cell_type": "markdown",
   "metadata": {},
   "source": [
    "#### Число комнат в квартирах\n",
    "Исследуем значения общей площади квартир. Найдем числовое описание данных в столбце rooms."
   ]
  },
  {
   "cell_type": "code",
   "execution_count": 28,
   "metadata": {},
   "outputs": [
    {
     "data": {
      "text/plain": [
       "count    23418.000000\n",
       "mean         2.087582\n",
       "std          1.060444\n",
       "min          1.000000\n",
       "25%          1.000000\n",
       "50%          2.000000\n",
       "75%          3.000000\n",
       "max         16.000000\n",
       "Name: rooms, dtype: float64"
      ]
     },
     "execution_count": 28,
     "metadata": {},
     "output_type": "execute_result"
    }
   ],
   "source": [
    "data['rooms'].describe()"
   ]
  },
  {
   "cell_type": "markdown",
   "metadata": {},
   "source": [
    "Построим гистограмму по значениям столбца rooms."
   ]
  },
  {
   "cell_type": "code",
   "execution_count": 29,
   "metadata": {},
   "outputs": [
    {
     "data": {
      "text/plain": [
       "<AxesSubplot:>"
      ]
     },
     "execution_count": 29,
     "metadata": {},
     "output_type": "execute_result"
    },
    {
     "data": {
      "image/png": "[encoded data removed]",
      "text/plain": [
       "<Figure size 432x288 with 1 Axes>"
      ]
     },
     "metadata": {
      "needs_background": "light"
     },
     "output_type": "display_data"
    }
   ],
   "source": [
    "data['rooms'].hist()"
   ]
  },
  {
   "cell_type": "markdown",
   "metadata": {},
   "source": [
    "Построим диаграмму размаха по значениям столбца rooms."
   ]
  },
  {
   "cell_type": "code",
   "execution_count": 30,
   "metadata": {},
   "outputs": [
    {
     "data": {
      "text/plain": [
       "<AxesSubplot:>"
      ]
     },
     "execution_count": 30,
     "metadata": {},
     "output_type": "execute_result"
    },
    {
     "data": {
      "image/png": "[encoded data removed]",
      "text/plain": [
       "<Figure size 432x288 with 1 Axes>"
      ]
     },
     "metadata": {
      "needs_background": "light"
     },
     "output_type": "display_data"
    }
   ],
   "source": [
    "data.boxplot(column='rooms')"
   ]
  },
  {
   "cell_type": "markdown",
   "metadata": {},
   "source": [
    "Определим границы нормальных значений с помощью функции границ диаграммы размаха значений столбца rooms."
   ]
  },
  {
   "cell_type": "code",
   "execution_count": 31,
   "metadata": {},
   "outputs": [
    {
     "data": {
      "text/plain": [
       "(1, 6.0)"
      ]
     },
     "execution_count": 31,
     "metadata": {},
     "output_type": "execute_result"
    }
   ],
   "source": [
    "quart(data, 'rooms')"
   ]
  },
  {
   "cell_type": "markdown",
   "metadata": {},
   "source": [
    "##### Результаты анализа данных о количестве комнат\n",
    "В ходе анализа количества комнат, представленных в объявлениях, получены следующие результаты:\n",
    "1. По анализу числового описания данных установлено небольшое значение стандартного отклонения -  1. Зарегистрировано большое отклонение максимального значения (19,00) от  медианного (2,00) и среднего (2,07) значений по сравнению с минимальным (1).\n",
    "2. По анализу гистограммы определено, что основная часть значений лежит в пределах от 0 до 6.\n",
    "3. По данным функции определения числовых параметров диаграммы размаха определены границы нормальных значений - от 1 до 6. Все значения, не попадающие в указанные диапазон, являются выбросами.\n",
    "##### Выводы:\n",
    "По данным проведенного анализа можно сделать вывод, что в данных столбца rooms существуют выбросы при значениях более 6."
   ]
  },
  {
   "cell_type": "markdown",
   "metadata": {},
   "source": [
    "#### Высота потолков в квартирах\n",
    "Исследуем значения высоты потолков в квартирах. Найдем числовое описание данных в столбце ceiling_height."
   ]
  },
  {
   "cell_type": "code",
   "execution_count": 32,
   "metadata": {},
   "outputs": [
    {
     "data": {
      "text/plain": [
       "count    23418.000000\n",
       "mean         2.721301\n",
       "std          0.982596\n",
       "min          1.000000\n",
       "25%          2.600000\n",
       "50%          2.640000\n",
       "75%          2.700000\n",
       "max        100.000000\n",
       "Name: ceiling_height, dtype: float64"
      ]
     },
     "execution_count": 32,
     "metadata": {},
     "output_type": "execute_result"
    }
   ],
   "source": [
    "data['ceiling_height'].describe()"
   ]
  },
  {
   "cell_type": "markdown",
   "metadata": {},
   "source": [
    "Построим гистограмму по значениям столбца ceiling_height."
   ]
  },
  {
   "cell_type": "code",
   "execution_count": 33,
   "metadata": {},
   "outputs": [
    {
     "data": {
      "text/plain": [
       "<AxesSubplot:>"
      ]
     },
     "execution_count": 33,
     "metadata": {},
     "output_type": "execute_result"
    },
    {
     "data": {
      "image/png": "[encoded data removed]",
      "text/plain": [
       "<Figure size 432x288 with 1 Axes>"
      ]
     },
     "metadata": {
      "needs_background": "light"
     },
     "output_type": "display_data"
    }
   ],
   "source": [
    "data['ceiling_height'].hist()"
   ]
  },
  {
   "cell_type": "markdown",
   "metadata": {},
   "source": [
    "Построим диаграмму размаха по значениям столбца ceiling_height. "
   ]
  },
  {
   "cell_type": "code",
   "execution_count": 34,
   "metadata": {},
   "outputs": [
    {
     "data": {
      "text/plain": [
       "<AxesSubplot:>"
      ]
     },
     "execution_count": 34,
     "metadata": {},
     "output_type": "execute_result"
    },
    {
     "data": {
      "image/png": "[encoded data removed]",
      "text/plain": [
       "<Figure size 432x288 with 1 Axes>"
      ]
     },
     "metadata": {
      "needs_background": "light"
     },
     "output_type": "display_data"
    }
   ],
   "source": [
    "data.boxplot(column='ceiling_height')"
   ]
  },
  {
   "cell_type": "markdown",
   "metadata": {},
   "source": [
    "Определим границы нормальных значений с помощью функции границ диаграммы размаха значений столбца ceiling_height."
   ]
  },
  {
   "cell_type": "code",
   "execution_count": 35,
   "metadata": {},
   "outputs": [
    {
     "data": {
      "text/plain": [
       "(2.45, 2.8500000000000005)"
      ]
     },
     "execution_count": 35,
     "metadata": {},
     "output_type": "execute_result"
    }
   ],
   "source": [
    "quart(data, 'ceiling_height')"
   ]
  },
  {
   "cell_type": "markdown",
   "metadata": {},
   "source": [
    "##### Результаты анализа высоты потолков квартир\n",
    "\n",
    "В ходе анализа высоты потолков квартир, представленных в объявлениях, получены следующие результаты:\n",
    "1. По анализу числового описания данных установлено небольшое значение стандартного отклонения -  0,9. Зарегистрировано большое отклонение максимального значения (100,0) от  медианного (2,6) и среднего (2.7) значений по сравнению с минимальным (1,0).\n",
    "2. По анализу гистограммы определено, что основная часть значений лежит в пределах от 0 до 10.\n",
    "3. По данным функции определения числовых параметров диаграммы размаха определены границы нормальных значений - от 2.45 до 2.85. Все значения, не попадающие в указанные диапазон, являются выбросами.\n",
    "##### Выводы:\n",
    "По данным проведенного анализа можно сделать вывод, что в данных столбца ceiling_height существуют выбросы при значениях менее 2.45 и более 2.85."
   ]
  },
  {
   "cell_type": "markdown",
   "metadata": {},
   "source": [
    "<div class=\"alert alert-success\">\n",
    "<b>✔️ Комментарий ревьюера:</b> Отлично"
   ]
  },
  {
   "cell_type": "markdown",
   "metadata": {},
   "source": [
    "### Изучение времени продажи квартир\n",
    "\n",
    "Изучим время продажи квартир. Определим критерии быстрой и медленной продажи квартиры."
   ]
  },
  {
   "cell_type": "markdown",
   "metadata": {},
   "source": [
    "Найдем числовое описание в столбце day_exposition."
   ]
  },
  {
   "cell_type": "code",
   "execution_count": 36,
   "metadata": {},
   "outputs": [
    {
     "data": {
      "text/plain": [
       "count    23418.000000\n",
       "mean         2.566701\n",
       "std          1.789569\n",
       "min          0.000000\n",
       "25%          1.000000\n",
       "50%          3.000000\n",
       "75%          4.000000\n",
       "max          6.000000\n",
       "Name: day_exposition, dtype: float64"
      ]
     },
     "execution_count": 36,
     "metadata": {},
     "output_type": "execute_result"
    }
   ],
   "source": [
    "data['day_exposition'].describe()"
   ]
  },
  {
   "cell_type": "markdown",
   "metadata": {},
   "source": [
    "Построим гистограмму по значениям столбца day_exposition."
   ]
  },
  {
   "cell_type": "code",
   "execution_count": 37,
   "metadata": {},
   "outputs": [
    {
     "data": {
      "text/plain": [
       "<AxesSubplot:>"
      ]
     },
     "execution_count": 37,
     "metadata": {},
     "output_type": "execute_result"
    },
    {
     "data": {
      "image/png": "[encoded data removed]",
      "text/plain": [
       "<Figure size 432x288 with 1 Axes>"
      ]
     },
     "metadata": {
      "needs_background": "light"
     },
     "output_type": "display_data"
    }
   ],
   "source": [
    "data['day_exposition'].hist(bins=30)"
   ]
  },
  {
   "cell_type": "markdown",
   "metadata": {},
   "source": [
    "Построим диаграмму размаха по значениям столбца day_exposition."
   ]
  },
  {
   "cell_type": "code",
   "execution_count": 38,
   "metadata": {},
   "outputs": [
    {
     "data": {
      "text/plain": [
       "<AxesSubplot:>"
      ]
     },
     "execution_count": 38,
     "metadata": {},
     "output_type": "execute_result"
    },
    {
     "data": {
      "image/png": "[encoded data removed]",
      "text/plain": [
       "<Figure size 432x288 with 1 Axes>"
      ]
     },
     "metadata": {
      "needs_background": "light"
     },
     "output_type": "display_data"
    }
   ],
   "source": [
    "data.boxplot(column='day_exposition')"
   ]
  },
  {
   "cell_type": "markdown",
   "metadata": {},
   "source": [
    "Определим границы нормальных значений с помощью функции границ диаграммы размаха значений столбца day_exposition."
   ]
  },
  {
   "cell_type": "code",
   "execution_count": 39,
   "metadata": {},
   "outputs": [
    {
     "data": {
      "text/plain": [
       "(0, 6)"
      ]
     },
     "execution_count": 39,
     "metadata": {},
     "output_type": "execute_result"
    }
   ],
   "source": [
    "quart(data, 'day_exposition')"
   ]
  },
  {
   "cell_type": "markdown",
   "metadata": {},
   "source": [
    "#### Результаты анализа времени продажи квартир\n",
    "\n",
    "В ходе анализа времени продажи квартир, представленных в объявлениях, получены следующие результаты:\n",
    "1. По анализу числового описания данных установлено медианное значение (15,00) и среднеее значение (15,49) времени продажи квартир.\n",
    "2. По анализу гистограммы определены три пика по времени продажи квартир: 2, 11 и 27 дней.\n",
    "3. По анализу диаграммы размаха выбросы в значениях столбца day_exposition отсутствуют. \n",
    "\n",
    "#### Выводы:\n",
    "По данным проведенного анализа можно сделать вывод, что быстрые продажи происходят за 2 дня, обычные продажи - за 11 дней, а долгими продажами считаются те, которые совершаются за не менее чем 27 дней. Определено отсутствие выбросов."
   ]
  },
  {
   "cell_type": "markdown",
   "metadata": {},
   "source": [
    "### Удаление выбросов"
   ]
  },
  {
   "cell_type": "markdown",
   "metadata": {},
   "source": [
    "Удалим значения, являющиеся выбросами, в столбцах total_area, rooms, ceiling_height, last_price.\n",
    "\n",
    "Удалим значения общей площади в столбце total_area, которые не входят в границы нормальных значений."
   ]
  },
  {
   "cell_type": "code",
   "execution_count": 40,
   "metadata": {},
   "outputs": [
    {
     "data": {
      "text/plain": [
       "count    22185.000000\n",
       "mean        54.590099\n",
       "std         19.270032\n",
       "min         12.000000\n",
       "25%         40.000000\n",
       "50%         50.500000\n",
       "75%         65.800000\n",
       "max        114.600000\n",
       "Name: total_area, dtype: float64"
      ]
     },
     "execution_count": 40,
     "metadata": {},
     "output_type": "execute_result"
    }
   ],
   "source": [
    "min_q = quart(data, 'total_area')[0]\n",
    "max_q = quart(data, 'total_area')[1]\n",
    "data = data[(data['total_area']>=min_q)&(data['total_area']<=max_q)]\n",
    "data['total_area'].describe()"
   ]
  },
  {
   "cell_type": "markdown",
   "metadata": {},
   "source": [
    "Удалим значения стоимости квартиры в столбце last_price, которые не входят в границы нормальных значений."
   ]
  },
  {
   "cell_type": "code",
   "execution_count": 41,
   "metadata": {},
   "outputs": [
    {
     "data": {
      "text/plain": [
       "count    2.083300e+04\n",
       "mean     4.708704e+06\n",
       "std      2.029109e+06\n",
       "min      1.219000e+04\n",
       "25%      3.300000e+06\n",
       "50%      4.370000e+06\n",
       "75%      5.874000e+06\n",
       "max      1.065000e+07\n",
       "Name: last_price, dtype: float64"
      ]
     },
     "execution_count": 41,
     "metadata": {},
     "output_type": "execute_result"
    }
   ],
   "source": [
    "min_q = quart(data, 'last_price')[0]\n",
    "max_q = quart(data, 'last_price')[1]\n",
    "data = data[(data['last_price']>=min_q)&(data['last_price']<=max_q)]\n",
    "data['last_price'].describe()"
   ]
  },
  {
   "cell_type": "markdown",
   "metadata": {},
   "source": [
    "Удалим значения количества комнат в столбце rooms, которые не входят в границы нормальных значений."
   ]
  },
  {
   "cell_type": "code",
   "execution_count": 42,
   "metadata": {},
   "outputs": [
    {
     "data": {
      "text/plain": [
       "count    20833.000000\n",
       "mean         1.917391\n",
       "std          0.870085\n",
       "min          1.000000\n",
       "25%          1.000000\n",
       "50%          2.000000\n",
       "75%          3.000000\n",
       "max          6.000000\n",
       "Name: rooms, dtype: float64"
      ]
     },
     "execution_count": 42,
     "metadata": {},
     "output_type": "execute_result"
    }
   ],
   "source": [
    "min_q = quart(data, 'rooms')[0]\n",
    "max_q = quart(data, 'rooms')[1]\n",
    "data = data[(data['rooms']>=min_q)&(data['rooms']<=max_q)]\n",
    "data['rooms'].describe()"
   ]
  },
  {
   "cell_type": "markdown",
   "metadata": {},
   "source": [
    "Удалим значения высоты потолков в столбце ceiling_height, которые не входят в границы нормальных значений."
   ]
  },
  {
   "cell_type": "code",
   "execution_count": 43,
   "metadata": {},
   "outputs": [
    {
     "data": {
      "text/plain": [
       "count    19035.000000\n",
       "mean         2.618947\n",
       "std          0.082517\n",
       "min          2.450000\n",
       "25%          2.560000\n",
       "50%          2.600000\n",
       "75%          2.650000\n",
       "max          2.850000\n",
       "Name: ceiling_height, dtype: float64"
      ]
     },
     "execution_count": 43,
     "metadata": {},
     "output_type": "execute_result"
    }
   ],
   "source": [
    "min_q = quart(data, 'ceiling_height')[0]\n",
    "max_q = quart(data, 'ceiling_height')[1]\n",
    "data = data[(data['ceiling_height']>=min_q)&(data['ceiling_height']<=max_q)]\n",
    "data['ceiling_height'].describe()"
   ]
  },
  {
   "cell_type": "markdown",
   "metadata": {},
   "source": [
    "Создадим сводную таблицу для оценки медианных параметров квартиры в зависимости от количества комнат."
   ]
  },
  {
   "cell_type": "code",
   "execution_count": 44,
   "metadata": {},
   "outputs": [
    {
     "data": {
      "text/html": [
       "<div>\n",
       "<style scoped>\n",
       "    .dataframe tbody tr th:only-of-type {\n",
       "        vertical-align: middle;\n",
       "    }\n",
       "\n",
       "    .dataframe tbody tr th {\n",
       "        vertical-align: top;\n",
       "    }\n",
       "\n",
       "    .dataframe thead th {\n",
       "        text-align: right;\n",
       "    }\n",
       "</style>\n",
       "<table border=\"1\" class=\"dataframe\">\n",
       "  <thead>\n",
       "    <tr style=\"text-align: right;\">\n",
       "      <th></th>\n",
       "      <th>ceiling_height</th>\n",
       "      <th>kitchen_area</th>\n",
       "      <th>last_price</th>\n",
       "      <th>living_area</th>\n",
       "      <th>total_area</th>\n",
       "    </tr>\n",
       "    <tr>\n",
       "      <th>rooms</th>\n",
       "      <th></th>\n",
       "      <th></th>\n",
       "      <th></th>\n",
       "      <th></th>\n",
       "      <th></th>\n",
       "    </tr>\n",
       "  </thead>\n",
       "  <tbody>\n",
       "    <tr>\n",
       "      <th>1</th>\n",
       "      <td>2.640</td>\n",
       "      <td>9.0</td>\n",
       "      <td>3550000.0</td>\n",
       "      <td>17.60</td>\n",
       "      <td>36.2</td>\n",
       "    </tr>\n",
       "    <tr>\n",
       "      <th>2</th>\n",
       "      <td>2.600</td>\n",
       "      <td>8.5</td>\n",
       "      <td>4500000.0</td>\n",
       "      <td>30.00</td>\n",
       "      <td>52.0</td>\n",
       "    </tr>\n",
       "    <tr>\n",
       "      <th>3</th>\n",
       "      <td>2.650</td>\n",
       "      <td>8.5</td>\n",
       "      <td>5400000.0</td>\n",
       "      <td>43.00</td>\n",
       "      <td>67.2</td>\n",
       "    </tr>\n",
       "    <tr>\n",
       "      <th>4</th>\n",
       "      <td>2.650</td>\n",
       "      <td>8.0</td>\n",
       "      <td>5985000.0</td>\n",
       "      <td>52.00</td>\n",
       "      <td>76.0</td>\n",
       "    </tr>\n",
       "    <tr>\n",
       "      <th>5</th>\n",
       "      <td>2.600</td>\n",
       "      <td>9.0</td>\n",
       "      <td>5500000.0</td>\n",
       "      <td>64.30</td>\n",
       "      <td>100.0</td>\n",
       "    </tr>\n",
       "    <tr>\n",
       "      <th>6</th>\n",
       "      <td>2.625</td>\n",
       "      <td>11.6</td>\n",
       "      <td>7982000.0</td>\n",
       "      <td>79.75</td>\n",
       "      <td>103.0</td>\n",
       "    </tr>\n",
       "  </tbody>\n",
       "</table>\n",
       "</div>"
      ],
      "text/plain": [
       "       ceiling_height  kitchen_area  last_price  living_area  total_area\n",
       "rooms                                                                   \n",
       "1               2.640           9.0   3550000.0        17.60        36.2\n",
       "2               2.600           8.5   4500000.0        30.00        52.0\n",
       "3               2.650           8.5   5400000.0        43.00        67.2\n",
       "4               2.650           8.0   5985000.0        52.00        76.0\n",
       "5               2.600           9.0   5500000.0        64.30       100.0\n",
       "6               2.625          11.6   7982000.0        79.75       103.0"
      ]
     },
     "metadata": {},
     "output_type": "display_data"
    }
   ],
   "source": [
    "display(data.pivot_table(index='rooms', values=['living_area', 'kitchen_area', 'total_area', 'ceiling_height', 'last_price'], aggfunc='median'))"
   ]
  },
  {
   "cell_type": "markdown",
   "metadata": {},
   "source": [
    "#### Вывод:\n",
    "В результате удаления выбросов в обновленной таблице в столбцах total_area, rooms, ceiling_height, last_price переписаны значения. В обновленных значениях выбросы отсутствуют.\n",
    "По результатам обработки в анализе остались квартиры с максимум 6 комнатами. Медианные значения высоты потолков не превышают 2,65 м, максимальное медианное значение общей площади имеют квартиры с 6 комнатами - 103 м. кв. Сумма медианных значений площади кухни и жилой площади не превышает медианное значение общей площади квартир. "
   ]
  },
  {
   "cell_type": "markdown",
   "metadata": {},
   "source": [
    "<div class=\"alert alert-success\">\n",
    "<b>✔️ Комментарий ревьюера:</b> Аномалии обработаны, данные готовы к анализу"
   ]
  },
  {
   "cell_type": "markdown",
   "metadata": {},
   "source": [
    "### Оценка стоимости квартиры от факторов\n",
    "\n",
    "Изучим зависимость стоимости квартиры от следующих параметров:\n",
    "1. общая площадь (столбец total_area);\n",
    "2. число комнат (столбец rooms);\n",
    "3. удаленность от центра (столбец cityCenters_nearest);\n",
    "4. этаж (категория) (столбец floor_category);\n",
    "5. дата размещения объявления (столбцы day_exposition, month_exposition, year_exposition)."
   ]
  },
  {
   "cell_type": "markdown",
   "metadata": {},
   "source": [
    "Определим коэффициент корреляции Пирсона для каждого из параметров со стоимостью квартиры. "
   ]
  },
  {
   "cell_type": "code",
   "execution_count": 66,
   "metadata": {},
   "outputs": [
    {
     "name": "stdout",
     "output_type": "stream",
     "text": [
      "общая площадь 0.6579477533544555\n",
      "комнаты 0.40043133878525117\n",
      "удаленность от центра -0.2992249762387076\n",
      "день -0.009808386163847486\n",
      "месяц 0.0055052299918551175\n",
      "год 0.0126182655892562\n"
     ]
    }
   ],
   "source": [
    "print('общая площадь', data['last_price'].corr(data['total_area']))\n",
    "print('комнаты',data['last_price'].corr(data['rooms']))\n",
    "print('удаленность от центра', data['last_price'].corr(data['cityCenters_nearest']))\n",
    "print('день', data['last_price'].corr(data['day_exposition']))\n",
    "print('месяц', data['last_price'].corr(data['month_exposition']))\n",
    "print('год', data['last_price'].corr(data['year_exposition']))"
   ]
  },
  {
   "cell_type": "markdown",
   "metadata": {},
   "source": [
    "Для расчета коэффициента Пирсона по категориям этажности квартир напишем функцию floor_def и создадим столбец floor_id в котором будет записан числовой идентификатор категории этажности: 0 - первый этаж, 1 - другой этаж, 2 - последний этаж."
   ]
  },
  {
   "cell_type": "code",
   "execution_count": 46,
   "metadata": {},
   "outputs": [
    {
     "name": "stdout",
     "output_type": "stream",
     "text": [
      "1    14090\n",
      "2     2528\n",
      "0     2417\n",
      "Name: floor_id, dtype: int64\n"
     ]
    }
   ],
   "source": [
    "def floor_def (floor):\n",
    "    if floor == 'первый':\n",
    "        return 0\n",
    "    if floor == 'другой':\n",
    "        return 1\n",
    "    if floor == 'последний':\n",
    "        return 2\n",
    "data['floor_id'] = data['floor_category'].apply(floor_def)\n",
    "print(data['floor_id'].value_counts())"
   ]
  },
  {
   "cell_type": "markdown",
   "metadata": {},
   "source": [
    "Определим коэффициенты корреляции Пирсона для между категориями распределения квартир по этажам. \n",
    "\n",
    "Коэффициент Пирсона зависимости стоимости квартир от расположения на первом или других этажах (не последних)."
   ]
  },
  {
   "cell_type": "code",
   "execution_count": 68,
   "metadata": {},
   "outputs": [
    {
     "name": "stdout",
     "output_type": "stream",
     "text": [
      "0.16726450543592317\n"
     ]
    }
   ],
   "source": [
    "data_floor_id_01 = data[data['floor_id']<2]\n",
    "print(data_floor_id_01['last_price'].corr(data_floor_id_01['floor_id']))"
   ]
  },
  {
   "cell_type": "markdown",
   "metadata": {},
   "source": [
    "Коэффициент Пирсона зависимости стоимости квартир от расположения на последнем или других этажах (не первых)."
   ]
  },
  {
   "cell_type": "code",
   "execution_count": 70,
   "metadata": {},
   "outputs": [
    {
     "name": "stdout",
     "output_type": "stream",
     "text": [
      "-0.1337677100506185\n"
     ]
    }
   ],
   "source": [
    "data_floor_id_12 = data[data['floor_id']>0]\n",
    "print(data_floor_id_12['last_price'].corr(data_floor_id_12['floor_id']))"
   ]
  },
  {
   "cell_type": "markdown",
   "metadata": {},
   "source": [
    "Коэффициент Пирсона зависимости стоимости квартир от расположения на первом или последнем этаже."
   ]
  },
  {
   "cell_type": "code",
   "execution_count": 49,
   "metadata": {},
   "outputs": [
    {
     "name": "stdout",
     "output_type": "stream",
     "text": [
      "0.05015814333367247\n"
     ]
    }
   ],
   "source": [
    "data_floor_id_02 = data[data['floor_id']!=1]\n",
    "print(data_floor_id_02['last_price'].corr(data_floor_id_02['floor_id']))"
   ]
  },
  {
   "cell_type": "markdown",
   "metadata": {},
   "source": [
    "#### Выводы\n",
    "\n",
    "В ходе анализа получены следующие резульаты:\n",
    "1. Зависимость стоимости квартиры от общей площади - определена прямая линейная зависимость: при увеличении общей площади квартиры увеличивается и ее стоимость.\n",
    "2. Зависимость стоимости квартиры от количества комнат - определена слабая прямая зависимость: при увеличении количества комнат в квартире увеличивается и ее стоимость.\n",
    "3. Зависимость стоимости квартиры от ее удаленности от центра населенного пункта - определена слабая обратная зависимость: при увеличении растояния до центра населенного пункта стоимость квартиры уменьшается.\n",
    "4. Зависимости стоимости квартиры от даты размещения объявления (день, месяц, год) не выявлено.\n",
    "5. Зависимость стоимости квартиры от расположения на определенном этаже - определена слабая прямая зависимость между ценами на квартиру и ее расположением на первом или других этажах (не последнем): на первых этажах стоимость квартир ниже; определена слабая обратная зависимость между ценами на квартиру и ее расположением на других (не первом) этажах и последнем этаже: на последних этажах квартиры стоят дешевле; зависимости от цен на квартиры, расположенные на первом или последнем этажах не выявлено."
   ]
  },
  {
   "cell_type": "markdown",
   "metadata": {},
   "source": [
    "<div class=\"alert alert-warning\">\n",
    "<b>⚠️ Комментарий ревьюера:</b> Зависимость действительно лучше всего показывает корреляция Пирсона. Будь внимателен, на параметрах 'last_price',  'total_area', 'rooms', 'cityCenters_nearest'коэффициент корреляции Пирсона работает хорошо. Но применение его к остальным параметрам - типу этажа, дню недели, году, и месяцу - не эффективно, т.к. цена квартиры зависит от них не линейно. Остальные параметры можно рассмотреть на обычных диаграммах, к примеру, столбчатых или линейных, сгруппировав данные по нужным параметрам и рассмотрев среднее цены.\n",
    "    \n",
    "    \n",
    "Более наглядно можно было бы сделать следующим образом:\n",
    "    \n",
    "1) построить корреляцию матрицей для нужных параметров\n",
    " \n",
    "df[['last_price','total_area', 'rooms', 'cityCenters_nearest']].corr()\n",
    "    \n",
    "2) интерпретировать получившийся коэффициент\n",
    "    \n",
    "3) для визуализации параметров использовать простой и полезный метод sns.pairplot - он отобразит корреляцию всех графиков компактным \"полотном\"\n",
    "    \n",
    "4) для остальных параметров построим обычные графики\n",
    "    \n",
    "</div>"
   ]
  },
  {
   "cell_type": "markdown",
   "metadata": {},
   "source": [
    "### Оценка средней цены квадратного метра в населенных пунктах\n",
    "\n",
    "Определим населенные пункты с самой высокой и самой низкой стоимостью жилья."
   ]
  },
  {
   "cell_type": "markdown",
   "metadata": {},
   "source": [
    "Выберем 10 населённых пунктов с наибольшим числом объявлений и определим среднюю стоимость квадратного метра жилья для каждого населенного пункта. Результаты представим в таблице data_count."
   ]
  },
  {
   "cell_type": "code",
   "execution_count": 50,
   "metadata": {},
   "outputs": [
    {
     "data": {
      "text/html": [
       "<div>\n",
       "<style scoped>\n",
       "    .dataframe tbody tr th:only-of-type {\n",
       "        vertical-align: middle;\n",
       "    }\n",
       "\n",
       "    .dataframe tbody tr th {\n",
       "        vertical-align: top;\n",
       "    }\n",
       "\n",
       "    .dataframe thead th {\n",
       "        text-align: right;\n",
       "    }\n",
       "</style>\n",
       "<table border=\"1\" class=\"dataframe\">\n",
       "  <thead>\n",
       "    <tr style=\"text-align: right;\">\n",
       "      <th></th>\n",
       "      <th>locality_name_count</th>\n",
       "      <th>last_price</th>\n",
       "      <th>total_area</th>\n",
       "      <th>mean_price_area</th>\n",
       "    </tr>\n",
       "    <tr>\n",
       "      <th>locality_name</th>\n",
       "      <th></th>\n",
       "      <th></th>\n",
       "      <th></th>\n",
       "      <th></th>\n",
       "    </tr>\n",
       "  </thead>\n",
       "  <tbody>\n",
       "    <tr>\n",
       "      <th>Санкт-Петербург</th>\n",
       "      <td>11661</td>\n",
       "      <td>5.300679e+06</td>\n",
       "      <td>51.898901</td>\n",
       "      <td>102134.708521</td>\n",
       "    </tr>\n",
       "    <tr>\n",
       "      <th>посёлок Мурино</th>\n",
       "      <td>488</td>\n",
       "      <td>3.743462e+06</td>\n",
       "      <td>45.225963</td>\n",
       "      <td>82772.420999</td>\n",
       "    </tr>\n",
       "    <tr>\n",
       "      <th>посёлок Шушары</th>\n",
       "      <td>427</td>\n",
       "      <td>4.060770e+06</td>\n",
       "      <td>53.420515</td>\n",
       "      <td>76015.187659</td>\n",
       "    </tr>\n",
       "    <tr>\n",
       "      <th>Всеволожск</th>\n",
       "      <td>374</td>\n",
       "      <td>3.676381e+06</td>\n",
       "      <td>55.592433</td>\n",
       "      <td>66130.953555</td>\n",
       "    </tr>\n",
       "    <tr>\n",
       "      <th>посёлок Парголово</th>\n",
       "      <td>322</td>\n",
       "      <td>4.503557e+06</td>\n",
       "      <td>51.337267</td>\n",
       "      <td>87724.913736</td>\n",
       "    </tr>\n",
       "    <tr>\n",
       "      <th>Колпино</th>\n",
       "      <td>315</td>\n",
       "      <td>3.756772e+06</td>\n",
       "      <td>50.809968</td>\n",
       "      <td>73937.700389</td>\n",
       "    </tr>\n",
       "    <tr>\n",
       "      <th>Пушкин</th>\n",
       "      <td>299</td>\n",
       "      <td>5.137114e+06</td>\n",
       "      <td>51.810803</td>\n",
       "      <td>99151.399451</td>\n",
       "    </tr>\n",
       "    <tr>\n",
       "      <th>Гатчина</th>\n",
       "      <td>283</td>\n",
       "      <td>3.360814e+06</td>\n",
       "      <td>49.333145</td>\n",
       "      <td>68124.868207</td>\n",
       "    </tr>\n",
       "    <tr>\n",
       "      <th>деревня Кудрово</th>\n",
       "      <td>280</td>\n",
       "      <td>4.306665e+06</td>\n",
       "      <td>47.476143</td>\n",
       "      <td>90712.185143</td>\n",
       "    </tr>\n",
       "    <tr>\n",
       "      <th>Выборг</th>\n",
       "      <td>204</td>\n",
       "      <td>2.920466e+06</td>\n",
       "      <td>50.874804</td>\n",
       "      <td>57404.952180</td>\n",
       "    </tr>\n",
       "  </tbody>\n",
       "</table>\n",
       "</div>"
      ],
      "text/plain": [
       "                   locality_name_count    last_price  total_area  \\\n",
       "locality_name                                                      \n",
       "Санкт-Петербург                  11661  5.300679e+06   51.898901   \n",
       "посёлок Мурино                     488  3.743462e+06   45.225963   \n",
       "посёлок Шушары                     427  4.060770e+06   53.420515   \n",
       "Всеволожск                         374  3.676381e+06   55.592433   \n",
       "посёлок Парголово                  322  4.503557e+06   51.337267   \n",
       "Колпино                            315  3.756772e+06   50.809968   \n",
       "Пушкин                             299  5.137114e+06   51.810803   \n",
       "Гатчина                            283  3.360814e+06   49.333145   \n",
       "деревня Кудрово                    280  4.306665e+06   47.476143   \n",
       "Выборг                             204  2.920466e+06   50.874804   \n",
       "\n",
       "                   mean_price_area  \n",
       "locality_name                       \n",
       "Санкт-Петербург      102134.708521  \n",
       "посёлок Мурино        82772.420999  \n",
       "посёлок Шушары        76015.187659  \n",
       "Всеволожск            66130.953555  \n",
       "посёлок Парголово     87724.913736  \n",
       "Колпино               73937.700389  \n",
       "Пушкин                99151.399451  \n",
       "Гатчина               68124.868207  \n",
       "деревня Кудрово       90712.185143  \n",
       "Выборг                57404.952180  "
      ]
     },
     "metadata": {},
     "output_type": "display_data"
    }
   ],
   "source": [
    "data_count = data.groupby('locality_name').agg({'locality_name':'count', 'last_price':'mean', 'total_area':'mean'})\n",
    "data_count['mean_price_area'] = data_count['last_price']/data_count['total_area']\n",
    "data_count = data_count.rename(columns={'locality_name':'locality_name_count'})\n",
    "data_count = data_count.sort_values(by='locality_name_count', ascending=False).head(10)\n",
    "display(data_count)"
   ]
  },
  {
   "cell_type": "markdown",
   "metadata": {},
   "source": [
    "Для поиска городов с самой дорогой и самой дешевой стоимостью квадратного метра жилья среди 10 населенных пунктов с самым большим количеством объявлений отсортируем данные в столбце mean_price_area таблицы data_count."
   ]
  },
  {
   "cell_type": "code",
   "execution_count": 51,
   "metadata": {},
   "outputs": [
    {
     "data": {
      "text/html": [
       "<div>\n",
       "<style scoped>\n",
       "    .dataframe tbody tr th:only-of-type {\n",
       "        vertical-align: middle;\n",
       "    }\n",
       "\n",
       "    .dataframe tbody tr th {\n",
       "        vertical-align: top;\n",
       "    }\n",
       "\n",
       "    .dataframe thead th {\n",
       "        text-align: right;\n",
       "    }\n",
       "</style>\n",
       "<table border=\"1\" class=\"dataframe\">\n",
       "  <thead>\n",
       "    <tr style=\"text-align: right;\">\n",
       "      <th></th>\n",
       "      <th>locality_name_count</th>\n",
       "      <th>last_price</th>\n",
       "      <th>total_area</th>\n",
       "      <th>mean_price_area</th>\n",
       "    </tr>\n",
       "    <tr>\n",
       "      <th>locality_name</th>\n",
       "      <th></th>\n",
       "      <th></th>\n",
       "      <th></th>\n",
       "      <th></th>\n",
       "    </tr>\n",
       "  </thead>\n",
       "  <tbody>\n",
       "    <tr>\n",
       "      <th>Санкт-Петербург</th>\n",
       "      <td>11661</td>\n",
       "      <td>5.300679e+06</td>\n",
       "      <td>51.898901</td>\n",
       "      <td>102134.708521</td>\n",
       "    </tr>\n",
       "    <tr>\n",
       "      <th>Пушкин</th>\n",
       "      <td>299</td>\n",
       "      <td>5.137114e+06</td>\n",
       "      <td>51.810803</td>\n",
       "      <td>99151.399451</td>\n",
       "    </tr>\n",
       "    <tr>\n",
       "      <th>деревня Кудрово</th>\n",
       "      <td>280</td>\n",
       "      <td>4.306665e+06</td>\n",
       "      <td>47.476143</td>\n",
       "      <td>90712.185143</td>\n",
       "    </tr>\n",
       "    <tr>\n",
       "      <th>посёлок Парголово</th>\n",
       "      <td>322</td>\n",
       "      <td>4.503557e+06</td>\n",
       "      <td>51.337267</td>\n",
       "      <td>87724.913736</td>\n",
       "    </tr>\n",
       "    <tr>\n",
       "      <th>посёлок Мурино</th>\n",
       "      <td>488</td>\n",
       "      <td>3.743462e+06</td>\n",
       "      <td>45.225963</td>\n",
       "      <td>82772.420999</td>\n",
       "    </tr>\n",
       "    <tr>\n",
       "      <th>посёлок Шушары</th>\n",
       "      <td>427</td>\n",
       "      <td>4.060770e+06</td>\n",
       "      <td>53.420515</td>\n",
       "      <td>76015.187659</td>\n",
       "    </tr>\n",
       "    <tr>\n",
       "      <th>Колпино</th>\n",
       "      <td>315</td>\n",
       "      <td>3.756772e+06</td>\n",
       "      <td>50.809968</td>\n",
       "      <td>73937.700389</td>\n",
       "    </tr>\n",
       "    <tr>\n",
       "      <th>Гатчина</th>\n",
       "      <td>283</td>\n",
       "      <td>3.360814e+06</td>\n",
       "      <td>49.333145</td>\n",
       "      <td>68124.868207</td>\n",
       "    </tr>\n",
       "    <tr>\n",
       "      <th>Всеволожск</th>\n",
       "      <td>374</td>\n",
       "      <td>3.676381e+06</td>\n",
       "      <td>55.592433</td>\n",
       "      <td>66130.953555</td>\n",
       "    </tr>\n",
       "    <tr>\n",
       "      <th>Выборг</th>\n",
       "      <td>204</td>\n",
       "      <td>2.920466e+06</td>\n",
       "      <td>50.874804</td>\n",
       "      <td>57404.952180</td>\n",
       "    </tr>\n",
       "  </tbody>\n",
       "</table>\n",
       "</div>"
      ],
      "text/plain": [
       "                   locality_name_count    last_price  total_area  \\\n",
       "locality_name                                                      \n",
       "Санкт-Петербург                  11661  5.300679e+06   51.898901   \n",
       "Пушкин                             299  5.137114e+06   51.810803   \n",
       "деревня Кудрово                    280  4.306665e+06   47.476143   \n",
       "посёлок Парголово                  322  4.503557e+06   51.337267   \n",
       "посёлок Мурино                     488  3.743462e+06   45.225963   \n",
       "посёлок Шушары                     427  4.060770e+06   53.420515   \n",
       "Колпино                            315  3.756772e+06   50.809968   \n",
       "Гатчина                            283  3.360814e+06   49.333145   \n",
       "Всеволожск                         374  3.676381e+06   55.592433   \n",
       "Выборг                             204  2.920466e+06   50.874804   \n",
       "\n",
       "                   mean_price_area  \n",
       "locality_name                       \n",
       "Санкт-Петербург      102134.708521  \n",
       "Пушкин                99151.399451  \n",
       "деревня Кудрово       90712.185143  \n",
       "посёлок Парголово     87724.913736  \n",
       "посёлок Мурино        82772.420999  \n",
       "посёлок Шушары        76015.187659  \n",
       "Колпино               73937.700389  \n",
       "Гатчина               68124.868207  \n",
       "Всеволожск            66130.953555  \n",
       "Выборг                57404.952180  "
      ]
     },
     "execution_count": 51,
     "metadata": {},
     "output_type": "execute_result"
    }
   ],
   "source": [
    "data_count.sort_values(by='mean_price_area', ascending=False)"
   ]
  },
  {
   "cell_type": "markdown",
   "metadata": {},
   "source": [
    "#### Выводы\n",
    "В ходе анализа определен город с самой дорогой стоимостью квадратного метра жилья - Санкт-Петербург. Определен город с самой дешевой стоимостью квадратного метра жилья - Выборг."
   ]
  },
  {
   "cell_type": "markdown",
   "metadata": {},
   "source": [
    "<div class=\"alert alert-warning\">\n",
    "<b>⚠️ Комментарий ревьюера:</b> Можем также отобразить данные на графике, чтобы не выводить скучную табицу с данными"
   ]
  },
  {
   "cell_type": "markdown",
   "metadata": {},
   "source": [
    "### Анализ параметров квартир, расположенных в центре Санкт-Петербурга\n",
    "\n",
    "В рамках анализа необходимо определить область квартир, которые входят в центр города. Также необходимо определить среднюю цену квартиры на каждый километр удаления от центра города.\n",
    "\n",
    "Создадим таблицу data_piter, куда поместим все объявления о продаже квартир, размещенные в городе Санкт-Петербург."
   ]
  },
  {
   "cell_type": "code",
   "execution_count": 52,
   "metadata": {},
   "outputs": [
    {
     "name": "stdout",
     "output_type": "stream",
     "text": [
      "Санкт-Петербург    11661\n",
      "Name: locality_name, dtype: int64\n"
     ]
    }
   ],
   "source": [
    "data_piter = data[data['locality_name']=='Санкт-Петербург']\n",
    "print(data_piter['locality_name'].value_counts())"
   ]
  },
  {
   "cell_type": "markdown",
   "metadata": {},
   "source": [
    "Проверим пропуски в столбце cityCenters_nearest."
   ]
  },
  {
   "cell_type": "code",
   "execution_count": 53,
   "metadata": {},
   "outputs": [
    {
     "data": {
      "text/plain": [
       "25"
      ]
     },
     "execution_count": 53,
     "metadata": {},
     "output_type": "execute_result"
    }
   ],
   "source": [
    "data_piter['cityCenters_nearest'].isna().sum()"
   ]
  },
  {
   "cell_type": "markdown",
   "metadata": {},
   "source": [
    "Пропущенных значений в столбце cityCenters_nearest всего 25, что меньше 1% из всей выборки. Удалим строки с пропусками. "
   ]
  },
  {
   "cell_type": "code",
   "execution_count": 54,
   "metadata": {},
   "outputs": [
    {
     "data": {
      "text/plain": [
       "0"
      ]
     },
     "execution_count": 54,
     "metadata": {},
     "output_type": "execute_result"
    }
   ],
   "source": [
    "data_piter = data_piter.dropna(subset=['cityCenters_nearest'])\n",
    "data_piter['cityCenters_nearest'].isna().sum()"
   ]
  },
  {
   "cell_type": "markdown",
   "metadata": {},
   "source": [
    "Создадим столбец center_km, где будут значения удаленности квартиры от центра города, приведенные к целочисленному типу."
   ]
  },
  {
   "cell_type": "code",
   "execution_count": 55,
   "metadata": {},
   "outputs": [
    {
     "name": "stdout",
     "output_type": "stream",
     "text": [
      "<class 'pandas.core.frame.DataFrame'>\n",
      "Int64Index: 11636 entries, 2 to 23691\n",
      "Data columns (total 31 columns):\n",
      " #   Column                Non-Null Count  Dtype  \n",
      "---  ------                --------------  -----  \n",
      " 0   total_images          11636 non-null  int64  \n",
      " 1   last_price            11636 non-null  float64\n",
      " 2   total_area            11636 non-null  float64\n",
      " 3   first_day_exposition  11636 non-null  object \n",
      " 4   rooms                 11636 non-null  int64  \n",
      " 5   ceiling_height        11636 non-null  float64\n",
      " 6   floors_total          11636 non-null  float64\n",
      " 7   living_area           11012 non-null  float64\n",
      " 8   floor                 11636 non-null  int64  \n",
      " 9   is_apartment          11636 non-null  bool   \n",
      " 10  studio                11636 non-null  bool   \n",
      " 11  open_plan             11636 non-null  bool   \n",
      " 12  kitchen_area          10962 non-null  float64\n",
      " 13  balcony               11636 non-null  int64  \n",
      " 14  locality_name         11636 non-null  object \n",
      " 15  airports_nearest      11625 non-null  float64\n",
      " 16  cityCenters_nearest   11636 non-null  float64\n",
      " 17  parks_around3000      11636 non-null  float64\n",
      " 18  parks_nearest         4708 non-null   float64\n",
      " 19  ponds_around3000      11636 non-null  float64\n",
      " 20  ponds_nearest         5437 non-null   float64\n",
      " 21  days_exposition       10435 non-null  float64\n",
      " 22  price_one_meter       11636 non-null  float64\n",
      " 23  day_exposition        11636 non-null  int64  \n",
      " 24  month_exposition      11636 non-null  int64  \n",
      " 25  year_exposition       11636 non-null  int64  \n",
      " 26  floor_category        11636 non-null  object \n",
      " 27  living_total_area     11012 non-null  float64\n",
      " 28  kitchen_total_area    10962 non-null  float64\n",
      " 29  floor_id              11636 non-null  int64  \n",
      " 30  center_km             11636 non-null  int64  \n",
      "dtypes: bool(3), float64(16), int64(9), object(3)\n",
      "memory usage: 2.6+ MB\n"
     ]
    }
   ],
   "source": [
    "data_piter['center_km'] = data_piter['cityCenters_nearest']/1000\n",
    "data_piter['center_km'] = data_piter['center_km'].astype('int64')\n",
    "data_piter.info()"
   ]
  },
  {
   "cell_type": "markdown",
   "metadata": {},
   "source": [
    "Создадим сводную таблицу data_piter_km, в которой отразим среднюю стоимость квартир на каждый километр удаленности от центра."
   ]
  },
  {
   "cell_type": "code",
   "execution_count": 56,
   "metadata": {},
   "outputs": [
    {
     "data": {
      "text/html": [
       "<div>\n",
       "<style scoped>\n",
       "    .dataframe tbody tr th:only-of-type {\n",
       "        vertical-align: middle;\n",
       "    }\n",
       "\n",
       "    .dataframe tbody tr th {\n",
       "        vertical-align: top;\n",
       "    }\n",
       "\n",
       "    .dataframe thead th {\n",
       "        text-align: right;\n",
       "    }\n",
       "</style>\n",
       "<table border=\"1\" class=\"dataframe\">\n",
       "  <thead>\n",
       "    <tr style=\"text-align: right;\">\n",
       "      <th></th>\n",
       "      <th>last_price</th>\n",
       "    </tr>\n",
       "    <tr>\n",
       "      <th>center_km</th>\n",
       "      <th></th>\n",
       "    </tr>\n",
       "  </thead>\n",
       "  <tbody>\n",
       "    <tr>\n",
       "      <th>0</th>\n",
       "      <td>7.353450e+06</td>\n",
       "    </tr>\n",
       "    <tr>\n",
       "      <th>1</th>\n",
       "      <td>7.443259e+06</td>\n",
       "    </tr>\n",
       "    <tr>\n",
       "      <th>2</th>\n",
       "      <td>7.165380e+06</td>\n",
       "    </tr>\n",
       "    <tr>\n",
       "      <th>3</th>\n",
       "      <td>6.626747e+06</td>\n",
       "    </tr>\n",
       "    <tr>\n",
       "      <th>4</th>\n",
       "      <td>7.017325e+06</td>\n",
       "    </tr>\n",
       "    <tr>\n",
       "      <th>5</th>\n",
       "      <td>6.860580e+06</td>\n",
       "    </tr>\n",
       "    <tr>\n",
       "      <th>6</th>\n",
       "      <td>6.457386e+06</td>\n",
       "    </tr>\n",
       "    <tr>\n",
       "      <th>7</th>\n",
       "      <td>6.243487e+06</td>\n",
       "    </tr>\n",
       "    <tr>\n",
       "      <th>8</th>\n",
       "      <td>5.568718e+06</td>\n",
       "    </tr>\n",
       "    <tr>\n",
       "      <th>9</th>\n",
       "      <td>5.039317e+06</td>\n",
       "    </tr>\n",
       "    <tr>\n",
       "      <th>10</th>\n",
       "      <td>5.069787e+06</td>\n",
       "    </tr>\n",
       "    <tr>\n",
       "      <th>11</th>\n",
       "      <td>5.166267e+06</td>\n",
       "    </tr>\n",
       "    <tr>\n",
       "      <th>12</th>\n",
       "      <td>5.202765e+06</td>\n",
       "    </tr>\n",
       "    <tr>\n",
       "      <th>13</th>\n",
       "      <td>5.392547e+06</td>\n",
       "    </tr>\n",
       "    <tr>\n",
       "      <th>14</th>\n",
       "      <td>5.173541e+06</td>\n",
       "    </tr>\n",
       "    <tr>\n",
       "      <th>15</th>\n",
       "      <td>5.024917e+06</td>\n",
       "    </tr>\n",
       "    <tr>\n",
       "      <th>16</th>\n",
       "      <td>4.965833e+06</td>\n",
       "    </tr>\n",
       "    <tr>\n",
       "      <th>17</th>\n",
       "      <td>4.629568e+06</td>\n",
       "    </tr>\n",
       "    <tr>\n",
       "      <th>18</th>\n",
       "      <td>4.730585e+06</td>\n",
       "    </tr>\n",
       "    <tr>\n",
       "      <th>19</th>\n",
       "      <td>4.596576e+06</td>\n",
       "    </tr>\n",
       "    <tr>\n",
       "      <th>20</th>\n",
       "      <td>6.323787e+06</td>\n",
       "    </tr>\n",
       "    <tr>\n",
       "      <th>21</th>\n",
       "      <td>5.007584e+06</td>\n",
       "    </tr>\n",
       "    <tr>\n",
       "      <th>22</th>\n",
       "      <td>5.088511e+06</td>\n",
       "    </tr>\n",
       "    <tr>\n",
       "      <th>23</th>\n",
       "      <td>4.167517e+06</td>\n",
       "    </tr>\n",
       "    <tr>\n",
       "      <th>24</th>\n",
       "      <td>3.862235e+06</td>\n",
       "    </tr>\n",
       "    <tr>\n",
       "      <th>25</th>\n",
       "      <td>4.062706e+06</td>\n",
       "    </tr>\n",
       "    <tr>\n",
       "      <th>26</th>\n",
       "      <td>3.375000e+06</td>\n",
       "    </tr>\n",
       "    <tr>\n",
       "      <th>27</th>\n",
       "      <td>2.250000e+06</td>\n",
       "    </tr>\n",
       "    <tr>\n",
       "      <th>28</th>\n",
       "      <td>4.611667e+06</td>\n",
       "    </tr>\n",
       "    <tr>\n",
       "      <th>29</th>\n",
       "      <td>2.450000e+06</td>\n",
       "    </tr>\n",
       "  </tbody>\n",
       "</table>\n",
       "</div>"
      ],
      "text/plain": [
       "             last_price\n",
       "center_km              \n",
       "0          7.353450e+06\n",
       "1          7.443259e+06\n",
       "2          7.165380e+06\n",
       "3          6.626747e+06\n",
       "4          7.017325e+06\n",
       "5          6.860580e+06\n",
       "6          6.457386e+06\n",
       "7          6.243487e+06\n",
       "8          5.568718e+06\n",
       "9          5.039317e+06\n",
       "10         5.069787e+06\n",
       "11         5.166267e+06\n",
       "12         5.202765e+06\n",
       "13         5.392547e+06\n",
       "14         5.173541e+06\n",
       "15         5.024917e+06\n",
       "16         4.965833e+06\n",
       "17         4.629568e+06\n",
       "18         4.730585e+06\n",
       "19         4.596576e+06\n",
       "20         6.323787e+06\n",
       "21         5.007584e+06\n",
       "22         5.088511e+06\n",
       "23         4.167517e+06\n",
       "24         3.862235e+06\n",
       "25         4.062706e+06\n",
       "26         3.375000e+06\n",
       "27         2.250000e+06\n",
       "28         4.611667e+06\n",
       "29         2.450000e+06"
      ]
     },
     "metadata": {},
     "output_type": "display_data"
    }
   ],
   "source": [
    "data_piter_km = data_piter.pivot_table(index='center_km', values='last_price', aggfunc='mean').sort_index(ascending=True)\n",
    "display(data_piter_km)"
   ]
  },
  {
   "cell_type": "markdown",
   "metadata": {},
   "source": [
    "Построим график зависимости средней стоимости цены квартиры от удаленности от центра города."
   ]
  },
  {
   "cell_type": "code",
   "execution_count": 57,
   "metadata": {},
   "outputs": [
    {
     "data": {
      "text/plain": [
       "<AxesSubplot:xlabel='center_km'>"
      ]
     },
     "execution_count": 57,
     "metadata": {},
     "output_type": "execute_result"
    },
    {
     "data": {
      "image/png": "[encoded data removed]",
      "text/plain": [
       "<Figure size 720x360 with 1 Axes>"
      ]
     },
     "metadata": {
      "needs_background": "light"
     },
     "output_type": "display_data"
    }
   ],
   "source": [
    "data_piter_km.plot(grid=True, figsize=(10, 5))"
   ]
  },
  {
   "cell_type": "markdown",
   "metadata": {},
   "source": [
    "#### Выводы\n",
    "\n",
    "В ходе анализа получен график зависимости средней стоимости квартиры от растояния до центра города. По анализу графика можно сделать вывод, что центром города считается радиус в 9 км. При увеличении расстояния от центра стоимость квартир падает. После 9 км стоимость квартир сильно не меняется."
   ]
  },
  {
   "cell_type": "markdown",
   "metadata": {},
   "source": [
    "<div class=\"alert alert-success\">\n",
    "<b>✔️ Комментарий ревьюера:</b> Удачное выделение центра"
   ]
  },
  {
   "cell_type": "markdown",
   "metadata": {},
   "source": [
    "### Анализ параметров квартир, расположенных в центре Санкт-Петербурга и поиск зависимости стоимости от различных факторов."
   ]
  },
  {
   "cell_type": "markdown",
   "metadata": {},
   "source": [
    "#### Анализ параметров квартир\n",
    "Проанализируем параметры квартир в центре Санкт-Петербурга.\n",
    "\n",
    "Проведем числовой анализ общей площади квартир центра города."
   ]
  },
  {
   "cell_type": "code",
   "execution_count": 58,
   "metadata": {},
   "outputs": [
    {
     "data": {
      "text/plain": [
       "count    11636.000000\n",
       "mean        51.910498\n",
       "std         16.687791\n",
       "min         12.000000\n",
       "25%         39.100000\n",
       "50%         48.000000\n",
       "75%         62.000000\n",
       "max        114.200000\n",
       "Name: total_area, dtype: float64"
      ]
     },
     "execution_count": 58,
     "metadata": {},
     "output_type": "execute_result"
    }
   ],
   "source": [
    "data_piter['total_area'].describe()"
   ]
  },
  {
   "cell_type": "markdown",
   "metadata": {},
   "source": [
    "Построим гистограмму по значениям столбца total_area."
   ]
  },
  {
   "cell_type": "code",
   "execution_count": 59,
   "metadata": {},
   "outputs": [
    {
     "data": {
      "text/plain": [
       "<AxesSubplot:>"
      ]
     },
     "execution_count": 59,
     "metadata": {},
     "output_type": "execute_result"
    },
    {
     "data": {
      "image/png": "[encoded data removed]",
      "text/plain": [
       "<Figure size 432x288 with 1 Axes>"
      ]
     },
     "metadata": {
      "needs_background": "light"
     },
     "output_type": "display_data"
    }
   ],
   "source": [
    "data_piter['total_area'].hist()"
   ]
  },
  {
   "cell_type": "markdown",
   "metadata": {},
   "source": [
    "Проведем числовой анализ стоимости квартир центра города."
   ]
  },
  {
   "cell_type": "code",
   "execution_count": 60,
   "metadata": {},
   "outputs": [
    {
     "data": {
      "text/plain": [
       "count    1.163600e+04\n",
       "mean     5.300188e+06\n",
       "std      1.772530e+06\n",
       "min      1.219000e+04\n",
       "25%      3.980000e+06\n",
       "50%      4.900000e+06\n",
       "75%      6.300000e+06\n",
       "max      1.065000e+07\n",
       "Name: last_price, dtype: float64"
      ]
     },
     "execution_count": 60,
     "metadata": {},
     "output_type": "execute_result"
    }
   ],
   "source": [
    "data_piter['last_price'].describe()"
   ]
  },
  {
   "cell_type": "markdown",
   "metadata": {},
   "source": [
    "Построим гистограмму по значениям столбца last_price."
   ]
  },
  {
   "cell_type": "code",
   "execution_count": 61,
   "metadata": {},
   "outputs": [
    {
     "data": {
      "text/plain": [
       "<AxesSubplot:>"
      ]
     },
     "execution_count": 61,
     "metadata": {},
     "output_type": "execute_result"
    },
    {
     "data": {
      "image/png": "[encoded data removed]",
      "text/plain": [
       "<Figure size 432x288 with 1 Axes>"
      ]
     },
     "metadata": {
      "needs_background": "light"
     },
     "output_type": "display_data"
    }
   ],
   "source": [
    "data_piter['last_price'].hist()"
   ]
  },
  {
   "cell_type": "markdown",
   "metadata": {},
   "source": [
    "Проведем числовой анализ числа комнат квартир центра города."
   ]
  },
  {
   "cell_type": "code",
   "execution_count": 62,
   "metadata": {},
   "outputs": [
    {
     "data": {
      "text/plain": [
       "count    11636.000000\n",
       "mean         1.901770\n",
       "std          0.864062\n",
       "min          1.000000\n",
       "25%          1.000000\n",
       "50%          2.000000\n",
       "75%          3.000000\n",
       "max          6.000000\n",
       "Name: rooms, dtype: float64"
      ]
     },
     "execution_count": 62,
     "metadata": {},
     "output_type": "execute_result"
    }
   ],
   "source": [
    "data_piter['rooms'].describe()"
   ]
  },
  {
   "cell_type": "markdown",
   "metadata": {},
   "source": [
    "Построим гистограмму по значениям столбца rooms."
   ]
  },
  {
   "cell_type": "code",
   "execution_count": 63,
   "metadata": {},
   "outputs": [
    {
     "data": {
      "text/plain": [
       "<AxesSubplot:>"
      ]
     },
     "execution_count": 63,
     "metadata": {},
     "output_type": "execute_result"
    },
    {
     "data": {
      "image/png": "[encoded data removed]",
      "text/plain": [
       "<Figure size 432x288 with 1 Axes>"
      ]
     },
     "metadata": {
      "needs_background": "light"
     },
     "output_type": "display_data"
    }
   ],
   "source": [
    "data_piter['rooms'].hist()"
   ]
  },
  {
   "cell_type": "markdown",
   "metadata": {},
   "source": [
    "Проведем числовой анализ высоты  потолков квартир центра города."
   ]
  },
  {
   "cell_type": "code",
   "execution_count": 64,
   "metadata": {},
   "outputs": [
    {
     "data": {
      "text/plain": [
       "count    11636.000000\n",
       "mean         2.622421\n",
       "std          0.085388\n",
       "min          2.450000\n",
       "25%          2.560000\n",
       "50%          2.640000\n",
       "75%          2.650000\n",
       "max          2.850000\n",
       "Name: ceiling_height, dtype: float64"
      ]
     },
     "execution_count": 64,
     "metadata": {},
     "output_type": "execute_result"
    }
   ],
   "source": [
    "data_piter['ceiling_height'].describe()"
   ]
  },
  {
   "cell_type": "markdown",
   "metadata": {},
   "source": [
    "Построим гистограмму по значениям столбца ceiling_height."
   ]
  },
  {
   "cell_type": "code",
   "execution_count": 65,
   "metadata": {},
   "outputs": [
    {
     "data": {
      "text/plain": [
       "<AxesSubplot:>"
      ]
     },
     "execution_count": 65,
     "metadata": {},
     "output_type": "execute_result"
    },
    {
     "data": {
      "image/png": "[encoded data removed]",
      "text/plain": [
       "<Figure size 432x288 with 1 Axes>"
      ]
     },
     "metadata": {
      "needs_background": "light"
     },
     "output_type": "display_data"
    }
   ],
   "source": [
    "data_piter['ceiling_height'].hist()"
   ]
  },
  {
   "cell_type": "markdown",
   "metadata": {},
   "source": [
    "##### Выводы"
   ]
  },
  {
   "cell_type": "markdown",
   "metadata": {},
   "source": [
    "В ходе анализа параметров квартир, расположенных в центральном районе города Санкт-Петербург установлено, что статистические параметры (максимальное и минимальное значения границ нормального распределения) в столбцах ceiling_height, rooms, last_price и total_area соответствуют значениям, полученным по этим же столбцам для общей выборки объявлений, включая все районы и другие города области. В значениях указанных столбцов отсутствуют выбросы."
   ]
  },
  {
   "cell_type": "markdown",
   "metadata": {},
   "source": [
    "#### Анализ зависимости стоимости квартир центрального района от различных факторов."
   ]
  },
  {
   "cell_type": "markdown",
   "metadata": {},
   "source": [
    "Изучим зависимость стоимости квартир из центрального района города от следующих параметров:\n",
    "1. общая площадь (столбец total_area);\n",
    "2. число комнат (столбец rooms);\n",
    "3. удаленность от центра (столбец cityCenters_nearest);\n",
    "4. этаж (категория) (столбец floor_category);\n",
    "5. дата размещения объявления (столбцы day_exposition, month_exposition, year_exposition).\n",
    "\n",
    "Определим коэффициент корреляции Пирсона для каждого из параметров со стоимостью квартиры. "
   ]
  },
  {
   "cell_type": "code",
   "execution_count": 67,
   "metadata": {},
   "outputs": [
    {
     "name": "stdout",
     "output_type": "stream",
     "text": [
      "общая площадь 0.7810833143905421\n",
      "комнаты 0.48074532766948025\n",
      "удаленность от центра -0.25628157707338695\n",
      "день -0.0020812512859497132\n",
      "месяц -0.009007355634422363\n",
      "год 0.039575861530933745\n"
     ]
    }
   ],
   "source": [
    "print('общая площадь', data_piter['last_price'].corr(data_piter['total_area']))\n",
    "print('комнаты',data_piter['last_price'].corr(data_piter['rooms']))\n",
    "print('удаленность от центра', data_piter['last_price'].corr(data_piter['cityCenters_nearest']))\n",
    "print('день', data_piter['last_price'].corr(data_piter['day_exposition']))\n",
    "print('месяц', data_piter['last_price'].corr(data_piter['month_exposition']))\n",
    "print('год', data_piter['last_price'].corr(data_piter['year_exposition']))"
   ]
  },
  {
   "cell_type": "markdown",
   "metadata": {},
   "source": [
    "Определим коэффициенты корреляции Пирсона для между категориями распределения квартир по этажам. \n",
    "\n",
    "Коэффициент Пирсона зависимости стоимости квартир от расположения на первом или других этажах (не последних)."
   ]
  },
  {
   "cell_type": "code",
   "execution_count": 69,
   "metadata": {},
   "outputs": [
    {
     "name": "stdout",
     "output_type": "stream",
     "text": [
      "0.1175529143851103\n"
     ]
    }
   ],
   "source": [
    "data_piter_floor_id_01 = data_piter[data_piter['floor_id']<2]\n",
    "print(data_piter_floor_id_01['last_price'].corr(data_piter_floor_id_01['floor_id']))"
   ]
  },
  {
   "cell_type": "markdown",
   "metadata": {},
   "source": [
    "Коэффициент Пирсона зависимости стоимости квартир от расположения на последнем или других этажах (не первых)."
   ]
  },
  {
   "cell_type": "code",
   "execution_count": 71,
   "metadata": {},
   "outputs": [
    {
     "name": "stdout",
     "output_type": "stream",
     "text": [
      "-0.06225561272961012\n"
     ]
    }
   ],
   "source": [
    "data_piter_floor_id_12 = data_piter[data_piter['floor_id']>0]\n",
    "print(data_piter_floor_id_12['last_price'].corr(data_piter_floor_id_12['floor_id']))"
   ]
  },
  {
   "cell_type": "markdown",
   "metadata": {},
   "source": [
    "Коэффициент Пирсона зависимости стоимости квартир от расположения на первом или последнем этаже."
   ]
  },
  {
   "cell_type": "code",
   "execution_count": 72,
   "metadata": {},
   "outputs": [
    {
     "name": "stdout",
     "output_type": "stream",
     "text": [
      "0.09127128602000116\n"
     ]
    }
   ],
   "source": [
    "data_piter_floor_id_02 = data_piter[data_piter['floor_id']!=1]\n",
    "print(data_piter_floor_id_02['last_price'].corr(data_piter_floor_id_02['floor_id']))"
   ]
  },
  {
   "cell_type": "markdown",
   "metadata": {},
   "source": [
    "##### Выводы\n",
    "\n",
    "В ходе анализа получены следующие резульаты:\n",
    "1. Зависимость стоимости квартиры от общей площади - определена прямая линейная зависимость: при увеличении общей площади квартиры увеличивается и ее стоимость.\n",
    "2. Зависимость стоимости квартиры от количества комнат - определена прямая зависимость: при увеличении количества комнат в квартире увеличивается и ее стоимость.\n",
    "3. Зависимость стоимости квартиры от ее удаленности от центра населенного пункта - определена слабая обратная зависимость: при увеличении растояния до центра населенного пункта стоимость квартиры уменьшается.\n",
    "4. Зависимости стоимости квартиры от даты размещения объявления (день, месяц, год) не выявлено.\n",
    "5. Зависимость стоимости квартиры от расположения на определенном этаже - определена слабая прямая зависимость между ценами на квартиру и ее расположением на первом или других этажах (не последнем): на первых этажах стоимость квартир ниже; другие зависимости стоимости кваритры от расположения на этажах (другие этажи, последний этаж) не выявлены."
   ]
  },
  {
   "cell_type": "markdown",
   "metadata": {},
   "source": [
    "<div class=\"alert alert-warning\">\n",
    "<b>⚠️ Комментарий ревьюера:</b> Здесь лучше также оставить Пирсона лишь для параметров с линейной зависимостью. Остальные рассмотреть на обычных графиках"
   ]
  },
  {
   "cell_type": "markdown",
   "metadata": {},
   "source": [
    "#### Вывод по анализу кваритр в центре города\n",
    "\n",
    "Параметры квартир (столбцы ceiling_height, rooms, last_price и total_area), продаваемых в центральном районе города Санкт-Петербурга и параметры квартир, продаваемых в других районах города, а также других населенных пунктах области, не отличаются.\n",
    "\n",
    "В ходе анализа зависимости стоимости квартир от различных факторов при продаже квартир в центре города и других районах, населенных пунктах получены следующие результаты:\n",
    "1. Зависимость стоимости квартиры от общей площади выражена больше в центральном районе Санкт-Петербурга.\n",
    "2. Зависимость стоимости квартиры от количества комнат выражена больше в центральном районе Санкт-Петербурга.\n",
    "3. Зависимость стоимости квартиры от удаленности от центра города менее выражена в центральном районе Санкт-Петербурга.\n",
    "4. Зависимость стоимости квартиры от даты публикации объявления не обнаружена в обоих случаях.\n",
    "5. Зависимость стоимости квартиры от ее расположения на определенном этаже (на первом или другом (не последнем)) менее выражена в центральном районе Санкт-Петербурга. Зависимости стоимости кваритры от расположения на этажах (другие этажи, последний этаж) по сравнению с аналогичным проведенным анализом всей выборки, не выявлены."
   ]
  },
  {
   "cell_type": "markdown",
   "metadata": {},
   "source": [
    "## Общий вывод"
   ]
  },
  {
   "cell_type": "markdown",
   "metadata": {},
   "source": [
    "1. В ходе работы проведена предобработка данных, заполнена большая часть пропусков, изменены типы значений, представленных в исходной таблице данных.\n",
    "2. В соответствии с заданием исходная таблица дополнена следующими данными: price_one_meter - стоимость одного квадратного метра квартиры; day_exposition - день публикации объявления; month_exposition - месяц публикации объявления; year_exposition - год публикации объявления; floor_category - классификация квартир по этажам; living_total_area - отношение жилой площади квартиры к общей; kitchen_total_area - отношение площади кухни квартиры к общей.\n",
    "3. Проведено исследование характеристик квартир на выбросы, в столбцах total_area, last_price, rooms,  ceiling_height) обнаружены выбросы. Обнаруженные выбросы удалены.\n",
    "4. Проведено исследование зависимости стоимости квартир от таких факторов как общая площадь, количество комнат, удаленность от центра, расположение на определенных этажах и дата публикации объявления. Определены прямые зависимости стоимости квартир от общей площади, количества комнат. Определена зависимость стоимости квартир от удаленности от центра населенного пункта - чем дальше от центра, тем стоимость квартир ниже. Определены зависимости стоисмости квартир от расположения в доме (этажность) - квартиры, располагаемые на средних этажах (не первом и не последнем) стоят дороже. Зависимости стоимости квартиры от даты публикации объявления не обнаружено.\n",
    "5. Определены границы центрального района Санкт-Петербурга, граница центрального района - в радиусе 9 км от центра города. \n",
    "6. Проведено сравнение характеристик квартир в центре Санкт-Петербурга и всей выборке - характеристики совпадают. При анализе характеристик квартир из центрального района выбросов не обнаружено.\n",
    "7. Проведено исследование зависимостей стоимости квартир в центральном районе Санкт-Петербурга от таких факторов как общая площадь, количество комнат, удаленность от центра, расположение на определенных этажах и дата публикации объявления. Дополнительно проведено сравнение полученных результатов с результатами всей выборки. Получены следующие результаты сравнения:Зависимость стоимости квартиры от общей площади выражена больше в центральном районе Санкт-Петербурга. Зависимость стоимости квартиры от количества комнат выражена больше в центральном районе Санкт-Петербурга. Зависимость стоимости квартиры от удаленности от центра города менее выражена в центральном районе Санкт-Петербурга. Зависимость стоимости квартиры от даты публикации объявления не обнаружена в обоих случаях. Зависимость стоимости квартиры от ее расположения на определенном этаже (на первом или другом (не последнем)) менее выражена в центральном районе Санкт-Петербурга. Зависимости стоимости кваритры от расположения на этажах (другие этажи, последний этаж) по сравнению с аналогичным проведенным анализом всей выборки, не выявлены."
   ]
  },
  {
   "cell_type": "markdown",
   "metadata": {},
   "source": [
    "<div class=\"alert alert-warning\">\n",
    "<b>⚠️ Комментарий ревьюера:</b> Можно обогатить вывод, установив примерную рыночную стоимость для объектов,  исходя из влияния параметров (стоимость по районам и какие факторы на нее влияют)  - средняя стоимость в общей базе и средняя в центре"
   ]
  },
  {
   "cell_type": "markdown",
   "metadata": {},
   "source": [
    "## Чек-лист готовности проекта\n",
    "\n",
    "Поставьте 'x' в выполненных пунктах. Далее нажмите Shift+Enter."
   ]
  },
  {
   "cell_type": "markdown",
   "metadata": {},
   "source": [
    "- [x]  открыт файл\n",
    "- [x]  файлы изучены (выведены первые строки, метод `info()`)\n",
    "- [x]  определены пропущенные значения\n",
    "- [x]  заполнены пропущенные значения\n",
    "- [x]  есть пояснение, какие пропущенные значения обнаружены\n",
    "- [x]  изменены типы данных\n",
    "- [x]  есть пояснение, в каких столбцах изменены типы и почему\n",
    "- [x]  посчитано и добавлено в таблицу: цена квадратного метра\n",
    "- [x]  посчитано и добавлено в таблицу: день недели, месяц и год публикации объявления\n",
    "- [x]  посчитано и добавлено в таблицу: этаж квартиры; варианты — первый, последний, другой\n",
    "- [x]  посчитано и добавлено в таблицу: соотношение жилой и общей площади, а также отношение площади кухни к общей\n",
    "- [x]  изучены следующие параметры: площадь, цена, число комнат, высота потолков\n",
    "- [x]  построены гистограммы для каждого параметра\n",
    "- [x]  выполнено задание: «Изучите время продажи квартиры. Постройте гистограмму. Посчитайте среднее и медиану. Опишите, сколько обычно занимает продажа. Когда можно считать, что продажи прошли очень быстро, а когда необычно долго?»\n",
    "- [x]  выполнено задание: «Уберите редкие и выбивающиеся значения. Опишите, какие особенности обнаружили».\n",
    "- [x]  выполнено задание: «Какие факторы больше всего влияют на стоимость квартиры? Изучите, зависит ли цена от квадратного метра, числа комнат, этажа (первого или последнего), удалённости от центра. Также изучите зависимость от даты размещения: дня недели, месяца и года». \n",
    "- [x]  выполнено задание: «Выберите 10 населённых пунктов с наибольшим числом объявлений. Посчитайте среднюю цену квадратного метра в этих населённых пунктах. Выделите населённые пункты с самой высокой и низкой стоимостью жилья. Эти данные можно найти по имени в столбце `locality_name`».\n",
    "- [x]  выполнено задание: «Изучите предложения квартир: для каждой квартиры есть информация о расстоянии до центра. Выделите квартиры в Санкт-Петербурге (`locality_name`). Ваша задача — выяснить, какая область входит в центр. Создайте столбец с расстоянием до центра в километрах: округлите до целых значений. После этого посчитайте среднюю цену для каждого километра. Постройте график: он должен показывать, как цена зависит от удалённости от центра. Определите границу, где график сильно меняется — это и будет центральная зона».\n",
    "- [x]  выполнено задание: «Выделите сегмент квартир в центре. Проанализируйте эту территорию и изучите следующие параметры: площадь, цена, число комнат, высота потолков. Также выделите факторы, которые влияют на стоимость квартиры (число комнат, этаж, удалённость от центра, дата размещения объявления). Сделайте выводы. Отличаются ли они от общих выводов по всей базе?»\n",
    "- [x]  в каждом этапе есть выводы\n",
    "- [x]  есть общий вывод"
   ]
  },
  {
   "cell_type": "markdown",
   "metadata": {},
   "source": [
    "<div class=\"alert alert-success\">\n",
    "<b>✔️ Комментарий ревьюера:</b> Спасибо за проект! Видно, что ты старался и он получился очень сильным. Ты аккуратно работаешь с данными и выносишь качественные предположения - как настоящий аналитик. Критичных замечаний нет. Оставила направляющие комментарии. Я бы хотела принять твою работу с первого раза. Если у тебя будут вопросы, смело задавай их через куратора. Удачи на следующих этапах!"
   ]
  },
  {
   "cell_type": "code",
   "execution_count": null,
   "metadata": {},
   "outputs": [],
   "source": []
  }
 ],
 "metadata": {
  "ExecuteTimeLog": [
   {
    "duration": 614,
    "start_time": "2022-04-20T08:42:07.808Z"
   },
   {
    "duration": 93,
    "start_time": "2022-04-20T08:42:53.166Z"
   },
   {
    "duration": 13,
    "start_time": "2022-04-20T08:42:57.733Z"
   },
   {
    "duration": 105,
    "start_time": "2022-04-20T08:43:20.958Z"
   },
   {
    "duration": 94,
    "start_time": "2022-04-20T08:45:41.045Z"
   },
   {
    "duration": 61,
    "start_time": "2022-04-20T12:39:42.552Z"
   },
   {
    "duration": 18,
    "start_time": "2022-04-20T12:40:10.940Z"
   },
   {
    "duration": 18,
    "start_time": "2022-04-20T17:11:23.634Z"
   },
   {
    "duration": 17,
    "start_time": "2022-04-20T17:11:42.835Z"
   },
   {
    "duration": 55,
    "start_time": "2022-04-20T17:13:04.107Z"
   },
   {
    "duration": 17,
    "start_time": "2022-04-20T17:14:30.971Z"
   },
   {
    "duration": 21,
    "start_time": "2022-04-20T17:14:59.651Z"
   },
   {
    "duration": 21,
    "start_time": "2022-04-20T17:46:56.266Z"
   },
   {
    "duration": 21,
    "start_time": "2022-04-20T17:47:27.059Z"
   },
   {
    "duration": 25,
    "start_time": "2022-04-20T17:48:15.870Z"
   },
   {
    "duration": 14,
    "start_time": "2022-04-20T17:52:16.736Z"
   },
   {
    "duration": 15,
    "start_time": "2022-04-20T17:52:45.446Z"
   },
   {
    "duration": 17,
    "start_time": "2022-04-20T17:52:55.721Z"
   },
   {
    "duration": 18,
    "start_time": "2022-04-20T17:53:26.777Z"
   },
   {
    "duration": 29,
    "start_time": "2022-04-20T17:53:42.843Z"
   },
   {
    "duration": 17,
    "start_time": "2022-04-20T18:01:04.675Z"
   },
   {
    "duration": 5,
    "start_time": "2022-04-20T18:01:28.987Z"
   },
   {
    "duration": 8,
    "start_time": "2022-04-20T18:01:53.146Z"
   },
   {
    "duration": 8,
    "start_time": "2022-04-20T18:02:13.094Z"
   },
   {
    "duration": 9,
    "start_time": "2022-04-20T18:02:30.330Z"
   },
   {
    "duration": 10,
    "start_time": "2022-04-20T18:02:42.612Z"
   },
   {
    "duration": 7,
    "start_time": "2022-04-20T18:03:14.545Z"
   },
   {
    "duration": 7,
    "start_time": "2022-04-20T18:04:19.171Z"
   },
   {
    "duration": 236,
    "start_time": "2022-04-20T18:05:31.776Z"
   },
   {
    "duration": 6,
    "start_time": "2022-04-20T18:05:42.168Z"
   },
   {
    "duration": 10,
    "start_time": "2022-04-20T18:05:52.496Z"
   },
   {
    "duration": 183,
    "start_time": "2022-04-20T18:06:10.120Z"
   },
   {
    "duration": 8,
    "start_time": "2022-04-20T18:06:18.398Z"
   },
   {
    "duration": 7,
    "start_time": "2022-04-20T18:16:44.410Z"
   },
   {
    "duration": 6,
    "start_time": "2022-04-20T18:17:11.703Z"
   },
   {
    "duration": 5,
    "start_time": "2022-04-20T18:17:29.395Z"
   },
   {
    "duration": 7,
    "start_time": "2022-04-20T18:17:40.944Z"
   },
   {
    "duration": 6,
    "start_time": "2022-04-20T18:18:08.322Z"
   },
   {
    "duration": 7,
    "start_time": "2022-04-20T18:19:29.175Z"
   },
   {
    "duration": 6,
    "start_time": "2022-04-20T18:19:38.702Z"
   },
   {
    "duration": 6,
    "start_time": "2022-04-20T18:19:45.866Z"
   },
   {
    "duration": 5,
    "start_time": "2022-04-20T18:19:58.062Z"
   },
   {
    "duration": 6,
    "start_time": "2022-04-20T18:20:13.922Z"
   },
   {
    "duration": 19,
    "start_time": "2022-04-20T18:54:43.927Z"
   },
   {
    "duration": 6,
    "start_time": "2022-04-20T18:56:40.091Z"
   },
   {
    "duration": 45,
    "start_time": "2022-04-21T18:34:57.735Z"
   },
   {
    "duration": 464,
    "start_time": "2022-04-21T18:35:02.506Z"
   },
   {
    "duration": 25,
    "start_time": "2022-04-21T18:35:09.963Z"
   },
   {
    "duration": 7,
    "start_time": "2022-04-21T18:37:02.509Z"
   },
   {
    "duration": 11,
    "start_time": "2022-04-21T18:38:23.204Z"
   },
   {
    "duration": 4,
    "start_time": "2022-04-21T18:39:04.462Z"
   },
   {
    "duration": 230,
    "start_time": "2022-04-21T18:39:16.573Z"
   },
   {
    "duration": 55,
    "start_time": "2022-04-21T18:41:32.251Z"
   },
   {
    "duration": 181,
    "start_time": "2022-04-21T18:42:26.220Z"
   },
   {
    "duration": 76,
    "start_time": "2022-04-21T18:42:36.146Z"
   },
   {
    "duration": 45,
    "start_time": "2022-04-21T18:42:56.928Z"
   },
   {
    "duration": 50,
    "start_time": "2022-04-21T18:43:08.304Z"
   },
   {
    "duration": 55,
    "start_time": "2022-04-21T18:47:48.194Z"
   },
   {
    "duration": 46,
    "start_time": "2022-04-21T18:52:38.328Z"
   },
   {
    "duration": 483,
    "start_time": "2022-04-21T18:52:53.362Z"
   },
   {
    "duration": 28,
    "start_time": "2022-04-21T18:52:59.171Z"
   },
   {
    "duration": 5,
    "start_time": "2022-04-21T18:53:02.338Z"
   },
   {
    "duration": 68,
    "start_time": "2022-04-21T18:53:06.091Z"
   },
   {
    "duration": 16,
    "start_time": "2022-04-21T19:16:30.933Z"
   },
   {
    "duration": 9,
    "start_time": "2022-04-21T19:20:44.750Z"
   },
   {
    "duration": 9,
    "start_time": "2022-04-21T19:20:55.956Z"
   },
   {
    "duration": 69,
    "start_time": "2022-04-21T19:33:39.526Z"
   },
   {
    "duration": 75,
    "start_time": "2022-04-21T19:34:03.326Z"
   },
   {
    "duration": 132,
    "start_time": "2022-04-21T19:37:53.856Z"
   },
   {
    "duration": 717,
    "start_time": "2022-04-23T06:04:10.077Z"
   },
   {
    "duration": 93,
    "start_time": "2022-04-23T06:04:21.977Z"
   },
   {
    "duration": 227,
    "start_time": "2022-04-23T06:05:10.308Z"
   },
   {
    "duration": 121,
    "start_time": "2022-04-23T06:05:24.424Z"
   },
   {
    "duration": 41,
    "start_time": "2022-04-23T06:05:27.400Z"
   },
   {
    "duration": 8,
    "start_time": "2022-04-23T06:05:28.920Z"
   },
   {
    "duration": 75,
    "start_time": "2022-04-23T06:05:30.000Z"
   },
   {
    "duration": 18,
    "start_time": "2022-04-23T06:05:31.362Z"
   },
   {
    "duration": 197,
    "start_time": "2022-04-23T06:05:32.522Z"
   },
   {
    "duration": 109,
    "start_time": "2022-04-23T06:06:36.764Z"
   },
   {
    "duration": 22,
    "start_time": "2022-04-23T06:10:36.005Z"
   },
   {
    "duration": 28,
    "start_time": "2022-04-23T06:24:17.997Z"
   },
   {
    "duration": 109,
    "start_time": "2022-04-23T06:30:16.638Z"
   },
   {
    "duration": 9,
    "start_time": "2022-04-23T06:30:37.034Z"
   },
   {
    "duration": 14,
    "start_time": "2022-04-23T06:30:46.796Z"
   },
   {
    "duration": 13,
    "start_time": "2022-04-23T06:30:54.042Z"
   },
   {
    "duration": 12,
    "start_time": "2022-04-23T06:32:27.943Z"
   },
   {
    "duration": 21,
    "start_time": "2022-04-23T06:32:40.117Z"
   },
   {
    "duration": 8,
    "start_time": "2022-04-23T06:39:50.050Z"
   },
   {
    "duration": 107,
    "start_time": "2022-04-23T06:42:36.550Z"
   },
   {
    "duration": 24,
    "start_time": "2022-04-23T06:42:42.202Z"
   },
   {
    "duration": 680,
    "start_time": "2022-04-23T06:51:57.443Z"
   },
   {
    "duration": 41,
    "start_time": "2022-04-23T06:51:58.125Z"
   },
   {
    "duration": 29,
    "start_time": "2022-04-23T06:51:58.168Z"
   },
   {
    "duration": 113,
    "start_time": "2022-04-23T06:51:58.200Z"
   },
   {
    "duration": 13,
    "start_time": "2022-04-23T06:51:58.316Z"
   },
   {
    "duration": 231,
    "start_time": "2022-04-23T06:51:58.331Z"
   },
   {
    "duration": 110,
    "start_time": "2022-04-23T06:51:58.565Z"
   },
   {
    "duration": 30,
    "start_time": "2022-04-23T06:51:58.686Z"
   },
   {
    "duration": 28,
    "start_time": "2022-04-23T06:51:58.719Z"
   },
   {
    "duration": 52,
    "start_time": "2022-04-23T06:51:58.751Z"
   },
   {
    "duration": 30,
    "start_time": "2022-04-23T06:51:58.805Z"
   },
   {
    "duration": 70,
    "start_time": "2022-04-23T11:22:31.806Z"
   },
   {
    "duration": 624,
    "start_time": "2022-04-23T11:22:47.143Z"
   },
   {
    "duration": 40,
    "start_time": "2022-04-23T11:22:47.770Z"
   },
   {
    "duration": 8,
    "start_time": "2022-04-23T11:22:47.812Z"
   },
   {
    "duration": 92,
    "start_time": "2022-04-23T11:22:47.823Z"
   },
   {
    "duration": 15,
    "start_time": "2022-04-23T11:22:47.917Z"
   },
   {
    "duration": 200,
    "start_time": "2022-04-23T11:22:47.934Z"
   },
   {
    "duration": 88,
    "start_time": "2022-04-23T11:22:48.136Z"
   },
   {
    "duration": 21,
    "start_time": "2022-04-23T11:22:48.226Z"
   },
   {
    "duration": 43,
    "start_time": "2022-04-23T11:22:48.249Z"
   },
   {
    "duration": 7,
    "start_time": "2022-04-23T11:22:48.296Z"
   },
   {
    "duration": 24,
    "start_time": "2022-04-23T11:22:48.305Z"
   },
   {
    "duration": 128,
    "start_time": "2022-04-23T11:22:48.332Z"
   },
   {
    "duration": 9,
    "start_time": "2022-04-23T11:23:43.540Z"
   },
   {
    "duration": 9,
    "start_time": "2022-04-23T11:26:02.893Z"
   },
   {
    "duration": 10,
    "start_time": "2022-04-23T11:28:22.279Z"
   },
   {
    "duration": 10,
    "start_time": "2022-04-23T11:30:02.886Z"
   },
   {
    "duration": 9,
    "start_time": "2022-04-23T11:32:12.281Z"
   },
   {
    "duration": 5,
    "start_time": "2022-04-23T11:35:22.152Z"
   },
   {
    "duration": 3784,
    "start_time": "2022-04-23T11:35:30.821Z"
   },
   {
    "duration": 10,
    "start_time": "2022-04-23T11:42:42.872Z"
   },
   {
    "duration": 70,
    "start_time": "2022-04-23T11:43:36.816Z"
   },
   {
    "duration": 623,
    "start_time": "2022-04-23T11:43:44.880Z"
   },
   {
    "duration": 39,
    "start_time": "2022-04-23T11:43:45.506Z"
   },
   {
    "duration": 8,
    "start_time": "2022-04-23T11:43:45.547Z"
   },
   {
    "duration": 99,
    "start_time": "2022-04-23T11:43:45.558Z"
   },
   {
    "duration": 13,
    "start_time": "2022-04-23T11:43:45.660Z"
   },
   {
    "duration": 191,
    "start_time": "2022-04-23T11:43:45.676Z"
   },
   {
    "duration": 77,
    "start_time": "2022-04-23T11:43:48.030Z"
   },
   {
    "duration": 22,
    "start_time": "2022-04-23T11:43:49.436Z"
   },
   {
    "duration": 25,
    "start_time": "2022-04-23T11:43:51.385Z"
   },
   {
    "duration": 7,
    "start_time": "2022-04-23T11:43:53.670Z"
   },
   {
    "duration": 25,
    "start_time": "2022-04-23T11:43:54.967Z"
   },
   {
    "duration": 13,
    "start_time": "2022-04-23T11:43:56.486Z"
   },
   {
    "duration": 26,
    "start_time": "2022-04-23T11:44:09.503Z"
   },
   {
    "duration": 46,
    "start_time": "2022-04-23T11:45:23.781Z"
   },
   {
    "duration": 11,
    "start_time": "2022-04-23T11:45:33.286Z"
   },
   {
    "duration": 9,
    "start_time": "2022-04-23T11:45:43.997Z"
   },
   {
    "duration": 623,
    "start_time": "2022-04-23T11:46:18.765Z"
   },
   {
    "duration": 38,
    "start_time": "2022-04-23T11:46:19.391Z"
   },
   {
    "duration": 9,
    "start_time": "2022-04-23T11:46:19.431Z"
   },
   {
    "duration": 97,
    "start_time": "2022-04-23T11:46:19.443Z"
   },
   {
    "duration": 14,
    "start_time": "2022-04-23T11:46:19.542Z"
   },
   {
    "duration": 194,
    "start_time": "2022-04-23T11:46:19.558Z"
   },
   {
    "duration": 93,
    "start_time": "2022-04-23T11:46:19.754Z"
   },
   {
    "duration": 21,
    "start_time": "2022-04-23T11:46:19.849Z"
   },
   {
    "duration": 45,
    "start_time": "2022-04-23T11:46:19.872Z"
   },
   {
    "duration": 7,
    "start_time": "2022-04-23T11:46:19.920Z"
   },
   {
    "duration": 30,
    "start_time": "2022-04-23T11:46:19.929Z"
   },
   {
    "duration": 37,
    "start_time": "2022-04-23T11:46:19.961Z"
   },
   {
    "duration": 27,
    "start_time": "2022-04-23T11:47:23.023Z"
   },
   {
    "duration": 19,
    "start_time": "2022-04-23T12:04:09.105Z"
   },
   {
    "duration": 18,
    "start_time": "2022-04-23T12:04:23.601Z"
   },
   {
    "duration": 22,
    "start_time": "2022-04-23T12:04:45.320Z"
   },
   {
    "duration": 8,
    "start_time": "2022-04-23T12:05:36.396Z"
   },
   {
    "duration": 99,
    "start_time": "2022-04-23T12:06:13.267Z"
   },
   {
    "duration": 20,
    "start_time": "2022-04-23T12:06:59.361Z"
   },
   {
    "duration": 25,
    "start_time": "2022-04-23T12:43:19.078Z"
   },
   {
    "duration": 3166,
    "start_time": "2022-04-23T12:44:00.833Z"
   },
   {
    "duration": 6,
    "start_time": "2022-04-23T12:44:15.158Z"
   },
   {
    "duration": 34,
    "start_time": "2022-04-23T12:44:22.439Z"
   },
   {
    "duration": 8,
    "start_time": "2022-04-23T12:48:36.930Z"
   },
   {
    "duration": 19,
    "start_time": "2022-04-23T12:53:52.380Z"
   },
   {
    "duration": 10,
    "start_time": "2022-04-23T13:09:10.297Z"
   },
   {
    "duration": 9,
    "start_time": "2022-04-23T13:09:12.316Z"
   },
   {
    "duration": 17,
    "start_time": "2022-04-23T13:12:10.217Z"
   },
   {
    "duration": 3253,
    "start_time": "2022-04-23T13:12:44.863Z"
   },
   {
    "duration": 649,
    "start_time": "2022-04-23T13:13:11.047Z"
   },
   {
    "duration": 37,
    "start_time": "2022-04-23T13:13:11.699Z"
   },
   {
    "duration": 8,
    "start_time": "2022-04-23T13:13:11.738Z"
   },
   {
    "duration": 114,
    "start_time": "2022-04-23T13:13:11.749Z"
   },
   {
    "duration": 29,
    "start_time": "2022-04-23T13:13:11.865Z"
   },
   {
    "duration": 192,
    "start_time": "2022-04-23T13:13:11.896Z"
   },
   {
    "duration": 77,
    "start_time": "2022-04-23T13:13:12.092Z"
   },
   {
    "duration": 40,
    "start_time": "2022-04-23T13:13:12.171Z"
   },
   {
    "duration": 22,
    "start_time": "2022-04-23T13:13:12.213Z"
   },
   {
    "duration": 8,
    "start_time": "2022-04-23T13:13:12.238Z"
   },
   {
    "duration": 62,
    "start_time": "2022-04-23T13:13:12.248Z"
   },
   {
    "duration": 27,
    "start_time": "2022-04-23T13:13:12.312Z"
   },
   {
    "duration": 51,
    "start_time": "2022-04-23T13:13:12.342Z"
   },
   {
    "duration": 32,
    "start_time": "2022-04-23T13:13:12.395Z"
   },
   {
    "duration": 8,
    "start_time": "2022-04-23T13:13:12.430Z"
   },
   {
    "duration": 3493,
    "start_time": "2022-04-23T13:13:12.441Z"
   },
   {
    "duration": 40,
    "start_time": "2022-04-23T13:13:39.003Z"
   },
   {
    "duration": 52,
    "start_time": "2022-04-23T13:15:05.566Z"
   },
   {
    "duration": 204,
    "start_time": "2022-04-23T13:43:13.502Z"
   },
   {
    "duration": 239,
    "start_time": "2022-04-23T13:43:31.126Z"
   },
   {
    "duration": 2491,
    "start_time": "2022-04-23T13:44:04.596Z"
   },
   {
    "duration": 2463,
    "start_time": "2022-04-23T13:45:31.457Z"
   },
   {
    "duration": 2319,
    "start_time": "2022-04-23T13:45:42.849Z"
   },
   {
    "duration": 2374,
    "start_time": "2022-04-23T13:47:21.024Z"
   },
   {
    "duration": 2506,
    "start_time": "2022-04-23T13:48:32.127Z"
   },
   {
    "duration": 351,
    "start_time": "2022-04-23T13:48:58.842Z"
   },
   {
    "duration": 373,
    "start_time": "2022-04-23T13:49:15.136Z"
   },
   {
    "duration": 252,
    "start_time": "2022-04-23T15:10:30.581Z"
   },
   {
    "duration": 6,
    "start_time": "2022-04-23T15:10:44.060Z"
   },
   {
    "duration": 207,
    "start_time": "2022-04-23T15:10:49.300Z"
   },
   {
    "duration": 5,
    "start_time": "2022-04-23T15:10:53.735Z"
   },
   {
    "duration": 25,
    "start_time": "2022-04-23T15:14:19.133Z"
   },
   {
    "duration": 25,
    "start_time": "2022-04-23T15:14:54.904Z"
   },
   {
    "duration": 25,
    "start_time": "2022-04-23T15:15:12.595Z"
   },
   {
    "duration": 801,
    "start_time": "2022-04-23T15:25:06.962Z"
   },
   {
    "duration": 175,
    "start_time": "2022-04-23T15:25:16.836Z"
   },
   {
    "duration": 161,
    "start_time": "2022-04-23T15:25:24.079Z"
   },
   {
    "duration": 163,
    "start_time": "2022-04-23T15:25:30.723Z"
   },
   {
    "duration": 259,
    "start_time": "2022-04-23T15:25:36.369Z"
   },
   {
    "duration": 171,
    "start_time": "2022-04-23T15:27:10.737Z"
   },
   {
    "duration": 151,
    "start_time": "2022-04-23T15:27:18.752Z"
   },
   {
    "duration": 203,
    "start_time": "2022-04-23T15:27:30.754Z"
   },
   {
    "duration": 250,
    "start_time": "2022-04-23T15:27:38.770Z"
   },
   {
    "duration": 203,
    "start_time": "2022-04-23T15:29:23.099Z"
   },
   {
    "duration": 216,
    "start_time": "2022-04-23T15:29:47.282Z"
   },
   {
    "duration": 12,
    "start_time": "2022-04-23T15:30:32.257Z"
   },
   {
    "duration": 198,
    "start_time": "2022-04-23T15:31:00.618Z"
   },
   {
    "duration": 209,
    "start_time": "2022-04-23T15:31:12.688Z"
   },
   {
    "duration": 189,
    "start_time": "2022-04-23T15:32:22.270Z"
   },
   {
    "duration": 256,
    "start_time": "2022-04-23T15:33:07.579Z"
   },
   {
    "duration": 260,
    "start_time": "2022-04-23T15:33:23.149Z"
   },
   {
    "duration": 347,
    "start_time": "2022-04-23T15:33:45.954Z"
   },
   {
    "duration": 236,
    "start_time": "2022-04-23T15:37:32.187Z"
   },
   {
    "duration": 206,
    "start_time": "2022-04-23T15:38:12.952Z"
   },
   {
    "duration": 221,
    "start_time": "2022-04-23T15:38:15.676Z"
   },
   {
    "duration": 174,
    "start_time": "2022-04-23T15:38:17.906Z"
   },
   {
    "duration": 27,
    "start_time": "2022-04-23T17:31:58.151Z"
   },
   {
    "duration": 211,
    "start_time": "2022-04-23T17:32:19.651Z"
   },
   {
    "duration": 225,
    "start_time": "2022-04-23T17:32:36.301Z"
   },
   {
    "duration": 26,
    "start_time": "2022-04-23T17:33:03.997Z"
   },
   {
    "duration": 391,
    "start_time": "2022-04-23T17:33:11.020Z"
   },
   {
    "duration": 210,
    "start_time": "2022-04-23T17:33:20.538Z"
   },
   {
    "duration": 182,
    "start_time": "2022-04-23T17:33:43.854Z"
   },
   {
    "duration": 360,
    "start_time": "2022-04-23T17:33:50.284Z"
   },
   {
    "duration": 12,
    "start_time": "2022-04-23T17:35:56.962Z"
   },
   {
    "duration": 182,
    "start_time": "2022-04-23T17:36:06.226Z"
   },
   {
    "duration": 11,
    "start_time": "2022-04-23T17:38:23.546Z"
   },
   {
    "duration": 135,
    "start_time": "2022-04-23T17:38:42.083Z"
   },
   {
    "duration": 156,
    "start_time": "2022-04-23T17:40:09.865Z"
   },
   {
    "duration": 184,
    "start_time": "2022-04-23T17:45:47.195Z"
   },
   {
    "duration": 198,
    "start_time": "2022-04-23T17:51:02.322Z"
   },
   {
    "duration": 216,
    "start_time": "2022-04-23T18:01:52.920Z"
   },
   {
    "duration": 201,
    "start_time": "2022-04-23T18:02:05.880Z"
   },
   {
    "duration": 12,
    "start_time": "2022-04-23T18:09:56.609Z"
   },
   {
    "duration": 154,
    "start_time": "2022-04-23T18:10:13.532Z"
   },
   {
    "duration": 11,
    "start_time": "2022-04-23T18:14:26.318Z"
   },
   {
    "duration": 208,
    "start_time": "2022-04-23T18:14:40.210Z"
   },
   {
    "duration": 12,
    "start_time": "2022-04-23T18:15:16.718Z"
   },
   {
    "duration": 168,
    "start_time": "2022-04-23T18:15:21.904Z"
   },
   {
    "duration": 158,
    "start_time": "2022-04-23T18:15:29.413Z"
   },
   {
    "duration": 206,
    "start_time": "2022-04-23T18:16:19.261Z"
   },
   {
    "duration": 310,
    "start_time": "2022-04-23T18:17:12.820Z"
   },
   {
    "duration": 195,
    "start_time": "2022-04-23T18:18:27.356Z"
   },
   {
    "duration": 496,
    "start_time": "2022-04-23T18:18:49.327Z"
   },
   {
    "duration": 201,
    "start_time": "2022-04-23T18:18:56.832Z"
   },
   {
    "duration": 197,
    "start_time": "2022-04-23T18:19:01.923Z"
   },
   {
    "duration": 224,
    "start_time": "2022-04-23T18:19:06.530Z"
   },
   {
    "duration": 213,
    "start_time": "2022-04-23T18:19:16.320Z"
   },
   {
    "duration": 265,
    "start_time": "2022-04-23T18:19:32.397Z"
   },
   {
    "duration": 237,
    "start_time": "2022-04-23T18:19:36.051Z"
   },
   {
    "duration": 239,
    "start_time": "2022-04-23T18:19:41.174Z"
   },
   {
    "duration": 259,
    "start_time": "2022-04-23T18:19:46.418Z"
   },
   {
    "duration": 208,
    "start_time": "2022-04-23T18:20:52.545Z"
   },
   {
    "duration": 223,
    "start_time": "2022-04-23T18:21:03.208Z"
   },
   {
    "duration": 235,
    "start_time": "2022-04-23T18:21:14.298Z"
   },
   {
    "duration": 223,
    "start_time": "2022-04-23T18:21:18.014Z"
   },
   {
    "duration": 271,
    "start_time": "2022-04-23T18:31:09.237Z"
   },
   {
    "duration": 12,
    "start_time": "2022-04-23T18:31:45.166Z"
   },
   {
    "duration": 237,
    "start_time": "2022-04-23T18:32:40.869Z"
   },
   {
    "duration": 213,
    "start_time": "2022-04-23T18:33:52.515Z"
   },
   {
    "duration": 172,
    "start_time": "2022-04-23T18:34:04.533Z"
   },
   {
    "duration": 17,
    "start_time": "2022-04-23T18:46:21.985Z"
   },
   {
    "duration": 1006,
    "start_time": "2022-04-23T18:47:04.251Z"
   },
   {
    "duration": 41,
    "start_time": "2022-04-23T18:47:05.260Z"
   },
   {
    "duration": 8,
    "start_time": "2022-04-23T18:47:05.303Z"
   },
   {
    "duration": 85,
    "start_time": "2022-04-23T18:47:05.314Z"
   },
   {
    "duration": 14,
    "start_time": "2022-04-23T18:47:05.401Z"
   },
   {
    "duration": 195,
    "start_time": "2022-04-23T18:47:05.417Z"
   },
   {
    "duration": 94,
    "start_time": "2022-04-23T18:47:05.614Z"
   },
   {
    "duration": 21,
    "start_time": "2022-04-23T18:47:05.711Z"
   },
   {
    "duration": 21,
    "start_time": "2022-04-23T18:47:05.735Z"
   },
   {
    "duration": 35,
    "start_time": "2022-04-23T18:47:05.759Z"
   },
   {
    "duration": 25,
    "start_time": "2022-04-23T18:47:06.839Z"
   },
   {
    "duration": 26,
    "start_time": "2022-04-23T18:47:06.867Z"
   },
   {
    "duration": 19,
    "start_time": "2022-04-23T18:47:06.896Z"
   },
   {
    "duration": 31,
    "start_time": "2022-04-23T18:47:06.917Z"
   },
   {
    "duration": 6,
    "start_time": "2022-04-23T18:47:06.951Z"
   },
   {
    "duration": 85,
    "start_time": "2022-04-23T18:47:06.959Z"
   },
   {
    "duration": 394,
    "start_time": "2022-04-23T18:47:07.046Z"
   },
   {
    "duration": 24,
    "start_time": "2022-04-23T18:47:07.442Z"
   },
   {
    "duration": 46,
    "start_time": "2022-04-23T18:47:07.469Z"
   },
   {
    "duration": 10,
    "start_time": "2022-04-23T18:47:07.517Z"
   },
   {
    "duration": 216,
    "start_time": "2022-04-23T18:47:07.529Z"
   },
   {
    "duration": 172,
    "start_time": "2022-04-23T18:47:07.748Z"
   },
   {
    "duration": 12,
    "start_time": "2022-04-23T18:47:07.922Z"
   },
   {
    "duration": 231,
    "start_time": "2022-04-23T18:47:07.936Z"
   },
   {
    "duration": 208,
    "start_time": "2022-04-23T18:47:08.170Z"
   },
   {
    "duration": 21,
    "start_time": "2022-04-23T18:47:08.380Z"
   },
   {
    "duration": 283,
    "start_time": "2022-04-23T18:47:08.403Z"
   },
   {
    "duration": 205,
    "start_time": "2022-04-23T18:47:08.692Z"
   },
   {
    "duration": 11,
    "start_time": "2022-04-23T18:47:08.903Z"
   },
   {
    "duration": 88,
    "start_time": "2022-04-23T18:48:37.652Z"
   },
   {
    "duration": 103,
    "start_time": "2022-04-23T18:48:59.268Z"
   },
   {
    "duration": 88,
    "start_time": "2022-04-23T18:49:20.830Z"
   },
   {
    "duration": 12,
    "start_time": "2022-04-23T18:50:01.483Z"
   },
   {
    "duration": 185,
    "start_time": "2022-04-23T18:50:17.317Z"
   },
   {
    "duration": 232,
    "start_time": "2022-04-23T18:51:46.745Z"
   },
   {
    "duration": 1067,
    "start_time": "2022-04-23T19:19:34.451Z"
   },
   {
    "duration": 33,
    "start_time": "2022-04-23T19:19:35.521Z"
   },
   {
    "duration": 8,
    "start_time": "2022-04-23T19:19:35.556Z"
   },
   {
    "duration": 71,
    "start_time": "2022-04-23T19:19:35.592Z"
   },
   {
    "duration": 35,
    "start_time": "2022-04-23T19:19:35.665Z"
   },
   {
    "duration": 181,
    "start_time": "2022-04-23T19:19:35.702Z"
   },
   {
    "duration": 77,
    "start_time": "2022-04-23T19:19:35.885Z"
   },
   {
    "duration": 35,
    "start_time": "2022-04-23T19:19:35.965Z"
   },
   {
    "duration": 20,
    "start_time": "2022-04-23T19:19:36.002Z"
   },
   {
    "duration": 16,
    "start_time": "2022-04-23T19:19:36.026Z"
   },
   {
    "duration": 33,
    "start_time": "2022-04-23T19:19:36.044Z"
   },
   {
    "duration": 39,
    "start_time": "2022-04-23T19:19:36.079Z"
   },
   {
    "duration": 20,
    "start_time": "2022-04-23T19:19:36.120Z"
   },
   {
    "duration": 60,
    "start_time": "2022-04-23T19:19:36.143Z"
   },
   {
    "duration": 7,
    "start_time": "2022-04-23T19:19:36.205Z"
   },
   {
    "duration": 79,
    "start_time": "2022-04-23T19:19:36.214Z"
   },
   {
    "duration": 363,
    "start_time": "2022-04-23T19:19:36.295Z"
   },
   {
    "duration": 43,
    "start_time": "2022-04-23T19:19:36.660Z"
   },
   {
    "duration": 27,
    "start_time": "2022-04-23T19:19:36.706Z"
   },
   {
    "duration": 13,
    "start_time": "2022-04-23T19:19:36.736Z"
   },
   {
    "duration": 240,
    "start_time": "2022-04-23T19:19:36.752Z"
   },
   {
    "duration": 182,
    "start_time": "2022-04-23T19:19:36.995Z"
   },
   {
    "duration": 16,
    "start_time": "2022-04-23T19:19:37.179Z"
   },
   {
    "duration": 245,
    "start_time": "2022-04-23T19:19:37.197Z"
   },
   {
    "duration": 209,
    "start_time": "2022-04-23T19:19:37.444Z"
   },
   {
    "duration": 11,
    "start_time": "2022-04-23T19:19:37.655Z"
   },
   {
    "duration": 282,
    "start_time": "2022-04-23T19:19:37.668Z"
   },
   {
    "duration": 193,
    "start_time": "2022-04-23T19:19:37.954Z"
   },
   {
    "duration": 11,
    "start_time": "2022-04-23T19:19:38.149Z"
   },
   {
    "duration": 220,
    "start_time": "2022-04-23T19:19:38.162Z"
   },
   {
    "duration": 225,
    "start_time": "2022-04-23T19:19:38.384Z"
   },
   {
    "duration": 12,
    "start_time": "2022-04-23T19:22:32.351Z"
   },
   {
    "duration": 10,
    "start_time": "2022-04-23T19:23:20.768Z"
   },
   {
    "duration": 199,
    "start_time": "2022-04-23T19:23:37.628Z"
   },
   {
    "duration": 205,
    "start_time": "2022-04-23T19:23:58.710Z"
   },
   {
    "duration": 196,
    "start_time": "2022-04-23T19:24:06.158Z"
   },
   {
    "duration": 235,
    "start_time": "2022-04-23T19:24:10.412Z"
   },
   {
    "duration": 252,
    "start_time": "2022-04-23T19:24:19.756Z"
   },
   {
    "duration": 178,
    "start_time": "2022-04-23T19:25:13.789Z"
   },
   {
    "duration": 175,
    "start_time": "2022-04-23T19:25:39.450Z"
   },
   {
    "duration": 315,
    "start_time": "2022-04-23T19:25:43.890Z"
   },
   {
    "duration": 232,
    "start_time": "2022-04-23T19:25:49.809Z"
   },
   {
    "duration": 173,
    "start_time": "2022-04-23T19:38:25.420Z"
   },
   {
    "duration": 20,
    "start_time": "2022-04-23T19:46:07.825Z"
   },
   {
    "duration": 17,
    "start_time": "2022-04-23T19:47:00.153Z"
   },
   {
    "duration": 17,
    "start_time": "2022-04-23T19:47:09.626Z"
   },
   {
    "duration": 1152,
    "start_time": "2022-04-23T19:47:18.230Z"
   },
   {
    "duration": 47,
    "start_time": "2022-04-23T19:47:19.385Z"
   },
   {
    "duration": 8,
    "start_time": "2022-04-23T19:47:19.434Z"
   },
   {
    "duration": 145,
    "start_time": "2022-04-23T19:47:19.445Z"
   },
   {
    "duration": 20,
    "start_time": "2022-04-23T19:47:19.593Z"
   },
   {
    "duration": 232,
    "start_time": "2022-04-23T19:47:19.619Z"
   },
   {
    "duration": 108,
    "start_time": "2022-04-23T19:47:19.854Z"
   },
   {
    "duration": 47,
    "start_time": "2022-04-23T19:47:19.964Z"
   },
   {
    "duration": 38,
    "start_time": "2022-04-23T19:47:20.014Z"
   },
   {
    "duration": 35,
    "start_time": "2022-04-23T19:47:20.058Z"
   },
   {
    "duration": 50,
    "start_time": "2022-04-23T19:47:20.098Z"
   },
   {
    "duration": 28,
    "start_time": "2022-04-23T19:47:20.150Z"
   },
   {
    "duration": 29,
    "start_time": "2022-04-23T19:47:20.195Z"
   },
   {
    "duration": 70,
    "start_time": "2022-04-23T19:47:20.226Z"
   },
   {
    "duration": 10,
    "start_time": "2022-04-23T19:47:20.300Z"
   },
   {
    "duration": 100,
    "start_time": "2022-04-23T19:47:20.313Z"
   },
   {
    "duration": 420,
    "start_time": "2022-04-23T19:47:20.416Z"
   },
   {
    "duration": 26,
    "start_time": "2022-04-23T19:47:20.838Z"
   },
   {
    "duration": 62,
    "start_time": "2022-04-23T19:47:20.866Z"
   },
   {
    "duration": 12,
    "start_time": "2022-04-23T19:47:20.930Z"
   },
   {
    "duration": 251,
    "start_time": "2022-04-23T19:47:20.943Z"
   },
   {
    "duration": 221,
    "start_time": "2022-04-23T19:47:21.197Z"
   },
   {
    "duration": 13,
    "start_time": "2022-04-23T19:47:21.421Z"
   },
   {
    "duration": 276,
    "start_time": "2022-04-23T19:47:21.437Z"
   },
   {
    "duration": 226,
    "start_time": "2022-04-23T19:47:21.715Z"
   },
   {
    "duration": 10,
    "start_time": "2022-04-23T19:47:21.943Z"
   },
   {
    "duration": 322,
    "start_time": "2022-04-23T19:47:21.955Z"
   },
   {
    "duration": 218,
    "start_time": "2022-04-23T19:47:22.282Z"
   },
   {
    "duration": 14,
    "start_time": "2022-04-23T19:47:22.504Z"
   },
   {
    "duration": 228,
    "start_time": "2022-04-23T19:47:22.521Z"
   },
   {
    "duration": 202,
    "start_time": "2022-04-23T19:47:22.751Z"
   },
   {
    "duration": 16,
    "start_time": "2022-04-23T19:47:22.956Z"
   },
   {
    "duration": 290,
    "start_time": "2022-04-23T19:47:22.974Z"
   },
   {
    "duration": 205,
    "start_time": "2022-04-23T19:47:23.267Z"
   },
   {
    "duration": 38,
    "start_time": "2022-04-23T19:47:23.475Z"
   },
   {
    "duration": 173,
    "start_time": "2022-04-23T19:47:54.130Z"
   },
   {
    "duration": 45,
    "start_time": "2022-04-24T03:29:37.235Z"
   },
   {
    "duration": 1645,
    "start_time": "2022-04-24T03:35:16.262Z"
   },
   {
    "duration": 42,
    "start_time": "2022-04-24T03:35:17.910Z"
   },
   {
    "duration": 7,
    "start_time": "2022-04-24T03:35:17.954Z"
   },
   {
    "duration": 88,
    "start_time": "2022-04-24T03:35:17.963Z"
   },
   {
    "duration": 13,
    "start_time": "2022-04-24T03:35:18.054Z"
   },
   {
    "duration": 204,
    "start_time": "2022-04-24T03:35:18.068Z"
   },
   {
    "duration": 88,
    "start_time": "2022-04-24T03:35:18.275Z"
   },
   {
    "duration": 20,
    "start_time": "2022-04-24T03:35:18.365Z"
   },
   {
    "duration": 41,
    "start_time": "2022-04-24T03:35:18.388Z"
   },
   {
    "duration": 7,
    "start_time": "2022-04-24T03:35:18.431Z"
   },
   {
    "duration": 24,
    "start_time": "2022-04-24T03:35:18.439Z"
   },
   {
    "duration": 20,
    "start_time": "2022-04-24T03:35:18.465Z"
   },
   {
    "duration": 42,
    "start_time": "2022-04-24T03:35:18.487Z"
   },
   {
    "duration": 28,
    "start_time": "2022-04-24T03:35:18.534Z"
   },
   {
    "duration": 5,
    "start_time": "2022-04-24T03:35:18.564Z"
   },
   {
    "duration": 87,
    "start_time": "2022-04-24T03:35:18.571Z"
   },
   {
    "duration": 390,
    "start_time": "2022-04-24T03:35:18.660Z"
   },
   {
    "duration": 27,
    "start_time": "2022-04-24T03:35:19.052Z"
   },
   {
    "duration": 54,
    "start_time": "2022-04-24T03:35:19.082Z"
   },
   {
    "duration": 11,
    "start_time": "2022-04-24T03:35:19.138Z"
   },
   {
    "duration": 161,
    "start_time": "2022-04-24T03:35:19.151Z"
   },
   {
    "duration": 125,
    "start_time": "2022-04-24T03:35:19.314Z"
   },
   {
    "duration": 106,
    "start_time": "2022-04-24T03:35:19.441Z"
   },
   {
    "duration": 0,
    "start_time": "2022-04-24T03:35:19.548Z"
   },
   {
    "duration": 0,
    "start_time": "2022-04-24T03:35:19.550Z"
   },
   {
    "duration": 0,
    "start_time": "2022-04-24T03:35:19.551Z"
   },
   {
    "duration": 0,
    "start_time": "2022-04-24T03:35:19.552Z"
   },
   {
    "duration": 0,
    "start_time": "2022-04-24T03:35:19.553Z"
   },
   {
    "duration": 0,
    "start_time": "2022-04-24T03:35:19.554Z"
   },
   {
    "duration": 0,
    "start_time": "2022-04-24T03:35:19.555Z"
   },
   {
    "duration": 0,
    "start_time": "2022-04-24T03:35:19.555Z"
   },
   {
    "duration": 0,
    "start_time": "2022-04-24T03:35:19.556Z"
   },
   {
    "duration": 0,
    "start_time": "2022-04-24T03:35:19.557Z"
   },
   {
    "duration": 0,
    "start_time": "2022-04-24T03:35:19.558Z"
   },
   {
    "duration": 0,
    "start_time": "2022-04-24T03:35:19.559Z"
   },
   {
    "duration": 0,
    "start_time": "2022-04-24T03:35:19.560Z"
   },
   {
    "duration": 0,
    "start_time": "2022-04-24T03:35:19.561Z"
   },
   {
    "duration": 9,
    "start_time": "2022-04-24T03:35:31.029Z"
   },
   {
    "duration": 9,
    "start_time": "2022-04-24T03:35:41.183Z"
   },
   {
    "duration": 136,
    "start_time": "2022-04-24T03:35:43.694Z"
   },
   {
    "duration": 118,
    "start_time": "2022-04-24T03:35:44.088Z"
   },
   {
    "duration": 8,
    "start_time": "2022-04-24T03:35:44.796Z"
   },
   {
    "duration": 195,
    "start_time": "2022-04-24T03:35:45.183Z"
   },
   {
    "duration": 113,
    "start_time": "2022-04-24T03:35:45.555Z"
   },
   {
    "duration": 8,
    "start_time": "2022-04-24T03:35:46.111Z"
   },
   {
    "duration": 107,
    "start_time": "2022-04-24T03:35:46.481Z"
   },
   {
    "duration": 105,
    "start_time": "2022-04-24T03:35:46.888Z"
   },
   {
    "duration": 9,
    "start_time": "2022-04-24T03:35:47.678Z"
   },
   {
    "duration": 134,
    "start_time": "2022-04-24T03:35:48.085Z"
   },
   {
    "duration": 101,
    "start_time": "2022-04-24T03:35:48.492Z"
   },
   {
    "duration": 15,
    "start_time": "2022-04-24T03:35:49.358Z"
   },
   {
    "duration": 116,
    "start_time": "2022-04-24T03:35:50.309Z"
   },
   {
    "duration": 104,
    "start_time": "2022-04-24T03:36:14.166Z"
   },
   {
    "duration": 112,
    "start_time": "2022-04-24T03:37:27.133Z"
   },
   {
    "duration": 908,
    "start_time": "2022-04-24T05:37:04.506Z"
   },
   {
    "duration": 25,
    "start_time": "2022-04-24T05:37:05.416Z"
   },
   {
    "duration": 6,
    "start_time": "2022-04-24T05:37:05.442Z"
   },
   {
    "duration": 62,
    "start_time": "2022-04-24T05:37:05.450Z"
   },
   {
    "duration": 9,
    "start_time": "2022-04-24T05:37:05.514Z"
   },
   {
    "duration": 137,
    "start_time": "2022-04-24T05:37:05.525Z"
   },
   {
    "duration": 60,
    "start_time": "2022-04-24T05:37:05.664Z"
   },
   {
    "duration": 15,
    "start_time": "2022-04-24T05:37:05.725Z"
   },
   {
    "duration": 15,
    "start_time": "2022-04-24T05:37:05.741Z"
   },
   {
    "duration": 4,
    "start_time": "2022-04-24T05:37:05.759Z"
   },
   {
    "duration": 45,
    "start_time": "2022-04-24T05:37:05.765Z"
   },
   {
    "duration": 18,
    "start_time": "2022-04-24T05:37:05.812Z"
   },
   {
    "duration": 14,
    "start_time": "2022-04-24T05:37:05.832Z"
   },
   {
    "duration": 23,
    "start_time": "2022-04-24T05:37:05.848Z"
   },
   {
    "duration": 4,
    "start_time": "2022-04-24T05:37:05.873Z"
   },
   {
    "duration": 38,
    "start_time": "2022-04-24T05:37:05.908Z"
   },
   {
    "duration": 241,
    "start_time": "2022-04-24T05:37:05.947Z"
   },
   {
    "duration": 26,
    "start_time": "2022-04-24T05:37:06.190Z"
   },
   {
    "duration": 18,
    "start_time": "2022-04-24T05:37:06.218Z"
   },
   {
    "duration": 8,
    "start_time": "2022-04-24T05:37:06.237Z"
   },
   {
    "duration": 143,
    "start_time": "2022-04-24T05:37:06.247Z"
   },
   {
    "duration": 116,
    "start_time": "2022-04-24T05:37:06.392Z"
   },
   {
    "duration": 120,
    "start_time": "2022-04-24T05:37:06.510Z"
   },
   {
    "duration": 9,
    "start_time": "2022-04-24T05:37:06.631Z"
   },
   {
    "duration": 149,
    "start_time": "2022-04-24T05:37:06.641Z"
   },
   {
    "duration": 186,
    "start_time": "2022-04-24T05:37:06.792Z"
   },
   {
    "duration": 8,
    "start_time": "2022-04-24T05:37:06.979Z"
   },
   {
    "duration": 151,
    "start_time": "2022-04-24T05:37:06.990Z"
   },
   {
    "duration": 125,
    "start_time": "2022-04-24T05:37:07.142Z"
   },
   {
    "duration": 9,
    "start_time": "2022-04-24T05:37:07.269Z"
   },
   {
    "duration": 130,
    "start_time": "2022-04-24T05:37:07.279Z"
   },
   {
    "duration": 118,
    "start_time": "2022-04-24T05:37:07.410Z"
   },
   {
    "duration": 8,
    "start_time": "2022-04-24T05:37:07.530Z"
   },
   {
    "duration": 153,
    "start_time": "2022-04-24T05:37:07.539Z"
   },
   {
    "duration": 113,
    "start_time": "2022-04-24T05:37:07.694Z"
   },
   {
    "duration": 12,
    "start_time": "2022-04-24T05:37:07.809Z"
   },
   {
    "duration": 120,
    "start_time": "2022-04-24T05:37:07.823Z"
   },
   {
    "duration": 3,
    "start_time": "2022-04-24T05:47:37.768Z"
   },
   {
    "duration": 739,
    "start_time": "2022-04-24T07:02:32.823Z"
   },
   {
    "duration": 26,
    "start_time": "2022-04-24T07:02:33.564Z"
   },
   {
    "duration": 20,
    "start_time": "2022-04-24T07:02:33.592Z"
   },
   {
    "duration": 50,
    "start_time": "2022-04-24T07:02:33.616Z"
   },
   {
    "duration": 10,
    "start_time": "2022-04-24T07:02:33.667Z"
   },
   {
    "duration": 162,
    "start_time": "2022-04-24T07:02:33.678Z"
   },
   {
    "duration": 73,
    "start_time": "2022-04-24T07:02:33.842Z"
   },
   {
    "duration": 19,
    "start_time": "2022-04-24T07:02:33.917Z"
   },
   {
    "duration": 15,
    "start_time": "2022-04-24T07:02:33.938Z"
   },
   {
    "duration": 5,
    "start_time": "2022-04-24T07:02:33.956Z"
   },
   {
    "duration": 20,
    "start_time": "2022-04-24T07:02:33.963Z"
   },
   {
    "duration": 49,
    "start_time": "2022-04-24T07:02:33.985Z"
   },
   {
    "duration": 16,
    "start_time": "2022-04-24T07:02:34.036Z"
   },
   {
    "duration": 25,
    "start_time": "2022-04-24T07:02:34.054Z"
   },
   {
    "duration": 38,
    "start_time": "2022-04-24T07:02:34.081Z"
   },
   {
    "duration": 41,
    "start_time": "2022-04-24T07:02:34.121Z"
   },
   {
    "duration": 262,
    "start_time": "2022-04-24T07:02:34.164Z"
   },
   {
    "duration": 19,
    "start_time": "2022-04-24T07:02:34.429Z"
   },
   {
    "duration": 19,
    "start_time": "2022-04-24T07:02:34.450Z"
   },
   {
    "duration": 12,
    "start_time": "2022-04-24T07:02:34.470Z"
   },
   {
    "duration": 163,
    "start_time": "2022-04-24T07:02:34.512Z"
   },
   {
    "duration": 135,
    "start_time": "2022-04-24T07:02:34.676Z"
   },
   {
    "duration": 4,
    "start_time": "2022-04-24T07:02:34.813Z"
   },
   {
    "duration": 11,
    "start_time": "2022-04-24T07:02:34.819Z"
   },
   {
    "duration": 171,
    "start_time": "2022-04-24T07:02:34.833Z"
   },
   {
    "duration": 136,
    "start_time": "2022-04-24T07:02:35.006Z"
   },
   {
    "duration": 9,
    "start_time": "2022-04-24T07:02:35.144Z"
   },
   {
    "duration": 215,
    "start_time": "2022-04-24T07:02:35.157Z"
   },
   {
    "duration": 149,
    "start_time": "2022-04-24T07:02:35.374Z"
   },
   {
    "duration": 12,
    "start_time": "2022-04-24T07:02:35.525Z"
   },
   {
    "duration": 157,
    "start_time": "2022-04-24T07:02:35.539Z"
   },
   {
    "duration": 130,
    "start_time": "2022-04-24T07:02:35.698Z"
   },
   {
    "duration": 9,
    "start_time": "2022-04-24T07:02:35.829Z"
   },
   {
    "duration": 161,
    "start_time": "2022-04-24T07:02:35.839Z"
   },
   {
    "duration": 126,
    "start_time": "2022-04-24T07:02:36.007Z"
   },
   {
    "duration": 14,
    "start_time": "2022-04-24T07:02:36.134Z"
   },
   {
    "duration": 138,
    "start_time": "2022-04-24T07:02:36.150Z"
   },
   {
    "duration": 77,
    "start_time": "2022-04-24T07:04:29.675Z"
   },
   {
    "duration": 8,
    "start_time": "2022-04-24T07:04:44.535Z"
   },
   {
    "duration": 9,
    "start_time": "2022-04-24T07:05:28.994Z"
   },
   {
    "duration": 10,
    "start_time": "2022-04-24T07:05:56.544Z"
   },
   {
    "duration": 9,
    "start_time": "2022-04-24T07:06:13.636Z"
   },
   {
    "duration": 8,
    "start_time": "2022-04-24T07:11:40.756Z"
   },
   {
    "duration": 9,
    "start_time": "2022-04-24T07:12:32.325Z"
   },
   {
    "duration": 8,
    "start_time": "2022-04-24T07:12:39.376Z"
   },
   {
    "duration": 9,
    "start_time": "2022-04-24T07:12:45.605Z"
   },
   {
    "duration": 9,
    "start_time": "2022-04-24T07:12:50.413Z"
   },
   {
    "duration": 8,
    "start_time": "2022-04-24T07:12:58.666Z"
   },
   {
    "duration": 8,
    "start_time": "2022-04-24T07:13:12.959Z"
   },
   {
    "duration": 11,
    "start_time": "2022-04-24T07:17:02.313Z"
   },
   {
    "duration": 11,
    "start_time": "2022-04-24T07:18:48.436Z"
   },
   {
    "duration": 64,
    "start_time": "2022-04-24T07:19:05.029Z"
   },
   {
    "duration": 11,
    "start_time": "2022-04-24T07:19:49.015Z"
   },
   {
    "duration": 9,
    "start_time": "2022-04-24T07:22:54.325Z"
   },
   {
    "duration": 7,
    "start_time": "2022-04-24T07:23:05.799Z"
   },
   {
    "duration": 7,
    "start_time": "2022-04-24T07:25:26.654Z"
   },
   {
    "duration": 7,
    "start_time": "2022-04-24T07:30:05.072Z"
   },
   {
    "duration": 9,
    "start_time": "2022-04-24T07:33:36.311Z"
   },
   {
    "duration": 7,
    "start_time": "2022-04-24T07:36:38.585Z"
   },
   {
    "duration": 7,
    "start_time": "2022-04-24T07:37:14.959Z"
   },
   {
    "duration": 11,
    "start_time": "2022-04-24T07:40:41.108Z"
   },
   {
    "duration": 14,
    "start_time": "2022-04-24T07:42:23.024Z"
   },
   {
    "duration": 101,
    "start_time": "2022-04-24T07:42:29.584Z"
   },
   {
    "duration": 14,
    "start_time": "2022-04-24T07:46:26.203Z"
   },
   {
    "duration": 690,
    "start_time": "2022-04-24T07:46:33.417Z"
   },
   {
    "duration": 22,
    "start_time": "2022-04-24T07:46:34.109Z"
   },
   {
    "duration": 5,
    "start_time": "2022-04-24T07:46:34.133Z"
   },
   {
    "duration": 46,
    "start_time": "2022-04-24T07:46:34.139Z"
   },
   {
    "duration": 26,
    "start_time": "2022-04-24T07:46:34.187Z"
   },
   {
    "duration": 128,
    "start_time": "2022-04-24T07:46:34.215Z"
   },
   {
    "duration": 63,
    "start_time": "2022-04-24T07:46:34.345Z"
   },
   {
    "duration": 15,
    "start_time": "2022-04-24T07:46:34.409Z"
   },
   {
    "duration": 15,
    "start_time": "2022-04-24T07:46:34.426Z"
   },
   {
    "duration": 5,
    "start_time": "2022-04-24T07:46:34.442Z"
   },
   {
    "duration": 16,
    "start_time": "2022-04-24T07:46:34.449Z"
   },
   {
    "duration": 50,
    "start_time": "2022-04-24T07:46:34.466Z"
   },
   {
    "duration": 15,
    "start_time": "2022-04-24T07:46:34.518Z"
   },
   {
    "duration": 24,
    "start_time": "2022-04-24T07:46:34.537Z"
   },
   {
    "duration": 5,
    "start_time": "2022-04-24T07:46:34.563Z"
   },
   {
    "duration": 73,
    "start_time": "2022-04-24T07:46:34.570Z"
   },
   {
    "duration": 229,
    "start_time": "2022-04-24T07:46:34.645Z"
   },
   {
    "duration": 32,
    "start_time": "2022-04-24T07:46:34.876Z"
   },
   {
    "duration": 17,
    "start_time": "2022-04-24T07:46:34.910Z"
   },
   {
    "duration": 9,
    "start_time": "2022-04-24T07:46:34.929Z"
   },
   {
    "duration": 147,
    "start_time": "2022-04-24T07:46:34.939Z"
   },
   {
    "duration": 110,
    "start_time": "2022-04-24T07:46:35.088Z"
   },
   {
    "duration": 8,
    "start_time": "2022-04-24T07:46:35.207Z"
   },
   {
    "duration": 11,
    "start_time": "2022-04-24T07:46:35.216Z"
   },
   {
    "duration": 140,
    "start_time": "2022-04-24T07:46:35.228Z"
   },
   {
    "duration": 125,
    "start_time": "2022-04-24T07:46:35.369Z"
   },
   {
    "duration": 16,
    "start_time": "2022-04-24T07:46:35.495Z"
   },
   {
    "duration": 7,
    "start_time": "2022-04-24T07:46:35.513Z"
   },
   {
    "duration": 198,
    "start_time": "2022-04-24T07:46:35.522Z"
   },
   {
    "duration": 117,
    "start_time": "2022-04-24T07:46:35.721Z"
   },
   {
    "duration": 6,
    "start_time": "2022-04-24T07:46:35.840Z"
   },
   {
    "duration": 8,
    "start_time": "2022-04-24T07:46:35.848Z"
   },
   {
    "duration": 141,
    "start_time": "2022-04-24T07:46:35.857Z"
   },
   {
    "duration": 122,
    "start_time": "2022-04-24T07:46:35.999Z"
   },
   {
    "duration": 6,
    "start_time": "2022-04-24T07:46:36.123Z"
   },
   {
    "duration": 7,
    "start_time": "2022-04-24T07:46:36.130Z"
   },
   {
    "duration": 161,
    "start_time": "2022-04-24T07:46:36.139Z"
   },
   {
    "duration": 115,
    "start_time": "2022-04-24T07:46:36.301Z"
   },
   {
    "duration": 7,
    "start_time": "2022-04-24T07:46:36.417Z"
   },
   {
    "duration": 14,
    "start_time": "2022-04-24T07:46:36.426Z"
   },
   {
    "duration": 123,
    "start_time": "2022-04-24T07:46:36.443Z"
   },
   {
    "duration": 728,
    "start_time": "2022-04-24T07:47:00.971Z"
   },
   {
    "duration": 22,
    "start_time": "2022-04-24T07:47:01.701Z"
   },
   {
    "duration": 4,
    "start_time": "2022-04-24T07:47:01.725Z"
   },
   {
    "duration": 45,
    "start_time": "2022-04-24T07:47:01.731Z"
   },
   {
    "duration": 7,
    "start_time": "2022-04-24T07:47:01.778Z"
   },
   {
    "duration": 137,
    "start_time": "2022-04-24T07:47:01.787Z"
   },
   {
    "duration": 51,
    "start_time": "2022-04-24T07:47:01.926Z"
   },
   {
    "duration": 35,
    "start_time": "2022-04-24T07:47:01.979Z"
   },
   {
    "duration": 17,
    "start_time": "2022-04-24T07:47:02.016Z"
   },
   {
    "duration": 4,
    "start_time": "2022-04-24T07:47:02.036Z"
   },
   {
    "duration": 19,
    "start_time": "2022-04-24T07:47:02.041Z"
   },
   {
    "duration": 19,
    "start_time": "2022-04-24T07:47:02.061Z"
   },
   {
    "duration": 15,
    "start_time": "2022-04-24T07:47:02.107Z"
   },
   {
    "duration": 21,
    "start_time": "2022-04-24T07:47:02.123Z"
   },
   {
    "duration": 5,
    "start_time": "2022-04-24T07:47:02.145Z"
   },
   {
    "duration": 66,
    "start_time": "2022-04-24T07:47:02.152Z"
   },
   {
    "duration": 221,
    "start_time": "2022-04-24T07:47:02.220Z"
   },
   {
    "duration": 18,
    "start_time": "2022-04-24T07:47:02.443Z"
   },
   {
    "duration": 18,
    "start_time": "2022-04-24T07:47:02.463Z"
   },
   {
    "duration": 32,
    "start_time": "2022-04-24T07:47:02.482Z"
   },
   {
    "duration": 132,
    "start_time": "2022-04-24T07:47:02.515Z"
   },
   {
    "duration": 123,
    "start_time": "2022-04-24T07:47:02.649Z"
   },
   {
    "duration": 9,
    "start_time": "2022-04-24T07:47:02.774Z"
   },
   {
    "duration": 26,
    "start_time": "2022-04-24T07:47:02.784Z"
   },
   {
    "duration": 143,
    "start_time": "2022-04-24T07:47:02.811Z"
   },
   {
    "duration": 136,
    "start_time": "2022-04-24T07:47:02.955Z"
   },
   {
    "duration": 17,
    "start_time": "2022-04-24T07:47:03.092Z"
   },
   {
    "duration": 8,
    "start_time": "2022-04-24T07:47:03.112Z"
   },
   {
    "duration": 215,
    "start_time": "2022-04-24T07:47:03.122Z"
   },
   {
    "duration": 126,
    "start_time": "2022-04-24T07:47:03.339Z"
   },
   {
    "duration": 7,
    "start_time": "2022-04-24T07:47:03.467Z"
   },
   {
    "duration": 9,
    "start_time": "2022-04-24T07:47:03.476Z"
   },
   {
    "duration": 147,
    "start_time": "2022-04-24T07:47:03.486Z"
   },
   {
    "duration": 129,
    "start_time": "2022-04-24T07:47:03.635Z"
   },
   {
    "duration": 8,
    "start_time": "2022-04-24T07:47:03.765Z"
   },
   {
    "duration": 8,
    "start_time": "2022-04-24T07:47:03.775Z"
   },
   {
    "duration": 174,
    "start_time": "2022-04-24T07:47:03.784Z"
   },
   {
    "duration": 123,
    "start_time": "2022-04-24T07:47:03.960Z"
   },
   {
    "duration": 7,
    "start_time": "2022-04-24T07:47:04.085Z"
   },
   {
    "duration": 20,
    "start_time": "2022-04-24T07:47:04.108Z"
   },
   {
    "duration": 118,
    "start_time": "2022-04-24T07:47:04.130Z"
   },
   {
    "duration": 7,
    "start_time": "2022-04-24T07:48:18.689Z"
   },
   {
    "duration": 20,
    "start_time": "2022-04-24T07:48:27.509Z"
   },
   {
    "duration": 736,
    "start_time": "2022-04-24T07:48:50.847Z"
   },
   {
    "duration": 28,
    "start_time": "2022-04-24T07:48:51.585Z"
   },
   {
    "duration": 6,
    "start_time": "2022-04-24T07:48:51.614Z"
   },
   {
    "duration": 46,
    "start_time": "2022-04-24T07:48:51.621Z"
   },
   {
    "duration": 9,
    "start_time": "2022-04-24T07:48:51.669Z"
   },
   {
    "duration": 133,
    "start_time": "2022-04-24T07:48:51.680Z"
   },
   {
    "duration": 52,
    "start_time": "2022-04-24T07:48:51.814Z"
   },
   {
    "duration": 14,
    "start_time": "2022-04-24T07:48:51.868Z"
   },
   {
    "duration": 36,
    "start_time": "2022-04-24T07:48:51.883Z"
   },
   {
    "duration": 5,
    "start_time": "2022-04-24T07:48:51.920Z"
   },
   {
    "duration": 16,
    "start_time": "2022-04-24T07:48:51.926Z"
   },
   {
    "duration": 75,
    "start_time": "2022-04-24T07:48:51.944Z"
   },
   {
    "duration": 14,
    "start_time": "2022-04-24T07:48:52.020Z"
   },
   {
    "duration": 22,
    "start_time": "2022-04-24T07:48:52.037Z"
   },
   {
    "duration": 4,
    "start_time": "2022-04-24T07:48:52.060Z"
   },
   {
    "duration": 66,
    "start_time": "2022-04-24T07:48:52.066Z"
   },
   {
    "duration": 317,
    "start_time": "2022-04-24T07:48:52.133Z"
   },
   {
    "duration": 17,
    "start_time": "2022-04-24T07:48:52.452Z"
   },
   {
    "duration": 16,
    "start_time": "2022-04-24T07:48:52.471Z"
   },
   {
    "duration": 17,
    "start_time": "2022-04-24T07:48:52.489Z"
   },
   {
    "duration": 141,
    "start_time": "2022-04-24T07:48:52.508Z"
   },
   {
    "duration": 116,
    "start_time": "2022-04-24T07:48:52.651Z"
   },
   {
    "duration": 9,
    "start_time": "2022-04-24T07:48:52.769Z"
   },
   {
    "duration": 31,
    "start_time": "2022-04-24T07:48:52.780Z"
   },
   {
    "duration": 157,
    "start_time": "2022-04-24T07:48:52.812Z"
   },
   {
    "duration": 139,
    "start_time": "2022-04-24T07:48:52.971Z"
   },
   {
    "duration": 9,
    "start_time": "2022-04-24T07:48:53.112Z"
   },
   {
    "duration": 9,
    "start_time": "2022-04-24T07:48:53.122Z"
   },
   {
    "duration": 220,
    "start_time": "2022-04-24T07:48:53.133Z"
   },
   {
    "duration": 126,
    "start_time": "2022-04-24T07:48:53.355Z"
   },
   {
    "duration": 25,
    "start_time": "2022-04-24T07:48:53.483Z"
   },
   {
    "duration": 9,
    "start_time": "2022-04-24T07:48:53.510Z"
   },
   {
    "duration": 131,
    "start_time": "2022-04-24T07:48:53.521Z"
   },
   {
    "duration": 119,
    "start_time": "2022-04-24T07:48:53.654Z"
   },
   {
    "duration": 8,
    "start_time": "2022-04-24T07:48:53.775Z"
   },
   {
    "duration": 26,
    "start_time": "2022-04-24T07:48:53.784Z"
   },
   {
    "duration": 154,
    "start_time": "2022-04-24T07:48:53.812Z"
   },
   {
    "duration": 120,
    "start_time": "2022-04-24T07:48:53.968Z"
   },
   {
    "duration": 18,
    "start_time": "2022-04-24T07:48:54.090Z"
   },
   {
    "duration": 20,
    "start_time": "2022-04-24T07:48:54.110Z"
   },
   {
    "duration": 118,
    "start_time": "2022-04-24T07:48:54.134Z"
   },
   {
    "duration": 8,
    "start_time": "2022-04-24T07:48:54.254Z"
   },
   {
    "duration": 712,
    "start_time": "2022-04-24T07:49:22.341Z"
   },
   {
    "duration": 25,
    "start_time": "2022-04-24T07:49:23.055Z"
   },
   {
    "duration": 6,
    "start_time": "2022-04-24T07:49:23.082Z"
   },
   {
    "duration": 60,
    "start_time": "2022-04-24T07:49:23.091Z"
   },
   {
    "duration": 9,
    "start_time": "2022-04-24T07:49:23.153Z"
   },
   {
    "duration": 148,
    "start_time": "2022-04-24T07:49:23.164Z"
   },
   {
    "duration": 55,
    "start_time": "2022-04-24T07:49:23.314Z"
   },
   {
    "duration": 36,
    "start_time": "2022-04-24T07:49:23.371Z"
   },
   {
    "duration": 17,
    "start_time": "2022-04-24T07:49:23.409Z"
   },
   {
    "duration": 6,
    "start_time": "2022-04-24T07:49:23.429Z"
   },
   {
    "duration": 17,
    "start_time": "2022-04-24T07:49:23.437Z"
   },
   {
    "duration": 51,
    "start_time": "2022-04-24T07:49:23.456Z"
   },
   {
    "duration": 16,
    "start_time": "2022-04-24T07:49:23.509Z"
   },
   {
    "duration": 24,
    "start_time": "2022-04-24T07:49:23.526Z"
   },
   {
    "duration": 5,
    "start_time": "2022-04-24T07:49:23.552Z"
   },
   {
    "duration": 68,
    "start_time": "2022-04-24T07:49:23.559Z"
   },
   {
    "duration": 251,
    "start_time": "2022-04-24T07:49:23.629Z"
   },
   {
    "duration": 27,
    "start_time": "2022-04-24T07:49:23.882Z"
   },
   {
    "duration": 18,
    "start_time": "2022-04-24T07:49:23.911Z"
   },
   {
    "duration": 9,
    "start_time": "2022-04-24T07:49:23.930Z"
   },
   {
    "duration": 150,
    "start_time": "2022-04-24T07:49:23.940Z"
   },
   {
    "duration": 124,
    "start_time": "2022-04-24T07:49:24.091Z"
   },
   {
    "duration": 9,
    "start_time": "2022-04-24T07:49:24.216Z"
   },
   {
    "duration": 8,
    "start_time": "2022-04-24T07:49:24.227Z"
   },
   {
    "duration": 162,
    "start_time": "2022-04-24T07:49:24.237Z"
   },
   {
    "duration": 147,
    "start_time": "2022-04-24T07:49:24.407Z"
   },
   {
    "duration": 8,
    "start_time": "2022-04-24T07:49:24.555Z"
   },
   {
    "duration": 8,
    "start_time": "2022-04-24T07:49:24.567Z"
   },
   {
    "duration": 223,
    "start_time": "2022-04-24T07:49:24.576Z"
   },
   {
    "duration": 138,
    "start_time": "2022-04-24T07:49:24.807Z"
   },
   {
    "duration": 7,
    "start_time": "2022-04-24T07:49:24.947Z"
   },
   {
    "duration": 9,
    "start_time": "2022-04-24T07:49:24.956Z"
   },
   {
    "duration": 141,
    "start_time": "2022-04-24T07:49:24.966Z"
   },
   {
    "duration": 124,
    "start_time": "2022-04-24T07:49:25.109Z"
   },
   {
    "duration": 8,
    "start_time": "2022-04-24T07:49:25.234Z"
   },
   {
    "duration": 10,
    "start_time": "2022-04-24T07:49:25.243Z"
   },
   {
    "duration": 174,
    "start_time": "2022-04-24T07:49:25.255Z"
   },
   {
    "duration": 122,
    "start_time": "2022-04-24T07:49:25.431Z"
   },
   {
    "duration": 7,
    "start_time": "2022-04-24T07:49:25.555Z"
   },
   {
    "duration": 23,
    "start_time": "2022-04-24T07:49:25.563Z"
   },
   {
    "duration": 125,
    "start_time": "2022-04-24T07:49:25.588Z"
   },
   {
    "duration": 8,
    "start_time": "2022-04-24T07:49:25.715Z"
   },
   {
    "duration": 18,
    "start_time": "2022-04-24T07:50:08.423Z"
   },
   {
    "duration": 717,
    "start_time": "2022-04-24T07:52:52.808Z"
   },
   {
    "duration": 22,
    "start_time": "2022-04-24T07:52:53.527Z"
   },
   {
    "duration": 5,
    "start_time": "2022-04-24T07:52:53.551Z"
   },
   {
    "duration": 62,
    "start_time": "2022-04-24T07:52:53.558Z"
   },
   {
    "duration": 9,
    "start_time": "2022-04-24T07:52:53.622Z"
   },
   {
    "duration": 143,
    "start_time": "2022-04-24T07:52:53.632Z"
   },
   {
    "duration": 60,
    "start_time": "2022-04-24T07:52:53.777Z"
   },
   {
    "duration": 13,
    "start_time": "2022-04-24T07:52:53.839Z"
   },
   {
    "duration": 15,
    "start_time": "2022-04-24T07:52:53.853Z"
   },
   {
    "duration": 5,
    "start_time": "2022-04-24T07:52:53.870Z"
   },
   {
    "duration": 44,
    "start_time": "2022-04-24T07:52:53.876Z"
   },
   {
    "duration": 17,
    "start_time": "2022-04-24T07:52:53.922Z"
   },
   {
    "duration": 13,
    "start_time": "2022-04-24T07:52:53.941Z"
   },
   {
    "duration": 55,
    "start_time": "2022-04-24T07:52:53.955Z"
   },
   {
    "duration": 4,
    "start_time": "2022-04-24T07:52:54.012Z"
   },
   {
    "duration": 37,
    "start_time": "2022-04-24T07:52:54.018Z"
   },
   {
    "duration": 246,
    "start_time": "2022-04-24T07:52:54.056Z"
   },
   {
    "duration": 17,
    "start_time": "2022-04-24T07:52:54.304Z"
   },
   {
    "duration": 17,
    "start_time": "2022-04-24T07:52:54.323Z"
   },
   {
    "duration": 8,
    "start_time": "2022-04-24T07:52:54.342Z"
   },
   {
    "duration": 164,
    "start_time": "2022-04-24T07:52:54.351Z"
   },
   {
    "duration": 122,
    "start_time": "2022-04-24T07:52:54.517Z"
   },
   {
    "duration": 9,
    "start_time": "2022-04-24T07:52:54.640Z"
   },
   {
    "duration": 8,
    "start_time": "2022-04-24T07:52:54.651Z"
   },
   {
    "duration": 162,
    "start_time": "2022-04-24T07:52:54.661Z"
   },
   {
    "duration": 134,
    "start_time": "2022-04-24T07:52:54.825Z"
   },
   {
    "duration": 6,
    "start_time": "2022-04-24T07:52:54.961Z"
   },
   {
    "duration": 7,
    "start_time": "2022-04-24T07:52:54.971Z"
   },
   {
    "duration": 216,
    "start_time": "2022-04-24T07:52:54.980Z"
   },
   {
    "duration": 124,
    "start_time": "2022-04-24T07:52:55.198Z"
   },
   {
    "duration": 7,
    "start_time": "2022-04-24T07:52:55.324Z"
   },
   {
    "duration": 9,
    "start_time": "2022-04-24T07:52:55.332Z"
   },
   {
    "duration": 137,
    "start_time": "2022-04-24T07:52:55.342Z"
   },
   {
    "duration": 115,
    "start_time": "2022-04-24T07:52:55.480Z"
   },
   {
    "duration": 14,
    "start_time": "2022-04-24T07:52:55.597Z"
   },
   {
    "duration": 8,
    "start_time": "2022-04-24T07:52:55.613Z"
   },
   {
    "duration": 169,
    "start_time": "2022-04-24T07:52:55.623Z"
   },
   {
    "duration": 117,
    "start_time": "2022-04-24T07:52:55.794Z"
   },
   {
    "duration": 6,
    "start_time": "2022-04-24T07:52:55.913Z"
   },
   {
    "duration": 13,
    "start_time": "2022-04-24T07:52:55.920Z"
   },
   {
    "duration": 125,
    "start_time": "2022-04-24T07:52:55.935Z"
   },
   {
    "duration": 7,
    "start_time": "2022-04-24T07:52:56.062Z"
   },
   {
    "duration": 108,
    "start_time": "2022-04-24T07:53:17.589Z"
   },
   {
    "duration": 13,
    "start_time": "2022-04-24T07:53:30.988Z"
   },
   {
    "duration": 102,
    "start_time": "2022-04-24T07:53:32.517Z"
   },
   {
    "duration": 12,
    "start_time": "2022-04-24T07:53:41.270Z"
   },
   {
    "duration": 105,
    "start_time": "2022-04-24T07:53:43.247Z"
   },
   {
    "duration": 766,
    "start_time": "2022-04-24T07:54:02.098Z"
   },
   {
    "duration": 23,
    "start_time": "2022-04-24T07:54:02.867Z"
   },
   {
    "duration": 16,
    "start_time": "2022-04-24T07:54:02.892Z"
   },
   {
    "duration": 47,
    "start_time": "2022-04-24T07:54:02.910Z"
   },
   {
    "duration": 9,
    "start_time": "2022-04-24T07:54:02.959Z"
   },
   {
    "duration": 153,
    "start_time": "2022-04-24T07:54:02.970Z"
   },
   {
    "duration": 54,
    "start_time": "2022-04-24T07:54:03.125Z"
   },
   {
    "duration": 28,
    "start_time": "2022-04-24T07:54:03.181Z"
   },
   {
    "duration": 17,
    "start_time": "2022-04-24T07:54:03.210Z"
   },
   {
    "duration": 5,
    "start_time": "2022-04-24T07:54:03.230Z"
   },
   {
    "duration": 18,
    "start_time": "2022-04-24T07:54:03.237Z"
   },
   {
    "duration": 19,
    "start_time": "2022-04-24T07:54:03.257Z"
   },
   {
    "duration": 16,
    "start_time": "2022-04-24T07:54:03.308Z"
   },
   {
    "duration": 24,
    "start_time": "2022-04-24T07:54:03.326Z"
   },
   {
    "duration": 5,
    "start_time": "2022-04-24T07:54:03.352Z"
   },
   {
    "duration": 74,
    "start_time": "2022-04-24T07:54:03.359Z"
   },
   {
    "duration": 237,
    "start_time": "2022-04-24T07:54:03.435Z"
   },
   {
    "duration": 18,
    "start_time": "2022-04-24T07:54:03.673Z"
   },
   {
    "duration": 33,
    "start_time": "2022-04-24T07:54:03.693Z"
   },
   {
    "duration": 10,
    "start_time": "2022-04-24T07:54:03.727Z"
   },
   {
    "duration": 151,
    "start_time": "2022-04-24T07:54:03.739Z"
   },
   {
    "duration": 126,
    "start_time": "2022-04-24T07:54:03.892Z"
   },
   {
    "duration": 9,
    "start_time": "2022-04-24T07:54:04.020Z"
   },
   {
    "duration": 9,
    "start_time": "2022-04-24T07:54:04.031Z"
   },
   {
    "duration": 160,
    "start_time": "2022-04-24T07:54:04.041Z"
   },
   {
    "duration": 145,
    "start_time": "2022-04-24T07:54:04.202Z"
   },
   {
    "duration": 7,
    "start_time": "2022-04-24T07:54:04.349Z"
   },
   {
    "duration": 11,
    "start_time": "2022-04-24T07:54:04.359Z"
   },
   {
    "duration": 223,
    "start_time": "2022-04-24T07:54:04.372Z"
   },
   {
    "duration": 133,
    "start_time": "2022-04-24T07:54:04.597Z"
   },
   {
    "duration": 7,
    "start_time": "2022-04-24T07:54:04.732Z"
   },
   {
    "duration": 10,
    "start_time": "2022-04-24T07:54:04.740Z"
   },
   {
    "duration": 149,
    "start_time": "2022-04-24T07:54:04.751Z"
   },
   {
    "duration": 129,
    "start_time": "2022-04-24T07:54:04.908Z"
   },
   {
    "duration": 7,
    "start_time": "2022-04-24T07:54:05.039Z"
   },
   {
    "duration": 8,
    "start_time": "2022-04-24T07:54:05.048Z"
   },
   {
    "duration": 181,
    "start_time": "2022-04-24T07:54:05.058Z"
   },
   {
    "duration": 125,
    "start_time": "2022-04-24T07:54:05.241Z"
   },
   {
    "duration": 8,
    "start_time": "2022-04-24T07:54:05.368Z"
   },
   {
    "duration": 36,
    "start_time": "2022-04-24T07:54:05.379Z"
   },
   {
    "duration": 140,
    "start_time": "2022-04-24T07:54:05.417Z"
   },
   {
    "duration": 7,
    "start_time": "2022-04-24T07:54:05.559Z"
   },
   {
    "duration": 670,
    "start_time": "2022-04-24T07:55:47.340Z"
   },
   {
    "duration": 22,
    "start_time": "2022-04-24T07:55:48.012Z"
   },
   {
    "duration": 5,
    "start_time": "2022-04-24T07:55:48.035Z"
   },
   {
    "duration": 66,
    "start_time": "2022-04-24T07:55:48.042Z"
   },
   {
    "duration": 10,
    "start_time": "2022-04-24T07:55:48.109Z"
   },
   {
    "duration": 136,
    "start_time": "2022-04-24T07:55:48.120Z"
   },
   {
    "duration": 60,
    "start_time": "2022-04-24T07:55:48.258Z"
   },
   {
    "duration": 14,
    "start_time": "2022-04-24T07:55:48.319Z"
   },
   {
    "duration": 14,
    "start_time": "2022-04-24T07:55:48.334Z"
   },
   {
    "duration": 4,
    "start_time": "2022-04-24T07:55:48.351Z"
   },
   {
    "duration": 17,
    "start_time": "2022-04-24T07:55:48.357Z"
   },
   {
    "duration": 18,
    "start_time": "2022-04-24T07:55:48.407Z"
   },
   {
    "duration": 14,
    "start_time": "2022-04-24T07:55:48.427Z"
   },
   {
    "duration": 23,
    "start_time": "2022-04-24T07:55:48.442Z"
   },
   {
    "duration": 4,
    "start_time": "2022-04-24T07:55:48.466Z"
   },
   {
    "duration": 38,
    "start_time": "2022-04-24T07:55:48.508Z"
   },
   {
    "duration": 240,
    "start_time": "2022-04-24T07:55:48.547Z"
   },
   {
    "duration": 26,
    "start_time": "2022-04-24T07:55:48.788Z"
   },
   {
    "duration": 17,
    "start_time": "2022-04-24T07:55:48.816Z"
   },
   {
    "duration": 8,
    "start_time": "2022-04-24T07:55:48.835Z"
   },
   {
    "duration": 141,
    "start_time": "2022-04-24T07:55:48.844Z"
   },
   {
    "duration": 126,
    "start_time": "2022-04-24T07:55:48.987Z"
   },
   {
    "duration": 9,
    "start_time": "2022-04-24T07:55:49.114Z"
   },
   {
    "duration": 9,
    "start_time": "2022-04-24T07:55:49.124Z"
   },
   {
    "duration": 154,
    "start_time": "2022-04-24T07:55:49.134Z"
   },
   {
    "duration": 138,
    "start_time": "2022-04-24T07:55:49.290Z"
   },
   {
    "duration": 7,
    "start_time": "2022-04-24T07:55:49.430Z"
   },
   {
    "duration": 8,
    "start_time": "2022-04-24T07:55:49.440Z"
   },
   {
    "duration": 216,
    "start_time": "2022-04-24T07:55:49.449Z"
   },
   {
    "duration": 122,
    "start_time": "2022-04-24T07:55:49.666Z"
   },
   {
    "duration": 19,
    "start_time": "2022-04-24T07:55:49.790Z"
   },
   {
    "duration": 8,
    "start_time": "2022-04-24T07:55:49.810Z"
   },
   {
    "duration": 129,
    "start_time": "2022-04-24T07:55:49.820Z"
   },
   {
    "duration": 114,
    "start_time": "2022-04-24T07:55:49.951Z"
   },
   {
    "duration": 7,
    "start_time": "2022-04-24T07:55:50.066Z"
   },
   {
    "duration": 7,
    "start_time": "2022-04-24T07:55:50.075Z"
   },
   {
    "duration": 174,
    "start_time": "2022-04-24T07:55:50.084Z"
   },
   {
    "duration": 119,
    "start_time": "2022-04-24T07:55:50.260Z"
   },
   {
    "duration": 6,
    "start_time": "2022-04-24T07:55:50.381Z"
   },
   {
    "duration": 33,
    "start_time": "2022-04-24T07:55:50.388Z"
   },
   {
    "duration": 116,
    "start_time": "2022-04-24T07:55:50.422Z"
   },
   {
    "duration": 7,
    "start_time": "2022-04-24T07:55:50.540Z"
   },
   {
    "duration": 18,
    "start_time": "2022-04-24T08:00:18.708Z"
   },
   {
    "duration": 16,
    "start_time": "2022-04-24T08:02:25.151Z"
   },
   {
    "duration": 17,
    "start_time": "2022-04-24T08:03:16.701Z"
   },
   {
    "duration": 17,
    "start_time": "2022-04-24T08:07:38.871Z"
   },
   {
    "duration": 19,
    "start_time": "2022-04-24T08:09:32.574Z"
   },
   {
    "duration": 13,
    "start_time": "2022-04-24T08:34:43.902Z"
   },
   {
    "duration": 6,
    "start_time": "2022-04-24T08:41:12.188Z"
   },
   {
    "duration": 382,
    "start_time": "2022-04-24T08:44:18.013Z"
   },
   {
    "duration": 323,
    "start_time": "2022-04-24T08:44:26.903Z"
   },
   {
    "duration": 85,
    "start_time": "2022-04-24T08:45:11.751Z"
   },
   {
    "duration": 350,
    "start_time": "2022-04-24T08:45:17.325Z"
   },
   {
    "duration": 326,
    "start_time": "2022-04-24T08:46:02.205Z"
   },
   {
    "duration": 14,
    "start_time": "2022-04-24T08:47:21.769Z"
   },
   {
    "duration": 60,
    "start_time": "2022-04-24T08:58:25.552Z"
   },
   {
    "duration": 6,
    "start_time": "2022-04-24T08:58:30.023Z"
   },
   {
    "duration": 3,
    "start_time": "2022-04-24T08:59:49.930Z"
   },
   {
    "duration": 227,
    "start_time": "2022-04-24T08:59:52.893Z"
   },
   {
    "duration": 11,
    "start_time": "2022-04-24T09:00:26.450Z"
   },
   {
    "duration": 9,
    "start_time": "2022-04-24T09:00:58.734Z"
   },
   {
    "duration": 8,
    "start_time": "2022-04-24T09:01:18.734Z"
   },
   {
    "duration": 188,
    "start_time": "2022-04-24T09:19:08.906Z"
   },
   {
    "duration": 15,
    "start_time": "2022-04-24T12:00:59.271Z"
   },
   {
    "duration": 8,
    "start_time": "2022-04-24T12:03:37.375Z"
   },
   {
    "duration": 13,
    "start_time": "2022-04-24T12:03:49.127Z"
   },
   {
    "duration": 17,
    "start_time": "2022-04-24T12:04:17.465Z"
   },
   {
    "duration": 9,
    "start_time": "2022-04-24T12:04:39.026Z"
   },
   {
    "duration": 19,
    "start_time": "2022-04-24T12:04:58.209Z"
   },
   {
    "duration": 63,
    "start_time": "2022-04-24T12:09:45.512Z"
   },
   {
    "duration": 8,
    "start_time": "2022-04-24T12:11:27.626Z"
   },
   {
    "duration": 7,
    "start_time": "2022-04-24T12:11:44.089Z"
   },
   {
    "duration": 9,
    "start_time": "2022-04-24T12:12:24.737Z"
   },
   {
    "duration": 7,
    "start_time": "2022-04-24T12:13:12.643Z"
   },
   {
    "duration": 12,
    "start_time": "2022-04-24T12:14:02.100Z"
   },
   {
    "duration": 7,
    "start_time": "2022-04-24T12:14:16.654Z"
   },
   {
    "duration": 5,
    "start_time": "2022-04-24T12:37:20.283Z"
   },
   {
    "duration": 7,
    "start_time": "2022-04-24T12:37:33.100Z"
   },
   {
    "duration": 7,
    "start_time": "2022-04-24T12:37:39.362Z"
   },
   {
    "duration": 6,
    "start_time": "2022-04-24T12:37:58.211Z"
   },
   {
    "duration": 3,
    "start_time": "2022-04-24T12:46:36.539Z"
   },
   {
    "duration": 5,
    "start_time": "2022-04-24T12:46:44.051Z"
   },
   {
    "duration": 4,
    "start_time": "2022-04-24T12:46:53.885Z"
   },
   {
    "duration": 13,
    "start_time": "2022-04-24T12:48:10.569Z"
   },
   {
    "duration": 15,
    "start_time": "2022-04-24T12:48:50.129Z"
   },
   {
    "duration": 13,
    "start_time": "2022-04-24T12:50:13.217Z"
   },
   {
    "duration": 15,
    "start_time": "2022-04-24T12:51:07.589Z"
   },
   {
    "duration": 17,
    "start_time": "2022-04-24T12:51:43.802Z"
   },
   {
    "duration": 63,
    "start_time": "2022-04-24T12:53:08.758Z"
   },
   {
    "duration": 13,
    "start_time": "2022-04-24T12:53:19.603Z"
   },
   {
    "duration": 17,
    "start_time": "2022-04-24T12:53:28.222Z"
   },
   {
    "duration": 17,
    "start_time": "2022-04-24T12:54:27.578Z"
   },
   {
    "duration": 18,
    "start_time": "2022-04-24T12:55:51.061Z"
   },
   {
    "duration": 17,
    "start_time": "2022-04-24T12:58:46.834Z"
   },
   {
    "duration": 4,
    "start_time": "2022-04-24T12:59:01.824Z"
   },
   {
    "duration": 19,
    "start_time": "2022-04-24T12:59:15.871Z"
   },
   {
    "duration": 18,
    "start_time": "2022-04-24T12:59:54.136Z"
   },
   {
    "duration": 9,
    "start_time": "2022-04-24T13:03:48.755Z"
   },
   {
    "duration": 14,
    "start_time": "2022-04-24T13:03:57.994Z"
   },
   {
    "duration": 9,
    "start_time": "2022-04-24T13:18:52.717Z"
   },
   {
    "duration": 15,
    "start_time": "2022-04-24T13:21:03.568Z"
   },
   {
    "duration": 14,
    "start_time": "2022-04-24T13:22:09.950Z"
   },
   {
    "duration": 9,
    "start_time": "2022-04-24T13:23:06.443Z"
   },
   {
    "duration": 9,
    "start_time": "2022-04-24T13:23:11.599Z"
   },
   {
    "duration": 5,
    "start_time": "2022-04-24T13:23:17.767Z"
   },
   {
    "duration": 4,
    "start_time": "2022-04-24T13:23:25.431Z"
   },
   {
    "duration": 5,
    "start_time": "2022-04-24T13:24:48.285Z"
   },
   {
    "duration": 5,
    "start_time": "2022-04-24T13:27:16.912Z"
   },
   {
    "duration": 729,
    "start_time": "2022-04-24T13:27:24.884Z"
   },
   {
    "duration": 753,
    "start_time": "2022-04-24T13:27:54.329Z"
   },
   {
    "duration": 726,
    "start_time": "2022-04-24T13:28:46.725Z"
   },
   {
    "duration": 23,
    "start_time": "2022-04-24T13:28:47.453Z"
   },
   {
    "duration": 5,
    "start_time": "2022-04-24T13:28:47.478Z"
   },
   {
    "duration": 63,
    "start_time": "2022-04-24T13:28:47.484Z"
   },
   {
    "duration": 10,
    "start_time": "2022-04-24T13:28:47.549Z"
   },
   {
    "duration": 148,
    "start_time": "2022-04-24T13:28:47.560Z"
   },
   {
    "duration": 53,
    "start_time": "2022-04-24T13:28:47.709Z"
   },
   {
    "duration": 13,
    "start_time": "2022-04-24T13:28:47.764Z"
   },
   {
    "duration": 32,
    "start_time": "2022-04-24T13:28:47.778Z"
   },
   {
    "duration": 5,
    "start_time": "2022-04-24T13:28:47.812Z"
   },
   {
    "duration": 16,
    "start_time": "2022-04-24T13:28:47.819Z"
   },
   {
    "duration": 17,
    "start_time": "2022-04-24T13:28:47.836Z"
   },
   {
    "duration": 13,
    "start_time": "2022-04-24T13:28:47.855Z"
   },
   {
    "duration": 53,
    "start_time": "2022-04-24T13:28:47.870Z"
   },
   {
    "duration": 6,
    "start_time": "2022-04-24T13:28:47.925Z"
   },
   {
    "duration": 44,
    "start_time": "2022-04-24T13:28:47.932Z"
   },
   {
    "duration": 267,
    "start_time": "2022-04-24T13:28:47.978Z"
   },
   {
    "duration": 17,
    "start_time": "2022-04-24T13:28:48.247Z"
   },
   {
    "duration": 17,
    "start_time": "2022-04-24T13:28:48.265Z"
   },
   {
    "duration": 30,
    "start_time": "2022-04-24T13:28:48.283Z"
   },
   {
    "duration": 131,
    "start_time": "2022-04-24T13:28:48.315Z"
   },
   {
    "duration": 118,
    "start_time": "2022-04-24T13:28:48.447Z"
   },
   {
    "duration": 8,
    "start_time": "2022-04-24T13:28:48.566Z"
   },
   {
    "duration": 9,
    "start_time": "2022-04-24T13:28:48.576Z"
   },
   {
    "duration": 172,
    "start_time": "2022-04-24T13:28:48.586Z"
   },
   {
    "duration": 134,
    "start_time": "2022-04-24T13:28:48.760Z"
   },
   {
    "duration": 17,
    "start_time": "2022-04-24T13:28:48.896Z"
   },
   {
    "duration": 9,
    "start_time": "2022-04-24T13:28:48.915Z"
   },
   {
    "duration": 221,
    "start_time": "2022-04-24T13:28:48.926Z"
   },
   {
    "duration": 124,
    "start_time": "2022-04-24T13:28:49.148Z"
   },
   {
    "duration": 6,
    "start_time": "2022-04-24T13:28:49.274Z"
   },
   {
    "duration": 26,
    "start_time": "2022-04-24T13:28:49.282Z"
   },
   {
    "duration": 124,
    "start_time": "2022-04-24T13:28:49.309Z"
   },
   {
    "duration": 128,
    "start_time": "2022-04-24T13:28:49.434Z"
   },
   {
    "duration": 6,
    "start_time": "2022-04-24T13:28:49.564Z"
   },
   {
    "duration": 8,
    "start_time": "2022-04-24T13:28:49.572Z"
   },
   {
    "duration": 178,
    "start_time": "2022-04-24T13:28:49.582Z"
   },
   {
    "duration": 122,
    "start_time": "2022-04-24T13:28:49.761Z"
   },
   {
    "duration": 7,
    "start_time": "2022-04-24T13:28:49.885Z"
   },
   {
    "duration": 20,
    "start_time": "2022-04-24T13:28:49.908Z"
   },
   {
    "duration": 17,
    "start_time": "2022-04-24T13:28:49.932Z"
   },
   {
    "duration": 15,
    "start_time": "2022-04-24T13:28:49.951Z"
   },
   {
    "duration": 45,
    "start_time": "2022-04-24T13:28:49.968Z"
   },
   {
    "duration": 18,
    "start_time": "2022-04-24T13:28:50.015Z"
   },
   {
    "duration": 10,
    "start_time": "2022-04-24T13:28:50.035Z"
   },
   {
    "duration": 11,
    "start_time": "2022-04-24T13:28:50.047Z"
   },
   {
    "duration": 8,
    "start_time": "2022-04-24T13:28:50.059Z"
   },
   {
    "duration": 41,
    "start_time": "2022-04-24T13:28:50.069Z"
   },
   {
    "duration": 6,
    "start_time": "2022-04-24T13:28:50.112Z"
   },
   {
    "duration": 18,
    "start_time": "2022-04-24T13:28:50.120Z"
   },
   {
    "duration": 9,
    "start_time": "2022-04-24T13:28:50.139Z"
   },
   {
    "duration": 11,
    "start_time": "2022-04-24T13:28:50.150Z"
   },
   {
    "duration": 4,
    "start_time": "2022-04-24T13:28:50.163Z"
   },
   {
    "duration": 6,
    "start_time": "2022-04-24T13:28:50.168Z"
   },
   {
    "duration": 36,
    "start_time": "2022-04-24T13:28:50.175Z"
   },
   {
    "duration": 4,
    "start_time": "2022-04-24T13:37:28.391Z"
   },
   {
    "duration": 81,
    "start_time": "2022-04-24T13:37:36.626Z"
   },
   {
    "duration": 8,
    "start_time": "2022-04-24T13:40:31.657Z"
   },
   {
    "duration": 10,
    "start_time": "2022-04-24T13:40:43.081Z"
   },
   {
    "duration": 5,
    "start_time": "2022-04-24T13:41:30.719Z"
   },
   {
    "duration": 14,
    "start_time": "2022-04-24T13:41:43.760Z"
   },
   {
    "duration": 4,
    "start_time": "2022-04-24T13:42:47.827Z"
   },
   {
    "duration": 15,
    "start_time": "2022-04-24T13:43:00.688Z"
   },
   {
    "duration": 15,
    "start_time": "2022-04-24T13:46:00.952Z"
   },
   {
    "duration": 15,
    "start_time": "2022-04-24T13:51:25.471Z"
   },
   {
    "duration": 16,
    "start_time": "2022-04-24T13:51:49.046Z"
   },
   {
    "duration": 17,
    "start_time": "2022-04-24T13:52:03.195Z"
   },
   {
    "duration": 722,
    "start_time": "2022-04-24T13:53:10.571Z"
   },
   {
    "duration": 27,
    "start_time": "2022-04-24T13:53:11.295Z"
   },
   {
    "duration": 6,
    "start_time": "2022-04-24T13:53:11.324Z"
   },
   {
    "duration": 59,
    "start_time": "2022-04-24T13:53:11.332Z"
   },
   {
    "duration": 19,
    "start_time": "2022-04-24T13:53:11.392Z"
   },
   {
    "duration": 134,
    "start_time": "2022-04-24T13:53:11.412Z"
   },
   {
    "duration": 62,
    "start_time": "2022-04-24T13:53:11.548Z"
   },
   {
    "duration": 14,
    "start_time": "2022-04-24T13:53:11.612Z"
   },
   {
    "duration": 27,
    "start_time": "2022-04-24T13:53:11.628Z"
   },
   {
    "duration": 6,
    "start_time": "2022-04-24T13:53:11.658Z"
   },
   {
    "duration": 32,
    "start_time": "2022-04-24T13:53:11.666Z"
   },
   {
    "duration": 31,
    "start_time": "2022-04-24T13:53:11.699Z"
   },
   {
    "duration": 14,
    "start_time": "2022-04-24T13:53:11.732Z"
   },
   {
    "duration": 38,
    "start_time": "2022-04-24T13:53:11.747Z"
   },
   {
    "duration": 4,
    "start_time": "2022-04-24T13:53:11.786Z"
   },
   {
    "duration": 60,
    "start_time": "2022-04-24T13:53:11.792Z"
   },
   {
    "duration": 222,
    "start_time": "2022-04-24T13:53:11.854Z"
   },
   {
    "duration": 18,
    "start_time": "2022-04-24T13:53:12.077Z"
   },
   {
    "duration": 18,
    "start_time": "2022-04-24T13:53:12.107Z"
   },
   {
    "duration": 12,
    "start_time": "2022-04-24T13:53:12.127Z"
   },
   {
    "duration": 141,
    "start_time": "2022-04-24T13:53:12.140Z"
   },
   {
    "duration": 115,
    "start_time": "2022-04-24T13:53:12.283Z"
   },
   {
    "duration": 14,
    "start_time": "2022-04-24T13:53:12.399Z"
   },
   {
    "duration": 18,
    "start_time": "2022-04-24T13:53:12.414Z"
   },
   {
    "duration": 149,
    "start_time": "2022-04-24T13:53:12.433Z"
   },
   {
    "duration": 138,
    "start_time": "2022-04-24T13:53:12.583Z"
   },
   {
    "duration": 7,
    "start_time": "2022-04-24T13:53:12.723Z"
   },
   {
    "duration": 13,
    "start_time": "2022-04-24T13:53:12.733Z"
   },
   {
    "duration": 216,
    "start_time": "2022-04-24T13:53:12.747Z"
   },
   {
    "duration": 126,
    "start_time": "2022-04-24T13:53:12.964Z"
   },
   {
    "duration": 16,
    "start_time": "2022-04-24T13:53:13.092Z"
   },
   {
    "duration": 16,
    "start_time": "2022-04-24T13:53:13.110Z"
   },
   {
    "duration": 123,
    "start_time": "2022-04-24T13:53:13.128Z"
   },
   {
    "duration": 122,
    "start_time": "2022-04-24T13:53:13.253Z"
   },
   {
    "duration": 7,
    "start_time": "2022-04-24T13:53:13.377Z"
   },
   {
    "duration": 28,
    "start_time": "2022-04-24T13:53:13.385Z"
   },
   {
    "duration": 161,
    "start_time": "2022-04-24T13:53:13.415Z"
   },
   {
    "duration": 119,
    "start_time": "2022-04-24T13:53:13.578Z"
   },
   {
    "duration": 7,
    "start_time": "2022-04-24T13:53:13.708Z"
   },
   {
    "duration": 26,
    "start_time": "2022-04-24T13:53:13.716Z"
   },
   {
    "duration": 38,
    "start_time": "2022-04-24T13:53:13.744Z"
   },
   {
    "duration": 16,
    "start_time": "2022-04-24T13:53:13.783Z"
   },
   {
    "duration": 18,
    "start_time": "2022-04-24T13:53:13.801Z"
   },
   {
    "duration": 20,
    "start_time": "2022-04-24T13:53:13.821Z"
   },
   {
    "duration": 21,
    "start_time": "2022-04-24T13:53:13.843Z"
   },
   {
    "duration": 14,
    "start_time": "2022-04-24T13:53:13.865Z"
   },
   {
    "duration": 27,
    "start_time": "2022-04-24T13:53:13.881Z"
   },
   {
    "duration": 17,
    "start_time": "2022-04-24T13:53:13.910Z"
   },
   {
    "duration": 18,
    "start_time": "2022-04-24T13:53:13.929Z"
   },
   {
    "duration": 27,
    "start_time": "2022-04-24T13:53:13.949Z"
   },
   {
    "duration": 16,
    "start_time": "2022-04-24T13:53:13.978Z"
   },
   {
    "duration": 13,
    "start_time": "2022-04-24T13:53:13.996Z"
   },
   {
    "duration": 17,
    "start_time": "2022-04-24T13:53:14.011Z"
   },
   {
    "duration": 32,
    "start_time": "2022-04-24T13:53:14.030Z"
   },
   {
    "duration": 16,
    "start_time": "2022-04-24T13:53:14.064Z"
   },
   {
    "duration": 22,
    "start_time": "2022-04-24T13:53:14.082Z"
   },
   {
    "duration": 15,
    "start_time": "2022-04-24T13:54:47.918Z"
   },
   {
    "duration": 17,
    "start_time": "2022-04-24T13:54:52.723Z"
   },
   {
    "duration": 14,
    "start_time": "2022-04-24T13:54:56.505Z"
   },
   {
    "duration": 737,
    "start_time": "2022-04-24T13:56:01.086Z"
   },
   {
    "duration": 23,
    "start_time": "2022-04-24T13:56:01.825Z"
   },
   {
    "duration": 8,
    "start_time": "2022-04-24T13:56:01.849Z"
   },
   {
    "duration": 66,
    "start_time": "2022-04-24T13:56:01.859Z"
   },
   {
    "duration": 9,
    "start_time": "2022-04-24T13:56:01.927Z"
   },
   {
    "duration": 136,
    "start_time": "2022-04-24T13:56:01.937Z"
   },
   {
    "duration": 66,
    "start_time": "2022-04-24T13:56:02.075Z"
   },
   {
    "duration": 14,
    "start_time": "2022-04-24T13:56:02.143Z"
   },
   {
    "duration": 16,
    "start_time": "2022-04-24T13:56:02.158Z"
   },
   {
    "duration": 5,
    "start_time": "2022-04-24T13:56:02.178Z"
   },
   {
    "duration": 39,
    "start_time": "2022-04-24T13:56:02.185Z"
   },
   {
    "duration": 19,
    "start_time": "2022-04-24T13:56:02.226Z"
   },
   {
    "duration": 15,
    "start_time": "2022-04-24T13:56:02.247Z"
   },
   {
    "duration": 62,
    "start_time": "2022-04-24T13:56:02.264Z"
   },
   {
    "duration": 5,
    "start_time": "2022-04-24T13:56:02.328Z"
   },
   {
    "duration": 46,
    "start_time": "2022-04-24T13:56:02.334Z"
   },
   {
    "duration": 241,
    "start_time": "2022-04-24T13:56:02.382Z"
   },
   {
    "duration": 19,
    "start_time": "2022-04-24T13:56:02.625Z"
   },
   {
    "duration": 17,
    "start_time": "2022-04-24T13:56:02.646Z"
   },
   {
    "duration": 8,
    "start_time": "2022-04-24T13:56:02.664Z"
   },
   {
    "duration": 158,
    "start_time": "2022-04-24T13:56:02.673Z"
   },
   {
    "duration": 115,
    "start_time": "2022-04-24T13:56:02.833Z"
   },
   {
    "duration": 8,
    "start_time": "2022-04-24T13:56:02.950Z"
   },
   {
    "duration": 8,
    "start_time": "2022-04-24T13:56:02.960Z"
   },
   {
    "duration": 163,
    "start_time": "2022-04-24T13:56:02.969Z"
   },
   {
    "duration": 139,
    "start_time": "2022-04-24T13:56:03.134Z"
   },
   {
    "duration": 7,
    "start_time": "2022-04-24T13:56:03.274Z"
   },
   {
    "duration": 23,
    "start_time": "2022-04-24T13:56:03.285Z"
   },
   {
    "duration": 207,
    "start_time": "2022-04-24T13:56:03.310Z"
   },
   {
    "duration": 129,
    "start_time": "2022-04-24T13:56:03.519Z"
   },
   {
    "duration": 7,
    "start_time": "2022-04-24T13:56:03.649Z"
   },
   {
    "duration": 30,
    "start_time": "2022-04-24T13:56:03.657Z"
   },
   {
    "duration": 129,
    "start_time": "2022-04-24T13:56:03.688Z"
   },
   {
    "duration": 118,
    "start_time": "2022-04-24T13:56:03.818Z"
   },
   {
    "duration": 6,
    "start_time": "2022-04-24T13:56:03.938Z"
   },
   {
    "duration": 8,
    "start_time": "2022-04-24T13:56:03.946Z"
   },
   {
    "duration": 172,
    "start_time": "2022-04-24T13:56:03.955Z"
   },
   {
    "duration": 118,
    "start_time": "2022-04-24T13:56:04.128Z"
   },
   {
    "duration": 7,
    "start_time": "2022-04-24T13:56:04.248Z"
   },
   {
    "duration": 20,
    "start_time": "2022-04-24T13:56:04.256Z"
   },
   {
    "duration": 41,
    "start_time": "2022-04-24T13:56:04.277Z"
   },
   {
    "duration": 15,
    "start_time": "2022-04-24T13:56:04.320Z"
   },
   {
    "duration": 15,
    "start_time": "2022-04-24T13:56:04.337Z"
   },
   {
    "duration": 18,
    "start_time": "2022-04-24T13:56:04.354Z"
   },
   {
    "duration": 40,
    "start_time": "2022-04-24T13:56:04.374Z"
   },
   {
    "duration": 12,
    "start_time": "2022-04-24T13:56:04.415Z"
   },
   {
    "duration": 10,
    "start_time": "2022-04-24T13:56:04.429Z"
   },
   {
    "duration": 7,
    "start_time": "2022-04-24T13:56:04.441Z"
   },
   {
    "duration": 6,
    "start_time": "2022-04-24T13:56:04.449Z"
   },
   {
    "duration": 18,
    "start_time": "2022-04-24T13:56:04.457Z"
   },
   {
    "duration": 39,
    "start_time": "2022-04-24T13:56:04.476Z"
   },
   {
    "duration": 11,
    "start_time": "2022-04-24T13:56:04.517Z"
   },
   {
    "duration": 5,
    "start_time": "2022-04-24T13:56:04.529Z"
   },
   {
    "duration": 9,
    "start_time": "2022-04-24T13:56:04.535Z"
   },
   {
    "duration": 14,
    "start_time": "2022-04-24T13:56:04.546Z"
   },
   {
    "duration": 46,
    "start_time": "2022-04-24T13:56:04.562Z"
   },
   {
    "duration": 1249,
    "start_time": "2022-04-24T13:59:34.121Z"
   },
   {
    "duration": 175,
    "start_time": "2022-04-24T14:00:18.580Z"
   },
   {
    "duration": 130,
    "start_time": "2022-04-24T14:00:42.957Z"
   },
   {
    "duration": 131,
    "start_time": "2022-04-24T14:03:47.193Z"
   },
   {
    "duration": 139,
    "start_time": "2022-04-24T14:03:52.633Z"
   },
   {
    "duration": 136,
    "start_time": "2022-04-24T14:03:59.666Z"
   },
   {
    "duration": 214,
    "start_time": "2022-04-24T14:04:04.722Z"
   },
   {
    "duration": 153,
    "start_time": "2022-04-24T14:04:10.458Z"
   },
   {
    "duration": 198,
    "start_time": "2022-04-24T14:04:28.064Z"
   },
   {
    "duration": 151,
    "start_time": "2022-04-24T14:04:35.102Z"
   },
   {
    "duration": 11,
    "start_time": "2022-04-24T14:23:54.985Z"
   },
   {
    "duration": 45,
    "start_time": "2022-04-24T14:24:05.781Z"
   },
   {
    "duration": 34,
    "start_time": "2022-04-24T14:24:44.619Z"
   },
   {
    "duration": 36,
    "start_time": "2022-04-24T14:24:51.949Z"
   },
   {
    "duration": 12,
    "start_time": "2022-04-24T14:25:58.620Z"
   },
   {
    "duration": 744,
    "start_time": "2022-04-24T14:26:21.070Z"
   },
   {
    "duration": 22,
    "start_time": "2022-04-24T14:26:21.816Z"
   },
   {
    "duration": 6,
    "start_time": "2022-04-24T14:26:21.839Z"
   },
   {
    "duration": 63,
    "start_time": "2022-04-24T14:26:21.847Z"
   },
   {
    "duration": 10,
    "start_time": "2022-04-24T14:26:21.911Z"
   },
   {
    "duration": 143,
    "start_time": "2022-04-24T14:26:21.923Z"
   },
   {
    "duration": 66,
    "start_time": "2022-04-24T14:26:22.068Z"
   },
   {
    "duration": 15,
    "start_time": "2022-04-24T14:26:22.135Z"
   },
   {
    "duration": 15,
    "start_time": "2022-04-24T14:26:22.151Z"
   },
   {
    "duration": 5,
    "start_time": "2022-04-24T14:26:22.169Z"
   },
   {
    "duration": 41,
    "start_time": "2022-04-24T14:26:22.175Z"
   },
   {
    "duration": 20,
    "start_time": "2022-04-24T14:26:22.218Z"
   },
   {
    "duration": 16,
    "start_time": "2022-04-24T14:26:22.240Z"
   },
   {
    "duration": 58,
    "start_time": "2022-04-24T14:26:22.258Z"
   },
   {
    "duration": 5,
    "start_time": "2022-04-24T14:26:22.318Z"
   },
   {
    "duration": 42,
    "start_time": "2022-04-24T14:26:22.325Z"
   },
   {
    "duration": 251,
    "start_time": "2022-04-24T14:26:22.369Z"
   },
   {
    "duration": 19,
    "start_time": "2022-04-24T14:26:22.622Z"
   },
   {
    "duration": 19,
    "start_time": "2022-04-24T14:26:22.643Z"
   },
   {
    "duration": 45,
    "start_time": "2022-04-24T14:26:22.664Z"
   },
   {
    "duration": 138,
    "start_time": "2022-04-24T14:26:22.711Z"
   },
   {
    "duration": 117,
    "start_time": "2022-04-24T14:26:22.851Z"
   },
   {
    "duration": 8,
    "start_time": "2022-04-24T14:26:22.970Z"
   },
   {
    "duration": 29,
    "start_time": "2022-04-24T14:26:22.979Z"
   },
   {
    "duration": 142,
    "start_time": "2022-04-24T14:26:23.009Z"
   },
   {
    "duration": 126,
    "start_time": "2022-04-24T14:26:23.152Z"
   },
   {
    "duration": 6,
    "start_time": "2022-04-24T14:26:23.279Z"
   },
   {
    "duration": 23,
    "start_time": "2022-04-24T14:26:23.289Z"
   },
   {
    "duration": 197,
    "start_time": "2022-04-24T14:26:23.314Z"
   },
   {
    "duration": 128,
    "start_time": "2022-04-24T14:26:23.512Z"
   },
   {
    "duration": 7,
    "start_time": "2022-04-24T14:26:23.642Z"
   },
   {
    "duration": 27,
    "start_time": "2022-04-24T14:26:23.651Z"
   },
   {
    "duration": 122,
    "start_time": "2022-04-24T14:26:23.680Z"
   },
   {
    "duration": 114,
    "start_time": "2022-04-24T14:26:23.804Z"
   },
   {
    "duration": 7,
    "start_time": "2022-04-24T14:26:23.919Z"
   },
   {
    "duration": 9,
    "start_time": "2022-04-24T14:26:23.927Z"
   },
   {
    "duration": 177,
    "start_time": "2022-04-24T14:26:23.937Z"
   },
   {
    "duration": 121,
    "start_time": "2022-04-24T14:26:24.116Z"
   },
   {
    "duration": 6,
    "start_time": "2022-04-24T14:26:24.239Z"
   },
   {
    "duration": 23,
    "start_time": "2022-04-24T14:26:24.246Z"
   },
   {
    "duration": 16,
    "start_time": "2022-04-24T14:26:24.271Z"
   },
   {
    "duration": 32,
    "start_time": "2022-04-24T14:26:24.288Z"
   },
   {
    "duration": 15,
    "start_time": "2022-04-24T14:26:24.322Z"
   },
   {
    "duration": 17,
    "start_time": "2022-04-24T14:26:24.338Z"
   },
   {
    "duration": 10,
    "start_time": "2022-04-24T14:26:24.356Z"
   },
   {
    "duration": 47,
    "start_time": "2022-04-24T14:26:24.367Z"
   },
   {
    "duration": 11,
    "start_time": "2022-04-24T14:26:24.415Z"
   },
   {
    "duration": 10,
    "start_time": "2022-04-24T14:26:24.428Z"
   },
   {
    "duration": 12,
    "start_time": "2022-04-24T14:26:24.440Z"
   },
   {
    "duration": 24,
    "start_time": "2022-04-24T14:26:24.454Z"
   },
   {
    "duration": 10,
    "start_time": "2022-04-24T14:26:24.480Z"
   },
   {
    "duration": 10,
    "start_time": "2022-04-24T14:26:24.508Z"
   },
   {
    "duration": 4,
    "start_time": "2022-04-24T14:26:24.520Z"
   },
   {
    "duration": 27,
    "start_time": "2022-04-24T14:26:24.526Z"
   },
   {
    "duration": 18,
    "start_time": "2022-04-24T14:26:24.555Z"
   },
   {
    "duration": 14,
    "start_time": "2022-04-24T14:26:24.575Z"
   },
   {
    "duration": 176,
    "start_time": "2022-04-24T14:26:24.591Z"
   },
   {
    "duration": 1087,
    "start_time": "2022-04-24T14:30:03.675Z"
   },
   {
    "duration": 9,
    "start_time": "2022-04-24T14:30:22.499Z"
   },
   {
    "duration": 1825,
    "start_time": "2022-04-24T14:31:12.119Z"
   },
   {
    "duration": 119,
    "start_time": "2022-04-24T14:31:24.028Z"
   },
   {
    "duration": 101,
    "start_time": "2022-04-24T14:32:15.120Z"
   },
   {
    "duration": 9,
    "start_time": "2022-04-24T14:34:07.256Z"
   },
   {
    "duration": 128,
    "start_time": "2022-04-24T14:34:39.628Z"
   },
   {
    "duration": 8,
    "start_time": "2022-04-24T14:35:36.775Z"
   },
   {
    "duration": 125,
    "start_time": "2022-04-24T14:36:12.819Z"
   },
   {
    "duration": 9,
    "start_time": "2022-04-24T14:37:34.014Z"
   },
   {
    "duration": 144,
    "start_time": "2022-04-24T14:38:08.850Z"
   },
   {
    "duration": 1035,
    "start_time": "2022-04-24T16:40:19.244Z"
   },
   {
    "duration": 26,
    "start_time": "2022-04-24T16:40:20.281Z"
   },
   {
    "duration": 6,
    "start_time": "2022-04-24T16:40:20.308Z"
   },
   {
    "duration": 89,
    "start_time": "2022-04-24T16:40:20.316Z"
   },
   {
    "duration": 13,
    "start_time": "2022-04-24T16:40:20.408Z"
   },
   {
    "duration": 197,
    "start_time": "2022-04-24T16:40:20.423Z"
   },
   {
    "duration": 82,
    "start_time": "2022-04-24T16:40:20.621Z"
   },
   {
    "duration": 20,
    "start_time": "2022-04-24T16:40:20.706Z"
   },
   {
    "duration": 43,
    "start_time": "2022-04-24T16:40:20.729Z"
   },
   {
    "duration": 13,
    "start_time": "2022-04-24T16:40:20.779Z"
   },
   {
    "duration": 24,
    "start_time": "2022-04-24T16:40:20.794Z"
   },
   {
    "duration": 37,
    "start_time": "2022-04-24T16:40:20.820Z"
   },
   {
    "duration": 23,
    "start_time": "2022-04-24T16:40:20.859Z"
   },
   {
    "duration": 35,
    "start_time": "2022-04-24T16:40:20.884Z"
   },
   {
    "duration": 5,
    "start_time": "2022-04-24T16:40:20.921Z"
   },
   {
    "duration": 75,
    "start_time": "2022-04-24T16:40:20.929Z"
   },
   {
    "duration": 396,
    "start_time": "2022-04-24T16:40:21.006Z"
   },
   {
    "duration": 25,
    "start_time": "2022-04-24T16:40:21.404Z"
   },
   {
    "duration": 49,
    "start_time": "2022-04-24T16:40:21.431Z"
   },
   {
    "duration": 11,
    "start_time": "2022-04-24T16:40:21.484Z"
   },
   {
    "duration": 134,
    "start_time": "2022-04-24T16:40:21.497Z"
   },
   {
    "duration": 157,
    "start_time": "2022-04-24T16:40:21.633Z"
   },
   {
    "duration": 11,
    "start_time": "2022-04-24T16:40:21.792Z"
   },
   {
    "duration": 11,
    "start_time": "2022-04-24T16:40:21.805Z"
   },
   {
    "duration": 210,
    "start_time": "2022-04-24T16:40:21.818Z"
   },
   {
    "duration": 154,
    "start_time": "2022-04-24T16:40:22.031Z"
   },
   {
    "duration": 8,
    "start_time": "2022-04-24T16:40:22.188Z"
   },
   {
    "duration": 10,
    "start_time": "2022-04-24T16:40:22.200Z"
   },
   {
    "duration": 273,
    "start_time": "2022-04-24T16:40:22.212Z"
   },
   {
    "duration": 145,
    "start_time": "2022-04-24T16:40:22.487Z"
   },
   {
    "duration": 16,
    "start_time": "2022-04-24T16:40:22.634Z"
   },
   {
    "duration": 15,
    "start_time": "2022-04-24T16:40:22.652Z"
   },
   {
    "duration": 138,
    "start_time": "2022-04-24T16:40:22.674Z"
   },
   {
    "duration": 124,
    "start_time": "2022-04-24T16:40:22.814Z"
   },
   {
    "duration": 8,
    "start_time": "2022-04-24T16:40:22.947Z"
   },
   {
    "duration": 39,
    "start_time": "2022-04-24T16:40:22.957Z"
   },
   {
    "duration": 197,
    "start_time": "2022-04-24T16:40:22.998Z"
   },
   {
    "duration": 167,
    "start_time": "2022-04-24T16:40:23.196Z"
   },
   {
    "duration": 9,
    "start_time": "2022-04-24T16:40:23.374Z"
   },
   {
    "duration": 26,
    "start_time": "2022-04-24T16:40:23.386Z"
   },
   {
    "duration": 15,
    "start_time": "2022-04-24T16:40:23.414Z"
   },
   {
    "duration": 35,
    "start_time": "2022-04-24T16:40:23.430Z"
   },
   {
    "duration": 21,
    "start_time": "2022-04-24T16:40:23.472Z"
   },
   {
    "duration": 18,
    "start_time": "2022-04-24T16:40:23.495Z"
   },
   {
    "duration": 12,
    "start_time": "2022-04-24T16:40:23.515Z"
   },
   {
    "duration": 24,
    "start_time": "2022-04-24T16:40:23.552Z"
   },
   {
    "duration": 25,
    "start_time": "2022-04-24T16:40:23.577Z"
   },
   {
    "duration": 14,
    "start_time": "2022-04-24T16:40:23.604Z"
   },
   {
    "duration": 7,
    "start_time": "2022-04-24T16:40:23.620Z"
   },
   {
    "duration": 21,
    "start_time": "2022-04-24T16:40:23.628Z"
   },
   {
    "duration": 14,
    "start_time": "2022-04-24T16:40:23.658Z"
   },
   {
    "duration": 15,
    "start_time": "2022-04-24T16:40:23.675Z"
   },
   {
    "duration": 5,
    "start_time": "2022-04-24T16:40:23.692Z"
   },
   {
    "duration": 11,
    "start_time": "2022-04-24T16:40:23.699Z"
   },
   {
    "duration": 16,
    "start_time": "2022-04-24T16:40:23.711Z"
   },
   {
    "duration": 36,
    "start_time": "2022-04-24T16:40:23.747Z"
   },
   {
    "duration": 152,
    "start_time": "2022-04-24T16:40:23.788Z"
   },
   {
    "duration": 14,
    "start_time": "2022-04-24T16:40:23.947Z"
   },
   {
    "duration": 139,
    "start_time": "2022-04-24T16:40:23.963Z"
   },
   {
    "duration": 8,
    "start_time": "2022-04-24T16:40:24.104Z"
   },
   {
    "duration": 149,
    "start_time": "2022-04-24T16:40:24.114Z"
   },
   {
    "duration": 11,
    "start_time": "2022-04-24T16:40:24.264Z"
   },
   {
    "duration": 136,
    "start_time": "2022-04-24T16:40:24.276Z"
   },
   {
    "duration": 9,
    "start_time": "2022-04-24T16:40:24.413Z"
   },
   {
    "duration": 168,
    "start_time": "2022-04-24T16:40:24.424Z"
   },
   {
    "duration": 12,
    "start_time": "2022-04-24T16:46:34.446Z"
   },
   {
    "duration": 15,
    "start_time": "2022-04-24T16:47:10.333Z"
   },
   {
    "duration": 13,
    "start_time": "2022-04-24T16:49:03.467Z"
   },
   {
    "duration": 7,
    "start_time": "2022-04-24T16:49:37.445Z"
   },
   {
    "duration": 11,
    "start_time": "2022-04-24T16:50:45.214Z"
   },
   {
    "duration": 10,
    "start_time": "2022-04-24T16:51:13.977Z"
   },
   {
    "duration": 8,
    "start_time": "2022-04-24T16:52:06.125Z"
   }
  ],
  "kernelspec": {
   "display_name": "Python 3 (ipykernel)",
   "language": "python",
   "name": "python3"
  },
  "language_info": {
   "codemirror_mode": {
    "name": "ipython",
    "version": 3
   },
   "file_extension": ".py",
   "mimetype": "text/x-python",
   "name": "python",
   "nbconvert_exporter": "python",
   "pygments_lexer": "ipython3",
   "version": "3.9.13"
  },
  "toc": {
   "base_numbering": 1,
   "nav_menu": {},
   "number_sections": true,
   "sideBar": true,
   "skip_h1_title": true,
   "title_cell": "Содержание",
   "title_sidebar": "Contents",
   "toc_cell": true,
   "toc_position": {
    "height": "calc(100% - 180px)",
    "left": "10px",
    "top": "150px",
    "width": "253px"
   },
   "toc_section_display": true,
   "toc_window_display": true
  }
 },
 "nbformat": 4,
 "nbformat_minor": 4
}
